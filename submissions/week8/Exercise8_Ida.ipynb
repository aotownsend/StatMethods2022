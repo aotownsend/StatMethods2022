{
 "cells": [
  {
   "cell_type": "markdown",
   "id": "1b31dc4d",
   "metadata": {},
   "source": [
    "# Neutrino oscillations - part 2 (10 Points)\n",
    "\n",
    "1. Assuming you have fitted the data using the  $\\chi^2$  method (explain why it’s fine), create a normalized histogram of $\\chi^2$ -values. Overlay it with a  $\\chi^2$  -distribution for the appropriate degrees of freedom and compare mean and variances of the two distributions.\n",
    "\n",
    "* we precily know the x values (cosdec =  np.linspace(0, 1, N) and log10_energy = np.linspace(1, 2, N))\n",
    "* we can generate y values with a accuracy $\\sigma$\n",
    "* and we have a given function $P = 1 -\\sin^2(2\\theta)\\sin^2(1.27\\frac{\\Delta m^2 L}{E})$\n",
    "    with the two mixig parameters $\\sin^2(2\\theta)$ (sin2theta) and $\\Delta m^2$ (dm2)\n",
    "    \n",
    "    $$\\chi^2 = \\sum_i\\frac{(y_i - f(x_i))^2}{\\sigma_i^2}$$"
   ]
  },
  {
   "cell_type": "code",
   "execution_count": 52,
   "id": "65373ccd",
   "metadata": {},
   "outputs": [],
   "source": [
    "import numpy as np\n",
    "import matplotlib.pyplot as plt\n",
    "import pandas as pd\n",
    "import scipy \n",
    "import scipy.optimize as so\n",
    "from scipy.stats import poisson"
   ]
  },
  {
   "cell_type": "code",
   "execution_count": 61,
   "id": "742980d9",
   "metadata": {},
   "outputs": [],
   "source": [
    "#using the functions provided in the example notebook in the Github repository, which already includes reasonable default parameters\n",
    "#I just added a **2 to the sin(), like in the formula above\n",
    "def atmo_event_rate(energy, cos_theta, sin2theta=0.9, dm2=2.4e-3):\n",
    "    flux = 1e5*energy**-1.7 # the true neutrino flux is steeper, this takes into account \n",
    "                            # neutrino cross-section, which is proportional to E\n",
    "                            # as well as that we are working with logarithmic energy bins    \n",
    "    l = 12e3 * cos_theta # base line - max corresponds to diameter of the Earth 12e3 km\n",
    "\n",
    "    # two flavor oscillation propability for muon disappearance - see wikipedia \n",
    "    osc_prop = 1-sin2theta * (np.sin(1.27*dm2*l/energy))**2 #shouldn't it be sin2theta and np.sin()**2 ?\n",
    "\n",
    "    return flux*osc_prop\n",
    "\n",
    "def run_experiment(energy, cosdec, sin2theta=0.9, dm2=2.4e-3):\n",
    "    x = np.array(energy.size)\n",
    "    events=np.zeros(energy.size*cosdec.size)\n",
    "\n",
    "    i = 0\n",
    "    for e in energy:\n",
    "        for c in cosdec:\n",
    "            mu = atmo_event_rate(e,c,sin2theta,dm2)\n",
    "            sig = np.sqrt(mu)\n",
    "            event_random = np.random.normal(mu,sig)\n",
    "            events[i] = int(event_random) \n",
    "            \n",
    "            i=i+1\n",
    "                   \n",
    "    return events\n",
    "\n",
    "# funktion to generate data of one experiment, with N energy bins and N cos(declination) bins\n",
    "def generate_data(N, sin2theta=0.9, dm2=2.4e-3):\n",
    "    cosdec =  np.linspace(0, 1, N) # N steps in cos(declination) from 0 to 1 \n",
    "    log10_energy = np.linspace(1, 2, N) # N steps in log10(energy) from 10 to 100 GeV\n",
    "    energy=10**log10_energy\n",
    "# run the experiment \n",
    "    events=run_experiment(energy,cosdec, sin2theta, dm2)\n",
    "\n",
    "# lets create a data set with the events per bin\n",
    "# energy, cosdec, events\n",
    "    data = [[], [], []]\n",
    "    i = 0\n",
    "    for e in energy:\n",
    "        for c in cosdec:\n",
    "            data[0].append(e)\n",
    "            data[1].append(c)\n",
    "            data[2].append(events[i])#\"energy, cosdec, events:\",e,c, events[i])\n",
    "            i=i+1\n",
    "    return data\n",
    "\n",
    "def chi_squared(param):\n",
    "    sin2theta, dm2 = param \n",
    "    df = generate_data(10)\n",
    "    energy, cosdec, events = df[0], df[1], df[2]\n",
    "    chi2 = []\n",
    "    i = 0\n",
    "    for i in range(len(energy)):\n",
    "        mu = atmo_event_rate(energy[i], cosdec[i],sin2theta,dm2) # also f(x) = atmo_event_rate(energy, cosdec,sin2theta,dm2)\n",
    "        chi2.append((events[i] - mu)**2/mu) #sigma = sqrt(mu)\n",
    "    return np.sum(chi2)"
   ]
  },
  {
   "cell_type": "code",
   "execution_count": 71,
   "id": "190ec56f",
   "metadata": {},
   "outputs": [
    {
     "name": "stdout",
     "output_type": "stream",
     "text": [
      "      fun: 85.76854554865763\n",
      " hess_inv: <2x2 LbfgsInvHessProduct with dtype=float64>\n",
      "      jac: array([2.51676957e+09, 1.92508016e+09])\n",
      "  message: 'CONVERGENCE: REL_REDUCTION_OF_F_<=_FACTR*EPSMCH'\n",
      "     nfev: 75\n",
      "      nit: 2\n",
      "     njev: 25\n",
      "   status: 0\n",
      "  success: True\n",
      "        x: array([0.89999993, 0.00239926])\n"
     ]
    }
   ],
   "source": [
    "#fitting data with chi2\n",
    "sin2theta, dm2 = [0.9, 2.4e-3]\n",
    "model = so.minimize(chi_squared, x0 = [sin2theta, dm2],  bounds=[(0,10), (-10,10)])\n",
    "print(model)"
   ]
  },
  {
   "cell_type": "code",
   "execution_count": 81,
   "id": "d8d5bb8b",
   "metadata": {},
   "outputs": [],
   "source": [
    "# creating a normalized histogram of chi2\n",
    "N = 1000\n",
    "chi2array = []\n",
    "for i in range(N):\n",
    "    sin2theta, dm2 = [0.9, 2.4e-3]\n",
    "    model = so.minimize(chi_squared, x0 = [sin2theta, dm2],  bounds=[(0,10), (-10,10)])\n",
    "    if model[\"success\"] == True and model[\"fun\"] >= 0:\n",
    "        chi2array.append(model[\"fun\"])"
   ]
  },
  {
   "cell_type": "code",
   "execution_count": 82,
   "id": "3aab64ca",
   "metadata": {},
   "outputs": [
    {
     "data": {
      "text/plain": [
       "(array([0.0002864 , 0.        , 0.00171841, 0.00458242, 0.00744644,\n",
       "        0.01288806, 0.0203345 , 0.02520333, 0.03637298, 0.03064495,\n",
       "        0.02921295, 0.02520333, 0.0191889 , 0.01804329, 0.01288806,\n",
       "        0.00773284, 0.00315042, 0.00458242, 0.0008592 , 0.0008592 ,\n",
       "        0.0008592 , 0.0002864 , 0.0002864 , 0.0002864 , 0.0005728 ]),\n",
       " array([ 66.35667598,  70.15189629,  73.9471166 ,  77.74233692,\n",
       "         81.53755723,  85.33277754,  89.12799786,  92.92321817,\n",
       "         96.71843848, 100.5136588 , 104.30887911, 108.10409942,\n",
       "        111.89931973, 115.69454005, 119.48976036, 123.28498067,\n",
       "        127.08020099, 130.8754213 , 134.67064161, 138.46586193,\n",
       "        142.26108224, 146.05630255, 149.85152287, 153.64674318,\n",
       "        157.44196349, 161.23718381]),\n",
       " <BarContainer object of 25 artists>)"
      ]
     },
     "execution_count": 82,
     "metadata": {},
     "output_type": "execute_result"
    },
    {
     "data": {
      "image/png": "[encoded data removed]",
      "text/plain": [
       "<Figure size 432x288 with 1 Axes>"
      ]
     },
     "metadata": {
      "needs_background": "light"
     },
     "output_type": "display_data"
    }
   ],
   "source": [
    "plt.hist(chi2array, density = True, bins = 25)"
   ]
  },
  {
   "cell_type": "code",
   "execution_count": 75,
   "id": "9f86690a",
   "metadata": {},
   "outputs": [
    {
     "data": {
      "text/plain": [
       "[97.68898890977351,\n",
       " 95.5817079257237,\n",
       " 99.6661642484829,\n",
       " 104.5596065644864,\n",
       " 85.06710385286576,\n",
       " 97.8879722907075,\n",
       " 101.64465954507186,\n",
       " 99.12493556250061,\n",
       " 99.8479581881629,\n",
       " 104.48301679813842,\n",
       " 92.92232787183487,\n",
       " 147.20860722395764,\n",
       " 101.20366518083888,\n",
       " 104.49771338839345,\n",
       " 92.48593497889641,\n",
       " 99.96540304879548,\n",
       " 90.85845481780116,\n",
       " 117.4119256630611,\n",
       " 104.09455987297505,\n",
       " 92.02016651090682,\n",
       " 110.34941438727213,\n",
       " 119.67119119324688,\n",
       " 101.79683495472085,\n",
       " 122.7201127774914,\n",
       " 110.68600675082921,\n",
       " 111.77591381399037,\n",
       " 112.34271757894518,\n",
       " 100.63582282351977,\n",
       " 98.53466152045957,\n",
       " 88.33964921299027,\n",
       " 86.54404554926779,\n",
       " 125.38680088046083,\n",
       " 117.20175883454081,\n",
       " 108.24129989417915,\n",
       " 104.9487681384287,\n",
       " 100.05257731411714,\n",
       " 97.8242810308705,\n",
       " 114.64445461463669,\n",
       " 102.82566785118215,\n",
       " 93.11312289015864,\n",
       " 105.8328038119288,\n",
       " 112.28836834455564,\n",
       " 110.33537340661145,\n",
       " 132.28018997396617,\n",
       " 117.28170953697304,\n",
       " 114.19172641116506,\n",
       " 93.31285014853765,\n",
       " 95.00516714109628,\n",
       " -1264148793.7388227,\n",
       " 95.39171077942052,\n",
       " 102.02154230839086,\n",
       " 105.50841730525272,\n",
       " 114.00917281668532,\n",
       " 82.42201116755808,\n",
       " 103.41190802479085,\n",
       " 104.86297280272603,\n",
       " 109.62695052165981,\n",
       " 110.44719357146568,\n",
       " 103.09885756930424,\n",
       " 102.23358563045657,\n",
       " 114.39685607195457,\n",
       " 92.28345070111732,\n",
       " 122.57091553217904,\n",
       " 115.62191321329142,\n",
       " 134.64083666764643,\n",
       " 94.42087049525817,\n",
       " 89.54600381819314,\n",
       " 91.84900260033675,\n",
       " 92.56080981633731,\n",
       " 119.05294073227797,\n",
       " 104.93838172704571,\n",
       " 108.3468168033163,\n",
       " 82.77014096068343,\n",
       " 123.02698858830202,\n",
       " 99.48718120479994,\n",
       " 109.21209116634726,\n",
       " 122.40303812308535,\n",
       " 109.4978543402349,\n",
       " 118.74159121110019,\n",
       " 93.9469714960007,\n",
       " 86.16141381730166,\n",
       " 108.84806147298754,\n",
       " 90.60305407530751,\n",
       " 111.09045326298721,\n",
       " 114.633121645461,\n",
       " 86.86127881079798,\n",
       " 98.25135524772627,\n",
       " 95.99915862529417,\n",
       " 104.88795538723205,\n",
       " -333043.70323601895,\n",
       " 94.72034821649387,\n",
       " 109.38169702786585,\n",
       " 131.40282392767116,\n",
       " 125.40631173763687,\n",
       " 97.93883752244791]"
      ]
     },
     "execution_count": 75,
     "metadata": {},
     "output_type": "execute_result"
    }
   ],
   "source": []
  },
  {
   "cell_type": "markdown",
   "id": "c9b9d450",
   "metadata": {},
   "source": [
    "# COVID-19 self-testing and Bayesian theorem (5 Points)"
   ]
  },
  {
   "cell_type": "markdown",
   "id": "eaf83cfe",
   "metadata": {},
   "source": [
    "#### Imaginary Test\n",
    "* Given a COVID-19 infection, these tests only indicate a positive test result 60% of the time \n",
    "* a 1% chance that the test shows a positive result, despite no infection.\n",
    "#### 1. Cast these numbers as Type I and Type II errors.\n",
    "##### Type I error \n",
    "is the mistaken rejection of an actually true null hypothesis (also known as a \"false positive\")- The Probability to be tested positive although not having covid-19 - here $P(E+|-H) = 0.01$ is the probability of being falsly identified\n",
    "##### Type II error \n",
    "is the failure to reject a null hypothesis that is actually false (also known as a \"false negative\") $P(E-|H) = 0.4$  The Probability to be tested negative although having covid-19 "
   ]
  },
  {
   "cell_type": "markdown",
   "id": "139bad02",
   "metadata": {},
   "source": [
    "#### 2. 2. Use Bayes’ theorem to compute the probability to be healthy, as a function of COVID- 19 prevalence in the general population, and display it in a graph ranging from 10−6 to 1). - I am guessing after a positive or a negative test\n",
    "\n",
    "Lets start with the probabiliy of being healthy after a positive test result $P(-H|E+)$.\n",
    "\n",
    "$-H$: Not Having Covid - Healthy\n",
    "\n",
    "$H$:  Having Covid\n",
    "\n",
    "$E-$: Negative Test Event\n",
    "\n",
    "$E+$: Positive Test Event\n",
    "#### Bayes’ theorem:\n",
    "\n",
    "$$P(-H|E+) = \\frac{P(E+|-H)P(-H)}{P(E+)} = \\frac{P(E+|-H)P(-H)}{P(E+|H)P(H) + P(E+|-H)P(-H)} $$\n",
    "with $P(H) = 1 -P(-H)$\n",
    "$$= \\frac{0.01 P(-H)}{0.6(1 - P(-H)) + 0.01 P(-H)}$$\n",
    "\n"
   ]
  },
  {
   "cell_type": "code",
   "execution_count": 2,
   "id": "e7692f15",
   "metadata": {},
   "outputs": [],
   "source": [
    "def BayesHealthyPositiveTest(p):\n",
    "    return 0.01*p/(0.6*(1-p)+0.01*p)"
   ]
  },
  {
   "cell_type": "code",
   "execution_count": 3,
   "id": "f70bc7bb",
   "metadata": {},
   "outputs": [],
   "source": [
    "propHealthy = []\n",
    "#log10_prevalence = np.linspace(-6, 0, 100)\n",
    "prevalence = np.linspace(0, 1, 100)#10**log10_prevalence\n",
    "for p in prevalence:\n",
    "    propHealthy.append(BayesHealthyPositiveTest(p))\n",
    "    "
   ]
  },
  {
   "cell_type": "code",
   "execution_count": 4,
   "id": "d0f6df4c",
   "metadata": {},
   "outputs": [
    {
     "data": {
      "text/plain": [
       "(1e-06, 1)"
      ]
     },
     "execution_count": 4,
     "metadata": {},
     "output_type": "execute_result"
    },
    {
     "data": {
      "image/png": "[encoded data removed]",
      "text/plain": [
       "<Figure size 432x288 with 1 Axes>"
      ]
     },
     "metadata": {
      "needs_background": "light"
     },
     "output_type": "display_data"
    }
   ],
   "source": [
    "plt.plot(prevalence, propHealthy)\n",
    "plt.xlabel(\"prevalence\")\n",
    "plt.yscale(\"log\")\n",
    "plt.ylim(10**(-6), 1)"
   ]
  },
  {
   "cell_type": "markdown",
   "id": "a9a2fe07",
   "metadata": {},
   "source": [
    "Next the probabiliy of being healthy after a negative test result $P(-H|E-)$.\n",
    "\n",
    "$-H$: Not Having Covid - Healthy\n",
    "\n",
    "$H$:  Having Covid\n",
    "\n",
    "$E-$: Negative Test Event\n",
    "\n",
    "$E+$: Positive Test Event\n",
    "#### Bayes’ theorem:\n",
    "\n",
    "$$P(-H|E-) = \\frac{P(E-|-H)P(-H)}{P(E-)} =     \\frac{P(E-|-H)P(-H)}{P(E-|H)P(H) + P(E-|-H)P(-H)} $$\n",
    "with $P(H) = 1 -P(-H)$\n",
    "$$= \\frac{0.99 P(-H)}{0.4(1 - P(-H)) + 0.99 P(-H)}$$\n",
    "\n"
   ]
  },
  {
   "cell_type": "code",
   "execution_count": 5,
   "id": "ee9c1d6c",
   "metadata": {},
   "outputs": [],
   "source": [
    "def BayesHealthyNegativeTest(p):\n",
    "    return 0.99*p/(0.4*(1-p)+0.99*p)"
   ]
  },
  {
   "cell_type": "code",
   "execution_count": 7,
   "id": "544e3ca1",
   "metadata": {},
   "outputs": [
    {
     "data": {
      "text/plain": [
       "(1e-06, 1)"
      ]
     },
     "execution_count": 7,
     "metadata": {},
     "output_type": "execute_result"
    },
    {
     "data": {
      "image/png": "[encoded data removed]",
      "text/plain": [
       "<Figure size 432x288 with 1 Axes>"
      ]
     },
     "metadata": {
      "needs_background": "light"
     },
     "output_type": "display_data"
    }
   ],
   "source": [
    "propHealthy = []\n",
    "#log10_prevalence = np.linspace(-6, 0, 100)\n",
    "prevalence = np.linspace(0, 1, 100)#10**log10_prevalence\n",
    "for p in prevalence:\n",
    "    propHealthy.append(BayesHealthyNegativeTest(p))\n",
    "    \n",
    "plt.plot(prevalence, propHealthy)\n",
    "plt.xlabel(\"prevalence\")\n",
    "plt.yscale(\"log\")\n",
    "plt.ylim(10**(-6), 1)"
   ]
  },
  {
   "cell_type": "code",
   "execution_count": null,
   "id": "b5930d48",
   "metadata": {},
   "outputs": [],
   "source": []
  }
 ],
 "metadata": {
  "kernelspec": {
   "display_name": "Python 3 (ipykernel)",
   "language": "python",
   "name": "python3"
  },
  "language_info": {
   "codemirror_mode": {
    "name": "ipython",
    "version": 3
   },
   "file_extension": ".py",
   "mimetype": "text/x-python",
   "name": "python",
   "nbconvert_exporter": "python",
   "pygments_lexer": "ipython3",
   "version": "3.9.7"
  }
 },
 "nbformat": 4,
 "nbformat_minor": 5
}
