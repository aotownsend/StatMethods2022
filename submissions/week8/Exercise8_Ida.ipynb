{
 "cells": [
  {
   "cell_type": "markdown",
   "id": "1b31dc4d",
   "metadata": {},
   "source": [
    "# Neutrino oscillations - part 2 (10 Points)\n",
    "\n",
    "1. Assuming you have fitted the data using the  $\\chi^2$  method (explain why it’s fine), create a normalized histogram of $\\chi^2$ -values. Overlay it with a  $\\chi^2$  -distribution for the appropriate degrees of freedom and compare mean and variances of the two distributions.\n",
    "\n",
    "* we precily know the x values (cosdec =  np.linspace(0, 1, N) and log10_energy = np.linspace(1, 2, N))\n",
    "* we can generate y values with a accuracy $\\sigma$\n",
    "* and we have a given function $P = 1 -\\sin^2(2\\theta)\\sin^2(1.27\\frac{\\Delta m^2 L}{E})$\n",
    "    with the two mixig parameters $\\sin^2(2\\theta)$ (sin2theta) and $\\Delta m^2$ (dm2)\n",
    "    \n",
    "    $$\\chi^2 = \\sum_i\\frac{(y_i - f(x_i))^2}{\\sigma_i^2}$$"
   ]
  },
  {
   "cell_type": "code",
   "execution_count": 1,
   "id": "65373ccd",
   "metadata": {},
   "outputs": [],
   "source": [
    "import numpy as np\n",
    "import matplotlib.pyplot as plt\n",
    "import pandas as pd\n",
    "import scipy \n",
    "import scipy.optimize as so\n",
    "from scipy.stats import poisson\n",
    "from scipy.stats import chi2"
   ]
  },
  {
   "cell_type": "code",
   "execution_count": 2,
   "id": "742980d9",
   "metadata": {},
   "outputs": [],
   "source": [
    "#using the functions provided in the example notebook in the Github repository, which already includes reasonable default parameters\n",
    "#I just added a **2 to the sin(), like in the formula above\n",
    "def atmo_event_rate(energy, cos_theta, sin2theta=0.9, dm2=2.4e-3):\n",
    "    flux = 1e5*energy**-1.7 # the true neutrino flux is steeper, this takes into account \n",
    "                            # neutrino cross-section, which is proportional to E\n",
    "                            # as well as that we are working with logarithmic energy bins    \n",
    "    l = 12e3 * cos_theta # base line - max corresponds to diameter of the Earth 12e3 km\n",
    "\n",
    "    # two flavor oscillation propability for muon disappearance - see wikipedia \n",
    "    osc_prop = 1-sin2theta * (np.sin(1.27*dm2*l/energy))**2 #shouldn't it be sin2theta and np.sin()**2 ?\n",
    "\n",
    "    return flux*osc_prop\n",
    "\n",
    "def run_experiment(energy, cosdec, sin2theta=0.9, dm2=2.4e-3):\n",
    "    x = np.array(energy.size)\n",
    "    events=np.zeros(energy.size*cosdec.size)\n",
    "\n",
    "    i = 0\n",
    "    for e in energy:\n",
    "        for c in cosdec:\n",
    "            mu = atmo_event_rate(e,c,sin2theta,dm2)\n",
    "            sig = np.sqrt(mu)\n",
    "            event_random = np.random.normal(mu,sig)\n",
    "            events[i] = int(event_random) \n",
    "            \n",
    "            i=i+1\n",
    "                   \n",
    "    return events\n",
    "\n",
    "# funktion to generate data of one experiment, with N energy bins and N cos(declination) bins\n",
    "def generate_data(N, sin2theta=0.9, dm2=2.4e-3):\n",
    "    cosdec =  np.linspace(0, 1, N) # N steps in cos(declination) from 0 to 1 \n",
    "    log10_energy = np.linspace(1, 2, N) # N steps in log10(energy) from 10 to 100 GeV\n",
    "    energy=10**log10_energy\n",
    "# run the experiment \n",
    "    events=run_experiment(energy,cosdec, sin2theta, dm2)\n",
    "\n",
    "# lets create a data set with the events per bin\n",
    "# energy, cosdec, events\n",
    "    data = [[], [], []]\n",
    "    i = 0\n",
    "    for e in energy:\n",
    "        for c in cosdec:\n",
    "            data[0].append(e)\n",
    "            data[1].append(c)\n",
    "            data[2].append(events[i])#\"energy, cosdec, events:\",e,c, events[i])\n",
    "            i=i+1\n",
    "    return data\n",
    "\n",
    "def chi_squared(param):\n",
    "    sin2theta, dm2 = param \n",
    "    df = generate_data(10)\n",
    "    energy, cosdec, events = df[0], df[1], df[2]\n",
    "    chi2 = []\n",
    "    i = 0\n",
    "    for i in range(len(energy)):\n",
    "        mu = atmo_event_rate(energy[i], cosdec[i],sin2theta,dm2) # also f(x) = atmo_event_rate(energy, cosdec,sin2theta,dm2)\n",
    "        chi2.append((events[i] - mu)**2/mu) #sigma = sqrt(mu)\n",
    "    return np.sum(chi2)"
   ]
  },
  {
   "cell_type": "code",
   "execution_count": 3,
   "id": "190ec56f",
   "metadata": {},
   "outputs": [
    {
     "name": "stdout",
     "output_type": "stream",
     "text": [
      "      fun: 128.9925525830908\n",
      " hess_inv: <2x2 LbfgsInvHessProduct with dtype=float64>\n",
      "      jac: array([-4.54175451e+09,  4.56396373e+07])\n",
      "  message: 'CONVERGENCE: REL_REDUCTION_OF_F_<=_FACTR*EPSMCH'\n",
      "     nfev: 45\n",
      "      nit: 2\n",
      "     njev: 15\n",
      "   status: 0\n",
      "  success: True\n",
      "        x: array([0.89999764, 0.00240661])\n"
     ]
    }
   ],
   "source": [
    "#fitting data with chi2\n",
    "sin2theta, dm2 = [0.9, 2.4e-3]\n",
    "model = so.minimize(chi_squared, x0 = [sin2theta, dm2],  bounds=[(0,10), (-10,10)])\n",
    "print(model)"
   ]
  },
  {
   "cell_type": "code",
   "execution_count": 4,
   "id": "d8d5bb8b",
   "metadata": {},
   "outputs": [],
   "source": [
    "# creating a normalized histogram of chi2\n",
    "N = 1000\n",
    "chi2array = []\n",
    "for i in range(N):\n",
    "    sin2theta, dm2 = [0.9, 2.4e-3]\n",
    "    model = so.minimize(chi_squared, x0 = [sin2theta, dm2],  bounds=[(0,10), (-10,10)])\n",
    "    if model[\"success\"] == True and model[\"fun\"] >= 0:\n",
    "        chi2array.append(model[\"fun\"])"
   ]
  },
  {
   "cell_type": "code",
   "execution_count": 5,
   "id": "3aab64ca",
   "metadata": {},
   "outputs": [
    {
     "data": {
      "text/plain": [
       "[<matplotlib.lines.Line2D at 0x7fcc28b3aac0>]"
      ]
     },
     "execution_count": 5,
     "metadata": {},
     "output_type": "execute_result"
    },
    {
     "data": {
      "image/png": "[encoded data removed]",
      "text/plain": [
       "<Figure size 432x288 with 1 Axes>"
      ]
     },
     "metadata": {
      "needs_background": "light"
     },
     "output_type": "display_data"
    }
   ],
   "source": [
    "df = 104 \n",
    "bins = 40\n",
    "h, w = np.histogram(chi2array, bins)\n",
    "#h = h/sum(h)\n",
    "pdf = chi2.pdf(w[:-1], df=df)\n",
    "plt.hist(chi2array, bins = bins, density = True)\n",
    "#plt.bar(w[:-1], h , width = w[1]-w[0]) \n",
    "plt.plot(w[:-1], pdf, \"r\")"
   ]
  },
  {
   "cell_type": "code",
   "execution_count": 14,
   "id": "c79f8218",
   "metadata": {},
   "outputs": [
    {
     "data": {
      "text/plain": [
       "array([0.00222817, 0.00313733, 0.00428737, 0.00569435, 0.00736013,\n",
       "       0.00926922, 0.01138699, 0.01365981, 0.01601703, 0.01837498,\n",
       "       0.0206424 , 0.02272694, 0.02454183, 0.02601218, 0.02708018,\n",
       "       0.02770867, 0.02788292, 0.0276105 , 0.02691942, 0.02585482,\n",
       "       0.02447484, 0.02284588, 0.02103791, 0.01912017, 0.0171575 ,\n",
       "       0.01520758, 0.01331904, 0.01153049, 0.00987036, 0.0083574 ,\n",
       "       0.00700161, 0.00580556, 0.00476578, 0.00387425, 0.00311974,\n",
       "       0.00248908, 0.00196813, 0.00154264, 0.00119886, 0.00092398])"
      ]
     },
     "execution_count": 14,
     "metadata": {},
     "output_type": "execute_result"
    }
   ],
   "source": [
    "pdf"
   ]
  },
  {
   "cell_type": "markdown",
   "id": "37e4951b",
   "metadata": {},
   "source": [
    "2. What is the χ2-value that corresponds to the cumulative 67% percent of the distribution?: 1 sigma\n"
   ]
  },
  {
   "cell_type": "code",
   "execution_count": 15,
   "id": "99d45f9f",
   "metadata": {},
   "outputs": [
    {
     "name": "stdout",
     "output_type": "stream",
     "text": [
      "chi_mean, chi_var:104.7075939320496,157.7225254225225\n"
     ]
    }
   ],
   "source": [
    "#pdf_mean, pdf_var =np.mean(pdf), np.var(pdf)\n",
    "chi_mean, chi_var =np.mean(chi2array), np.var(chi2array)\n",
    "#print(\"pdf_mean, pdf_var:\" + str(pdf_mean) + \",\" + str(pdf_var))\n",
    "print(\"chi_mean, chi_var:\" + str(chi_mean) + \",\" + str(chi_var))"
   ]
  },
  {
   "cell_type": "markdown",
   "id": "c9b9d450",
   "metadata": {},
   "source": [
    "# COVID-19 self-testing and Bayesian theorem (5 Points)"
   ]
  },
  {
   "cell_type": "markdown",
   "id": "eaf83cfe",
   "metadata": {},
   "source": [
    "#### Imaginary Test\n",
    "* Given a COVID-19 infection, these tests only indicate a positive test result 60% of the time \n",
    "* a 1% chance that the test shows a positive result, despite no infection.\n",
    "#### 1. Cast these numbers as Type I and Type II errors.\n",
    "##### Type I error \n",
    "is the mistaken rejection of an actually true null hypothesis (also known as a \"false positive\")- The Probability to be tested positive although not having covid-19 - here $P(E+|-H) = 0.01$ is the probability of being falsly identified\n",
    "##### Type II error \n",
    "is the failure to reject a null hypothesis that is actually false (also known as a \"false negative\") $P(E-|H) = 0.4$  The Probability to be tested negative although having covid-19 "
   ]
  },
  {
   "cell_type": "markdown",
   "id": "139bad02",
   "metadata": {},
   "source": [
    "#### 2. 2. Use Bayes’ theorem to compute the probability to be healthy, as a function of COVID- 19 prevalence in the general population, and display it in a graph ranging from 10−6 to 1). - I am guessing after a positive or a negative test\n",
    "\n",
    "Lets start with the probabiliy of being healthy after a positive test result $P(-H|E+)$.\n",
    "\n",
    "$-H$: Not Having Covid - Healthy\n",
    "\n",
    "$H$:  Having Covid\n",
    "\n",
    "$E-$: Negative Test Event\n",
    "\n",
    "$E+$: Positive Test Event\n",
    "#### Bayes’ theorem:\n",
    "\n",
    "$$P(-H|E+) = \\frac{P(E+|-H)P(-H)}{P(E+)} = \\frac{P(E+|-H)P(-H)}{P(E+|H)P(H) + P(E+|-H)P(-H)} $$\n",
    "with $P(H) = 1 -P(-H)$\n",
    "$$= \\frac{0.01 P(-H)}{0.6(1 - P(-H)) + 0.01 P(-H)}$$\n",
    "\n"
   ]
  },
  {
   "cell_type": "code",
   "execution_count": 7,
   "id": "e7692f15",
   "metadata": {},
   "outputs": [],
   "source": [
    "def BayesHealthyPositiveTest(p):\n",
    "    return 0.01*(1-p)/(0.6*(p)+0.01*(1-p))"
   ]
  },
  {
   "cell_type": "code",
   "execution_count": 8,
   "id": "f70bc7bb",
   "metadata": {},
   "outputs": [],
   "source": [
    "propHealthy = []\n",
    "log10_prevalence = np.linspace(-6, 0, 100)\n",
    "prevalence = 10**log10_prevalence #np.linspace(0, 1, 100)#\n",
    "for p in prevalence:\n",
    "    propHealthy.append(BayesHealthyPositiveTest(p))\n",
    "    "
   ]
  },
  {
   "cell_type": "code",
   "execution_count": 9,
   "id": "d0f6df4c",
   "metadata": {},
   "outputs": [
    {
     "data": {
      "text/plain": [
       "Text(0, 0.5, 'probability to be healthy after positve test')"
      ]
     },
     "execution_count": 9,
     "metadata": {},
     "output_type": "execute_result"
    },
    {
     "data": {
      "image/png": "[encoded data removed]",
      "text/plain": [
       "<Figure size 432x288 with 1 Axes>"
      ]
     },
     "metadata": {
      "needs_background": "light"
     },
     "output_type": "display_data"
    }
   ],
   "source": [
    "plt.plot(prevalence, propHealthy)\n",
    "plt.xlabel(\"prevalence of covid in the population\")\n",
    "plt.ylabel(\"probability to be healthy after positve test\")\n",
    "#plt.yscale(\"log\")"
   ]
  },
  {
   "cell_type": "markdown",
   "id": "a9a2fe07",
   "metadata": {},
   "source": [
    "Next the probabiliy of being healthy after a negative test result $P(-H|E-)$.\n",
    "\n",
    "$-H$: Not Having Covid - Healthy\n",
    "\n",
    "$H$:  Having Covid\n",
    "\n",
    "$E-$: Negative Test Event\n",
    "\n",
    "$E+$: Positive Test Event\n",
    "#### Bayes’ theorem:\n",
    "\n",
    "$$P(-H|E-) = \\frac{P(E-|-H)P(-H)}{P(E-)} =     \\frac{P(E-|-H)P(-H)}{P(E-|H)P(H) + P(E-|-H)P(-H)} $$\n",
    "with $P(H) = 1 -P(-H)$\n",
    "$$= \\frac{0.99 P(-H)}{0.4(1 - P(-H)) + 0.99 P(-H)}$$\n",
    "\n"
   ]
  },
  {
   "cell_type": "code",
   "execution_count": 10,
   "id": "ee9c1d6c",
   "metadata": {},
   "outputs": [],
   "source": [
    "def BayesHealthyNegativeTest(p):\n",
    "    return 0.99*(1-p)/(0.4*(p)+0.99*(1-p))"
   ]
  },
  {
   "cell_type": "code",
   "execution_count": 11,
   "id": "544e3ca1",
   "metadata": {},
   "outputs": [
    {
     "data": {
      "text/plain": [
       "Text(0, 0.5, 'probability to be healthy after negative test')"
      ]
     },
     "execution_count": 11,
     "metadata": {},
     "output_type": "execute_result"
    },
    {
     "data": {
      "image/png": "[encoded data removed]",
      "text/plain": [
       "<Figure size 432x288 with 1 Axes>"
      ]
     },
     "metadata": {
      "needs_background": "light"
     },
     "output_type": "display_data"
    }
   ],
   "source": [
    "propHealthy = []\n",
    "log10_prevalence = np.linspace(-6, 0, 100)\n",
    "prevalence = 10**log10_prevalence\n",
    "for p in prevalence:\n",
    "    propHealthy.append(BayesHealthyNegativeTest(p))\n",
    "    \n",
    "plt.plot(prevalence, propHealthy)\n",
    "plt.xlabel(\"prevalence of covid in the population\")\n",
    "plt.ylabel(\"probability to be healthy after negative test\")\n",
    "#plt.yscale(\"log\")"
   ]
  },
  {
   "cell_type": "code",
   "execution_count": null,
   "id": "b5930d48",
   "metadata": {},
   "outputs": [],
   "source": []
  }
 ],
 "metadata": {
  "kernelspec": {
   "display_name": "Python 3 (ipykernel)",
   "language": "python",
   "name": "python3"
  },
  "language_info": {
   "codemirror_mode": {
    "name": "ipython",
    "version": 3
   },
   "file_extension": ".py",
   "mimetype": "text/x-python",
   "name": "python",
   "nbconvert_exporter": "python",
   "pygments_lexer": "ipython3",
   "version": "3.9.7"
  }
 },
 "nbformat": 4,
 "nbformat_minor": 5
}
