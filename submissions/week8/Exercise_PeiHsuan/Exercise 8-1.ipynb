{
 "cells": [
  {
   "cell_type": "markdown",
   "id": "a9e7faef",
   "metadata": {},
   "source": [
    "# Neutrino oscillations - part 2"
   ]
  },
  {
   "cell_type": "code",
   "execution_count": 2,
   "id": "24558ee2",
   "metadata": {},
   "outputs": [],
   "source": [
    "import numpy as np\n",
    "import matplotlib.pyplot as plt\n",
    "import pandas as pd\n",
    "import scipy\n",
    "from scipy.stats import chi2"
   ]
  },
  {
   "cell_type": "code",
   "execution_count": 3,
   "id": "f3423a67",
   "metadata": {},
   "outputs": [],
   "source": [
    "def atmo_event_rate(energy, cos_theta, sin2theta=0.9, dm2=2.4e-3):\n",
    "    flux = 1e5*energy**-1.7 # the true neutrino flux is steeper, this takes into account \n",
    "                            # neutrino cross-section, which is proportional to E\n",
    "                            # as well as that we are working with logarithmic energy bins    \n",
    "    l = 12e3 * cos_theta # base line - max corresponds to diameter of the Earth 12e3 km\n",
    "\n",
    "    # two flavor oscillation propability for muon disappearance - see wikipedia \n",
    "    osc_prop = 1-sin2theta * np.sin(1.27*dm2*l/energy) \n",
    "\n",
    "    return flux*osc_prop\n",
    "\n",
    "def run_experiment(energy, cosdec, sin2theta=0.9, dm2=2.4e-3):\n",
    "    x = np.array(energy.size)\n",
    "    events=np.zeros(energy.size*cosdec.size)\n",
    "    data = []\n",
    "\n",
    "    i = 0\n",
    "    for e in energy:\n",
    "        for c in cosdec:\n",
    "            mu = atmo_event_rate(e,c,sin2theta,dm2)\n",
    "            sig = np.sqrt(mu)\n",
    "            event_random = np.random.normal(mu,sig)\n",
    "            events[i] = int(event_random) \n",
    "            data.append([e, c, events[i]])\n",
    "            i=i+1\n",
    "        \n",
    "    df = pd.DataFrame(data, columns = ['Energy','cosdec','Events'])\n",
    "                   \n",
    "    return df"
   ]
  },
  {
   "cell_type": "code",
   "execution_count": 4,
   "id": "28c0b443",
   "metadata": {},
   "outputs": [],
   "source": [
    "# lets generate one experiment, with 10 energy bins and 10 cos(declination) bins\n",
    "\n",
    "cosdec =  np.linspace(0, 1, 10) # 10 steps in cos(declination) from 0 to 1 \n",
    "log10_energy = np.linspace(1, 2, 10) # 10 steps in log10(energy) from 10 to 100 GeV\n",
    "energy=10**log10_energy\n",
    "\n",
    "# run the experiment \n",
    "events=run_experiment(energy,cosdec,0.9,2.4e-3)\n",
    "\n",
    "def generate_experiment(N=1):\n",
    "    cosdec =  np.linspace(0, 1, 10) # 10 steps in cos(declination) from 0 to 1 \n",
    "    log10_energy = np.linspace(1, 2, 10) # 10 steps in log10(energy) from 10 to 100 GeV\n",
    "    energy=10**log10_energy\n",
    "\n",
    "    \n",
    "    experiments = []\n",
    "    \n",
    "    if N == 1:\n",
    "        events = run_experiment(energy, cosdec, 0.9, 2.4e-3)\n",
    "        return events\n",
    "    else:\n",
    "        for i in range(N):\n",
    "            events = run_experiment(energy, cosdec, 0.9, 2.4e-3)\n",
    "            experiments.append(events)\n",
    "        \n",
    "        return experiments"
   ]
  },
  {
   "cell_type": "code",
   "execution_count": 5,
   "id": "0d8b1600",
   "metadata": {},
   "outputs": [
    {
     "data": {
      "text/html": [
       "<div>\n",
       "<style scoped>\n",
       "    .dataframe tbody tr th:only-of-type {\n",
       "        vertical-align: middle;\n",
       "    }\n",
       "\n",
       "    .dataframe tbody tr th {\n",
       "        vertical-align: top;\n",
       "    }\n",
       "\n",
       "    .dataframe thead th {\n",
       "        text-align: right;\n",
       "    }\n",
       "</style>\n",
       "<table border=\"1\" class=\"dataframe\">\n",
       "  <thead>\n",
       "    <tr style=\"text-align: right;\">\n",
       "      <th></th>\n",
       "      <th>Energy</th>\n",
       "      <th>cosdec</th>\n",
       "      <th>Events</th>\n",
       "    </tr>\n",
       "  </thead>\n",
       "  <tbody>\n",
       "    <tr>\n",
       "      <th>0</th>\n",
       "      <td>10.0</td>\n",
       "      <td>0.000000</td>\n",
       "      <td>1938.0</td>\n",
       "    </tr>\n",
       "    <tr>\n",
       "      <th>1</th>\n",
       "      <td>10.0</td>\n",
       "      <td>0.111111</td>\n",
       "      <td>1280.0</td>\n",
       "    </tr>\n",
       "    <tr>\n",
       "      <th>2</th>\n",
       "      <td>10.0</td>\n",
       "      <td>0.222222</td>\n",
       "      <td>680.0</td>\n",
       "    </tr>\n",
       "    <tr>\n",
       "      <th>3</th>\n",
       "      <td>10.0</td>\n",
       "      <td>0.333333</td>\n",
       "      <td>323.0</td>\n",
       "    </tr>\n",
       "    <tr>\n",
       "      <th>4</th>\n",
       "      <td>10.0</td>\n",
       "      <td>0.444444</td>\n",
       "      <td>182.0</td>\n",
       "    </tr>\n",
       "    <tr>\n",
       "      <th>...</th>\n",
       "      <td>...</td>\n",
       "      <td>...</td>\n",
       "      <td>...</td>\n",
       "    </tr>\n",
       "    <tr>\n",
       "      <th>95</th>\n",
       "      <td>100.0</td>\n",
       "      <td>0.555556</td>\n",
       "      <td>38.0</td>\n",
       "    </tr>\n",
       "    <tr>\n",
       "      <th>96</th>\n",
       "      <td>100.0</td>\n",
       "      <td>0.666667</td>\n",
       "      <td>31.0</td>\n",
       "    </tr>\n",
       "    <tr>\n",
       "      <th>97</th>\n",
       "      <td>100.0</td>\n",
       "      <td>0.777778</td>\n",
       "      <td>36.0</td>\n",
       "    </tr>\n",
       "    <tr>\n",
       "      <th>98</th>\n",
       "      <td>100.0</td>\n",
       "      <td>0.888889</td>\n",
       "      <td>31.0</td>\n",
       "    </tr>\n",
       "    <tr>\n",
       "      <th>99</th>\n",
       "      <td>100.0</td>\n",
       "      <td>1.000000</td>\n",
       "      <td>25.0</td>\n",
       "    </tr>\n",
       "  </tbody>\n",
       "</table>\n",
       "<p>100 rows × 3 columns</p>\n",
       "</div>"
      ],
      "text/plain": [
       "    Energy    cosdec  Events\n",
       "0     10.0  0.000000  1938.0\n",
       "1     10.0  0.111111  1280.0\n",
       "2     10.0  0.222222   680.0\n",
       "3     10.0  0.333333   323.0\n",
       "4     10.0  0.444444   182.0\n",
       "..     ...       ...     ...\n",
       "95   100.0  0.555556    38.0\n",
       "96   100.0  0.666667    31.0\n",
       "97   100.0  0.777778    36.0\n",
       "98   100.0  0.888889    31.0\n",
       "99   100.0  1.000000    25.0\n",
       "\n",
       "[100 rows x 3 columns]"
      ]
     },
     "execution_count": 5,
     "metadata": {},
     "output_type": "execute_result"
    }
   ],
   "source": [
    "generate_experiment()"
   ]
  },
  {
   "cell_type": "code",
   "execution_count": 6,
   "id": "cf7219a8",
   "metadata": {},
   "outputs": [
    {
     "data": {
      "image/png": "[encoded data removed]",
      "text/plain": [
       "<Figure size 640x480 with 1 Axes>"
      ]
     },
     "metadata": {},
     "output_type": "display_data"
    }
   ],
   "source": [
    "ex_1 = generate_experiment()\n",
    "\n",
    "plt.hist(ex_1[\"Events\"], bins = 20, edgecolor = 'w')\n",
    "plt.yscale('log')\n",
    "plt.show()    "
   ]
  },
  {
   "cell_type": "markdown",
   "id": "d8c78f78",
   "metadata": {},
   "source": [
    "## Part 2. starts from here"
   ]
  },
  {
   "cell_type": "markdown",
   "id": "a1619938",
   "metadata": {},
   "source": [
    "### First, build a function to be the model "
   ]
  },
  {
   "cell_type": "code",
   "execution_count": 7,
   "id": "7dd8fa19",
   "metadata": {},
   "outputs": [],
   "source": [
    "def fit_func(sin2theta, dm2):\n",
    "    cosdec =  np.linspace(0, 1, 10) # 10 steps in cos(declination) from 0 to 1 \n",
    "    log10_energy = np.linspace(1, 2, 10) # 10 steps in log10(energy) from 10 to 100 GeV\n",
    "    energy=10**log10_energy\n",
    "    \n",
    "    f = []\n",
    "    \n",
    "    for e in energy:\n",
    "        for c in cosdec:\n",
    "            fi = atmo_event_rate(e, c, sin2theta, dm2)\n",
    "            f.append([e, c, int(fi)])\n",
    "            \n",
    "    df = pd.DataFrame(f, columns = ['Energy','cosdec','Events'])\n",
    "            \n",
    "    return df"
   ]
  },
  {
   "cell_type": "code",
   "execution_count": 8,
   "id": "fb557034",
   "metadata": {},
   "outputs": [],
   "source": [
    "func = fit_func(0.9, 2.4e-3)"
   ]
  },
  {
   "cell_type": "markdown",
   "id": "66133f98",
   "metadata": {},
   "source": [
    "### Second, build function to calculate chi2 "
   ]
  },
  {
   "cell_type": "code",
   "execution_count": 66,
   "id": "56f3e217",
   "metadata": {},
   "outputs": [],
   "source": [
    "def chi_s(ex_1, func):\n",
    "    chi_list = []\n",
    "    s = np.sum((ex_1[\"Events\"]-func[\"Events\"])**2/func[\"Events\"])\n",
    "    return s"
   ]
  },
  {
   "cell_type": "markdown",
   "id": "fdaa4945",
   "metadata": {},
   "source": [
    "Run trial 1000 times and collect the chi2 value, giving a list"
   ]
  },
  {
   "cell_type": "code",
   "execution_count": 67,
   "id": "e89c20c3",
   "metadata": {},
   "outputs": [],
   "source": [
    "chis_list = np.zeros(1000)\n",
    "for i in range(1000):\n",
    "    ex = generate_experiment()\n",
    "    chis_list[i] = chi_s(ex, func)"
   ]
  },
  {
   "cell_type": "code",
   "execution_count": 68,
   "id": "4fa9fc2b",
   "metadata": {},
   "outputs": [],
   "source": [
    "chis_list = np.array(chis_list)"
   ]
  },
  {
   "cell_type": "code",
   "execution_count": 69,
   "id": "b4049689",
   "metadata": {},
   "outputs": [
    {
     "data": {
      "image/png": "[encoded data removed]",
      "text/plain": [
       "<Figure size 640x480 with 1 Axes>"
      ]
     },
     "metadata": {},
     "output_type": "display_data"
    }
   ],
   "source": [
    "plt.hist(chis_list, bins = 30, edgecolor = 'w')\n",
    "plt.show()   "
   ]
  },
  {
   "cell_type": "code",
   "execution_count": 70,
   "id": "f00a5f29",
   "metadata": {},
   "outputs": [
    {
     "data": {
      "image/png": "[encoded data removed]",
      "text/plain": [
       "<Figure size 640x480 with 1 Axes>"
      ]
     },
     "metadata": {},
     "output_type": "display_data"
    }
   ],
   "source": [
    "df =98\n",
    "high, widt = np.histogram(chis_list, bins=80)\n",
    "high = high/np.sum(high)\n",
    "\n",
    "# the chi2 distribution function\n",
    "chi2_dis = scipy.stats.chi2.pdf(widt[:-1], df=df)\n",
    "\n",
    "plt.bar(widt[:-1], high, width = widt[1]-widt[0], edgecolor = 'w', alpha = 0.3,  label = \"chi-value\")\n",
    "plt.plot(widt[:-1], chi2_dis,  label = \"chi-dist\")\n",
    "\n",
    "plt.vlines([np.mean(chis_list) + np.std(chis_list), np.mean(chis_list) - np.std(chis_list)], 0, 0.04, color = 'black', label=\"1 sigma\", ls=\"-\")\n",
    "plt.xlabel(\"Value\")\n",
    "plt.ylabel(\"Prob\")\n",
    "plt.legend()\n",
    "plt.show()\n",
    "plt.show()   "
   ]
  },
  {
   "cell_type": "markdown",
   "id": "118cb325",
   "metadata": {},
   "source": [
    "### Third, print seperately mean, std and var of trial's events and chi2 distribution"
   ]
  },
  {
   "cell_type": "code",
   "execution_count": 71,
   "id": "9db5499e",
   "metadata": {},
   "outputs": [
    {
     "name": "stdout",
     "output_type": "stream",
     "text": [
      "mean of chi square values: 100.65\n",
      "std. dev of chi square values: 14.54\n",
      "variance of chi square values: 211.48\n"
     ]
    }
   ],
   "source": [
    "# mean, std, var of events values\n",
    "print(f\"mean of chi square values: {np.mean(chis_list):.2f}\")\n",
    "print(f\"std. dev of chi square values: {np.std(chis_list):.2f}\")\n",
    "print(f\"variance of chi square values: {np.var(chis_list):.2f}\")"
   ]
  },
  {
   "cell_type": "code",
   "execution_count": 72,
   "id": "2e93c49c",
   "metadata": {},
   "outputs": [
    {
     "name": "stdout",
     "output_type": "stream",
     "text": [
      "mean of chi square distribution values: 98.00\n",
      "std. of chi square distribution values: 14.00\n",
      "variance of chi square distribution values: 196.00\n"
     ]
    }
   ],
   "source": [
    "# mean, std, var of chi2 distribution\n",
    "mean, var, skew, kurt = chi2.stats(df, moments='mvsk')\n",
    "print(f\"mean of chi square distribution values: {mean:.2f}\")\n",
    "print(f\"std. of chi square distribution values: {np.sqrt(var):.2f}\")\n",
    "print(f\"variance of chi square distribution values: {var:.2f}\")"
   ]
  },
  {
   "cell_type": "markdown",
   "id": "2694c91a",
   "metadata": {},
   "source": [
    "### last, to find the chi2 value corr to cumulative 67% of dis"
   ]
  },
  {
   "cell_type": "code",
   "execution_count": 73,
   "id": "026ee1af",
   "metadata": {},
   "outputs": [],
   "source": [
    "chis_sort = np.sort(chis_list)\n",
    "df = pd.DataFrame(chis_sort, columns = ['Events'])"
   ]
  },
  {
   "cell_type": "code",
   "execution_count": 74,
   "id": "a137bdfb",
   "metadata": {},
   "outputs": [
    {
     "data": {
      "text/html": [
       "<div>\n",
       "<style scoped>\n",
       "    .dataframe tbody tr th:only-of-type {\n",
       "        vertical-align: middle;\n",
       "    }\n",
       "\n",
       "    .dataframe tbody tr th {\n",
       "        vertical-align: top;\n",
       "    }\n",
       "\n",
       "    .dataframe thead th {\n",
       "        text-align: right;\n",
       "    }\n",
       "</style>\n",
       "<table border=\"1\" class=\"dataframe\">\n",
       "  <thead>\n",
       "    <tr style=\"text-align: right;\">\n",
       "      <th></th>\n",
       "      <th>Events</th>\n",
       "    </tr>\n",
       "  </thead>\n",
       "  <tbody>\n",
       "    <tr>\n",
       "      <th>0</th>\n",
       "      <td>59.768851</td>\n",
       "    </tr>\n",
       "    <tr>\n",
       "      <th>1</th>\n",
       "      <td>64.946829</td>\n",
       "    </tr>\n",
       "    <tr>\n",
       "      <th>2</th>\n",
       "      <td>65.070680</td>\n",
       "    </tr>\n",
       "    <tr>\n",
       "      <th>3</th>\n",
       "      <td>65.319190</td>\n",
       "    </tr>\n",
       "    <tr>\n",
       "      <th>4</th>\n",
       "      <td>65.558787</td>\n",
       "    </tr>\n",
       "    <tr>\n",
       "      <th>...</th>\n",
       "      <td>...</td>\n",
       "    </tr>\n",
       "    <tr>\n",
       "      <th>995</th>\n",
       "      <td>144.238782</td>\n",
       "    </tr>\n",
       "    <tr>\n",
       "      <th>996</th>\n",
       "      <td>145.305292</td>\n",
       "    </tr>\n",
       "    <tr>\n",
       "      <th>997</th>\n",
       "      <td>146.472661</td>\n",
       "    </tr>\n",
       "    <tr>\n",
       "      <th>998</th>\n",
       "      <td>154.448284</td>\n",
       "    </tr>\n",
       "    <tr>\n",
       "      <th>999</th>\n",
       "      <td>163.502535</td>\n",
       "    </tr>\n",
       "  </tbody>\n",
       "</table>\n",
       "<p>1000 rows × 1 columns</p>\n",
       "</div>"
      ],
      "text/plain": [
       "         Events\n",
       "0     59.768851\n",
       "1     64.946829\n",
       "2     65.070680\n",
       "3     65.319190\n",
       "4     65.558787\n",
       "..          ...\n",
       "995  144.238782\n",
       "996  145.305292\n",
       "997  146.472661\n",
       "998  154.448284\n",
       "999  163.502535\n",
       "\n",
       "[1000 rows x 1 columns]"
      ]
     },
     "execution_count": 74,
     "metadata": {},
     "output_type": "execute_result"
    }
   ],
   "source": [
    "df"
   ]
  },
  {
   "cell_type": "code",
   "execution_count": 75,
   "id": "08c9b01f",
   "metadata": {},
   "outputs": [
    {
     "name": "stdout",
     "output_type": "stream",
     "text": [
      "46.61890975460806\n"
     ]
    }
   ],
   "source": [
    "for i in range(len(chis_sort)):\n",
    "    val = (i+1)/len(chis_sort)\n",
    "    if val == 0.670:\n",
    "        record = chis_sort[i]\n",
    "        print(record-chis_sort[0])"
   ]
  },
  {
   "cell_type": "code",
   "execution_count": 76,
   "id": "3a71af4e",
   "metadata": {},
   "outputs": [
    {
     "name": "stdout",
     "output_type": "stream",
     "text": [
      "chi square value corr. o cumulative 67% of dis : 106.39\n",
      "delta chi square value: 46.62\n"
     ]
    }
   ],
   "source": [
    "print(f\"chi square value corr. o cumulative 67% of dis : {record:.2f}\")\n",
    "print(f\"delta chi square value: {record-chis_sort[0]:.2f}\")"
   ]
  },
  {
   "cell_type": "code",
   "execution_count": null,
   "id": "08dd70c9",
   "metadata": {},
   "outputs": [],
   "source": []
  }
 ],
 "metadata": {
  "kernelspec": {
   "display_name": "Python 3 (ipykernel)",
   "language": "python",
   "name": "python3"
  },
  "language_info": {
   "codemirror_mode": {
    "name": "ipython",
    "version": 3
   },
   "file_extension": ".py",
   "mimetype": "text/x-python",
   "name": "python",
   "nbconvert_exporter": "python",
   "pygments_lexer": "ipython3",
   "version": "3.9.13"
  }
 },
 "nbformat": 4,
 "nbformat_minor": 5
}
