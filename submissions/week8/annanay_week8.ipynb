{
 "cells": [
  {
   "cell_type": "code",
   "execution_count": 1,
   "metadata": {},
   "outputs": [
    {
     "data": {
      "text/html": [
       "<style>.container { width:90% !important; }</style>"
      ],
      "text/plain": [
       "<IPython.core.display.HTML object>"
      ]
     },
     "metadata": {},
     "output_type": "display_data"
    }
   ],
   "source": [
    "import numpy as np\n",
    "import matplotlib.pyplot as plt\n",
    "import pandas as pd\n",
    "import astropy.units as u\n",
    "from scipy import stats\n",
    "from scipy.optimize import minimize, curve_fit\n",
    "from iminuit import Minuit\n",
    "\n",
    "from IPython.display import display, HTML\n",
    "display(HTML(\"<style>.container { width:90% !important; }</style>\"))"
   ]
  },
  {
   "cell_type": "code",
   "execution_count": 2,
   "metadata": {},
   "outputs": [
    {
     "data": {
      "image/png": "[encoded data removed]",
      "text/plain": [
       "<Figure size 640x480 with 1 Axes>"
      ]
     },
     "metadata": {},
     "output_type": "display_data"
    },
    {
     "data": {
      "text/html": [
       "<div>\n",
       "<style scoped>\n",
       "    .dataframe tbody tr th:only-of-type {\n",
       "        vertical-align: middle;\n",
       "    }\n",
       "\n",
       "    .dataframe tbody tr th {\n",
       "        vertical-align: top;\n",
       "    }\n",
       "\n",
       "    .dataframe thead th {\n",
       "        text-align: right;\n",
       "    }\n",
       "</style>\n",
       "<table border=\"1\" class=\"dataframe\">\n",
       "  <thead>\n",
       "    <tr style=\"text-align: right;\">\n",
       "      <th></th>\n",
       "      <th>energy</th>\n",
       "      <th>cosdec</th>\n",
       "      <th>events</th>\n",
       "    </tr>\n",
       "  </thead>\n",
       "  <tbody>\n",
       "    <tr>\n",
       "      <th>0</th>\n",
       "      <td>10.0</td>\n",
       "      <td>0.000000</td>\n",
       "      <td>1983</td>\n",
       "    </tr>\n",
       "    <tr>\n",
       "      <th>1</th>\n",
       "      <td>10.0</td>\n",
       "      <td>0.010101</td>\n",
       "      <td>2005</td>\n",
       "    </tr>\n",
       "    <tr>\n",
       "      <th>2</th>\n",
       "      <td>10.0</td>\n",
       "      <td>0.020202</td>\n",
       "      <td>1855</td>\n",
       "    </tr>\n",
       "    <tr>\n",
       "      <th>3</th>\n",
       "      <td>10.0</td>\n",
       "      <td>0.030303</td>\n",
       "      <td>1843</td>\n",
       "    </tr>\n",
       "    <tr>\n",
       "      <th>4</th>\n",
       "      <td>10.0</td>\n",
       "      <td>0.040404</td>\n",
       "      <td>1696</td>\n",
       "    </tr>\n",
       "    <tr>\n",
       "      <th>...</th>\n",
       "      <td>...</td>\n",
       "      <td>...</td>\n",
       "      <td>...</td>\n",
       "    </tr>\n",
       "    <tr>\n",
       "      <th>9995</th>\n",
       "      <td>100.0</td>\n",
       "      <td>0.959596</td>\n",
       "      <td>28</td>\n",
       "    </tr>\n",
       "    <tr>\n",
       "      <th>9996</th>\n",
       "      <td>100.0</td>\n",
       "      <td>0.969697</td>\n",
       "      <td>30</td>\n",
       "    </tr>\n",
       "    <tr>\n",
       "      <th>9997</th>\n",
       "      <td>100.0</td>\n",
       "      <td>0.979798</td>\n",
       "      <td>21</td>\n",
       "    </tr>\n",
       "    <tr>\n",
       "      <th>9998</th>\n",
       "      <td>100.0</td>\n",
       "      <td>0.989899</td>\n",
       "      <td>34</td>\n",
       "    </tr>\n",
       "    <tr>\n",
       "      <th>9999</th>\n",
       "      <td>100.0</td>\n",
       "      <td>1.000000</td>\n",
       "      <td>28</td>\n",
       "    </tr>\n",
       "  </tbody>\n",
       "</table>\n",
       "<p>10000 rows × 3 columns</p>\n",
       "</div>"
      ],
      "text/plain": [
       "      energy    cosdec  events\n",
       "0       10.0  0.000000    1983\n",
       "1       10.0  0.010101    2005\n",
       "2       10.0  0.020202    1855\n",
       "3       10.0  0.030303    1843\n",
       "4       10.0  0.040404    1696\n",
       "...      ...       ...     ...\n",
       "9995   100.0  0.959596      28\n",
       "9996   100.0  0.969697      30\n",
       "9997   100.0  0.979798      21\n",
       "9998   100.0  0.989899      34\n",
       "9999   100.0  1.000000      28\n",
       "\n",
       "[10000 rows x 3 columns]"
      ]
     },
     "execution_count": 2,
     "metadata": {},
     "output_type": "execute_result"
    }
   ],
   "source": [
    "def atmo_event_rate(energy, cos_theta, sin2theta=0.9, dm2=2.4e-3):\n",
    "    flux = 1e5*energy**-1.7 # the true neutrino flux is steeper, this takes into account \n",
    "                            # neutrino cross-section, which is proportional to E\n",
    "                            # as well as that we are working with logarithmic energy bins    \n",
    "    l = 12e3 * cos_theta # base line - max corresponds to diameter of the Earth 12e3 km\n",
    "\n",
    "    # two flavor oscillation propability for muon disappearance - see wikipedia \n",
    "    osc_prop = 1-sin2theta * np.sin(1.27*dm2*l/energy) \n",
    "\n",
    "    return flux*osc_prop\n",
    "\n",
    "def run_experiment(energy, cosdec, sin2theta=0.9, dm2=2.4e-3):\n",
    "    x = np.array(energy.size)\n",
    "    events=np.zeros(energy.size*cosdec.size)\n",
    "    rows = []\n",
    "    i = 0\n",
    "    for e in energy:\n",
    "        for c in cosdec:\n",
    "            mu = atmo_event_rate(e,c,sin2theta,dm2)\n",
    "            sig = np.sqrt(mu)\n",
    "            event_random = np.random.normal(mu,sig)\n",
    "            events[i] = int(event_random) \n",
    "            i=i+1\n",
    "            rows.append([e,c,int(event_random)])\n",
    "    events_df = pd.DataFrame(rows, columns=['energy','cosdec','events'])\n",
    "    return events_df\n",
    "\n",
    "def generate_data(N, sin2theta=0.9, dm2=2.4e-3):\n",
    "    \n",
    "    cosdec =  np.linspace(0, 1, N) # N steps in cos(declination) from 0 to 1 \n",
    "    energy = 10**np.linspace(1, 2, N) # N steps in log10(energy) from 10 to 100 GeV\n",
    "    \n",
    "    events_df = run_experiment(energy,cosdec,sin2theta,dm2)\n",
    "    \n",
    "    return events_df\n",
    "\n",
    "events_df = generate_data(100)\n",
    "\n",
    "plt.hist(events_df[\"events\"], bins=20)\n",
    "plt.yscale('log')\n",
    "\n",
    "plt.show() \n",
    "events_df"
   ]
  },
  {
   "cell_type": "code",
   "execution_count": 3,
   "metadata": {},
   "outputs": [
    {
     "data": {
      "text/plain": [
       "9757.729335475131"
      ]
     },
     "execution_count": 3,
     "metadata": {},
     "output_type": "execute_result"
    }
   ],
   "source": [
    "events_df = generate_data(100, sin2theta=0.9, dm2=2.4e-3)\n",
    "\n",
    "def chi2(sin2theta, dm2):\n",
    "\n",
    "    energy, cosdec, events = events_df[\"energy\"], events_df[\"cosdec\"], events_df[\"events\"]\n",
    "    model_events = atmo_event_rate(energy, cosdec, sin2theta, dm2)\n",
    "    chi2 = np.sum((events - model_events)**2 / model_events)\n",
    "    return chi2\n",
    "\n",
    "chi2(0.9, 2.4e-3)"
   ]
  },
  {
   "cell_type": "code",
   "execution_count": 4,
   "metadata": {},
   "outputs": [
    {
     "name": "stdout",
     "output_type": "stream",
     "text": [
      "┌─────────────────────────────────────────────────────────────────────────┐\n",
      "│                                Migrad                                   │\n",
      "├──────────────────────────────────┬──────────────────────────────────────┤\n",
      "│ FCN = 9756                       │              Nfcn = 29               │\n",
      "│ EDM = 1.38e-06 (Goal: 0.0002)    │                                      │\n",
      "├──────────────────────────────────┼──────────────────────────────────────┤\n",
      "│          Valid Minimum           │        No Parameters at limit        │\n",
      "├──────────────────────────────────┼──────────────────────────────────────┤\n",
      "│ Below EDM threshold (goal x 10)  │           Below call limit           │\n",
      "├───────────────┬──────────────────┼───────────┬─────────────┬────────────┤\n",
      "│  Covariance   │     Hesse ok     │ Accurate  │  Pos. def.  │ Not forced │\n",
      "└───────────────┴──────────────────┴───────────┴─────────────┴────────────┘\n",
      "┌───┬───────────┬───────────┬───────────┬────────────┬────────────┬─────────┬─────────┬───────┐\n",
      "│   │ Name      │   Value   │ Hesse Err │ Minos Err- │ Minos Err+ │ Limit-  │ Limit+  │ Fixed │\n",
      "├───┼───────────┼───────────┼───────────┼────────────┼────────────┼─────────┼─────────┼───────┤\n",
      "│ 0 │ sin2theta │ 899.92e-3 │  0.27e-3  │            │            │         │         │       │\n",
      "│ 1 │ dm2       │ 2.4010e-3 │ 0.0008e-3 │            │            │         │         │       │\n",
      "└───┴───────────┴───────────┴───────────┴────────────┴────────────┴─────────┴─────────┴───────┘\n",
      "┌───────────┬─────────────────────┐\n",
      "│           │ sin2theta       dm2 │\n",
      "├───────────┼─────────────────────┤\n",
      "│ sin2theta │  7.18e-08  8.92e-12 │\n",
      "│       dm2 │  8.92e-12  6.84e-13 │\n",
      "└───────────┴─────────────────────┘\n",
      "9756.090913481337\n"
     ]
    }
   ],
   "source": [
    "m = Minuit(chi2, sin2theta=0.9, dm2=2.4e-3)\n",
    "print(m.migrad())\n",
    "print(m.fval)"
   ]
  },
  {
   "cell_type": "code",
   "execution_count": 5,
   "metadata": {},
   "outputs": [
    {
     "name": "stderr",
     "output_type": "stream",
     "text": [
      "100%|██████████| 1000/1000 [00:17<00:00, 56.04it/s]"
     ]
    },
    {
     "name": "stdout",
     "output_type": "stream",
     "text": [
      "mean, std: 23.19, 6.92\n"
     ]
    },
    {
     "name": "stderr",
     "output_type": "stream",
     "text": [
      "\n"
     ]
    }
   ],
   "source": [
    "from tqdm import tqdm\n",
    "\n",
    "N_sim = 1000\n",
    "chi2_vals =[]\n",
    "for sim in tqdm(range(N_sim)):\n",
    "    events_df = generate_data(5, sin2theta=0.9, dm2=2.4e-3)\n",
    "    \n",
    "    def chi2(sin2theta, dm2):\n",
    "\n",
    "        energy, cosdec, events = events_df[\"energy\"], events_df[\"cosdec\"], events_df[\"events\"]\n",
    "        model_events = atmo_event_rate(energy, cosdec, sin2theta, dm2)\n",
    "        chi2 = np.sum((events - model_events)**2 / model_events)\n",
    "        return chi2\n",
    "    \n",
    "    m = Minuit(chi2, sin2theta=0.9, dm2=2.4e-3)\n",
    "    m.migrad()\n",
    "    chi2_vals.append(m.fval)\n",
    "\n",
    "print(f\"mean, std: {np.mean(chi2_vals):.2f}, {np.std(chi2_vals):.2f}\")"
   ]
  },
  {
   "cell_type": "code",
   "execution_count": 10,
   "metadata": {},
   "outputs": [
    {
     "data": {
      "image/png": "[encoded data removed]",
      "text/plain": [
       "<Figure size 640x480 with 1 Axes>"
      ]
     },
     "metadata": {},
     "output_type": "display_data"
    },
    {
     "name": "stdout",
     "output_type": "stream",
     "text": [
      "mean of chi2 values: 23.19\n",
      "std. dev of chi2 values: 6.92\n",
      "variance of chi2 values: 47.85\n",
      "67.70% of the fits are within 1 sigma of the mean chi2 value\n"
     ]
    }
   ],
   "source": [
    "bins = 30\n",
    "df=22\n",
    "\n",
    "bin_height, bin_boundary = np.histogram(chi2_vals, bins=bins)\n",
    "width = bin_boundary[1]-bin_boundary[0]\n",
    "bin_height = bin_height/np.sum(bin_height)\n",
    "\n",
    "chi2_pdf = stats.chi2.pdf(bin_boundary[:-1], df=df)\n",
    "\n",
    "plt.bar(bin_boundary[:-1],bin_height, width = width, alpha=0.5, label=\"chi2 distribution from fits\")\n",
    "plt.plot(bin_boundary[:-1], stats.chi2.pdf(bin_boundary[:-1], df=22), label=\"chi2 pdf with dof = 22\")\n",
    "\n",
    "plt.vlines([np.mean(chi2_vals) + np.std(chi2_vals), np.mean(chi2_vals) - np.std(chi2_vals)], 0, 0.1, color=\"red\", label=\"1 sigma\", ls=\"--\")\n",
    "plt.xlabel(\"chi2 value\")\n",
    "plt.ylabel(\"probability\")\n",
    "plt.legend()\n",
    "plt.show()\n",
    "\n",
    "chi2_vals = np.array(chi2_vals)\n",
    "\n",
    "perc_in_1sigma = len(chi2_vals[np.abs(chi2_vals - np.mean(chi2_vals)) < np.std(chi2_vals)])/len(chi2_vals)*100\n",
    "\n",
    "print(f\"mean of chi2 values: {np.mean(chi2_vals):.2f}\")\n",
    "print(f\"std. dev of chi2 values: {np.std(chi2_vals):.2f}\")\n",
    "print(f\"variance of chi2 values: {np.var(chi2_vals):.2f}\")\n",
    "print(f\"{perc_in_1sigma:.2f}% of the fits are within 1 sigma of the mean chi2 value\")\n"
   ]
  }
 ],
 "metadata": {
  "kernelspec": {
   "display_name": "statmethods",
   "language": "python",
   "name": "python3"
  },
  "language_info": {
   "codemirror_mode": {
    "name": "ipython",
    "version": 3
   },
   "file_extension": ".py",
   "mimetype": "text/x-python",
   "name": "python",
   "nbconvert_exporter": "python",
   "pygments_lexer": "ipython3",
   "version": "3.11.0"
  },
  "orig_nbformat": 4,
  "vscode": {
   "interpreter": {
    "hash": "5a0019a268f07d254d9507a2e0334038a922a455e7748d5005c7043fb2589f99"
   }
  }
 },
 "nbformat": 4,
 "nbformat_minor": 2
}
