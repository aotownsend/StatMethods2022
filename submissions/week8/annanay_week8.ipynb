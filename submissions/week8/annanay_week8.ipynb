{
 "cells": [
  {
   "cell_type": "code",
   "execution_count": 37,
   "metadata": {},
   "outputs": [
    {
     "data": {
      "text/html": [
       "<style>.container { width:90% !important; }</style>"
      ],
      "text/plain": [
       "<IPython.core.display.HTML object>"
      ]
     },
     "metadata": {},
     "output_type": "display_data"
    }
   ],
   "source": [
    "import numpy as np\n",
    "import matplotlib.pyplot as plt\n",
    "import pandas as pd\n",
    "import astropy.units as u\n",
    "from scipy import stats\n",
    "from scipy.optimize import minimize, curve_fit\n",
    "from iminuit import Minuit\n",
    "\n",
    "from IPython.display import display, HTML\n",
    "display(HTML(\"<style>.container { width:90% !important; }</style>\"))"
   ]
  },
  {
   "cell_type": "code",
   "execution_count": 38,
   "metadata": {},
   "outputs": [
    {
     "data": {
      "image/png": "[encoded data removed]",
      "text/plain": [
       "<Figure size 640x480 with 1 Axes>"
      ]
     },
     "metadata": {},
     "output_type": "display_data"
    },
    {
     "data": {
      "text/html": [
       "<div>\n",
       "<style scoped>\n",
       "    .dataframe tbody tr th:only-of-type {\n",
       "        vertical-align: middle;\n",
       "    }\n",
       "\n",
       "    .dataframe tbody tr th {\n",
       "        vertical-align: top;\n",
       "    }\n",
       "\n",
       "    .dataframe thead th {\n",
       "        text-align: right;\n",
       "    }\n",
       "</style>\n",
       "<table border=\"1\" class=\"dataframe\">\n",
       "  <thead>\n",
       "    <tr style=\"text-align: right;\">\n",
       "      <th></th>\n",
       "      <th>energy</th>\n",
       "      <th>cosdec</th>\n",
       "      <th>events</th>\n",
       "    </tr>\n",
       "  </thead>\n",
       "  <tbody>\n",
       "    <tr>\n",
       "      <th>0</th>\n",
       "      <td>10.0</td>\n",
       "      <td>0.000000</td>\n",
       "      <td>2004</td>\n",
       "    </tr>\n",
       "    <tr>\n",
       "      <th>1</th>\n",
       "      <td>10.0</td>\n",
       "      <td>0.010101</td>\n",
       "      <td>1905</td>\n",
       "    </tr>\n",
       "    <tr>\n",
       "      <th>2</th>\n",
       "      <td>10.0</td>\n",
       "      <td>0.020202</td>\n",
       "      <td>1831</td>\n",
       "    </tr>\n",
       "    <tr>\n",
       "      <th>3</th>\n",
       "      <td>10.0</td>\n",
       "      <td>0.030303</td>\n",
       "      <td>1776</td>\n",
       "    </tr>\n",
       "    <tr>\n",
       "      <th>4</th>\n",
       "      <td>10.0</td>\n",
       "      <td>0.040404</td>\n",
       "      <td>1714</td>\n",
       "    </tr>\n",
       "    <tr>\n",
       "      <th>...</th>\n",
       "      <td>...</td>\n",
       "      <td>...</td>\n",
       "      <td>...</td>\n",
       "    </tr>\n",
       "    <tr>\n",
       "      <th>9995</th>\n",
       "      <td>100.0</td>\n",
       "      <td>0.959596</td>\n",
       "      <td>26</td>\n",
       "    </tr>\n",
       "    <tr>\n",
       "      <th>9996</th>\n",
       "      <td>100.0</td>\n",
       "      <td>0.969697</td>\n",
       "      <td>23</td>\n",
       "    </tr>\n",
       "    <tr>\n",
       "      <th>9997</th>\n",
       "      <td>100.0</td>\n",
       "      <td>0.979798</td>\n",
       "      <td>18</td>\n",
       "    </tr>\n",
       "    <tr>\n",
       "      <th>9998</th>\n",
       "      <td>100.0</td>\n",
       "      <td>0.989899</td>\n",
       "      <td>25</td>\n",
       "    </tr>\n",
       "    <tr>\n",
       "      <th>9999</th>\n",
       "      <td>100.0</td>\n",
       "      <td>1.000000</td>\n",
       "      <td>30</td>\n",
       "    </tr>\n",
       "  </tbody>\n",
       "</table>\n",
       "<p>10000 rows × 3 columns</p>\n",
       "</div>"
      ],
      "text/plain": [
       "      energy    cosdec  events\n",
       "0       10.0  0.000000    2004\n",
       "1       10.0  0.010101    1905\n",
       "2       10.0  0.020202    1831\n",
       "3       10.0  0.030303    1776\n",
       "4       10.0  0.040404    1714\n",
       "...      ...       ...     ...\n",
       "9995   100.0  0.959596      26\n",
       "9996   100.0  0.969697      23\n",
       "9997   100.0  0.979798      18\n",
       "9998   100.0  0.989899      25\n",
       "9999   100.0  1.000000      30\n",
       "\n",
       "[10000 rows x 3 columns]"
      ]
     },
     "execution_count": 38,
     "metadata": {},
     "output_type": "execute_result"
    }
   ],
   "source": [
    "def atmo_event_rate(energy, cos_theta, sin2theta=0.9, dm2=2.4e-3):\n",
    "    flux = 1e5*energy**-1.7 # the true neutrino flux is steeper, this takes into account \n",
    "                            # neutrino cross-section, which is proportional to E\n",
    "                            # as well as that we are working with logarithmic energy bins    \n",
    "    l = 12e3 * cos_theta # base line - max corresponds to diameter of the Earth 12e3 km\n",
    "\n",
    "    # two flavor oscillation propability for muon disappearance - see wikipedia \n",
    "    osc_prop = 1-sin2theta * np.sin(1.27*dm2*l/energy) \n",
    "\n",
    "    return flux*osc_prop\n",
    "\n",
    "def run_experiment(energy, cosdec, sin2theta=0.9, dm2=2.4e-3):\n",
    "    x = np.array(energy.size)\n",
    "    events=np.zeros(energy.size*cosdec.size)\n",
    "    rows = []\n",
    "    i = 0\n",
    "    for e in energy:\n",
    "        for c in cosdec:\n",
    "            mu = atmo_event_rate(e,c,sin2theta,dm2)\n",
    "            sig = np.sqrt(mu)\n",
    "            event_random = np.random.normal(mu,sig)\n",
    "            events[i] = int(event_random) \n",
    "            i=i+1\n",
    "            rows.append([e,c,int(event_random)])\n",
    "    events_df = pd.DataFrame(rows, columns=['energy','cosdec','events'])\n",
    "    return events_df\n",
    "\n",
    "def generate_data(N, sin2theta=0.9, dm2=2.4e-3):\n",
    "    \n",
    "    cosdec =  np.linspace(0, 1, N) # N steps in cos(declination) from 0 to 1 \n",
    "    energy = 10**np.linspace(1, 2, N) # N steps in log10(energy) from 10 to 100 GeV\n",
    "    \n",
    "    events_df = run_experiment(energy,cosdec,sin2theta,dm2)\n",
    "    \n",
    "    return events_df\n",
    "\n",
    "events_df = generate_data(100)\n",
    "\n",
    "plt.hist(events_df[\"events\"], bins=20)\n",
    "plt.yscale('log')\n",
    "\n",
    "plt.show() \n",
    "events_df"
   ]
  },
  {
   "cell_type": "code",
   "execution_count": 87,
   "metadata": {},
   "outputs": [
    {
     "data": {
      "text/plain": [
       "9757.790766503978"
      ]
     },
     "execution_count": 87,
     "metadata": {},
     "output_type": "execute_result"
    }
   ],
   "source": [
    "events_df = generate_data(100, sin2theta=0.9, dm2=2.4e-3)\n",
    "\n",
    "def chi2(sin2theta, dm2):\n",
    "\n",
    "    energy, cosdec, events = events_df[\"energy\"], events_df[\"cosdec\"], events_df[\"events\"]\n",
    "    model_events = atmo_event_rate(energy, cosdec, sin2theta, dm2)\n",
    "    chi2 = np.sum((events - model_events)**2 / model_events)\n",
    "    return chi2\n",
    "\n",
    "chi2(0.9, 2.4e-3)"
   ]
  },
  {
   "cell_type": "code",
   "execution_count": 88,
   "metadata": {},
   "outputs": [
    {
     "name": "stdout",
     "output_type": "stream",
     "text": [
      "┌─────────────────────────────────────────────────────────────────────────┐\n",
      "│                                Migrad                                   │\n",
      "├──────────────────────────────────┬──────────────────────────────────────┤\n",
      "│ FCN = 9755                       │              Nfcn = 29               │\n",
      "│ EDM = 5.32e-07 (Goal: 0.0002)    │                                      │\n",
      "├──────────────────────────────────┼──────────────────────────────────────┤\n",
      "│          Valid Minimum           │        No Parameters at limit        │\n",
      "├──────────────────────────────────┼──────────────────────────────────────┤\n",
      "│ Below EDM threshold (goal x 10)  │           Below call limit           │\n",
      "├───────────────┬──────────────────┼───────────┬─────────────┬────────────┤\n",
      "│  Covariance   │     Hesse ok     │ Accurate  │  Pos. def.  │ Not forced │\n",
      "└───────────────┴──────────────────┴───────────┴─────────────┴────────────┘\n",
      "┌───┬───────────┬───────────┬───────────┬────────────┬────────────┬─────────┬─────────┬───────┐\n",
      "│   │ Name      │   Value   │ Hesse Err │ Minos Err- │ Minos Err+ │ Limit-  │ Limit+  │ Fixed │\n",
      "├───┼───────────┼───────────┼───────────┼────────────┼────────────┼─────────┼─────────┼───────┤\n",
      "│ 0 │ sin2theta │ 899.67e-3 │  0.27e-3  │            │            │         │         │       │\n",
      "│ 1 │ dm2       │ 2.4008e-3 │ 0.0008e-3 │            │            │         │         │       │\n",
      "└───┴───────────┴───────────┴───────────┴────────────┴────────────┴─────────┴─────────┴───────┘\n",
      "┌───────────┬─────────────────────┐\n",
      "│           │ sin2theta       dm2 │\n",
      "├───────────┼─────────────────────┤\n",
      "│ sin2theta │  7.18e-08  9.07e-12 │\n",
      "│       dm2 │  9.07e-12  6.85e-13 │\n",
      "└───────────┴─────────────────────┘\n",
      "9755.306021041422\n"
     ]
    }
   ],
   "source": [
    "m = Minuit(chi2, sin2theta=0.9, dm2=2.4e-3)\n",
    "print(m.migrad())\n",
    "print(m.fval)"
   ]
  },
  {
   "cell_type": "code",
   "execution_count": 92,
   "metadata": {},
   "outputs": [],
   "source": [
    "N_sim = 500\n",
    "chi2_vals =[]\n",
    "for sim in range(N_sim):\n",
    "    events_df = generate_data(100, sin2theta=0.9, dm2=2.4e-3)\n",
    "    \n",
    "    def chi2(sin2theta, dm2):\n",
    "\n",
    "        energy, cosdec, events = events_df[\"energy\"], events_df[\"cosdec\"], events_df[\"events\"]\n",
    "        model_events = atmo_event_rate(energy, cosdec, sin2theta, dm2)\n",
    "        chi2 = np.sum((events - model_events)**2 / model_events)\n",
    "        return chi2\n",
    "    \n",
    "    m = Minuit(chi2, sin2theta=0.9, dm2=2.4e-3)\n",
    "    m.migrad()\n",
    "    chi2_vals.append(m.fval)\n",
    "\n"
   ]
  },
  {
   "cell_type": "code",
   "execution_count": 93,
   "metadata": {},
   "outputs": [
    {
     "data": {
      "text/plain": [
       "(array([11.,  9., 10., 23., 32., 42., 50., 46., 58., 56., 49., 27., 37.,\n",
       "        21., 12.,  7.,  5.,  4.,  0.,  1.]),\n",
       " array([ 9702.12563848,  9741.85901842,  9781.59239836,  9821.3257783 ,\n",
       "         9861.05915823,  9900.79253817,  9940.52591811,  9980.25929805,\n",
       "        10019.99267799, 10059.72605793, 10099.45943787, 10139.19281781,\n",
       "        10178.92619775, 10218.65957769, 10258.39295762, 10298.12633756,\n",
       "        10337.8597175 , 10377.59309744, 10417.32647738, 10457.05985732,\n",
       "        10496.79323726]),\n",
       " <BarContainer object of 20 artists>)"
      ]
     },
     "execution_count": 93,
     "metadata": {},
     "output_type": "execute_result"
    },
    {
     "data": {
      "image/png": "[encoded data removed]",
      "text/plain": [
       "<Figure size 640x480 with 1 Axes>"
      ]
     },
     "metadata": {},
     "output_type": "display_data"
    }
   ],
   "source": [
    "plt.hist(chi2_vals, bins=20)"
   ]
  },
  {
   "cell_type": "code",
   "execution_count": null,
   "metadata": {},
   "outputs": [],
   "source": []
  }
 ],
 "metadata": {
  "kernelspec": {
   "display_name": "statmethods",
   "language": "python",
   "name": "python3"
  },
  "language_info": {
   "codemirror_mode": {
    "name": "ipython",
    "version": 3
   },
   "file_extension": ".py",
   "mimetype": "text/x-python",
   "name": "python",
   "nbconvert_exporter": "python",
   "pygments_lexer": "ipython3",
   "version": "3.11.0"
  },
  "orig_nbformat": 4,
  "vscode": {
   "interpreter": {
    "hash": "5a0019a268f07d254d9507a2e0334038a922a455e7748d5005c7043fb2589f99"
   }
  }
 },
 "nbformat": 4,
 "nbformat_minor": 2
}
