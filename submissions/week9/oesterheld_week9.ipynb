{
 "cells": [
  {
   "attachments": {},
   "cell_type": "markdown",
   "metadata": {},
   "source": [
    "# Exercise Sheet 7\n",
    "\n",
    "Willy Oesterheld (508791)"
   ]
  },
  {
   "cell_type": "code",
   "execution_count": null,
   "metadata": {},
   "outputs": [],
   "source": [
    "import numpy as np\n",
    "import matplotlib.pyplot as plt\n",
    "import scipy as sp\n",
    "import pandas as pd\n"
   ]
  },
  {
   "cell_type": "code",
   "execution_count": null,
   "metadata": {},
   "outputs": [],
   "source": [
    "# pdf\n",
    "def osc_prop(energy, cos_theta, sin2theta=0.9, dm2=2.4e-3):\n",
    "    l = 12e3 * cos_theta # base line - max corresponds to diameter of the Earth 12e3 km\n",
    "    return 1-sin2theta * np.sin(1.27*dm2*l/energy)\n",
    "\n",
    "# code to generate sample data taken from example notebook\n",
    "\n",
    "def atmo_event_rate(energy, cos_theta, sin2theta=0.9, dm2=2.4e-3):\n",
    "    flux = 1e5*energy**-1.7 # the true neutrino flux is steeper, this takes into account \n",
    "                            # neutrino cross-section, which is proportional to E\n",
    "                            # as well as that we are working with logarithmic energy bins    \n",
    "    # two flavor oscillation propability for muon disappearance - see wikipedia \n",
    "    return flux*osc_prop(energy, cos_theta, sin2theta, dm2)\n",
    "\n",
    "def run_experiment(energy, cosdec, sin2theta=0.9, dm2=2.4e-3):\n",
    "    x = np.array(energy.size)\n",
    "    events=np.zeros(energy.size*cosdec.size)\n",
    "    i = 0\n",
    "    for e in energy:\n",
    "        for c in cosdec:\n",
    "            mu = atmo_event_rate(e,c,sin2theta,dm2)\n",
    "            sig = np.sqrt(mu)\n",
    "            event_random = np.random.normal(mu,sig)\n",
    "            events[i] = int(event_random)\n",
    "            i=i+1             \n",
    "    return events"
   ]
  },
  {
   "cell_type": "code",
   "execution_count": null,
   "metadata": {},
   "outputs": [],
   "source": [
    "N = 10\n",
    "\n",
    "# lets generate one experiment, with 10 energy bins and 10 cos(declination) bins\n",
    "cosdec =  np.linspace(0, 1, N) # 10 steps in cos(declination) from 0 to 1 \n",
    "log10_energy = np.linspace(1, 2, N) # 10 steps in log10(energy) from 10 to 100 GeV\n",
    "energy=10**log10_energy\n",
    "\n",
    "# run the experiment \n",
    "events=run_experiment(energy,cosdec)\n",
    "\n",
    "# plot events over angle for each energy\n",
    "i = 0\n",
    "fig, ax = plt.subplots(nrows=N, ncols=1, figsize=(5,N*8/10), sharex=True)\n",
    "fig.subplots_adjust(hspace=0)\n",
    "for e in energy:\n",
    "    x = cosdec\n",
    "    y = events[(N*i):(N*(i+1))]\n",
    "    ax[i].plot(x, y, label=f\"{e}\")\n",
    "    i += 1\n",
    "\n",
    "# plot events over energy for each angle\n",
    "i = 0\n",
    "fig, ax = plt.subplots(nrows=N, ncols=1, figsize=(5,N*8/10), sharex=True)\n",
    "fig.subplots_adjust(hspace=0)\n",
    "for e in energy:\n",
    "    x = energy\n",
    "    y = events[i::N]\n",
    "    ax[i].plot(x, y, label=f\"{e}\")\n",
    "    ax[i].semilogx(base=10)\n",
    "    i += 1\n"
   ]
  },
  {
   "cell_type": "code",
   "execution_count": null,
   "metadata": {},
   "outputs": [],
   "source": [
    "X = np.zeros((N*N,2))\n",
    "for i in range(0,N):\n",
    "    for j in range(0,N):\n",
    "        X[i*N+j,0] = energy[i]\n",
    "        X[i*N+j,1] = cosdec[j]\n",
    "\n",
    "def neg_log_likelyhood(params, X):\n",
    "    sin2theta, dm2 = params\n",
    "    y = atmo_event_rate(energy=X[:,0], cos_theta=X[:,1], sin2theta=sin2theta, dm2=dm2)\n",
    "    return -np.sum(np.log(y))\n",
    "\n",
    "fit = sp.optimize.minimize(neg_log_likelyhood, x0=(0.5, 2e-3), args=X, method='Nelder-Mead')\n",
    "print(fit)\n"
   ]
  }
 ],
 "metadata": {
  "kernelspec": {
   "display_name": "Python 3.11.0 64-bit",
   "language": "python",
   "name": "python3"
  },
  "language_info": {
   "codemirror_mode": {
    "name": "ipython",
    "version": 3
   },
   "file_extension": ".py",
   "mimetype": "text/x-python",
   "name": "python",
   "nbconvert_exporter": "python",
   "pygments_lexer": "ipython3",
   "version": "3.11.0"
  },
  "orig_nbformat": 4,
  "vscode": {
   "interpreter": {
    "hash": "20e40d8fc09a6690434ad602c7eb2d8de15d36ec466bfbfb0de97c7c540d7363"
   }
  }
 },
 "nbformat": 4,
 "nbformat_minor": 2
}
