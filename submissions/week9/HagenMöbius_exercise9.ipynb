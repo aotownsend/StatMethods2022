{
 "cells": [
  {
   "cell_type": "code",
   "execution_count": 1,
   "metadata": {},
   "outputs": [],
   "source": [
    "import pandas as pd\n",
    "import matplotlib.pyplot as plt\n",
    "import numpy as np\n",
    "\n",
    "\n",
    "import scipy \n",
    "import scipy.optimize as so\n",
    "\n",
    "\n",
    "from scipy import odr\n",
    "from uncertainties import unumpy, ufloat"
   ]
  },
  {
   "cell_type": "code",
   "execution_count": 2,
   "metadata": {},
   "outputs": [],
   "source": [
    "dataframe_exercise= pd.read_csv(\"ex9_data.csv\") "
   ]
  },
  {
   "cell_type": "code",
   "execution_count": 3,
   "metadata": {},
   "outputs": [
    {
     "data": {
      "text/html": [
       "<div>\n",
       "<style scoped>\n",
       "    .dataframe tbody tr th:only-of-type {\n",
       "        vertical-align: middle;\n",
       "    }\n",
       "\n",
       "    .dataframe tbody tr th {\n",
       "        vertical-align: top;\n",
       "    }\n",
       "\n",
       "    .dataframe thead th {\n",
       "        text-align: right;\n",
       "    }\n",
       "</style>\n",
       "<table border=\"1\" class=\"dataframe\">\n",
       "  <thead>\n",
       "    <tr style=\"text-align: right;\">\n",
       "      <th></th>\n",
       "      <th>x</th>\n",
       "    </tr>\n",
       "  </thead>\n",
       "  <tbody>\n",
       "    <tr>\n",
       "      <th>0</th>\n",
       "      <td>1.162271</td>\n",
       "    </tr>\n",
       "    <tr>\n",
       "      <th>1</th>\n",
       "      <td>1.142611</td>\n",
       "    </tr>\n",
       "    <tr>\n",
       "      <th>2</th>\n",
       "      <td>1.487702</td>\n",
       "    </tr>\n",
       "    <tr>\n",
       "      <th>3</th>\n",
       "      <td>1.214966</td>\n",
       "    </tr>\n",
       "    <tr>\n",
       "      <th>4</th>\n",
       "      <td>0.378743</td>\n",
       "    </tr>\n",
       "    <tr>\n",
       "      <th>...</th>\n",
       "      <td>...</td>\n",
       "    </tr>\n",
       "    <tr>\n",
       "      <th>599</th>\n",
       "      <td>0.249427</td>\n",
       "    </tr>\n",
       "    <tr>\n",
       "      <th>600</th>\n",
       "      <td>1.052465</td>\n",
       "    </tr>\n",
       "    <tr>\n",
       "      <th>601</th>\n",
       "      <td>1.383870</td>\n",
       "    </tr>\n",
       "    <tr>\n",
       "      <th>602</th>\n",
       "      <td>0.792205</td>\n",
       "    </tr>\n",
       "    <tr>\n",
       "      <th>603</th>\n",
       "      <td>0.052228</td>\n",
       "    </tr>\n",
       "  </tbody>\n",
       "</table>\n",
       "<p>604 rows × 1 columns</p>\n",
       "</div>"
      ],
      "text/plain": [
       "            x\n",
       "0    1.162271\n",
       "1    1.142611\n",
       "2    1.487702\n",
       "3    1.214966\n",
       "4    0.378743\n",
       "..        ...\n",
       "599  0.249427\n",
       "600  1.052465\n",
       "601  1.383870\n",
       "602  0.792205\n",
       "603  0.052228\n",
       "\n",
       "[604 rows x 1 columns]"
      ]
     },
     "execution_count": 3,
     "metadata": {},
     "output_type": "execute_result"
    }
   ],
   "source": [
    "dataframe_exercise"
   ]
  },
  {
   "cell_type": "code",
   "execution_count": 4,
   "metadata": {},
   "outputs": [
    {
     "data": {
      "text/plain": [
       "array([1.1622708 , 1.14261148, 1.48770249, 1.21496573, 0.37874302,\n",
       "       0.62203172, 1.0953066 , 1.79740888, 1.75981583, 1.86911372,\n",
       "       1.01101851, 0.01522954, 0.22897083, 0.98015134, 0.94751544,\n",
       "       0.9171621 , 0.9536214 , 0.78055541, 0.99238395, 0.93266941,\n",
       "       0.87158149, 0.22673927, 1.51594492, 0.68183842, 0.4634497 ,\n",
       "       1.91125515, 0.85968954, 1.17322892, 0.90448532, 1.08096202,\n",
       "       0.83139516, 1.4324792 , 0.42711986, 1.466674  , 1.10117519,\n",
       "       1.09153629, 1.65308797, 1.27073958, 1.77698119, 1.42790263,\n",
       "       0.40242512, 1.11821113, 0.96492786, 1.3668637 , 0.12219591,\n",
       "       1.19114803, 0.77530112, 0.85800701, 1.23900982, 1.47837635,\n",
       "       0.12114132, 1.64125673, 0.53211714, 1.15044652, 0.95048631,\n",
       "       1.95461092, 1.61853954, 1.57732227, 1.80917583, 0.89420001,\n",
       "       0.45600729, 0.21842884, 1.13526166, 1.92828619, 0.93642246,\n",
       "       1.92626855, 1.39621025, 1.37198935, 1.11521587, 1.48525265,\n",
       "       1.61232844, 1.20551894, 1.48201961, 1.18951576, 1.34264618,\n",
       "       0.80665931, 0.25759381, 1.2471717 , 0.67660942, 1.26117517,\n",
       "       0.17929825, 0.68970166, 1.65099961, 0.79615596, 0.97956382,\n",
       "       1.91895265, 1.31682109, 1.53284075, 0.87147838, 1.95993212,\n",
       "       0.56577429, 0.951602  , 0.20358517, 0.86279387, 0.16039652,\n",
       "       0.78868969, 1.95270261, 0.62637772, 0.28188127, 0.82068512,\n",
       "       1.63773879, 1.3359064 , 1.05557314, 1.26911134, 1.46613645,\n",
       "       0.77194665, 0.54302292, 1.77754157, 0.76794433, 1.28940256,\n",
       "       0.3440397 , 0.07736251, 1.57965489, 1.94321088, 1.56774443,\n",
       "       1.29666165, 1.12996886, 1.22638727, 0.63962169, 1.34802784,\n",
       "       0.62187496, 0.73331317, 1.21177326, 1.45776269, 1.66004064,\n",
       "       0.26029096, 1.15100314, 1.37194195, 1.03883808, 1.63168512,\n",
       "       1.91414166, 0.7454925 , 0.63111125, 1.25421492, 0.9010761 ,\n",
       "       1.82282902, 0.67857289, 1.08342277, 0.82621701, 1.48651049,\n",
       "       0.94410489, 0.88851018, 0.97881806, 1.87701735, 0.96867779,\n",
       "       0.74539216, 1.00432712, 1.0551779 , 1.31854066, 1.39712286,\n",
       "       0.63037041, 1.02704837, 1.99732087, 1.91935567, 0.61413556,\n",
       "       0.19922334, 0.92580196, 1.46788834, 1.16302373, 0.8083029 ,\n",
       "       0.36417914, 0.94489745, 1.64876084, 1.52530455, 0.51325583,\n",
       "       1.21208092, 0.95154835, 0.96640657, 0.6818543 , 0.07208482,\n",
       "       0.623871  , 1.62505323, 0.69697383, 1.52074116, 1.03808061,\n",
       "       1.39618496, 1.63586305, 0.53257644, 0.25565744, 1.96847544,\n",
       "       1.2362752 , 0.84035324, 1.67506165, 1.64320582, 1.79846494,\n",
       "       1.49648517, 1.43230732, 1.11453916, 1.06637161, 1.30561877,\n",
       "       1.07209361, 1.01436001, 1.20933892, 0.06521766, 0.48263587,\n",
       "       1.16249494, 0.77644008, 1.98535742, 0.89103978, 1.32804293,\n",
       "       1.24973538, 0.85127034, 0.19607607, 1.42692236, 1.4033421 ,\n",
       "       1.57565809, 0.30486593, 1.38046262, 0.84943984, 1.20256034,\n",
       "       0.73094186, 0.16864616, 0.87425109, 1.03080006, 0.77301305,\n",
       "       1.80855577, 0.08145517, 1.38224075, 0.24455275, 0.45364122,\n",
       "       0.90644429, 0.06614287, 0.72762035, 1.02466127, 1.44518867,\n",
       "       0.69434025, 1.08610698, 0.61645897, 0.42198765, 0.51429943,\n",
       "       0.07165465, 1.30059273, 1.99191576, 1.28588713, 1.66484456,\n",
       "       1.71263484, 1.08792267, 0.95662699, 0.89575994, 0.54831731,\n",
       "       1.31196539, 1.28351204, 1.27770398, 1.04898747, 0.9375778 ,\n",
       "       0.92062788, 0.70771709, 1.44597322, 1.72133714, 1.08546348,\n",
       "       1.18262408, 0.50038494, 0.71745771, 1.48254996, 0.18328051,\n",
       "       0.71135415, 0.19351885, 1.27297165, 0.29628254, 1.63638434,\n",
       "       0.53493119, 0.26457159, 1.97404139, 1.6797122 , 0.37114073,\n",
       "       1.33607449, 0.91558696, 1.30958063, 1.4979463 , 0.8171717 ,\n",
       "       1.91941626, 0.51065352, 0.17491633, 0.96946764, 0.62797011,\n",
       "       0.39593574, 0.77407186, 1.95737085, 1.02452529, 0.77275258,\n",
       "       1.54814897, 0.89617418, 0.88181751, 0.47731697, 1.01833397,\n",
       "       1.08066296, 0.96988853, 0.56600719, 0.01682084, 1.25665272,\n",
       "       1.89722681, 1.69238798, 1.71242072, 1.15413625, 1.8973677 ,\n",
       "       1.38198025, 1.31906119, 0.20909794, 1.37165971, 1.76044225,\n",
       "       0.75927478, 0.93420027, 0.88814974, 1.34222508, 0.97398471,\n",
       "       1.63720196, 1.16500818, 1.15860048, 0.04882387, 1.79294903,\n",
       "       1.97383964, 1.23363804, 1.107126  , 0.49364693, 1.39214431,\n",
       "       1.22359392, 1.50537304, 0.43730482, 0.33965446, 1.2675709 ,\n",
       "       1.32419205, 0.61528565, 0.8606711 , 1.76762766, 1.09217057,\n",
       "       0.43323825, 1.51384288, 1.11089952, 0.45760542, 1.22638245,\n",
       "       0.90876203, 1.08517878, 1.43438751, 0.89565287, 0.9188788 ,\n",
       "       1.82213927, 1.09032537, 0.87682613, 0.10707329, 1.31262887,\n",
       "       0.01697174, 0.71220188, 0.8470552 , 0.53909422, 1.88126453,\n",
       "       1.20958006, 1.84207763, 1.56827587, 0.86590115, 1.49610725,\n",
       "       0.62893137, 1.41580126, 1.31995969, 1.71699906, 0.78750996,\n",
       "       1.60072655, 1.22960478, 0.94130247, 1.05410926, 1.18824198,\n",
       "       1.00126096, 1.97855244, 1.67190719, 1.89791173, 0.03893784,\n",
       "       0.97902258, 1.36119944, 1.36808108, 0.24019995, 0.56637713,\n",
       "       0.58233707, 1.67991244, 0.63342274, 0.68824079, 0.99814181,\n",
       "       0.18883576, 0.09015848, 1.1136063 , 1.33121762, 1.80605402,\n",
       "       0.62116697, 0.59351102, 0.7139895 , 1.25228936, 0.80413425,\n",
       "       0.97398335, 0.04477373, 0.7726678 , 1.57346041, 0.17387495,\n",
       "       1.46779928, 1.10894704, 0.20370387, 0.48017954, 0.68631767,\n",
       "       1.98486266, 0.43661924, 1.65019487, 1.91648523, 0.04823697,\n",
       "       0.77537639, 1.23198972, 0.80820499, 1.57736286, 0.76918819,\n",
       "       1.13649201, 0.90134212, 1.07447354, 1.11654847, 1.00002084,\n",
       "       0.08656654, 0.66196095, 0.39294392, 0.9012956 , 1.93525724,\n",
       "       0.28188167, 1.08043766, 0.93199588, 1.23734534, 1.20153109,\n",
       "       0.90144773, 0.83833795, 1.16729259, 1.44135917, 0.27208736,\n",
       "       1.48122988, 0.75622502, 0.94240972, 0.62960811, 0.7557799 ,\n",
       "       0.26594547, 1.95328157, 0.94641458, 1.9513976 , 1.29679172,\n",
       "       1.38334813, 1.65013874, 0.75767475, 1.14856925, 0.57612665,\n",
       "       1.9185687 , 1.07326198, 0.85933821, 1.46201539, 1.60728873,\n",
       "       1.09933579, 0.01627767, 0.85554791, 1.4105283 , 0.73895305,\n",
       "       1.67922725, 0.4800466 , 1.15646282, 1.58236532, 1.37404776,\n",
       "       0.85468097, 0.69170935, 1.54682405, 0.82524366, 0.70323306,\n",
       "       1.99493782, 0.42016388, 1.64676451, 1.67488648, 0.43944026,\n",
       "       1.07378471, 0.51655389, 1.7230647 , 1.7327837 , 0.70129279,\n",
       "       1.20083912, 0.4816358 , 0.68856799, 0.67621264, 1.75058345,\n",
       "       1.89424236, 0.85664107, 0.80268742, 1.7462567 , 1.15630472,\n",
       "       0.15640927, 0.70505117, 1.38173627, 1.03359263, 0.84791362,\n",
       "       0.28169452, 0.79625673, 0.19965843, 0.9505372 , 1.09645655,\n",
       "       0.34709238, 1.67117617, 0.80931108, 0.34110957, 1.18415886,\n",
       "       1.41971886, 0.58868798, 1.23859504, 0.9224731 , 0.2058478 ,\n",
       "       0.58093042, 0.56893733, 0.4772755 , 0.65905203, 1.08420578,\n",
       "       0.52261599, 0.14600815, 0.41191689, 0.89379884, 0.67951392,\n",
       "       0.10629743, 0.17353576, 0.42725365, 0.70416115, 1.62714775,\n",
       "       0.79126567, 1.79828691, 0.93946682, 1.46615396, 0.75119535,\n",
       "       0.26319579, 0.95464778, 1.30577978, 0.92570332, 1.10326603,\n",
       "       1.04890907, 1.8472474 , 0.19217294, 0.23567899, 1.94015109,\n",
       "       0.96062874, 0.71141308, 0.55390047, 0.19387664, 0.95605044,\n",
       "       0.22803545, 0.78867951, 0.90790234, 1.15300166, 0.28096144,\n",
       "       1.14453224, 0.89680905, 0.17409734, 0.82867763, 0.96397129,\n",
       "       1.34153428, 1.38570919, 0.55686691, 1.6812267 , 1.16218842,\n",
       "       1.20377328, 0.69230434, 1.11819744, 0.79878444, 1.38653576,\n",
       "       0.61086659, 0.94637398, 0.30765634, 0.86180254, 0.88047922,\n",
       "       1.34735623, 0.78891797, 0.23521981, 1.85753995, 0.31411028,\n",
       "       0.68008724, 1.2125296 , 0.88653155, 1.27690436, 1.81767564,\n",
       "       0.65290126, 1.00415393, 1.09486004, 1.2739123 , 1.76625584,\n",
       "       0.2252549 , 1.9521031 , 1.41094582, 1.65034074, 1.11131404,\n",
       "       0.37522737, 0.62766052, 0.12652047, 0.57904803, 1.03566774,\n",
       "       1.63137769, 1.7530726 , 0.13836266, 1.2304425 , 1.19086918,\n",
       "       1.67133358, 0.49225697, 0.72259947, 0.43573429, 1.42643512,\n",
       "       1.29176416, 1.80284517, 0.92843554, 1.15854786, 0.24942706,\n",
       "       1.05246491, 1.3838698 , 0.79220543, 0.05222839])"
      ]
     },
     "execution_count": 4,
     "metadata": {},
     "output_type": "execute_result"
    }
   ],
   "source": [
    "x=dataframe_exercise[\"x\"].to_numpy(dtype=\"float64\")\n",
    "x"
   ]
  },
  {
   "cell_type": "code",
   "execution_count": 5,
   "metadata": {},
   "outputs": [
    {
     "data": {
      "text/plain": [
       "24.576411454889016"
      ]
     },
     "execution_count": 5,
     "metadata": {},
     "output_type": "execute_result"
    }
   ],
   "source": [
    "np.sqrt(len(x))"
   ]
  },
  {
   "cell_type": "markdown",
   "metadata": {},
   "source": [
    "First of all I plot the data as a histogram"
   ]
  },
  {
   "cell_type": "code",
   "execution_count": 6,
   "metadata": {},
   "outputs": [
    {
     "data": {
      "text/plain": [
       "Text(0, 0.5, 'Frequency')"
      ]
     },
     "execution_count": 6,
     "metadata": {},
     "output_type": "execute_result"
    },
    {
     "data": {
      "image/png": "[encoded data removed]",
      "text/plain": [
       "<Figure size 1152x648 with 1 Axes>"
      ]
     },
     "metadata": {
      "needs_background": "light"
     },
     "output_type": "display_data"
    }
   ],
   "source": [
    "bins=np.linspace(0,2, num=25)\n",
    "\n",
    "fig = plt.figure(figsize=(16, 9), dpi=72)\n",
    "plt.hist(x, bins=bins)\n",
    "plt.xlabel(\"x\",fontsize=18)\n",
    "plt.ylabel(\"Frequency\", fontsize=18)"
   ]
  },
  {
   "cell_type": "markdown",
   "metadata": {},
   "source": [
    "2.Now I want to perform an extended maximum likelihood fit. <br>\n",
    "\n",
    "The extended maximum likelihood is defined by \n",
    "\n",
    "$$L=\\frac{\\nu^n}{n!}\\cdot e^{-\\nu}\\cdot \\prod_{i=1}^{n} f(x_i,\\theta)$$\n",
    "\n",
    "$$ln(L)=-\\nu+\\sum_{i=1}^{n} ln(\\nu f(x_i,\\theta))+C$$\n",
    "\n",
    "In our case we have $$f(x)=\\frac{\\nu_s}{\\nu_s+\\nu_B}\\cdot f_s(x)+\\frac{\\nu_B}{\\nu_s+\\nu_B}\\cdot f_B(x)$$\n",
    "\n",
    "The Poissonian distribution in this case is characterized by $$\\nu=\\nu_s+\\nu_B$$\n",
    "\n",
    "Putting these thingsa together into our log-Likelihood then leads to:\n",
    "    \n",
    "$$ln(L)=-\\nu_s-\\nu_B+\\sum_{i=1}^{n} ln(\\nu_s\\cdot f_s(x)+\\nu_B\\cdot f_B(x))+C$$\n",
    "\n",
    "Furthermore we have $$f_s(x)=\\frac{1}{2}$$ and $$\\frac{4}{erf(2\\sqrt{2})\\cdot \\sqrt{2\\pi}}\\cdot exp\\Big[-\\frac{1}{2}\\cdot \\Big(\\frac{x-1}{1/4}\\Big)^2\\Big]$$"
   ]
  },
  {
   "cell_type": "markdown",
   "metadata": {},
   "source": [
    "Now I can write my log-Likelihood function"
   ]
  },
  {
   "cell_type": "code",
   "execution_count": 7,
   "metadata": {},
   "outputs": [],
   "source": [
    "import scipy.special"
   ]
  },
  {
   "cell_type": "code",
   "execution_count": 8,
   "metadata": {},
   "outputs": [],
   "source": [
    "def log_likelihood(nu_s,nu_B,x):\n",
    "    #nu_s, nu_B = params\n",
    "    return -nu_s-nu_B+np.sum(np.log(1/2*nu_B+nu_s*4/(np.sqrt(2*np.pi)*scipy.special.erf(2*np.sqrt(2)))*np.exp(-1/2*((x-1)/(1/4))**2)))"
   ]
  },
  {
   "cell_type": "markdown",
   "metadata": {},
   "source": [
    "3. Now I consider $\\nu_B=420.7$ and I want to obtain $\\nu_s$ by Maximum Likelihood estimation. A Maximization of the Likelihood corresponds to a Minimization of the negative log Likelihood. Therefore I define a new function"
   ]
  },
  {
   "cell_type": "code",
   "execution_count": 9,
   "metadata": {},
   "outputs": [],
   "source": [
    "def neg_log_likelihood(params,x):\n",
    "    nu_s,nu_B = params\n",
    "    return -log_likelihood(nu_s,420.7,x)"
   ]
  },
  {
   "cell_type": "code",
   "execution_count": 10,
   "metadata": {},
   "outputs": [],
   "source": [
    "Optimal= so.minimize(neg_log_likelihood,x0=[1,420.7],args=(x))[\"x\"]"
   ]
  },
  {
   "cell_type": "code",
   "execution_count": 11,
   "metadata": {},
   "outputs": [
    {
     "data": {
      "text/plain": [
       "array([179.30432563, 420.7       ])"
      ]
     },
     "execution_count": 11,
     "metadata": {},
     "output_type": "execute_result"
    }
   ],
   "source": [
    "Optimal"
   ]
  },
  {
   "cell_type": "code",
   "execution_count": 12,
   "metadata": {},
   "outputs": [
    {
     "data": {
      "text/plain": [
       "179.30432563125487"
      ]
     },
     "execution_count": 12,
     "metadata": {},
     "output_type": "execute_result"
    }
   ],
   "source": [
    "nu_s_max=Optimal[0]\n",
    "nu_s_max"
   ]
  },
  {
   "cell_type": "markdown",
   "metadata": {},
   "source": [
    "4. Now I want to plot log(L) as a function of different values of $\\nu_s$ around the just obtained $\\nu_{s_{max}}$"
   ]
  },
  {
   "cell_type": "code",
   "execution_count": 14,
   "metadata": {},
   "outputs": [
    {
     "data": {
      "text/plain": [
       "array([0.00000000e+00, 3.58644516e-02, 7.17289031e-02, ...,\n",
       "       3.58536922e+02, 3.58572787e+02, 3.58608651e+02])"
      ]
     },
     "execution_count": 14,
     "metadata": {},
     "output_type": "execute_result"
    }
   ],
   "source": [
    "nu_s_array=np.linspace(0,2*nu_s_max,10000)\n",
    "nu_s_array"
   ]
  },
  {
   "cell_type": "code",
   "execution_count": 15,
   "metadata": {},
   "outputs": [
    {
     "data": {
      "text/plain": [
       "array([2809.95877726, 2809.99280934, 2810.02682714, ..., 2843.30169083,\n",
       "       2843.29058378, 2843.27947523])"
      ]
     },
     "execution_count": 15,
     "metadata": {},
     "output_type": "execute_result"
    }
   ],
   "source": [
    "log_L_array=np.zeros(0)\n",
    "\n",
    "for i in range(len(nu_s_array)):\n",
    "    log_L=log_likelihood(nu_s_array[i],420.7,x)\n",
    "    \n",
    "    log_L_array=np.append([log_L_array],[log_L])   #Calculate the log_L values for the different nu_s\n",
    "    \n",
    "log_L_array"
   ]
  },
  {
   "cell_type": "code",
   "execution_count": 16,
   "metadata": {},
   "outputs": [
    {
     "data": {
      "text/plain": [
       "(2200, 2900)"
      ]
     },
     "execution_count": 16,
     "metadata": {},
     "output_type": "execute_result"
    },
    {
     "data": {
      "image/png": "[encoded data removed]",
      "text/plain": [
       "<Figure size 1152x648 with 1 Axes>"
      ]
     },
     "metadata": {
      "needs_background": "light"
     },
     "output_type": "display_data"
    }
   ],
   "source": [
    "fig = plt.figure(figsize=(16, 9), dpi=72)\n",
    "plt.vlines(nu_s_max,2200,np.max(log_L_array),\"r\",\"--\",alpha=1,label=r\"$\\nu_{s_{max}}$\")\n",
    "plt.plot(nu_s_array,log_L_array)\n",
    "plt.xlabel(r\"$\\nu_s$\",fontsize=18)\n",
    "plt.ylabel(\"log Likelihood\",fontsize=18)\n",
    "plt.legend(fontsize=18)\n",
    "plt.xlim(0,2*nu_s_max)\n",
    "plt.ylim(2200,2900)"
   ]
  },
  {
   "cell_type": "markdown",
   "metadata": {},
   "source": [
    "Now I want to plot $exp(ln(L(\\nu_s))-ln(L_{max}))$"
   ]
  },
  {
   "cell_type": "code",
   "execution_count": 17,
   "metadata": {},
   "outputs": [
    {
     "data": {
      "text/plain": [
       "Text(0, 0.5, '$exp(ln(L(\\\\nu_s))-ln(L_{max}))$')"
      ]
     },
     "execution_count": 17,
     "metadata": {},
     "output_type": "execute_result"
    },
    {
     "data": {
      "image/png": "[encoded data removed]",
      "text/plain": [
       "<Figure size 1152x648 with 1 Axes>"
      ]
     },
     "metadata": {
      "needs_background": "light"
     },
     "output_type": "display_data"
    }
   ],
   "source": [
    "fig = plt.figure(figsize=(16, 9), dpi=72)\n",
    "plt.vlines(nu_s_max,0,1,\"r\",\"--\",alpha=0.5,label=r\"$\\nu_{s_{max}}$\")\n",
    "plt.plot(nu_s_array,np.exp(log_L_array-log_likelihood(nu_s_max,420.7,x)))\n",
    "plt.xlabel(r\"$\\nu_s$\",fontsize=18)\n",
    "plt.ylabel(r\"$exp(ln(L(\\nu_s))-ln(L_{max}))$\",fontsize=18)"
   ]
  },
  {
   "cell_type": "markdown",
   "metadata": {},
   "source": [
    "5. First of all I generate random values of $\\nu_s$ uniformly distributed around $\\nu_{s_{max}}$"
   ]
  },
  {
   "cell_type": "code",
   "execution_count": 18,
   "metadata": {},
   "outputs": [],
   "source": [
    "rand_array=np.random.uniform(0,2*nu_s_max,10000)"
   ]
  },
  {
   "cell_type": "markdown",
   "metadata": {},
   "source": [
    "Now I want to plot thesNow I want to plot these values weighted by $exp(ln(L(\\nu_s))-ln(L_{max}))$"
   ]
  },
  {
   "cell_type": "markdown",
   "metadata": {},
   "source": [
    "First of all I just plot the random data"
   ]
  },
  {
   "cell_type": "code",
   "execution_count": 19,
   "metadata": {},
   "outputs": [
    {
     "data": {
      "text/plain": [
       "Text(0, 0.5, 'Frequency')"
      ]
     },
     "execution_count": 19,
     "metadata": {},
     "output_type": "execute_result"
    },
    {
     "data": {
      "image/png": "[encoded data removed]",
      "text/plain": [
       "<Figure size 1152x648 with 1 Axes>"
      ]
     },
     "metadata": {
      "needs_background": "light"
     },
     "output_type": "display_data"
    }
   ],
   "source": [
    "bins=np.linspace(0,2*nu_s_max, num=100)\n",
    "\n",
    "fig = plt.figure(figsize=(16, 9), dpi=72)\n",
    "number=plt.hist(rand_array,bins=bins)[0]   #Frequency array\n",
    "\n",
    "plt.xlabel(r\"random $\\nu_s$\",fontsize=18)\n",
    "plt.ylabel(\"Frequency\", fontsize=18)"
   ]
  },
  {
   "cell_type": "code",
   "execution_count": 20,
   "metadata": {},
   "outputs": [
    {
     "data": {
      "text/plain": [
       "array([111., 114., 115., 105.,  92., 104.,  95., 111.,  95., 104., 102.,\n",
       "        89.,  92.,  97., 110.,  88.,  86., 108.,  83., 103., 108., 108.,\n",
       "        91., 114., 101.,  96.,  98.,  92., 100.,  92., 112., 117.,  84.,\n",
       "       106., 102., 100.,  97., 119., 113., 102.,  91.,  98.,  90.,  99.,\n",
       "       110.,  98.,  91., 103.,  98., 103., 112.,  90.,  96., 111.,  93.,\n",
       "        88., 107., 106.,  88., 127.,  85., 100.,  97.,  78., 103.,  94.,\n",
       "        89.,  97.,  99., 117., 110., 115.,  90.,  93., 108., 118.,  94.,\n",
       "       102., 121., 119., 119.,  86., 121.,  88., 111.,  96., 105.,  97.,\n",
       "        96.,  97.,  89.,  99., 110., 115.,  92.,  87., 103.,  92., 113.])"
      ]
     },
     "execution_count": 20,
     "metadata": {},
     "output_type": "execute_result"
    }
   ],
   "source": [
    "number"
   ]
  },
  {
   "cell_type": "markdown",
   "metadata": {},
   "source": [
    "I define the center points of my bins"
   ]
  },
  {
   "cell_type": "code",
   "execution_count": 21,
   "metadata": {},
   "outputs": [
    {
     "data": {
      "text/plain": [
       "array([  1.8111548 ,   5.43346441,   9.05577402,  12.67808363,\n",
       "        16.30039324,  19.92270285,  23.54501246,  27.16732207,\n",
       "        30.78963167,  34.41194128,  38.03425089,  41.6565605 ,\n",
       "        45.27887011,  48.90117972,  52.52348933,  56.14579894,\n",
       "        59.76810854,  63.39041815,  67.01272776,  70.63503737,\n",
       "        74.25734698,  77.87965659,  81.5019662 ,  85.1242758 ,\n",
       "        88.74658541,  92.36889502,  95.99120463,  99.61351424,\n",
       "       103.23582385, 106.85813346, 110.48044307, 114.10275267,\n",
       "       117.72506228, 121.34737189, 124.9696815 , 128.59199111,\n",
       "       132.21430072, 135.83661033, 139.45891994, 143.08122954,\n",
       "       146.70353915, 150.32584876, 153.94815837, 157.57046798,\n",
       "       161.19277759, 164.8150872 , 168.43739681, 172.05970641,\n",
       "       175.68201602, 179.30432563, 182.92663524, 186.54894485,\n",
       "       190.17125446, 193.79356407, 197.41587367, 201.03818328,\n",
       "       204.66049289, 208.2828025 , 211.90511211, 215.52742172,\n",
       "       219.14973133, 222.77204094, 226.39435054, 230.01666015,\n",
       "       233.63896976, 237.26127937, 240.88358898, 244.50589859,\n",
       "       248.1282082 , 251.75051781, 255.37282741, 258.99513702,\n",
       "       262.61744663, 266.23975624, 269.86206585, 273.48437546,\n",
       "       277.10668507, 280.72899468, 284.35130428, 287.97361389,\n",
       "       291.5959235 , 295.21823311, 298.84054272, 302.46285233,\n",
       "       306.08516194, 309.70747154, 313.32978115, 316.95209076,\n",
       "       320.57440037, 324.19670998, 327.81901959, 331.4413292 ,\n",
       "       335.06363881, 338.68594841, 342.30825802, 345.93056763,\n",
       "       349.55287724, 353.17518685, 356.79749646])"
      ]
     },
     "execution_count": 21,
     "metadata": {},
     "output_type": "execute_result"
    }
   ],
   "source": [
    "nu_hist=np.zeros(len(bins)-1)\n",
    "\n",
    "for i in range(len(bins)-1):\n",
    "    nu_hist[i]=np.abs(bins[i]+bins[i+1])/2\n",
    "    \n",
    "\n",
    "nu_hist"
   ]
  },
  {
   "cell_type": "markdown",
   "metadata": {},
   "source": [
    "Now I calculate the log_Likelihood for the nu_hist values"
   ]
  },
  {
   "cell_type": "code",
   "execution_count": 22,
   "metadata": {},
   "outputs": [
    {
     "data": {
      "text/plain": [
       "array([2811.65967868, 2814.9554245 , 2818.11490484, 2821.14393071,\n",
       "       2824.04793306, 2826.83199604, 2829.5008866 , 2832.05908099,\n",
       "       2834.51078847, 2836.85997262, 2839.11037057, 2841.26551032,\n",
       "       2843.32872639, 2845.30317411, 2847.19184246, 2848.99756587,\n",
       "       2850.72303491, 2852.37080611, 2853.94331091, 2855.44286388,\n",
       "       2856.87167023, 2858.23183279, 2859.52535836, 2860.7541636 ,\n",
       "       2861.9200805 , 2863.02486136, 2864.07018348, 2865.05765344,\n",
       "       2865.98881116, 2866.86513355, 2867.68803803, 2868.45888572,\n",
       "       2869.17898446, 2869.84959161, 2870.47191665, 2871.04712369,\n",
       "       2871.57633367, 2872.06062661, 2872.50104354, 2872.89858843,\n",
       "       2873.25422997, 2873.56890321, 2873.84351117, 2874.07892627,\n",
       "       2874.27599177, 2874.43552306, 2874.55830887, 2874.64511252,\n",
       "       2874.69667294, 2874.71370577, 2874.69690433, 2874.64694055,\n",
       "       2874.56446587, 2874.4501121 , 2874.30449216, 2874.1282009 ,\n",
       "       2873.92181577, 2873.68589755, 2873.42099096, 2873.12762529,\n",
       "       2872.80631501, 2872.4575603 , 2872.08184759, 2871.67965008,\n",
       "       2871.25142823, 2870.79763018, 2870.31869227, 2869.81503936,\n",
       "       2869.28708534, 2868.73523342, 2868.15987657, 2867.56139784,\n",
       "       2866.94017067, 2866.29655928, 2865.63091892, 2864.9435962 ,\n",
       "       2864.23492936, 2863.50524853, 2862.75487602, 2861.98412655,\n",
       "       2861.1933075 , 2860.38271911, 2859.55265478, 2858.70340118,\n",
       "       2857.83523853, 2856.94844078, 2856.04327577, 2855.12000545,\n",
       "       2854.17888604, 2853.2201682 , 2852.24409717, 2851.25091297,\n",
       "       2850.24085053, 2849.21413982, 2848.17100602, 2847.11166962,\n",
       "       2846.03634658, 2844.94524847, 2843.83858252])"
      ]
     },
     "execution_count": 22,
     "metadata": {},
     "output_type": "execute_result"
    }
   ],
   "source": [
    "log_L_hist_array=np.zeros(0)\n",
    "\n",
    "for i in range(len(nu_hist)):\n",
    "    log_L_hist=log_likelihood(nu_hist[i],420.7,x)\n",
    "    \n",
    "    log_L_hist_array=np.append([log_L_hist_array],[log_L_hist])\n",
    "    \n",
    "log_L_hist_array"
   ]
  },
  {
   "cell_type": "markdown",
   "metadata": {},
   "source": [
    "I just plot the values I found this way"
   ]
  },
  {
   "cell_type": "code",
   "execution_count": 23,
   "metadata": {},
   "outputs": [
    {
     "data": {
      "text/plain": [
       "[<matplotlib.lines.Line2D at 0x149420fe908>]"
      ]
     },
     "execution_count": 23,
     "metadata": {},
     "output_type": "execute_result"
    },
    {
     "data": {
      "image/png": "[encoded data removed]",
      "text/plain": [
       "<Figure size 432x288 with 1 Axes>"
      ]
     },
     "metadata": {
      "needs_background": "light"
     },
     "output_type": "display_data"
    }
   ],
   "source": [
    "plt.plot(nu_hist,np.exp(log_L_hist_array-log_likelihood(nu_s_max,420.7,x)))"
   ]
  },
  {
   "cell_type": "markdown",
   "metadata": {},
   "source": [
    "Now I want to weight the histogram of the random values"
   ]
  },
  {
   "cell_type": "code",
   "execution_count": 24,
   "metadata": {},
   "outputs": [],
   "source": [
    "height=number*np.exp(log_L_hist_array-log_likelihood(nu_s_max,420.7,x))"
   ]
  },
  {
   "cell_type": "code",
   "execution_count": 25,
   "metadata": {},
   "outputs": [
    {
     "data": {
      "image/png": "[encoded data removed]",
      "text/plain": [
       "<Figure size 1152x648 with 1 Axes>"
      ]
     },
     "metadata": {
      "needs_background": "light"
     },
     "output_type": "display_data"
    }
   ],
   "source": [
    "fig, ax = plt.subplots(figsize=(16, 9), dpi=72)\n",
    "\n",
    "\n",
    "\n",
    "ax.bar(x=bins[:-1], height=height, width=np.diff(bins), align='edge', fc='skyblue', ec='black')\n",
    "plt.ylabel(\"height\",fontsize=18)\n",
    "plt.xlabel(r\"$\\nu_s$\",fontsize=18)\n",
    "plt.show()"
   ]
  },
  {
   "cell_type": "markdown",
   "metadata": {},
   "source": [
    "Now I want to normalize this distribtuion"
   ]
  },
  {
   "cell_type": "code",
   "execution_count": 26,
   "metadata": {},
   "outputs": [],
   "source": [
    "Norm=np.sum(height)*np.diff(bins)"
   ]
  },
  {
   "cell_type": "code",
   "execution_count": 27,
   "metadata": {},
   "outputs": [
    {
     "data": {
      "image/png": "[encoded data removed]",
      "text/plain": [
       "<Figure size 1152x648 with 1 Axes>"
      ]
     },
     "metadata": {
      "needs_background": "light"
     },
     "output_type": "display_data"
    }
   ],
   "source": [
    "fig, ax = plt.subplots(figsize=(16, 9), dpi=72)\n",
    "\n",
    "\n",
    "\n",
    "ax.bar(x=bins[:-1], height=height/(Norm), width=np.diff(bins), align='edge', fc='skyblue', ec='black')\n",
    "\n",
    "plt.ylabel(\"normalized height\",fontsize=18)\n",
    "plt.xlabel(r\"$\\nu_s$\",fontsize=18)\n",
    "plt.show()"
   ]
  },
  {
   "cell_type": "markdown",
   "metadata": {},
   "source": [
    "In that case we have for the integral"
   ]
  },
  {
   "cell_type": "code",
   "execution_count": 28,
   "metadata": {},
   "outputs": [
    {
     "data": {
      "text/plain": [
       "1.0000000000000002"
      ]
     },
     "execution_count": 28,
     "metadata": {},
     "output_type": "execute_result"
    }
   ],
   "source": [
    "np.sum(height/(Norm)*np.diff(bins))"
   ]
  },
  {
   "cell_type": "markdown",
   "metadata": {},
   "source": [
    "So it is normalized to 1\n",
    "\n",
    "It looks like a gaussian distribution."
   ]
  },
  {
   "cell_type": "markdown",
   "metadata": {},
   "source": [
    "6. Now I want to represent this distribution with a gaussian kernel estimator"
   ]
  },
  {
   "cell_type": "markdown",
   "metadata": {},
   "source": [
    "The way I did it here is to take the height and make an array with the same length and then put it at the corresponding nu_s position. A problem is that the height values are not whole numbers so therefore the kernel estimator will only be an approximation"
   ]
  },
  {
   "cell_type": "code",
   "execution_count": 29,
   "metadata": {},
   "outputs": [
    {
     "data": {
      "text/plain": [
       "array([121.34737189, 124.9696815 , 128.59199111, ..., 237.26127937,\n",
       "       240.88358898, 244.50589859])"
      ]
     },
     "execution_count": 29,
     "metadata": {},
     "output_type": "execute_result"
    }
   ],
   "source": [
    "ges_bin=np.zeros(0)\n",
    "\n",
    "for i in range(len(height)):\n",
    "    k=int(np.round(height[i]))\n",
    "    sub_bin=np.ones(k)*nu_hist[i]    #Take the height and make an array with the same length and then put it at the corresponding nu_s position\n",
    "    \n",
    "    ges_bin=np.concatenate((ges_bin, sub_bin), axis=None)\n",
    "    \n",
    "ges_bin"
   ]
  },
  {
   "cell_type": "code",
   "execution_count": 30,
   "metadata": {},
   "outputs": [
    {
     "data": {
      "text/plain": [
       "<matplotlib.axes._subplots.AxesSubplot at 0x14944b79d48>"
      ]
     },
     "execution_count": 30,
     "metadata": {},
     "output_type": "execute_result"
    },
    {
     "data": {
      "image/png": "[encoded data removed]",
      "text/plain": [
       "<Figure size 432x288 with 1 Axes>"
      ]
     },
     "metadata": {
      "needs_background": "light"
     },
     "output_type": "display_data"
    }
   ],
   "source": [
    "import matplotlib.pyplot as plt\n",
    "import numpy as np\n",
    "from scipy.stats import gaussian_kde\n",
    "import seaborn as sns\n",
    "from sklearn.neighbors import KernelDensity\n",
    "\n",
    "sns.kdeplot(ges_bin)"
   ]
  },
  {
   "cell_type": "markdown",
   "metadata": {},
   "source": [
    "Now I plot the kernel estimator with the distribution."
   ]
  },
  {
   "cell_type": "code",
   "execution_count": 31,
   "metadata": {},
   "outputs": [
    {
     "data": {
      "image/png": "[encoded data removed]",
      "text/plain": [
       "<Figure size 1152x648 with 1 Axes>"
      ]
     },
     "metadata": {
      "needs_background": "light"
     },
     "output_type": "display_data"
    }
   ],
   "source": [
    "bins=np.linspace(0,2*nu_s_max, num=100)\n",
    "\n",
    "fig, ax = plt.subplots(figsize=(16, 9), dpi=72)\n",
    "\n",
    "\n",
    "\n",
    "ax.bar(x=bins[:-1], height=height/(Norm), width=np.diff(bins), align='edge', fc='skyblue', ec='black')\n",
    "sns.kdeplot(ges_bin, color=\"r\")\n",
    "\n",
    "plt.ylabel(\"normalized height\",fontsize=18)\n",
    "plt.xlabel(r\"$\\nu_s$\",fontsize=18)\n",
    "\n",
    "plt.show()"
   ]
  },
  {
   "cell_type": "markdown",
   "metadata": {},
   "source": [
    "7.Now we want to repeat the same thing but instead of using a uniform distribution around $\\nu_s$ we will use a gaussian distribution with mean 350 and width 50"
   ]
  },
  {
   "cell_type": "code",
   "execution_count": 53,
   "metadata": {},
   "outputs": [],
   "source": [
    "rand_array=np.random.normal(350,50,10000)"
   ]
  },
  {
   "cell_type": "markdown",
   "metadata": {},
   "source": [
    "Again I plot this random data"
   ]
  },
  {
   "cell_type": "code",
   "execution_count": 54,
   "metadata": {},
   "outputs": [
    {
     "data": {
      "text/plain": [
       "Text(0, 0.5, 'Frequency')"
      ]
     },
     "execution_count": 54,
     "metadata": {},
     "output_type": "execute_result"
    },
    {
     "data": {
      "image/png": "[encoded data removed]",
      "text/plain": [
       "<Figure size 1152x648 with 1 Axes>"
      ]
     },
     "metadata": {
      "needs_background": "light"
     },
     "output_type": "display_data"
    }
   ],
   "source": [
    "bins=np.linspace(0,2*nu_s_max, num=100)\n",
    "\n",
    "fig = plt.figure(figsize=(16, 9), dpi=72)\n",
    "number=plt.hist(rand_array,bins=bins)[0]   #Frequency array\n",
    "\n",
    "plt.xlabel(r\"random $\\nu_s$\",fontsize=18)\n",
    "plt.ylabel(\"Frequency\", fontsize=18)"
   ]
  },
  {
   "cell_type": "markdown",
   "metadata": {},
   "source": [
    "Now I basically repeat the things I did before\n"
   ]
  },
  {
   "cell_type": "code",
   "execution_count": 55,
   "metadata": {},
   "outputs": [
    {
     "data": {
      "image/png": "[encoded data removed]",
      "text/plain": [
       "<Figure size 1152x648 with 1 Axes>"
      ]
     },
     "metadata": {
      "needs_background": "light"
     },
     "output_type": "display_data"
    }
   ],
   "source": [
    "nu_hist=np.zeros(len(bins)-1)\n",
    "\n",
    "for i in range(len(bins)-1):\n",
    "    nu_hist[i]=np.abs(bins[i]+bins[i+1])/2\n",
    "    \n",
    "\n",
    "#nu_hist\n",
    "\n",
    "log_L_hist_array=np.zeros(0)\n",
    "\n",
    "for i in range(len(nu_hist)):\n",
    "    log_L_hist=log_likelihood(nu_hist[i],420.7,x)\n",
    "    \n",
    "    log_L_hist_array=np.append([log_L_hist_array],[log_L_hist])\n",
    "    \n",
    "#log_L_hist_array\n",
    "\n",
    "height=number*np.exp(log_L_hist_array-log_likelihood(nu_s_max,420.7,x))\n",
    "\n",
    "\n",
    "Norm=np.sum(height)*np.diff(bins)\n",
    "\n",
    "\n",
    "fig, ax = plt.subplots(figsize=(16, 9), dpi=72)\n",
    "\n",
    "\n",
    "\n",
    "ax.bar(x=bins[:-1], height=height/(Norm), width=np.diff(bins), align='edge', fc='skyblue', ec='black')\n",
    "\n",
    "plt.ylabel(\"normalized height\",fontsize=18)\n",
    "plt.xlabel(r\"$\\nu_s$\",fontsize=18)\n",
    "plt.show()"
   ]
  },
  {
   "cell_type": "code",
   "execution_count": 56,
   "metadata": {},
   "outputs": [
    {
     "data": {
      "image/png": "[encoded data removed]",
      "text/plain": [
       "<Figure size 1152x648 with 1 Axes>"
      ]
     },
     "metadata": {
      "needs_background": "light"
     },
     "output_type": "display_data"
    }
   ],
   "source": [
    "ges_bin=np.zeros(0)\n",
    "\n",
    "for i in range(len(height)):\n",
    "    k=int(np.round(height[i]))\n",
    "    sub_bin=np.ones(k)*nu_hist[i]    #Take the height and make an array with the same length and then put it at the corresponding nu_s position\n",
    "    \n",
    "    ges_bin=np.concatenate((ges_bin, sub_bin), axis=None)\n",
    "    \n",
    "#ges_bin\n",
    "\n",
    "bins=np.linspace(0,2*nu_s_max, num=100)\n",
    "\n",
    "fig, ax = plt.subplots(figsize=(16, 9), dpi=72)\n",
    "\n",
    "\n",
    "\n",
    "ax.bar(x=bins[:-1], height=height/(Norm), width=np.diff(bins), align='edge', fc='skyblue', ec='black')\n",
    "sns.kdeplot(ges_bin, color=\"r\")\n",
    "\n",
    "plt.ylabel(\"normalized height\",fontsize=18)\n",
    "plt.xlabel(r\"$\\nu_s$\",fontsize=18)\n",
    "\n",
    "plt.show()"
   ]
  },
  {
   "cell_type": "markdown",
   "metadata": {},
   "source": [
    "The distribution now looks rather different."
   ]
  },
  {
   "cell_type": "markdown",
   "metadata": {},
   "source": [
    "8. Now I want to look at the 2D case. Therefore I redefine my Likelihood function"
   ]
  },
  {
   "cell_type": "code",
   "execution_count": 57,
   "metadata": {},
   "outputs": [],
   "source": [
    "def log_likelihood(nu_s,nu_B,x):\n",
    "    #nu_s, nu_B = params\n",
    "    return -nu_s-nu_B+np.sum(np.log(1/2*nu_B+nu_s*4/(np.sqrt(2*np.pi)*scipy.special.erf(2*np.sqrt(2)))*np.exp(-1/2*((x-1)/(1/4))**2)))\n",
    "    "
   ]
  },
  {
   "cell_type": "code",
   "execution_count": 58,
   "metadata": {},
   "outputs": [],
   "source": [
    "def neg_log_likelihood(params,x):\n",
    "    nu_s,nu_B = params\n",
    "    return -log_likelihood(nu_s,nu_B,x)"
   ]
  },
  {
   "cell_type": "code",
   "execution_count": 59,
   "metadata": {},
   "outputs": [
    {
     "data": {
      "text/plain": [
       "array([175.40337056, 428.59349645])"
      ]
     },
     "execution_count": 59,
     "metadata": {},
     "output_type": "execute_result"
    }
   ],
   "source": [
    "Optimal= so.minimize(neg_log_likelihood,x0=[1,420.7],args=(x))[\"x\"]\n",
    "Optimal"
   ]
  },
  {
   "cell_type": "code",
   "execution_count": 60,
   "metadata": {},
   "outputs": [
    {
     "data": {
      "text/plain": [
       "175.40337056142045"
      ]
     },
     "execution_count": 60,
     "metadata": {},
     "output_type": "execute_result"
    }
   ],
   "source": [
    "nu_s_max=Optimal[0]\n",
    "nu_s_max"
   ]
  },
  {
   "cell_type": "code",
   "execution_count": 61,
   "metadata": {},
   "outputs": [
    {
     "data": {
      "text/plain": [
       "428.5934964482858"
      ]
     },
     "execution_count": 61,
     "metadata": {},
     "output_type": "execute_result"
    }
   ],
   "source": [
    "nu_B_max=Optimal[1]\n",
    "nu_B_max"
   ]
  },
  {
   "cell_type": "code",
   "execution_count": null,
   "metadata": {},
   "outputs": [],
   "source": []
  },
  {
   "cell_type": "code",
   "execution_count": null,
   "metadata": {},
   "outputs": [],
   "source": []
  },
  {
   "cell_type": "code",
   "execution_count": null,
   "metadata": {},
   "outputs": [],
   "source": []
  }
 ],
 "metadata": {
  "kernelspec": {
   "display_name": "Python 3",
   "language": "python",
   "name": "python3"
  },
  "language_info": {
   "codemirror_mode": {
    "name": "ipython",
    "version": 3
   },
   "file_extension": ".py",
   "mimetype": "text/x-python",
   "name": "python",
   "nbconvert_exporter": "python",
   "pygments_lexer": "ipython3",
   "version": "3.7.6"
  }
 },
 "nbformat": 4,
 "nbformat_minor": 4
}
