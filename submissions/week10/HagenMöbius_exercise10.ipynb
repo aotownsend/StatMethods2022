{
 "cells": [
  {
   "cell_type": "code",
   "execution_count": 8,
   "metadata": {},
   "outputs": [],
   "source": [
    "import pandas as pd\n",
    "import matplotlib.pyplot as plt\n",
    "import numpy as np\n",
    "\n",
    "\n",
    "import scipy \n",
    "import scipy.optimize as so\n",
    "import scipy.stats\n",
    "\n",
    "\n",
    "from scipy import odr\n",
    "from uncertainties import unumpy, ufloat"
   ]
  },
  {
   "cell_type": "markdown",
   "metadata": {},
   "source": [
    "First of all we want to find the confidence interval for a given expectation value."
   ]
  },
  {
   "cell_type": "markdown",
   "metadata": {},
   "source": [
    "In the lecture we have seen for an upper bound, which is defined in way that for 10% of the possible values x we have x>x_m, it holds : $$ \\int_{x_m}^{\\infty} p(x) \\,dx=0.10 $$ <br>\n",
    "Similarly we found for a lower bound where 10% of the values x have x<x_m: $$ \\int_{-\\infty}^{x_m} p(x) \\,dx=0.10 $$ <br>\n",
    "If we want 10% outside a certain interval we have to calculate:\n",
    "\n",
    "$$ \\int_{x_2}^{\\infty} p(x) \\,dx=0.05 $$ <br>\n",
    "$$ \\int_{-\\infty}^{x_1} p(x) \\,dx=0.05 $$ <br>"
   ]
  },
  {
   "cell_type": "markdown",
   "metadata": {},
   "source": [
    "That is what we want to calculate now for the poisson distribution for multiple $\\lambda$"
   ]
  },
  {
   "cell_type": "markdown",
   "metadata": {},
   "source": [
    "This means $$p(n,\\lambda)=\\lambda^n \\cdot e^{-\\lambda}\\cdot \\frac{1}{n!}$$"
   ]
  },
  {
   "cell_type": "markdown",
   "metadata": {},
   "source": [
    "I) If we want 10% above n we search for the n value where the CDF hits 0.9"
   ]
  },
  {
   "cell_type": "code",
   "execution_count": 4,
   "metadata": {},
   "outputs": [],
   "source": [
    "x=np.arange(0,100,1)"
   ]
  },
  {
   "cell_type": "code",
   "execution_count": 6,
   "metadata": {},
   "outputs": [],
   "source": [
    "def upperbound(x,lamda):\n",
    "    upperbound=np.argmin(np.abs(scipy.stats.poisson.cdf(x,lamda)-0.9))+1   #n for which the cdf comes closest to 0.9, the +1 is there because the python index starts at 0\n",
    "    return upperbound"
   ]
  },
  {
   "cell_type": "code",
   "execution_count": 9,
   "metadata": {},
   "outputs": [
    {
     "name": "stdout",
     "output_type": "stream",
     "text": [
      "lambda = 1 upperbound= 3\n",
      "lambda = 2 upperbound= 4\n",
      "lambda = 3 upperbound= 6\n",
      "lambda = 4 upperbound= 7\n",
      "lambda = 5 upperbound= 9\n",
      "lambda = 6 upperbound= 10\n",
      "lambda = 7 upperbound= 11\n",
      "lambda = 8 upperbound= 12\n",
      "lambda = 9 upperbound= 13\n",
      "lambda = 10 upperbound= 15\n",
      "lambda = 11 upperbound= 16\n",
      "lambda = 12 upperbound= 17\n"
     ]
    }
   ],
   "source": [
    "for i in range(1,13,1):\n",
    "    print(\"lambda =\", i, \"upperbound=\", upperbound(x,i))"
   ]
  },
  {
   "cell_type": "markdown",
   "metadata": {},
   "source": [
    "Similarly we can search for the lower bounds by searching for the point where the cdf hits 0.1"
   ]
  },
  {
   "cell_type": "code",
   "execution_count": 10,
   "metadata": {},
   "outputs": [],
   "source": [
    "def lowerbound(x,lamda):\n",
    "    lowerbound=np.argmin(np.abs(scipy.stats.poisson.cdf(x,lamda)-0.1))+1   #n for which the cdf comes closest to 0.1, the +1 is there because the python index starts at 0\n",
    "    return lowerbound"
   ]
  },
  {
   "cell_type": "code",
   "execution_count": 11,
   "metadata": {},
   "outputs": [
    {
     "name": "stdout",
     "output_type": "stream",
     "text": [
      "lambda = 1 lowerbound= 1\n",
      "lambda = 2 lowerbound= 1\n",
      "lambda = 3 lowerbound= 1\n",
      "lambda = 4 lowerbound= 2\n",
      "lambda = 5 lowerbound= 3\n",
      "lambda = 6 lowerbound= 3\n",
      "lambda = 7 lowerbound= 4\n",
      "lambda = 8 lowerbound= 5\n",
      "lambda = 9 lowerbound= 6\n",
      "lambda = 10 lowerbound= 7\n",
      "lambda = 11 lowerbound= 7\n",
      "lambda = 12 lowerbound= 8\n"
     ]
    }
   ],
   "source": [
    "for i in range(1,13,1):\n",
    "    print(\"lambda =\", i, \"lowerbound=\", lowerbound(x,i))"
   ]
  },
  {
   "cell_type": "markdown",
   "metadata": {},
   "source": [
    "Now we want to have 5% below our interval and 5% above our interval. So I can use a combination of both functions from above."
   ]
  },
  {
   "cell_type": "code",
   "execution_count": 12,
   "metadata": {},
   "outputs": [],
   "source": [
    "def upperbound2(x,lamda):\n",
    "    upperbound=np.argmin(np.abs(scipy.stats.poisson.cdf(x,lamda)-0.95))+1   #n for which the cdf comes closest to 0.95, the +1 is there because the python index starts at 0\n",
    "    return upperbound\n",
    "\n",
    "def lowerbound2(x,lamda):\n",
    "    lowerbound=np.argmin(np.abs(scipy.stats.poisson.cdf(x,lamda)-0.05))+1   #n for which the cdf comes closest to 0.05, the +1 is there because the python index starts at 0\n",
    "    return lowerbound"
   ]
  },
  {
   "cell_type": "code",
   "execution_count": 14,
   "metadata": {},
   "outputs": [
    {
     "name": "stdout",
     "output_type": "stream",
     "text": [
      "lambda = 1 n= 1 n'= 3\n",
      "lambda = 2 n= 1 n'= 5\n",
      "lambda = 3 n= 1 n'= 7\n",
      "lambda = 4 n= 1 n'= 8\n",
      "lambda = 5 n= 2 n'= 9\n",
      "lambda = 6 n= 3 n'= 11\n",
      "lambda = 7 n= 3 n'= 12\n",
      "lambda = 8 n= 4 n'= 13\n",
      "lambda = 9 n= 5 n'= 15\n",
      "lambda = 10 n= 6 n'= 16\n",
      "lambda = 11 n= 6 n'= 17\n",
      "lambda = 12 n= 7 n'= 19\n"
     ]
    }
   ],
   "source": [
    "for i in range(1,13,1):\n",
    "    print(\"lambda =\", i, \"n=\", lowerbound2(x,i), \"n'=\", upperbound2(x,i))"
   ]
  },
  {
   "cell_type": "markdown",
   "metadata": {},
   "source": [
    "2) Now we want to find the confidence interval given a measured value. We want to find the confidence interval at 90% confidence level."
   ]
  },
  {
   "cell_type": "markdown",
   "metadata": {},
   "source": [
    "In the lecture we have seen for an upper bound $b$ of a poisson distribution $$\\beta=\\sum_{n=0}^{n_{obs}} \\frac{b^{n}}{n!}\\cdot e^{-b}$$ asnd for a lower bound $a$ of  a poisson distribution $$\\alpha=1-\\sum_{n=0}^{n_{obs}-1} \\frac{a^{n}}{n!}\\cdot e^{-a}$$ "
   ]
  },
  {
   "cell_type": "markdown",
   "metadata": {},
   "source": [
    "To get the upper bound at 90% confidence level we need $\\beta=0.1$ and then we can solve the equation for b numerically."
   ]
  },
  {
   "cell_type": "code",
   "execution_count": 17,
   "metadata": {},
   "outputs": [],
   "source": [
    "def beta(b,n_obs):\n",
    "    n_sum=0\n",
    "    for n in range(0,n_obs+1):\n",
    "        n_sub=b**n/scipy.special.factorial(n)*np.exp(-b)\n",
    "        n_sum=n_sum+n_sub\n",
    "        \n",
    "    return n_sum"
   ]
  },
  {
   "cell_type": "code",
   "execution_count": 21,
   "metadata": {},
   "outputs": [],
   "source": [
    "def upperbound_lamda(b,n_obs):\n",
    "    return beta(b,n_obs)-0.1"
   ]
  },
  {
   "cell_type": "code",
   "execution_count": 30,
   "metadata": {},
   "outputs": [
    {
     "name": "stdout",
     "output_type": "stream",
     "text": [
      "n= 0 lamda_upperbound= 2.3025850929940455\n",
      "n= 1 lamda_upperbound= 3.889720169867429\n",
      "n= 2 lamda_upperbound= 5.322320337834154\n",
      "n= 3 lamda_upperbound= 6.680783068255857\n",
      "n= 4 lamda_upperbound= 7.993589586052629\n",
      "n= 5 lamda_upperbound= 9.27467389335162\n",
      "n= 6 lamda_upperbound= 10.532072106498529\n",
      "n= 7 lamda_upperbound= 11.770914461548056\n",
      "n= 8 lamda_upperbound= 12.994711541318605\n",
      "n= 9 lamda_upperbound= 14.205990292152816\n",
      "n= 10 lamda_upperbound= 15.406641171976517\n",
      "n= 11 lamda_upperbound= 16.598122144314086\n",
      "n= 12 lamda_upperbound= 17.78158563596173\n"
     ]
    }
   ],
   "source": [
    "for n_obs in np.arange(0,13,1):\n",
    "    print(\"n=\", n_obs, \"lamda_upperbound=\", scipy.optimize.root(upperbound_lamda,args=((n_obs)),x0=n_obs).x[0])"
   ]
  },
  {
   "cell_type": "markdown",
   "metadata": {},
   "source": [
    "Similarly we can calculate the lower bound"
   ]
  },
  {
   "cell_type": "code",
   "execution_count": 34,
   "metadata": {},
   "outputs": [],
   "source": [
    "def alpha(a,n_obs):\n",
    "    n_sum=0\n",
    "    for n in range(0,n_obs):\n",
    "        n_sub=a**n/scipy.special.factorial(n)*np.exp(-a)\n",
    "        n_sum=n_sum+n_sub\n",
    "        \n",
    "    return 1-n_sum"
   ]
  },
  {
   "cell_type": "code",
   "execution_count": 35,
   "metadata": {},
   "outputs": [],
   "source": [
    "def lowerbound_lamda(a,n_obs):\n",
    "    return alpha(a,n_obs)-0.1"
   ]
  },
  {
   "cell_type": "code",
   "execution_count": 36,
   "metadata": {},
   "outputs": [
    {
     "name": "stdout",
     "output_type": "stream",
     "text": [
      "n= 0 lamda_lowerbound= 0.0\n",
      "n= 1 lamda_lowerbound= 0.10536051565782632\n",
      "n= 2 lamda_lowerbound= 0.5318116083896118\n",
      "n= 3 lamda_lowerbound= 1.1020653282493216\n",
      "n= 4 lamda_lowerbound= 1.7447695628249114\n",
      "n= 5 lamda_lowerbound= 2.4325910259626653\n",
      "n= 6 lamda_lowerbound= 3.151898029792162\n",
      "n= 7 lamda_lowerbound= 3.894766804876186\n",
      "n= 8 lamda_lowerbound= 4.656118176898029\n",
      "n= 9 lamda_lowerbound= 5.432468058254662\n",
      "n= 10 lamda_lowerbound= 6.221304605225033\n",
      "n= 11 lamda_lowerbound= 7.0207465947109835\n",
      "n= 12 lamda_lowerbound= 7.829342026256413\n"
     ]
    }
   ],
   "source": [
    "for n_obs in np.arange(0,13,1):\n",
    "    print(\"n=\", n_obs, \"lamda_lowerbound=\", scipy.optimize.root(lowerbound_lamda,args=((n_obs)),x0=n_obs).x[0])"
   ]
  },
  {
   "cell_type": "markdown",
   "metadata": {},
   "source": [
    "For central confidence intervals we need $\\beta=0.05$ and $\\alpha=0.05$. For this I just redefine my functions a little bit."
   ]
  },
  {
   "cell_type": "code",
   "execution_count": 37,
   "metadata": {},
   "outputs": [],
   "source": [
    "def upperbound_lamda(b,n_obs):\n",
    "    return beta(b,n_obs)-0.05\n",
    "\n",
    "def lowerbound_lamda(a,n_obs):\n",
    "    return alpha(a,n_obs)-0.05\n"
   ]
  },
  {
   "cell_type": "code",
   "execution_count": 39,
   "metadata": {},
   "outputs": [
    {
     "name": "stdout",
     "output_type": "stream",
     "text": [
      "n= 0 Central CIs at 90%= [0.0, 2.995732273553991]\n",
      "n= 1 Central CIs at 90%= [0.05129329438755059, 4.743864518390578]\n",
      "n= 2 Central CIs at 90%= [0.3553615106986622, 6.295793621871835]\n",
      "n= 3 Central CIs at 90%= [0.8176914471639415, 7.753656527932705]\n",
      "n= 4 Central CIs at 90%= [1.3663183967498316, 9.153519026637568]\n",
      "n= 5 Central CIs at 90%= [1.9701495680595298, 10.513034908741531]\n",
      "n= 6 Central CIs at 90%= [2.61301474419632, 11.842395652420288]\n",
      "n= 7 Central CIs at 90%= [3.2853156918947026, 13.14811380243212]\n",
      "n= 8 Central CIs at 90%= [3.98082278618951, 14.434649715196317]\n",
      "n= 9 Central CIs at 90%= [4.69522754034449, 15.705216422115463]\n",
      "n= 10 Central CIs at 90%= [5.425405697091292, 16.9622192357219]\n",
      "n= 11 Central CIs at 90%= [6.169007289395323, 18.207514250903657]\n",
      "n= 12 Central CIs at 90%= [6.924212513585108, 19.44256932991502]\n"
     ]
    }
   ],
   "source": [
    "for n_obs in np.arange(0,13,1):\n",
    "    print(\"n=\", n_obs, \"Central CIs at 90%=\", [scipy.optimize.root(lowerbound_lamda,args=((n_obs)),x0=n_obs).x[0],scipy.optimize.root(upperbound_lamda,args=((n_obs)),x0=n_obs).x[0]])"
   ]
  },
  {
   "cell_type": "markdown",
   "metadata": {},
   "source": [
    "2) Now we consider a poisson distribution which consists of signal and a background poisson distribution $$\\frac{(\\lambda_S+\\lambda_B)^{n}}{n!}\\cdot e^{-(\\lambda_S+\\lambda_B)}$$"
   ]
  },
  {
   "cell_type": "markdown",
   "metadata": {},
   "source": [
    "Now wwe have observed n_obs=5 events. Furthermore we know $\\lambda_B=1.8$ for the background. We now want to calculate the probability to see such a number of n_obs only from the background."
   ]
  },
  {
   "cell_type": "markdown",
   "metadata": {},
   "source": [
    "The probability to observe 5 or more evnts from the background can be calculated by $$p(n\\geq n_{obs})=1-\\sum_{n=0}^{n_{obs}-1} \\frac{\\lambda_{B}^{n}}{n!}\\cdot e^{-\\lambda_B}$$ "
   ]
  },
  {
   "cell_type": "code",
   "execution_count": 41,
   "metadata": {},
   "outputs": [
    {
     "data": {
      "text/plain": [
       "0.03640666100108336"
      ]
     },
     "execution_count": 41,
     "metadata": {},
     "output_type": "execute_result"
    }
   ],
   "source": [
    "\n",
    "lamdaB=1.8\n",
    "n_obs=5\n",
    "\n",
    "n_sum=0\n",
    "for n in range(0,n_obs):\n",
    "    n_sub=lamdaB**n/scipy.special.factorial(n)*np.exp(-lamdaB)\n",
    "    n_sum=n_sum+n_sub\n",
    "    \n",
    "    \n",
    "1-n_sum"
   ]
  },
  {
   "cell_type": "markdown",
   "metadata": {},
   "source": [
    "The probability to observe 5 or more events from the background is only 0.0364. But this is not enough to establish a signal at 3 sigma significance since for that we would need p=1-0.997=0.003 as probability."
   ]
  },
  {
   "cell_type": "code",
   "execution_count": null,
   "metadata": {},
   "outputs": [],
   "source": [
    "\n"
   ]
  },
  {
   "cell_type": "code",
   "execution_count": null,
   "metadata": {},
   "outputs": [],
   "source": []
  },
  {
   "cell_type": "code",
   "execution_count": null,
   "metadata": {},
   "outputs": [],
   "source": []
  },
  {
   "cell_type": "markdown",
   "metadata": {},
   "source": [
    "2) Now we want to find an upper bound for $\\lambda_S$ such that the probability to observe n_obs=5 or less reaches 5% when one assumes a poisson distribution with $\\lambda=\\lambda_{s_{max}}+\\lambda_B$"
   ]
  },
  {
   "cell_type": "markdown",
   "metadata": {},
   "source": [
    "This means we have $$\\beta=0.05=\\sum_{n=0}^{n_{obs}} \\frac{(b+\\lambda_{B})^{n}}{n!}\\cdot e^{-(b+\\lambda_B)}$$ with b our upper bound"
   ]
  },
  {
   "cell_type": "markdown",
   "metadata": {},
   "source": [
    "I should be able to solve this in the same way as in exercise 1 part 2, so I did it in this way here. I am not sure how we are supposed to do the interval search here."
   ]
  },
  {
   "cell_type": "markdown",
   "metadata": {},
   "source": [
    "So I can define a function similarly to exercise 1"
   ]
  },
  {
   "cell_type": "code",
   "execution_count": 42,
   "metadata": {},
   "outputs": [],
   "source": [
    "def beta2(b,n_obs):\n",
    "    n_sum=0\n",
    "    lamda_B=1.8\n",
    "    for n in range(0,n_obs+1):\n",
    "        n_sub=(b+lamda_B)**n/scipy.special.factorial(n)*np.exp(-(lamda_B+b))\n",
    "        n_sum=n_sum+n_sub\n",
    "        \n",
    "    return n_sum"
   ]
  },
  {
   "cell_type": "code",
   "execution_count": 43,
   "metadata": {},
   "outputs": [],
   "source": [
    "def upperbound_lamda_s(b,n_obs):\n",
    "    return beta2(b,n_obs)-0.05"
   ]
  },
  {
   "cell_type": "code",
   "execution_count": 44,
   "metadata": {},
   "outputs": [
    {
     "data": {
      "text/plain": [
       "8.713034908741532"
      ]
     },
     "execution_count": 44,
     "metadata": {},
     "output_type": "execute_result"
    }
   ],
   "source": [
    "scipy.optimize.root(upperbound_lamda_s,args=((5)),x0=5).x[0]"
   ]
  },
  {
   "cell_type": "markdown",
   "metadata": {},
   "source": [
    "The upper limit for $\\lambda_S$ seems to be 8.713 to observe 5 events at a confidence level of 95%"
   ]
  },
  {
   "cell_type": "code",
   "execution_count": null,
   "metadata": {},
   "outputs": [],
   "source": []
  },
  {
   "cell_type": "code",
   "execution_count": null,
   "metadata": {},
   "outputs": [],
   "source": []
  },
  {
   "cell_type": "markdown",
   "metadata": {},
   "source": [
    "3) Now I want to confirm this value by using Monte Carlo methods. I will draw a random number from a poisson distribution with $\\lambda=\\lambda_B+\\lambda_{S_{max}}$ and then count the number of experiments i which this random number is less or equal to n_obs=5"
   ]
  },
  {
   "cell_type": "code",
   "execution_count": 76,
   "metadata": {},
   "outputs": [
    {
     "name": "stdout",
     "output_type": "stream",
     "text": [
      "500.206\n",
      "0.0500206\n"
     ]
    }
   ],
   "source": [
    "# Note: lamda=lamda_B+lamda_s_max=8.713+1.8\n",
    "\n",
    "\n",
    "count_array=np.zeros(0)\n",
    "iterations=1000       #repeat the generation of 10000 values 1000 times\n",
    "\n",
    "for j in range(iterations):\n",
    "    \n",
    "    count=0\n",
    "    \n",
    "    Lamda_array=np.random.poisson(8.713+1.8,10000)   #generate 10000 values and see how many are below n_obs=5\n",
    "    for i in range(len(Lamda_array)):\n",
    "        if Lamda_array[i]<=5:\n",
    "            count+=1\n",
    "        \n",
    "    count_array=np.append([count_array],[count])    \n",
    "\n",
    "print(np.mean(count_array))                                #mean number of how many random number where equal or below n_obs=5\n",
    "print(np.mean(count_array/len(Lamda_array)))               #corresponding probability to get n_obs<=5"
   ]
  },
  {
   "cell_type": "markdown",
   "metadata": {},
   "source": [
    "The probability is actually roughly 5%."
   ]
  },
  {
   "cell_type": "code",
   "execution_count": null,
   "metadata": {},
   "outputs": [],
   "source": []
  }
 ],
 "metadata": {
  "kernelspec": {
   "display_name": "Python 3",
   "language": "python",
   "name": "python3"
  },
  "language_info": {
   "codemirror_mode": {
    "name": "ipython",
    "version": 3
   },
   "file_extension": ".py",
   "mimetype": "text/x-python",
   "name": "python",
   "nbconvert_exporter": "python",
   "pygments_lexer": "ipython3",
   "version": "3.7.6"
  }
 },
 "nbformat": 4,
 "nbformat_minor": 4
}
