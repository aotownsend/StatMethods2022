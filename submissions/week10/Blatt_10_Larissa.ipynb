{
 "cells": [
  {
   "cell_type": "code",
   "execution_count": 8,
   "metadata": {},
   "outputs": [],
   "source": [
    "import numpy as np\n",
    "from scipy import stats"
   ]
  },
  {
   "attachments": {},
   "cell_type": "markdown",
   "metadata": {},
   "source": [
    "# A"
   ]
  },
  {
   "attachments": {},
   "cell_type": "markdown",
   "metadata": {},
   "source": [
    "### 1."
   ]
  },
  {
   "cell_type": "code",
   "execution_count": 9,
   "metadata": {},
   "outputs": [
    {
     "name": "stdout",
     "output_type": "stream",
     "text": [
      "mean = 1   above = 2   below = 0   above-below = 2\n",
      "mean = 2   above = 4   below = 0   above-below = 4\n",
      "mean = 3   above = 5   below = 1   above-below = 4\n",
      "mean = 4   above = 7   below = 2   above-below = 5\n",
      "mean = 5   above = 8   below = 2   above-below = 6\n",
      "mean = 6   above = 9   below = 3   above-below = 6\n",
      "mean = 7   above = 10   below = 4   above-below = 6\n",
      "mean = 8   above = 12   below = 5   above-below = 7\n",
      "mean = 9   above = 13   below = 5   above-below = 8\n",
      "mean = 10   above = 14   below = 6   above-below = 8\n",
      "mean = 11   above = 15   below = 7   above-below = 8\n",
      "mean = 12   above = 17   below = 8   above-below = 9\n"
     ]
    }
   ],
   "source": [
    "x = np.arange(0,50)\n",
    "for lambd in np.arange(1, 13):\n",
    "    prob = stats.poisson.cdf(x, lambd)\n",
    "    above  = x[np.argmin(prob<0.9)]\n",
    "    below = x[np.argmin(prob<0.1)]\n",
    "    print('mean =', lambd, '  above =', above, '  below =', below, '  above-below =', above - below)"
   ]
  },
  {
   "attachments": {},
   "cell_type": "markdown",
   "metadata": {},
   "source": [
    "### 2."
   ]
  },
  {
   "cell_type": "code",
   "execution_count": 10,
   "metadata": {},
   "outputs": [
    {
     "name": "stdout",
     "output_type": "stream",
     "text": [
      "n = 1   upper = 3.89   lower = 0.54   upper-lower = 3.35\n",
      "n = 2   upper = 5.33   lower = 1.11   upper-lower = 4.22\n",
      "n = 3   upper = 6.69   lower = 1.75   upper-lower = 4.94\n",
      "n = 4   upper = 8.0   lower = 2.44   upper-lower = 5.56\n",
      "n = 5   upper = 9.28   lower = 3.16   upper-lower = 6.12\n",
      "n = 6   upper = 10.54   lower = 3.9   upper-lower = 6.64\n",
      "n = 7   upper = 11.78   lower = 4.66   upper-lower = 7.12\n",
      "n = 8   upper = 13.0   lower = 5.44   upper-lower = 7.56\n",
      "n = 9   upper = 14.21   lower = 6.23   upper-lower = 7.98\n",
      "n = 10   upper = 15.41   lower = 7.03   upper-lower = 8.38\n",
      "n = 11   upper = 16.6   lower = 7.83   upper-lower = 8.77\n",
      "n = 12   upper = 17.79   lower = 8.65   upper-lower = 9.14\n"
     ]
    }
   ],
   "source": [
    "lambd = np.arange(0,20,0.01)\n",
    "for n in np.arange(1,13):\n",
    "    prob = stats.poisson.cdf(n, lambd)\n",
    "    lower = lambd[np.argmax(prob<0.9)]\n",
    "    upper = lambd[np.argmax(prob<0.1)]\n",
    "    print('n =', round(n,2), '  upper =', round(upper,2), '  lower =', round(lower,2), '  upper-lower =', round(upper-lower,2))"
   ]
  },
  {
   "attachments": {},
   "cell_type": "markdown",
   "metadata": {},
   "source": [
    "# B"
   ]
  },
  {
   "cell_type": "code",
   "execution_count": 11,
   "metadata": {},
   "outputs": [],
   "source": [
    "n_obs, lambd = 5, 1.8"
   ]
  },
  {
   "attachments": {},
   "cell_type": "markdown",
   "metadata": {},
   "source": [
    "### 1."
   ]
  },
  {
   "cell_type": "code",
   "execution_count": 12,
   "metadata": {},
   "outputs": [
    {
     "name": "stdout",
     "output_type": "stream",
     "text": [
      "The probability of observing 5 or more events is 0.0364\n",
      "The significance of excess is 1.794 sigma\n"
     ]
    }
   ],
   "source": [
    "p = 1 - stats.poisson.cdf(n_obs-1, lambd)\n",
    "print(\"The probability of observing\", n_obs, \"or more events is\", round(p,4))\n",
    "print(\"The significance of excess is\", round(stats.norm.ppf(1-p),4), \"sigma\")"
   ]
  },
  {
   "attachments": {},
   "cell_type": "markdown",
   "metadata": {},
   "source": [
    "### 2."
   ]
  },
  {
   "cell_type": "code",
   "execution_count": 13,
   "metadata": {},
   "outputs": [
    {
     "name": "stdout",
     "output_type": "stream",
     "text": [
      "lambda_max = 8.7134\n",
      "probability = 0.05\n"
     ]
    }
   ],
   "source": [
    "l_max = 3\n",
    "while stats.poisson.cdf(n_obs, lambd+l_max) > 0.05:\n",
    "    l_max *= 1.0001\n",
    "print(\"lambda_max =\", round(l_max,4))\n",
    "print(\"probability =\", round(stats.poisson.cdf(n_obs, lambd+l_max),4))"
   ]
  },
  {
   "attachments": {},
   "cell_type": "markdown",
   "metadata": {},
   "source": [
    "# C"
   ]
  },
  {
   "cell_type": "code",
   "execution_count": 14,
   "metadata": {},
   "outputs": [
    {
     "data": {
      "text/plain": [
       "0.050091"
      ]
     },
     "execution_count": 14,
     "metadata": {},
     "output_type": "execute_result"
    }
   ],
   "source": [
    "N = int(1e6) # 1 million simulations  \n",
    "np.sum(stats.poisson.rvs(lambd+l_max, size=N) <= n_obs)/N"
   ]
  },
  {
   "cell_type": "code",
   "execution_count": null,
   "metadata": {},
   "outputs": [],
   "source": []
  }
 ],
 "metadata": {
  "kernelspec": {
   "display_name": "statmethods",
   "language": "python",
   "name": "python3"
  },
  "language_info": {
   "codemirror_mode": {
    "name": "ipython",
    "version": 3
   },
   "file_extension": ".py",
   "mimetype": "text/x-python",
   "name": "python",
   "nbconvert_exporter": "python",
   "pygments_lexer": "ipython3",
   "version": "3.11.0"
  },
  "orig_nbformat": 4,
  "vscode": {
   "interpreter": {
    "hash": "f333f74e8a91b938f615e72570dbf9be571d3d3062f05acd40861e2325a5081b"
   }
  }
 },
 "nbformat": 4,
 "nbformat_minor": 2
}
