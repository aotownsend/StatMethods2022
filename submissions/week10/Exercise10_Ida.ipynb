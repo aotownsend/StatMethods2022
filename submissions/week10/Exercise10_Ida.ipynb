{
 "cells": [
  {
   "cell_type": "markdown",
   "id": "5911ee68",
   "metadata": {},
   "source": [
    "# Stat. Methods of Data Analysis Exercise 10\\\n",
    "## A. Confidence limits for Poisson processes (10 Points)"
   ]
  },
  {
   "cell_type": "markdown",
   "id": "943dfaff",
   "metadata": {},
   "source": [
    "In this problem, we want to derive “by hand” the confidence intervals (CIs, e.g. lower and upper limits) for a basic counting experiment which can be modelled by a Poisson process with mean $\\lambda$.\n",
    "\n",
    "1. Confidence interval for a given expectation value. Write a program that lists, for fixed values of $\\lambda = 1, 2,$ ...$12$, the number of observed events $n$ such that at most 10% of the probability are \n",
    "\n",
    "    (i) above n, \n",
    "    \n",
    "    (ii) below n, \n",
    "    \n",
    "    (iii) above n and below n′ (central confidence interval)."
   ]
  },
  {
   "cell_type": "code",
   "execution_count": 8,
   "id": "40249550",
   "metadata": {},
   "outputs": [],
   "source": [
    "import matplotlib.pyplot as plt\n",
    "import numpy as np\n",
    "import pandas as pd\n",
    "from scipy.stats import poisson"
   ]
  },
  {
   "cell_type": "code",
   "execution_count": 59,
   "id": "71784d72",
   "metadata": {},
   "outputs": [],
   "source": [
    "# (i) above n\n",
    "# probabiltiy for value to be above n (1-poisson.cdf(k=n, mu) <= 0.1 and as close as possible to 0.1\n",
    "def lower_bound(mu):    \n",
    "    prob = []\n",
    "    for n in range(20):\n",
    "        p = 0.1-(1-poisson.cdf(k=n, mu=mu)) #finding the value closest to 0.1\n",
    "        if p >= 0:         #avoiding to find the upper closest value to 0.1\n",
    "            prob.append(p)\n",
    "        else:\n",
    "            prob.append(1)\n",
    "    lower_bound = np.argmin(prob)\n",
    "    return(lower_bound)\n",
    "    #print(prob)\n",
    "    #print(lower_bound, -prob[lower_bound]+0.1)\n",
    "\n",
    "#(ii) below n : probabiltiy for value to be below n (poisson.cdf(k=n, mu) <= 0.1\n",
    "def upper_bound(mu):    \n",
    "    prob = []\n",
    "    for n in range(20):\n",
    "        p = 0.1-(poisson.cdf(k=n, mu=mu)) #finding the value closest to 0.1\n",
    "        if p >= 0:         #avoiding to find the upper closest value to 0.1\n",
    "            prob.append(p)\n",
    "        else:\n",
    "            prob.append(1)\n",
    "    upper_bound = np.argmin(prob)\n",
    "    return(upper_bound)    \n",
    "#(iii) above n and below n′ (central confidence interval).\n",
    "def central_confidence_interval(mu):\n",
    "    prob1 = []\n",
    "    for n in range(20):\n",
    "        p = 0.05-(poisson.cdf(k=n, mu=mu)) #finding the value closest to 0.05\n",
    "        if p >= 0:         #avoiding to find the upper closest value to 0.05\n",
    "            prob1.append(p)\n",
    "        else:\n",
    "            prob1.append(1)\n",
    "    prob2 = []\n",
    "    for n in range(20):\n",
    "        p = 0.05-(1-poisson.cdf(k=n, mu=mu)) #finding the value closest to 0.05\n",
    "        if p >= 0:         #avoiding to find the upper closest value to 0.05\n",
    "            prob2.append(p)\n",
    "        else:\n",
    "            prob2.append(1) \n",
    "            \n",
    "    upper_bound = np.argmin(prob2)        \n",
    "    lower_bound = np.argmin(prob1)\n",
    "    return([upper_bound,  lower_bound])  "
   ]
  },
  {
   "cell_type": "code",
   "execution_count": 53,
   "id": "61b045d2",
   "metadata": {},
   "outputs": [
    {
     "data": {
      "text/plain": [
       "Text(0, 0.5, 'n value where at most 10% of the events are above')"
      ]
     },
     "execution_count": 53,
     "metadata": {},
     "output_type": "execute_result"
    },
    {
     "data": {
      "image/png": "[encoded data removed]",
      "text/plain": [
       "<Figure size 432x288 with 1 Axes>"
      ]
     },
     "metadata": {
      "needs_background": "light"
     },
     "output_type": "display_data"
    }
   ],
   "source": [
    "meanlist = np.linspace(1,12,12)\n",
    "upper_bounds = []\n",
    "for mu in meanlist:\n",
    "    upper_bounds.append(upper_bound(mu))\n",
    "plt.plot(meanlist, upper_bounds, \"o\")  \n",
    "plt.xlabel(r\"$\\lambda$\")\n",
    "plt.ylabel(\"n value where at most 10% of the events are above\")"
   ]
  },
  {
   "cell_type": "code",
   "execution_count": 52,
   "id": "4212aee6",
   "metadata": {},
   "outputs": [
    {
     "data": {
      "text/plain": [
       "Text(0, 0.5, 'number of observed events  $n$ at most 10% below n ')"
      ]
     },
     "execution_count": 52,
     "metadata": {},
     "output_type": "execute_result"
    },
    {
     "data": {
      "image/png": "[encoded data removed]",
      "text/plain": [
       "<Figure size 432x288 with 1 Axes>"
      ]
     },
     "metadata": {
      "needs_background": "light"
     },
     "output_type": "display_data"
    }
   ],
   "source": [
    "lower_bounds = []\n",
    "for mu in meanlist:\n",
    "    lower_bounds.append(lower_bound(mu))\n",
    "plt.plot(meanlist, lower_bounds, \"o\")  \n",
    "plt.xlabel(r\"$\\lambda$\")\n",
    "plt.ylabel(\"n value where at most 10% of the events are above\")"
   ]
  },
  {
   "cell_type": "code",
   "execution_count": 63,
   "id": "90e3024b",
   "metadata": {},
   "outputs": [
    {
     "data": {
      "text/plain": [
       "<matplotlib.legend.Legend at 0x7ff08837c8b0>"
      ]
     },
     "execution_count": 63,
     "metadata": {},
     "output_type": "execute_result"
    },
    {
     "data": {
      "image/png": "[encoded data removed]",
      "text/plain": [
       "<Figure size 432x288 with 1 Axes>"
      ]
     },
     "metadata": {
      "needs_background": "light"
     },
     "output_type": "display_data"
    }
   ],
   "source": [
    "lower, upper = [], []\n",
    "for mu in meanlist:\n",
    "    low, up = central_confidence_interval(mu)\n",
    "    lower.append(low)\n",
    "    upper.append(up)\n",
    "plt.plot(meanlist, lower, \"o\", label = \"lower bound\")  \n",
    "plt.plot(meanlist, upper, \"o\", label = \"upper bound\") \n",
    "plt.xlabel(r\"$\\lambda$\")\n",
    "plt.ylabel(\"central confidence interval\")\n",
    "plt.legend()"
   ]
  },
  {
   "cell_type": "markdown",
   "id": "4cff404c",
   "metadata": {},
   "source": [
    "2. Confidence interval given a measured value. In a similar spirit, write a program that lists, for fixed number of observed events n = 0, 1, 2, ...12, the \n",
    "\n",
    "    (i) upper, \n",
    "\n",
    "    (ii) lower, and \n",
    "\n",
    "    (iii) central CIs on $\\lambda$ at 90% CL. \n",
    "\n",
    "Describe the conceptual difference between this case and that discussed in part 1.\n"
   ]
  },
  {
   "cell_type": "code",
   "execution_count": 87,
   "id": "bca81cf8",
   "metadata": {},
   "outputs": [],
   "source": [
    "# (i) above n\n",
    "# probabiltiy for value to be above n (1-poisson.cdf(k=n, mu) <= 0.1 and as close as possible to 0.1\n",
    "def lower_bound2(n):    \n",
    "    prob = []\n",
    "    for mu in range(20):\n",
    "        p = 0.1-(1-poisson.cdf(k=n, mu=mu)) #finding the value closest to 0.1\n",
    "        if p >= 0:         #avoiding to find the upper closest value to 0.1\n",
    "            prob.append(p)\n",
    "        else:\n",
    "            prob.append(1)\n",
    "    mean = np.argmin(prob)\n",
    "    return(mean)\n",
    "    #print(prob)\n",
    "    #print(lower_bound, -prob[lower_bound]+0.1)\n",
    "\n",
    "#(ii) below n : probabiltiy for value to be below n (poisson.cdf(k=n, mu) <= 0.1\n",
    "def upper_bound2(n):    \n",
    "    prob = []\n",
    "    for mu in range(20):\n",
    "        p = 0.1-(poisson.cdf(k=n, mu=mu)) #finding the value closest to 0.1\n",
    "        if p >= 0:         #avoiding to find the upper closest value to 0.1\n",
    "            prob.append(p)\n",
    "        else:\n",
    "            prob.append(1)\n",
    "    mean = np.argmin(prob)\n",
    "    return(mean)    \n",
    "#(iii) above n and below n′ (central confidence interval).\n",
    "def central_confidence_interval2(n):\n",
    "    prob1 = []\n",
    "    prob2 = []\n",
    "    for mu in range(30):\n",
    "        p = 0.05-(poisson.cdf(k=n, mu=mu)) #finding the value closest to 0.05\n",
    "        if p >= 0:         #avoiding to find the upper closest value to 0.05\n",
    "            prob1.append(p)\n",
    "        else:\n",
    "            prob1.append(1)\n",
    "    for mu in range(30):\n",
    "        p = 0.05-(1-poisson.cdf(k=n, mu=mu)) #finding the value closest to 0.05\n",
    "        if p >= 0:         #avoiding to find the upper closest value to 0.05\n",
    "            prob2.append(p)\n",
    "        else:\n",
    "            prob2.append(1) \n",
    "    upper_mean = np.argmin(prob2)        \n",
    "    lower_mean = np.argmin(prob1)        \n",
    "    return([lower_mean, upper_mean])  "
   ]
  },
  {
   "cell_type": "code",
   "execution_count": 88,
   "id": "ad7a7166",
   "metadata": {},
   "outputs": [
    {
     "data": {
      "text/plain": [
       "<matplotlib.legend.Legend at 0x7ff0abc3edf0>"
      ]
     },
     "execution_count": 88,
     "metadata": {},
     "output_type": "execute_result"
    },
    {
     "data": {
      "image/png": "[encoded data removed]",
      "text/plain": [
       "<Figure size 432x288 with 1 Axes>"
      ]
     },
     "metadata": {
      "needs_background": "light"
     },
     "output_type": "display_data"
    }
   ],
   "source": [
    "events = np.linspace(0,12,13)\n",
    "meanlist_i = []\n",
    "meanlist_ii = []\n",
    "meanlist_iii = [[],[]]\n",
    "for n in events:\n",
    "    meanlist_i.append(lower_bound2(n))\n",
    "    meanlist_ii.append(upper_bound2(n))\n",
    "    lower, upper = central_confidence_interval2(n)\n",
    "    meanlist_iii[0].append(lower)\n",
    "    meanlist_iii[1].append(upper)\n",
    "plt.plot(events, meanlist_i, \"o\", label = \"upper\")\n",
    "plt.plot(events, meanlist_ii, \"o\", label = \"lower\")\n",
    "plt.plot(events, meanlist_iii[0], \"o\", label = \"central CL lower\")\n",
    "plt.plot(events, meanlist_iii[1], \"o\", label = \"central CL upper\")\n",
    "plt.xlabel(\"observed events n\")\n",
    "plt.ylabel(\"lambda\")\n",
    "plt.legend()"
   ]
  },
  {
   "cell_type": "markdown",
   "id": "f4d15474",
   "metadata": {},
   "source": [
    " I am a bit confused here, I think i and ii are okay, but iii is just weird. "
   ]
  },
  {
   "cell_type": "markdown",
   "id": "d7944098",
   "metadata": {},
   "source": [
    "## B. Confidence limits for Poisson processes in the context of a counting experiment(10 Points)\n",
    "1. Establishing the presence of signal. Is this a significant (= 3$\\sigma$) excess to establish the presence of signal? In other words, calculate the probability of observing $n_{obs} = 5$ or more events assuming the presence of background only with the expectation value is $\\lambda_B = 1.8$ using Poisson statistics.\n",
    "\n",
    "$$p(n\\geq n_{obs})= \\sum_{n=n_{obs}}^{\\inf} p(n;\\lambda_S =0;\\lambda_B)=1 − \\sum_{n=0}^{n_{obs}} \\lambda_B^n/n! \\exp(−\\lambda_B) $$"
   ]
  },
  {
   "cell_type": "code",
   "execution_count": 89,
   "id": "547da910",
   "metadata": {},
   "outputs": [
    {
     "data": {
      "text/plain": [
       "0.010378036866159568"
      ]
     },
     "execution_count": 89,
     "metadata": {},
     "output_type": "execute_result"
    }
   ],
   "source": [
    "1 - poisson.cdf(k=5, mu=1.8)"
   ]
  },
  {
   "cell_type": "markdown",
   "id": "2f62b467",
   "metadata": {},
   "source": [
    "2. Upper limit on the number of signal events. Determine an upper limit $\\lambda_{max}$ S for the number of signal events at a 95% CL. Such a limit is defined by the expected number of signal events $\\lambda_{max}$ where the probability of measuring nobs or fewer events reaches 5% assuming a Poisson statistic with mean $\\lambda_B$ + $\\lambda_{max}$. To (numerically) find the S answer, perform an interval search starting from the probabilities to observe $n_B +n_{min}$ S and $n_B +n_{max}$ or less events. Stop the search when the uncertainty, i.e. the difference S of the limits of the interval, is less than $10^{−5}$."
   ]
  },
  {
   "cell_type": "code",
   "execution_count": null,
   "id": "26a41b04",
   "metadata": {},
   "outputs": [],
   "source": []
  }
 ],
 "metadata": {
  "kernelspec": {
   "display_name": "Python 3 (ipykernel)",
   "language": "python",
   "name": "python3"
  },
  "language_info": {
   "codemirror_mode": {
    "name": "ipython",
    "version": 3
   },
   "file_extension": ".py",
   "mimetype": "text/x-python",
   "name": "python",
   "nbconvert_exporter": "python",
   "pygments_lexer": "ipython3",
   "version": "3.9.7"
  }
 },
 "nbformat": 4,
 "nbformat_minor": 5
}
