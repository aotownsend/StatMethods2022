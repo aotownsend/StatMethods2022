{
 "cells": [
  {
   "cell_type": "code",
   "execution_count": 2,
   "id": "26dc43e2",
   "metadata": {},
   "outputs": [],
   "source": [
    "import numpy as np\n",
    "\n",
    "def prob(n):\n",
    "    pi = 1\n",
    "    for i in range(1, n+1):\n",
    "        pi *= i\n",
    "    return pi\n"
   ]
  },
  {
   "cell_type": "code",
   "execution_count": 3,
   "id": "af824da5",
   "metadata": {},
   "outputs": [],
   "source": [
    "lamda = [1, 2, 3, 4, 5, 6, 7, 8, 9, 10, 11, 12]\n",
    "n_list = [0, 1, 2, 3, 4, 5, 6, 7, 8, 9, 10, 11, 12]\n",
    "\n",
    "def CI_L(n, lamda):\n",
    "    \n",
    "    Sum = 0\n",
    "    for i in range(n):\n",
    "        Sum += lamda**i/prob(i)*np.exp(-lamda)\n",
    "    \n",
    "    P = 1-Sum\n",
    "    return P\n",
    "\n",
    "def CI_U(n, lamda):\n",
    "    \n",
    "    Sum = 0\n",
    "    for i in range(n+1):\n",
    "        Sum += lamda**i/prob(i)*np.exp(-lamda)\n",
    "    \n",
    "    return Sum"
   ]
  },
  {
   "cell_type": "code",
   "execution_count": 4,
   "id": "68d663bd",
   "metadata": {},
   "outputs": [
    {
     "data": {
      "text/plain": [
       "1"
      ]
     },
     "execution_count": 4,
     "metadata": {},
     "output_type": "execute_result"
    }
   ],
   "source": [
    "CI_L(0, 3)"
   ]
  },
  {
   "cell_type": "code",
   "execution_count": 5,
   "id": "5b0794f5",
   "metadata": {},
   "outputs": [
    {
     "name": "stdout",
     "output_type": "stream",
     "text": [
      "0.09963240048704602 The n for upper bound of lamda = 8 is 4\n"
     ]
    }
   ],
   "source": [
    "for i in lamda:\n",
    "    for n in range(100):\n",
    "        if np.round(CI_U(n, i), 2) == 0.1:\n",
    "            print(CI_U(n, i), \"The n for upper bound of lamda =\", i, \"is\", n)\n",
    "            break"
   ]
  },
  {
   "cell_type": "code",
   "execution_count": 6,
   "id": "f71d8e2c",
   "metadata": {},
   "outputs": [
    {
     "name": "stdout",
     "output_type": "stream",
     "text": [
      "0.09852079411091275 The n for lower bound of lamda = 7 is 11\n",
      "0.10129100743983788 The n for lower bound of lamda = 12 is 17\n"
     ]
    }
   ],
   "source": [
    "for i in lamda:\n",
    "    for n in range(100):\n",
    "        if np.round(CI_L(n, i), 2) == 0.1:\n",
    "            print(CI_L(n, i), \"The n for lower bound of lamda =\", i, \"is\", n)\n",
    "            break"
   ]
  },
  {
   "cell_type": "code",
   "execution_count": 7,
   "id": "0bcc8630",
   "metadata": {},
   "outputs": [
    {
     "name": "stdout",
     "output_type": "stream",
     "text": [
      "0.1 The lamda for upper bound of n = 0 is 2.3\n",
      "0.1 The lamda for upper bound of n = 1 is 3.88\n",
      "0.1 The lamda for upper bound of n = 2 is 5.32\n",
      "0.1 The lamda for upper bound of n = 3 is 6.67\n",
      "0.1 The lamda for upper bound of n = 4 is 7.99\n",
      "0.1 The lamda for upper bound of n = 5 is 9.27\n",
      "0.1 The lamda for upper bound of n = 6 is 10.52\n",
      "0.1 The lamda for upper bound of n = 7 is 11.76\n",
      "0.1 The lamda for upper bound of n = 8 is 12.98\n",
      "0.1 The lamda for upper bound of n = 9 is 14.19\n",
      "0.1 The lamda for upper bound of n = 10 is 15.39\n",
      "0.1 The lamda for upper bound of n = 11 is 16.59\n",
      "0.1 The lamda for upper bound of n = 12 is 17.77\n"
     ]
    }
   ],
   "source": [
    "# Suppose to show the uppper limit, but show the lower\n",
    "\n",
    "for n in n_list:\n",
    "    i = 0\n",
    "    while i < 20:\n",
    "        if np.round(CI_U(n, i), 3) == 0.1:\n",
    "            print(np.round(CI_U(n, i), 3), \"The lamda for upper bound of n =\", n, \"is\", np.round(i, 2))\n",
    "            break\n",
    "        i += 0.001"
   ]
  },
  {
   "cell_type": "code",
   "execution_count": 8,
   "id": "9251775f",
   "metadata": {},
   "outputs": [
    {
     "name": "stdout",
     "output_type": "stream",
     "text": [
      "0.1 The lamda for lower bound of n= 1 is 0.11\n",
      "0.1 The lamda for lower bound of n= 2 is 0.53\n",
      "0.1 The lamda for lower bound of n= 3 is 1.1\n",
      "0.1 The lamda for lower bound of n= 4 is 1.74\n",
      "0.1 The lamda for lower bound of n= 5 is 2.43\n",
      "0.1 The lamda for lower bound of n= 6 is 3.15\n",
      "0.1 The lamda for lower bound of n= 7 is 3.89\n",
      "0.1 The lamda for lower bound of n= 8 is 4.65\n",
      "0.1 The lamda for lower bound of n= 9 is 5.43\n",
      "0.1 The lamda for lower bound of n= 10 is 6.22\n",
      "0.1 The lamda for lower bound of n= 11 is 7.01\n",
      "0.1 The lamda for lower bound of n= 12 is 7.82\n"
     ]
    }
   ],
   "source": [
    "for n in n_list:\n",
    "    i = 0\n",
    "    while i < 10:\n",
    "        if np.round(CI_L(n, i), 3) == 0.1 :\n",
    "            print(np.round(CI_L(n, i), 3), \"The lamda for lower bound of n=\", n, \"is\", np.round(i, 2))\n",
    "            break\n",
    "        i += 0.001"
   ]
  },
  {
   "cell_type": "code",
   "execution_count": 9,
   "id": "41d43e9a",
   "metadata": {},
   "outputs": [],
   "source": [
    "### B. Confidence limits for Poisson processes"
   ]
  },
  {
   "cell_type": "code",
   "execution_count": 34,
   "id": "84e949d5",
   "metadata": {},
   "outputs": [],
   "source": [
    "def CI_L2(n, lamdas = 0, lamdab = 1.8):\n",
    "    \n",
    "    Sum = 0\n",
    "    for i in range(n):\n",
    "        Sum += np.exp(-(lamdas+lamdab))*((lamdab+lamdas)**i/prob(i))\n",
    "        \n",
    "    return 1-Sum\n",
    "\n",
    "def CI_U2(n, lamdas = 0, lamdab = 1.8):\n",
    "    \n",
    "    Sum = 0\n",
    "    for i in range(n+1):\n",
    "        Sum += np.exp(-(lamdas+lamdab))*((lamdab+lamdas)**i/prob(i))\n",
    "        \n",
    "    return Sum"
   ]
  },
  {
   "cell_type": "code",
   "execution_count": 30,
   "id": "38329864",
   "metadata": {},
   "outputs": [],
   "source": [
    "def CI_L_sb(n, lamdas = 0, lamdab = 1.8):\n",
    "    \n",
    "    sumb = 0\n",
    "    Sum = 0\n",
    "    for i in range(n):\n",
    "        sumb += lamdab**i/prob(i)\n",
    "        Sum += ((lamdab+lamdas)**i/prob(i))\n",
    "        \n",
    "    ob = sumb*np.exp(-lamdab)\n",
    "    sb = Sum*np.exp(-(lamdab+lamdas))    \n",
    "    \n",
    "    return 1-sb/ob\n",
    "\n",
    "def CI_U_sb(n, lamdas = 0, lamdab = 1.8):\n",
    "    \n",
    "    sumb = 0\n",
    "    Sum = 0\n",
    "    for i in range(n+1):\n",
    "        sumb += lamdab**i/prob(i)\n",
    "        Sum += ((lamdab+lamdas)**i/prob(i))\n",
    "        \n",
    "    ob = sumb*np.exp(-lamdab)\n",
    "    sb = Sum*np.exp(-(lamdab+lamdas))\n",
    "\n",
    "    return sb/ob"
   ]
  },
  {
   "cell_type": "code",
   "execution_count": 77,
   "id": "7273bd0a",
   "metadata": {},
   "outputs": [
    {
     "name": "stdout",
     "output_type": "stream",
     "text": [
      "when n = 5 the probability of bkg presence only is 0.036\n"
     ]
    }
   ],
   "source": [
    "# 2-1 \n",
    "\n",
    "print(\"when n =\", 5, \"the probability of bkg presence only is\", np.round(CI_L2(5, 0, 1.8), 3))"
   ]
  },
  {
   "cell_type": "code",
   "execution_count": 79,
   "id": "dfd8e795",
   "metadata": {},
   "outputs": [
    {
     "name": "stdout",
     "output_type": "stream",
     "text": [
      "The lamda_S for n = 5 is 8.713\n"
     ]
    }
   ],
   "source": [
    "# 2-2\n",
    "\n",
    "nuS = 5\n",
    "while nuS <= 10:\n",
    "    \n",
    "    if np.round(CI_U2(5, nuS, 1.8), 5) == 0.05:\n",
    "        print(\"The lamda_S for n = 5 is\", np.round(nuS, 5))\n",
    "        break\n",
    "        \n",
    "    nuS += 0.001"
   ]
  },
  {
   "cell_type": "code",
   "execution_count": 43,
   "id": "da2c63b5",
   "metadata": {},
   "outputs": [],
   "source": [
    "# C"
   ]
  },
  {
   "cell_type": "code",
   "execution_count": 70,
   "id": "2d2d6664",
   "metadata": {},
   "outputs": [],
   "source": [
    "s = np.random.poisson(nuS+1.8, 10000)"
   ]
  },
  {
   "cell_type": "code",
   "execution_count": 62,
   "id": "c6b09acf",
   "metadata": {},
   "outputs": [
    {
     "data": {
      "image/png": "[encoded data removed]",
      "text/plain": [
       "<Figure size 640x480 with 1 Axes>"
      ]
     },
     "metadata": {},
     "output_type": "display_data"
    }
   ],
   "source": [
    "import matplotlib.pyplot as plt\n",
    "\n",
    "plt.hist(s, bins = 25, edgecolor = 'white', density = True)\n",
    "plt.show()"
   ]
  },
  {
   "cell_type": "code",
   "execution_count": 72,
   "id": "669a07be",
   "metadata": {},
   "outputs": [
    {
     "name": "stdout",
     "output_type": "stream",
     "text": [
      "The fraction of the events is 0.0513\n"
     ]
    }
   ],
   "source": [
    "num = 0\n",
    "\n",
    "for i in s:  \n",
    "    if i <= 5:\n",
    "        num += 1\n",
    "        \n",
    "print(\"The fraction of the events is\", num/10000)"
   ]
  },
  {
   "cell_type": "code",
   "execution_count": null,
   "id": "449c590d",
   "metadata": {},
   "outputs": [],
   "source": []
  }
 ],
 "metadata": {
  "kernelspec": {
   "display_name": "Python 3 (ipykernel)",
   "language": "python",
   "name": "python3"
  },
  "language_info": {
   "codemirror_mode": {
    "name": "ipython",
    "version": 3
   },
   "file_extension": ".py",
   "mimetype": "text/x-python",
   "name": "python",
   "nbconvert_exporter": "python",
   "pygments_lexer": "ipython3",
   "version": "3.9.13"
  }
 },
 "nbformat": 4,
 "nbformat_minor": 5
}
