{
 "cells": [
  {
   "cell_type": "markdown",
   "id": "6273281a",
   "metadata": {},
   "source": [
    "# Coin-flipping"
   ]
  },
  {
   "cell_type": "code",
   "execution_count": 1,
   "id": "4cb3d076",
   "metadata": {},
   "outputs": [
    {
     "name": "stdout",
     "output_type": "stream",
     "text": [
      "List of coins: ['fair', 'fair', 'fair', 'fair', 'fair', 'fair', 'fair', 'fair', 'fair', 'unfair']\n"
     ]
    }
   ],
   "source": [
    "import numpy as np\n",
    "\n",
    "coins = []\n",
    "for i in range(9):\n",
    "    coins.append('fair')\n",
    "coins.append('unfair')\n",
    "\n",
    "print('List of coins:', coins)"
   ]
  },
  {
   "cell_type": "markdown",
   "id": "ad3a38bb",
   "metadata": {},
   "source": [
    "### 1. We pick a coin randomly. What is the probability that this coin is unfair?"
   ]
  },
  {
   "cell_type": "code",
   "execution_count": 2,
   "id": "bba0357e",
   "metadata": {},
   "outputs": [
    {
     "name": "stdout",
     "output_type": "stream",
     "text": [
      "(simulate)The probability the coin is unfair: 0.1014 \n",
      "The number I calculate: 0.1\n"
     ]
    }
   ],
   "source": [
    "pos = []\n",
    "for i in range(10000):\n",
    "    outcome = np.random.choice(coins)\n",
    "    if outcome == 'unfair':\n",
    "        pos.append(1)\n",
    "    else:\n",
    "        pos.append(0)\n",
    "\n",
    "result = sum(pos)/10000\n",
    "print('(simulate)The probability the coin is unfair:',result, \"\\nThe number I calculate:\", 1/10)"
   ]
  },
  {
   "cell_type": "markdown",
   "id": "f14f6176",
   "metadata": {},
   "source": [
    "### 2. If we toss this coin, what is the probability that we get tail?"
   ]
  },
  {
   "cell_type": "code",
   "execution_count": 3,
   "id": "6f5562ff",
   "metadata": {},
   "outputs": [
    {
     "name": "stdout",
     "output_type": "stream",
     "text": [
      "(simulate)The probability we get tail: 0.55075 \n",
      "The number I calculate: 0.55\n"
     ]
    }
   ],
   "source": [
    "pos_of_tail = []\n",
    "\n",
    "for i in range(10000):\n",
    "    outcome = np.random.choice(coins)\n",
    "    if outcome == 'unfair':\n",
    "        pos_of_tail.append(1)\n",
    "    else:\n",
    "        pos_of_tail.append(1/2)\n",
    "\n",
    "result_tail = sum(pos_of_tail)/10000\n",
    "print('(simulate)The probability we get tail:',result_tail, \"\\nThe number I calculate:\", 11/20)"
   ]
  },
  {
   "cell_type": "markdown",
   "id": "79bdbc9a",
   "metadata": {},
   "source": [
    "### 3. We now toss this coin and get tail. What is the probability that this coin is unfair?"
   ]
  },
  {
   "cell_type": "code",
   "execution_count": 4,
   "id": "698fb72e",
   "metadata": {},
   "outputs": [
    {
     "name": "stdout",
     "output_type": "stream",
     "text": [
      "(simulate)The possibility of unfair coin while tail shows up: 0.18181818181818182 \n",
      "The number I calculate: 0.18181818181818182\n"
     ]
    },
    {
     "data": {
      "image/png": "[encoded data removed]",
      "text/plain": [
       "<Figure size 640x480 with 1 Axes>"
      ]
     },
     "metadata": {},
     "output_type": "display_data"
    }
   ],
   "source": [
    "import matplotlib.pyplot as plt\n",
    "\n",
    "tpos_list = []\n",
    "\n",
    "for i in range(5000):\n",
    "    u = []\n",
    "    t = []\n",
    "\n",
    "    for i in range(2000):\n",
    "        outcome_tail = np.random.choice(coins)\n",
    "        if outcome_tail == 'fair':\n",
    "            t.append(0.5)\n",
    "        else:\n",
    "            t.append(1)\n",
    "            u.append(1)\n",
    "\n",
    "    tpos = sum(t)/2000\n",
    "    tpos_list.append((sum(u)/2000)/tpos)\n",
    "\n",
    "\n",
    "print('(simulate)The possibility of unfair coin while tail shows up:', max(tpos_list, key = tpos_list.count), '\\nThe number I calculate:',2/11)\n",
    "plt.title(\"Probability of unfair coin\", y =-0.15)\n",
    "plt.ylabel(\"Frequency\")\n",
    "plt.hist(np.array(tpos_list), bins = 25, color ='c')\n",
    "plt.show()"
   ]
  }
 ],
 "metadata": {
  "kernelspec": {
   "display_name": "Python 3 (ipykernel)",
   "language": "python",
   "name": "python3"
  },
  "language_info": {
   "codemirror_mode": {
    "name": "ipython",
    "version": 3
   },
   "file_extension": ".py",
   "mimetype": "text/x-python",
   "name": "python",
   "nbconvert_exporter": "python",
   "pygments_lexer": "ipython3",
   "version": "3.9.13"
  }
 },
 "nbformat": 4,
 "nbformat_minor": 5
}
