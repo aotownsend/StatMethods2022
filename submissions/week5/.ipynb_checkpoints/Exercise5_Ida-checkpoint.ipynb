{
 "cells": [
  {
   "cell_type": "code",
   "execution_count": 13,
   "id": "d555c938",
   "metadata": {},
   "outputs": [],
   "source": [
    "import matplotlib.pyplot as plt\n",
    "import numpy as np\n",
    "import pandas as pd\n",
    "import scipy \n",
    "import scipy.optimize as so"
   ]
  },
  {
   "cell_type": "markdown",
   "id": "993dd0c0",
   "metadata": {},
   "source": [
    "## Estimating the slope (15 Points)"
   ]
  },
  {
   "cell_type": "code",
   "execution_count": 49,
   "id": "cb48e2c1",
   "metadata": {},
   "outputs": [],
   "source": [
    "def Chi2(parameters,X, Y, S_y): #Chi function with \"parameters\" to be optimized\n",
    "    return np.sum(((Y-linearfunc(parameters,X))/S_y)**2)\n",
    "\n",
    "def linearfunc(parameters,X):\n",
    "    A,B =parameters \n",
    "    return A*X + B"
   ]
  },
  {
   "cell_type": "code",
   "execution_count": 60,
   "id": "20690677",
   "metadata": {},
   "outputs": [
    {
     "data": {
      "text/plain": [
       "[<matplotlib.lines.Line2D at 0x7f9a61e6c220>]"
      ]
     },
     "execution_count": 60,
     "metadata": {},
     "output_type": "execute_result"
    },
    {
     "data": {
      "image/png": "[encoded data removed]",
      "text/plain": [
       "<Figure size 432x288 with 1 Axes>"
      ]
     },
     "metadata": {
      "needs_background": "light"
     },
     "output_type": "display_data"
    }
   ],
   "source": [
    "m = 1000 #number of experiments\n",
    "n = 10 # data points\n",
    "a = 0.5\n",
    "b = 1\n",
    "s_y = np.random.normal(0,0.05,10)\n",
    "\n",
    "#for i in range(m):\n",
    "x = np.random.uniform(0, 1, n)\n",
    "y = linearfunc([a,b],x)\n",
    "plt.plot(x,y + s_y, '.')\n"
   ]
  },
  {
   "cell_type": "code",
   "execution_count": 63,
   "id": "a418143d",
   "metadata": {},
   "outputs": [
    {
     "data": {
      "text/plain": [
       "array([0.50005235, 0.99731226])"
      ]
     },
     "execution_count": 63,
     "metadata": {},
     "output_type": "execute_result"
    }
   ],
   "source": [
    "so.minimize(Chi2, x0=[a,b], args=(x,y+s_y,s_y)) # lets see how scipy.optimize.minimize works"
   ]
  },
  {
   "cell_type": "markdown",
   "id": "9d55f38b",
   "metadata": {},
   "source": [
    "Next, assume parameters n = 10, a = 0.5, b = 1 and σy = 0.05 and simulate the\n",
    "experiment 1000 times, and each time fit for a and b."
   ]
  },
  {
   "cell_type": "code",
   "execution_count": 66,
   "id": "9b30208f",
   "metadata": {},
   "outputs": [],
   "source": [
    "m = 1000 #number of experiments\n",
    "n = 10 # data points\n",
    "a = 0.5\n",
    "s_y = 0.05\n",
    "b = 1\n",
    "a_list, b_list = [],[]\n",
    "for i in range(m):\n",
    "    x = np.random.uniform(0, 1, n)\n",
    "    y = linearfunc([a,b],x)\n",
    "    error_y = np.random.normal(0,s_y,n)\n",
    "    a_list.append\n",
    "    abfit = so.minimize(Chi2, x0=[a,b], args=(x,y+error_y,error_y))[\"x\"] \n",
    "    a_list.append(abfit[0])\n",
    "    b_list.append(abfit[1])"
   ]
  },
  {
   "cell_type": "code",
   "execution_count": 100,
   "id": "c81a1fb3",
   "metadata": {},
   "outputs": [
    {
     "data": {
      "text/plain": [
       "<matplotlib.legend.Legend at 0x7f9a2177bb50>"
      ]
     },
     "execution_count": 100,
     "metadata": {},
     "output_type": "execute_result"
    },
    {
     "data": {
      "image/png": "[encoded data removed]",
      "text/plain": [
       "<Figure size 1296x432 with 2 Axes>"
      ]
     },
     "metadata": {
      "needs_background": "light"
     },
     "output_type": "display_data"
    }
   ],
   "source": [
    "fig, axs = plt.subplots(1, 2, figsize=(18, 6))\n",
    "axs[0].hist(x=a_list, bins=25, alpha = 0.3, label = \"fitted value of a\")\n",
    "axs[0].vlines(a, 0, 330, color = \"red\", label = \"true value of a\")\n",
    "axs[0].set_xlabel('Fitted values of a')\n",
    "axs[0].set_ylabel('Frequency')\n",
    "axs[0].legend()\n",
    "\n",
    "axs[1].hist(x=b_list, bins=25, color = \"orange\",  alpha = 0.3, label = \"fitted value of b\")\n",
    "axs[1].vlines(b, 0, 330, color = \"red\", label = \"true value of b\")\n",
    "axs[1].set_xlabel('Fitted values of b')\n",
    "axs[1].set_ylabel('Frequency')\n",
    "axs[1].legend()"
   ]
  },
  {
   "cell_type": "markdown",
   "id": "c892a051",
   "metadata": {},
   "source": [
    "Use a Monte Carlo simulation to evaluate if the estimator is biased.\n",
    "The estimator is unbiased if the mean of expected value minus the measures value is zero"
   ]
  },
  {
   "cell_type": "code",
   "execution_count": 88,
   "id": "bcf28906",
   "metadata": {},
   "outputs": [],
   "source": [
    "biasa = a-np.mean(a_list)\n",
    "biasb = b-np.mean(b_list)"
   ]
  },
  {
   "cell_type": "code",
   "execution_count": 91,
   "id": "5261ac43",
   "metadata": {},
   "outputs": [
    {
     "name": "stdout",
     "output_type": "stream",
     "text": [
      "The bias of the estimator for a is 0.001460000290130492\n",
      "The bias of the estimator for b is -0.0007334465152879499\n"
     ]
    }
   ],
   "source": [
    "print(\"The bias of the estimator for a is \"+ str(biasa))\n",
    "print(\"The bias of the estimator for b is \"+ str(biasb))"
   ]
  },
  {
   "cell_type": "markdown",
   "id": "ffb1871f",
   "metadata": {},
   "source": [
    "Now add an error in x, that is, $x_i$ consists of a ”true” value drawn from the Uniform distribution and one experimental error drawn from a Gaussian distribution of width $\\sigma_x$.\n",
    "Assumeparameters n=10,a=0.5,b=1 and $\\sigma_y$ =0.05 and $\\sigma_x$ =0.05 and simulate the experiment 1000 times, and each time fit for a and b."
   ]
  },
  {
   "cell_type": "code",
   "execution_count": 105,
   "id": "79d4b521",
   "metadata": {},
   "outputs": [
    {
     "name": "stdout",
     "output_type": "stream",
     "text": [
      "The bias of the estimator for a is 0.007889403139342499\n",
      "The bias of the estimator for b is -0.0027366374780799507\n"
     ]
    }
   ],
   "source": [
    "m = 1000 #number of experiments\n",
    "n = 10 # data points\n",
    "a = 0.5\n",
    "b = 1\n",
    "s_y = 0.05\n",
    "s_x = 0.05\n",
    "a_list, b_list = [],[]\n",
    "for i in range(m):\n",
    "    x = np.random.uniform(0, 1, n)\n",
    "    y = linearfunc([a,b],x)\n",
    "    error_y = np.random.normal(0,s_y,n)\n",
    "    error_x = np.random.normal(0,s_x,n)\n",
    "    a_list.append\n",
    "    abfit = so.minimize(Chi2, x0=[a,b], args=(x+error_x,y+error_y, error_y))[\"x\"] \n",
    "    a_list.append(abfit[0])\n",
    "    b_list.append(abfit[1])\n",
    "biasa = a-np.mean(a_list)\n",
    "biasb = b-np.mean(b_list)  \n",
    "print(\"The bias of the estimator for a is \"+ str(biasa))\n",
    "print(\"The bias of the estimator for b is \"+ str(biasb))"
   ]
  },
  {
   "cell_type": "code",
   "execution_count": 101,
   "id": "9dcc6ded",
   "metadata": {},
   "outputs": [
    {
     "data": {
      "text/plain": [
       "<matplotlib.legend.Legend at 0x7f9a3f6589d0>"
      ]
     },
     "execution_count": 101,
     "metadata": {},
     "output_type": "execute_result"
    },
    {
     "data": {
      "image/png": "[encoded data removed]",
      "text/plain": [
       "<Figure size 1296x432 with 2 Axes>"
      ]
     },
     "metadata": {
      "needs_background": "light"
     },
     "output_type": "display_data"
    }
   ],
   "source": [
    "fig, axs = plt.subplots(1, 2, figsize=(18, 6))\n",
    "axs[0].hist(x=a_list, bins=25, alpha = 0.3, label = \"fitted value of a\")\n",
    "axs[0].vlines(a, 0, 350, color = \"red\", label = \"true value of a\")\n",
    "axs[0].set_xlabel('Fitted values of a')\n",
    "axs[0].set_ylabel('Frequency')\n",
    "axs[0].legend()\n",
    "\n",
    "axs[1].hist(x=b_list, bins=25, color = \"orange\",  alpha = 0.3, label = \"fitted value of b\")\n",
    "axs[1].vlines(b, 0, 350, color = \"red\", label = \"true value of b\")\n",
    "axs[1].set_xlabel('Fitted values of b')\n",
    "axs[1].set_ylabel('Frequency')\n",
    "axs[1].legend()"
   ]
  },
  {
   "cell_type": "markdown",
   "id": "bec6b69a",
   "metadata": {},
   "source": [
    "What happens if you set n=10,a=0.5,b=1 and $\\sigma_y$ =0.2 and $\\sigma_x$ =0.2?  - increasing the error"
   ]
  },
  {
   "cell_type": "code",
   "execution_count": 107,
   "id": "41dd5b50",
   "metadata": {},
   "outputs": [
    {
     "name": "stdout",
     "output_type": "stream",
     "text": [
      "The bias of the estimator for a is 0.15213367503756875\n",
      "The bias of the estimator for b is -0.0733024461498053\n"
     ]
    }
   ],
   "source": [
    "m = 1000 #number of experiments\n",
    "n = 10 # data points\n",
    "a = 0.5\n",
    "b = 1\n",
    "s_y = 0.2\n",
    "s_x = 0.2\n",
    "a_list, b_list = [],[]\n",
    "for i in range(m):\n",
    "    x = np.random.uniform(0, 1, n)\n",
    "    y = linearfunc([a,b],x)\n",
    "    error_y = np.random.normal(0,s_y,n)\n",
    "    error_x = np.random.normal(0,s_x,n)\n",
    "    a_list.append\n",
    "    abfit = so.minimize(Chi2, x0=[a,b], args=(x+error_x,y+error_y, error_y))[\"x\"] \n",
    "    a_list.append(abfit[0])\n",
    "    b_list.append(abfit[1])\n",
    "biasa = a-np.mean(a_list)\n",
    "biasb = b-np.mean(b_list)  \n",
    "print(\"The bias of the estimator for a is \"+ str(biasa))\n",
    "print(\"The bias of the estimator for b is \"+ str(biasb))    "
   ]
  },
  {
   "cell_type": "code",
   "execution_count": 109,
   "id": "96ed258b",
   "metadata": {},
   "outputs": [
    {
     "data": {
      "text/plain": [
       "<matplotlib.legend.Legend at 0x7f9a210991f0>"
      ]
     },
     "execution_count": 109,
     "metadata": {},
     "output_type": "execute_result"
    },
    {
     "data": {
      "image/png": "[encoded data removed]",
      "text/plain": [
       "<Figure size 1296x432 with 2 Axes>"
      ]
     },
     "metadata": {
      "needs_background": "light"
     },
     "output_type": "display_data"
    }
   ],
   "source": [
    "fig, axs = plt.subplots(1, 2, figsize=(18, 6))\n",
    "axs[0].hist(x=a_list, bins=25, alpha = 0.3, label = \"fitted value of a\")\n",
    "axs[0].vlines(a, 0, 250, color = \"red\", label = \"true value of a\")\n",
    "axs[0].set_xlabel('Fitted values of a')\n",
    "axs[0].set_ylabel('Frequency')\n",
    "axs[0].legend()\n",
    "\n",
    "axs[1].hist(x=b_list, bins=25, color = \"orange\",  alpha = 0.3, label = \"fitted value of b\")\n",
    "axs[1].vlines(b, 0, 250, color = \"red\", label = \"true value of b\")\n",
    "axs[1].set_xlabel('Fitted values of b')\n",
    "axs[1].set_ylabel('Frequency')\n",
    "axs[1].legend()"
   ]
  },
  {
   "cell_type": "markdown",
   "id": "507ec5fc",
   "metadata": {},
   "source": [
    "The bias increases with increasing errors. \n",
    "What happens if you increase n?"
   ]
  },
  {
   "cell_type": "code",
   "execution_count": 116,
   "id": "a40e6df7",
   "metadata": {},
   "outputs": [
    {
     "name": "stdout",
     "output_type": "stream",
     "text": [
      "The bias of the estimator for a is 0.009792351286868894\n",
      "The bias of the estimator for b is -0.004532193373281368\n"
     ]
    },
    {
     "data": {
      "text/plain": [
       "<matplotlib.legend.Legend at 0x7f9a2282e8b0>"
      ]
     },
     "execution_count": 116,
     "metadata": {},
     "output_type": "execute_result"
    },
    {
     "data": {
      "image/png": "[encoded data removed]",
      "text/plain": [
       "<Figure size 1296x432 with 2 Axes>"
      ]
     },
     "metadata": {
      "needs_background": "light"
     },
     "output_type": "display_data"
    }
   ],
   "source": [
    "m = 1000 #number of experiments\n",
    "n = 100 # data points\n",
    "a = 0.5\n",
    "b = 1\n",
    "s_y = 0.05\n",
    "s_x = 0.05\n",
    "a_list, b_list = [],[]\n",
    "for i in range(m):\n",
    "    x = np.random.uniform(0, 1, n)\n",
    "    y = linearfunc([a,b],x)\n",
    "    error_y = np.random.normal(0,s_y,n)\n",
    "    error_x = np.random.normal(0,s_x,n)\n",
    "    a_list.append\n",
    "    abfit = so.minimize(Chi2, x0=[a,b], args=(x+error_x,y+error_y, error_y))[\"x\"] \n",
    "    a_list.append(abfit[0])\n",
    "    b_list.append(abfit[1])\n",
    "biasa = a-np.mean(a_list)\n",
    "biasb = b-np.mean(b_list)  \n",
    "print(\"The bias of the estimator for a is \"+ str(biasa))\n",
    "print(\"The bias of the estimator for b is \"+ str(biasb)) \n",
    "\n",
    "\n",
    "fig, axs = plt.subplots(1, 2, figsize=(18, 6))\n",
    "axs[0].hist(x=a_list, bins=25, alpha = 0.3, label = \"fitted value of a\")\n",
    "axs[0].vlines(a, 0, 250, color = \"red\", label = \"true value of a\")\n",
    "axs[0].set_xlabel('Fitted values of a')\n",
    "axs[0].set_ylabel('Frequency')\n",
    "axs[0].legend()\n",
    "\n",
    "axs[1].hist(x=b_list, bins=25, color = \"orange\",  alpha = 0.3, label = \"fitted value of b\")\n",
    "axs[1].vlines(b, 0, 250, color = \"red\", label = \"true value of b\")\n",
    "axs[1].set_xlabel('Fitted values of b')\n",
    "axs[1].set_ylabel('Frequency')\n",
    "axs[1].legend()"
   ]
  },
  {
   "cell_type": "markdown",
   "id": "701b1f2a",
   "metadata": {},
   "source": [
    "Discuss if the estimator is biased and/or consistent.\n",
    "If estimator converges to the expected value in the limit of large n, the estimator is said to be consistent.\n",
    "If the bias vanishes in the limit of large n then it is said to be asymptotically unbiased."
   ]
  },
  {
   "cell_type": "code",
   "execution_count": 119,
   "id": "fa66ca03",
   "metadata": {},
   "outputs": [
    {
     "name": "stdout",
     "output_type": "stream",
     "text": [
      "The bias of the estimator for a is 0.03197227764371258\n",
      "The bias of the estimator for b is -0.014154708796043636\n",
      "The mean of the estimator for a is 0.4680277223562874\n",
      "The mean of the estimator for b is 1.0141547087960436\n"
     ]
    }
   ],
   "source": [
    "m = 1 #number of experiments\n",
    "n = 100 # data points\n",
    "a = 0.5\n",
    "b = 1\n",
    "s_y = 0.05\n",
    "s_x = 0.05\n",
    "a_list, b_list = [],[]\n",
    "for i in range(m):\n",
    "    x = np.random.uniform(0, 1, n)\n",
    "    y = linearfunc([a,b],x)\n",
    "    error_y = np.random.normal(0,s_y,n)\n",
    "    error_x = np.random.normal(0,s_x,n)\n",
    "    a_list.append\n",
    "    abfit = so.minimize(Chi2, x0=[a,b], args=(x+error_x,y+error_y, error_y))[\"x\"] \n",
    "    a_list.append(abfit[0])\n",
    "    b_list.append(abfit[1])\n",
    "biasa = a-np.mean(a_list)\n",
    "biasb = b-np.mean(b_list)\n",
    "print(\"The bias of the estimator for a is \"+ str(biasa))\n",
    "print(\"The bias of the estimator for b is \"+ str(biasb)) \n",
    "print(\"The mean of the estimator for a is \"+ str(np.mean(a_list)))\n",
    "print(\"The mean of the estimator for b is \"+ str(np.mean(b_list))) "
   ]
  },
  {
   "cell_type": "code",
   "execution_count": 120,
   "id": "3fce8a2c",
   "metadata": {},
   "outputs": [
    {
     "name": "stdout",
     "output_type": "stream",
     "text": [
      "The bias of the estimator for a is -0.0025421359152746348\n",
      "The bias of the estimator for b is 0.010703538045363614\n",
      "The mean of the estimator for a is 0.5025421359152746\n",
      "The mean of the estimator for b is 0.9892964619546364\n"
     ]
    }
   ],
   "source": [
    "m = 1 #number of experiments\n",
    "n = 10000 # data points\n",
    "a = 0.5\n",
    "b = 1\n",
    "s_y = 0.05\n",
    "s_x = 0.05\n",
    "a_list, b_list = [],[]\n",
    "for i in range(m):\n",
    "    x = np.random.uniform(0, 1, n)\n",
    "    y = linearfunc([a,b],x)\n",
    "    error_y = np.random.normal(0,s_y,n)\n",
    "    error_x = np.random.normal(0,s_x,n)\n",
    "    a_list.append\n",
    "    abfit = so.minimize(Chi2, x0=[a,b], args=(x+error_x,y+error_y, error_y))[\"x\"] \n",
    "    a_list.append(abfit[0])\n",
    "    b_list.append(abfit[1])\n",
    "biasa = a-np.mean(a_list)\n",
    "biasb = b-np.mean(b_list)\n",
    "print(\"The bias of the estimator for a is \"+ str(biasa))\n",
    "print(\"The bias of the estimator for b is \"+ str(biasb)) \n",
    "print(\"The mean of the estimator for a is \"+ str(np.mean(a_list)))\n",
    "print(\"The mean of the estimator for b is \"+ str(np.mean(b_list))) "
   ]
  },
  {
   "cell_type": "markdown",
   "id": "74c2bac4",
   "metadata": {},
   "source": [
    "The estimator does not converge to the expected value in the limit of large n. The estimator not consistent. The bias vanishes in the limit of large n so the estimator is asymptotically unbiased."
   ]
  }
 ],
 "metadata": {
  "kernelspec": {
   "display_name": "Python 3 (ipykernel)",
   "language": "python",
   "name": "python3"
  },
  "language_info": {
   "codemirror_mode": {
    "name": "ipython",
    "version": 3
   },
   "file_extension": ".py",
   "mimetype": "text/x-python",
   "name": "python",
   "nbconvert_exporter": "python",
   "pygments_lexer": "ipython3",
   "version": "3.9.7"
  }
 },
 "nbformat": 4,
 "nbformat_minor": 5
}
