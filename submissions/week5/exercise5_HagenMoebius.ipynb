{
 "cells": [
  {
   "cell_type": "code",
   "execution_count": 1,
   "metadata": {},
   "outputs": [],
   "source": [
    "import numpy as np\n",
    "import matplotlib.pyplot as plt\n",
    "import scipy \n",
    "import scipy.optimize as so\n",
    "\n",
    "from scipy import odr\n",
    "from uncertainties import unumpy, ufloat"
   ]
  },
  {
   "cell_type": "markdown",
   "metadata": {},
   "source": [
    "First of all I try to find the estimator by analytically minimizing the chi2"
   ]
  },
  {
   "cell_type": "markdown",
   "metadata": {},
   "source": [
    "The $\\chi^2$ is defined as: $$\\chi^2=\\sum_{i=1}^{n} \\frac{(y_i-f(x_i))^2}{\\sigma_{y}^2}$$\n",
    "\n",
    "This can be minimized by requiring $$\\frac{\\partial \\chi^2}{\\partial x}=0$$\n",
    "This means  $$\\frac{\\partial \\chi^2}{\\partial x}=\\sum_{i=1}^{n} -2\\cdot\\frac{(y_i-f(x_i))}{\\sigma_{y}}\\cdot \\frac{\\partial f(x_i)}{\\partial x_i}=0$$\n",
    "and  $$=\\sum_{i=1}^{n} \\cdot\\frac{(y_i-f(x_i))}{\\sigma_{y}}\\cdot \\frac{\\partial f(x_i)}{\\partial x_i}=0$$\n",
    "and for constant $\\sigma_y$:\n",
    "$$=\\sum_{i=1}^{n} (y_i-f(x_i))\\cdot \\frac{\\partial f(x_i)}{\\partial x_i}=0$$\n",
    "For a linear function $f(x)=ax+b$ we get:\n",
    "$$=\\sum_{i=1}^{n} (y_i-ax_i-b)\\cdot a=0$$\n",
    "dividing by a and splitting the sum leads to:\n",
    "$$=\\sum_{i=1}^{n} y_i-\\sum_{i=1}^{n} (ax_i+b)=0$$\n",
    "$$=\\sum_{i=1}^{n} (y_i-b)-a\\cdot \\sum_{i=1}^{n} x_i=0$$\n",
    "and we arrive at:\n",
    "$$\\frac{\\sum_{i=1}^{n} (y_i-b)}{ \\sum_{i=1}^{n} x_i}=a$$"
   ]
  },
  {
   "cell_type": "markdown",
   "metadata": {},
   "source": [
    "Now I define some functions"
   ]
  },
  {
   "cell_type": "code",
   "execution_count": 2,
   "metadata": {},
   "outputs": [],
   "source": [
    "def Fitfunktion(params,x):   #fitfunction\n",
    "    A, B = params\n",
    "    return A*x+B"
   ]
  },
  {
   "cell_type": "code",
   "execution_count": 3,
   "metadata": {},
   "outputs": [],
   "source": [
    "def chi2(params,x,y,sigmay):   #chi2 calculation\n",
    "    chi= np.sum((y-Fitfunktion(params,x))**2/sigmay**2)\n",
    "    return chi"
   ]
  },
  {
   "cell_type": "code",
   "execution_count": 4,
   "metadata": {},
   "outputs": [],
   "source": [
    "def estimator(x,y,b):   #estimator calculation\n",
    "    a=np.sum(y-b)/np.sum(x)\n",
    "    return a"
   ]
  },
  {
   "cell_type": "markdown",
   "metadata": {},
   "source": [
    "One experiment looks like that:"
   ]
  },
  {
   "cell_type": "code",
   "execution_count": 5,
   "metadata": {},
   "outputs": [
    {
     "data": {
      "text/plain": [
       "<matplotlib.collections.PathCollection at 0x202319bba88>"
      ]
     },
     "execution_count": 5,
     "metadata": {},
     "output_type": "execute_result"
    },
    {
     "data": {
      "image/png": "[encoded data removed]",
      "text/plain": [
       "<Figure size 432x288 with 1 Axes>"
      ]
     },
     "metadata": {
      "needs_background": "light"
     },
     "output_type": "display_data"
    }
   ],
   "source": [
    "x=np.random.uniform(0,1,10)   #generate x-data points\n",
    "        \n",
    "sigmay=np.random.normal(0,0.05,10)   # generate y-deviation\n",
    "b=1       #values for a and b\n",
    "a=0.5\n",
    "        \n",
    "y_mc=a*x+b \n",
    "\n",
    "plt.scatter(x,y_mc+sigmay)"
   ]
  },
  {
   "cell_type": "markdown",
   "metadata": {},
   "source": [
    "This data would then be fitted."
   ]
  },
  {
   "cell_type": "markdown",
   "metadata": {},
   "source": [
    "Now I define a function to repeat the experiment 1000 times"
   ]
  },
  {
   "cell_type": "code",
   "execution_count": 6,
   "metadata": {},
   "outputs": [],
   "source": [
    "def Experiment_iteration(Iteration_number,a_given,b_given):\n",
    "    a_fit_array=np.zeros(0)\n",
    "    b_fit_array=np.zeros(0)\n",
    "    a_estimator_array=np.zeros(0)\n",
    "   # mode_array=np.zeros(0)\n",
    "    \n",
    "    \n",
    "    \n",
    "    for i in range(Iteration_number):\n",
    "        x=np.random.uniform(0,1,10)   #generate x-data points\n",
    "        \n",
    "        sigmay=np.random.normal(0,0.05,10)   # generate y-deviation\n",
    "        b=b_given        #values for a and b\n",
    "        a=a_given\n",
    "        \n",
    "        y_mc=a*x+b     #calculate y-datapoints\n",
    "        Optimal= so.minimize(chi2,x0=[a_given,b_given],args=(x,y_mc+sigmay,sigmay))['x']\n",
    "        a_fit=Optimal[0]   #fit data to linear model\n",
    "        b_fit=Optimal[1]\n",
    "        \n",
    "        \n",
    "        a_estimator=estimator(x,y_mc+sigmay,b_fit)   #calculate estimator\n",
    "        \n",
    "        a_fit_array=np.append([a_fit],[a_fit_array])\n",
    "        b_fit_array=np.append([b_fit],[b_fit_array])\n",
    "        \n",
    "        a_estimator_array=np.append([a_estimator],[a_estimator_array])\n",
    "       \n",
    "    \n",
    "    return a_fit_array, b_fit_array, a_estimator_array"
   ]
  },
  {
   "cell_type": "code",
   "execution_count": 9,
   "metadata": {},
   "outputs": [],
   "source": [
    "Experiment1=Experiment_iteration(1000,0.5,1)"
   ]
  },
  {
   "cell_type": "markdown",
   "metadata": {},
   "source": [
    "I calculate the bias as the difference between the mean value of the fit and the estimator"
   ]
  },
  {
   "cell_type": "code",
   "execution_count": 10,
   "metadata": {},
   "outputs": [
    {
     "data": {
      "text/plain": [
       "0.0011874508147924376"
      ]
     },
     "execution_count": 10,
     "metadata": {},
     "output_type": "execute_result"
    }
   ],
   "source": [
    "Bias=np.mean(Experiment1[0]-Experiment1[2])\n",
    "Bias"
   ]
  },
  {
   "cell_type": "markdown",
   "metadata": {},
   "source": [
    "The bias is close to zero. Therefore the estimator is unbiased"
   ]
  },
  {
   "cell_type": "code",
   "execution_count": 47,
   "metadata": {},
   "outputs": [
    {
     "data": {
      "text/plain": [
       "0.49905588214150304"
      ]
     },
     "execution_count": 47,
     "metadata": {},
     "output_type": "execute_result"
    }
   ],
   "source": [
    "np.mean(Experiment1[2])  # mean of estimator value"
   ]
  },
  {
   "cell_type": "code",
   "execution_count": 50,
   "metadata": {},
   "outputs": [
    {
     "data": {
      "text/plain": [
       "0.5002433329562955"
      ]
     },
     "execution_count": 50,
     "metadata": {},
     "output_type": "execute_result"
    }
   ],
   "source": [
    "np.mean(Experiment1[0])   #mean of fit value"
   ]
  },
  {
   "cell_type": "code",
   "execution_count": null,
   "metadata": {},
   "outputs": [],
   "source": []
  },
  {
   "cell_type": "markdown",
   "metadata": {},
   "source": [
    "Now I add an error in x. For the fitting I now user another package which can fit for errors in both variables x and y"
   ]
  },
  {
   "cell_type": "markdown",
   "metadata": {},
   "source": [
    "One experiment would now look like this:"
   ]
  },
  {
   "cell_type": "code",
   "execution_count": 11,
   "metadata": {},
   "outputs": [
    {
     "data": {
      "text/plain": [
       "<matplotlib.collections.PathCollection at 0x20231a87348>"
      ]
     },
     "execution_count": 11,
     "metadata": {},
     "output_type": "execute_result"
    },
    {
     "data": {
      "image/png": "[encoded data removed]",
      "text/plain": [
       "<Figure size 432x288 with 1 Axes>"
      ]
     },
     "metadata": {
      "needs_background": "light"
     },
     "output_type": "display_data"
    }
   ],
   "source": [
    "x=np.random.uniform(0,1,10)   #generate x-data points\n",
    "        \n",
    "sigmay=np.random.normal(0,0.05,10)   # generate y-deviation\n",
    "sigmax=np.random.normal(0,0.05,10)  #genertae x deviation\n",
    "b=1       #values for a and b\n",
    "a=0.5\n",
    "        \n",
    "y_mc=a*x+b \n",
    "\n",
    "plt.scatter(x+sigmax,y_mc+sigmay)"
   ]
  },
  {
   "cell_type": "markdown",
   "metadata": {},
   "source": [
    "This data would then be fitted"
   ]
  },
  {
   "cell_type": "markdown",
   "metadata": {},
   "source": [
    "Now I write a function to repeat the experiment multiple times."
   ]
  },
  {
   "cell_type": "code",
   "execution_count": 12,
   "metadata": {},
   "outputs": [],
   "source": [
    "def Experiment_iteration2(Iteration_number,a_given,b_given,x_deviation,y_deviation,n):\n",
    "    a_fit_array=np.zeros(0)\n",
    "    b_fit_array=np.zeros(0)\n",
    "    a_estimator_array=np.zeros(0)\n",
    "   # mode_array=np.zeros(0)\n",
    "    \n",
    "    \n",
    "    \n",
    "    for i in range(Iteration_number):\n",
    "        x=np.random.uniform(0,1,n)  #generate x-data points\n",
    "        \n",
    "        sigmay=np.random.normal(0,y_deviation,n)  # generate y-deviation\n",
    "        sigmax=np.random.normal(0,x_deviation,n)  # generate x-deviation\n",
    "        b=b_given\n",
    "        a=a_given\n",
    "       \n",
    "        y_mc=a*x+b    #calculate y-datapoints\n",
    "        \n",
    "        quad_model = scipy.odr.Model(Fitfunktion)\n",
    "        data = scipy.odr.RealData(x+sigmax,y_mc+sigmay,sx=sigmax,sy=sigmay)\n",
    "        odr = scipy.odr.ODR(data, quad_model, beta0=[0.5, 1])\n",
    "        odr.set_job(fit_type=0)\n",
    "        out = odr.run()\n",
    "        popt = out.beta\n",
    "        perr = out.sd_beta\n",
    "        \n",
    "        \n",
    "        a_fit=popt[0]\n",
    "        b_fit=popt[1]\n",
    "        \n",
    "        \n",
    "        a_estimator=estimator(x+sigmax,y_mc+sigmay,b_fit)\n",
    "        \n",
    "        a_fit_array=np.append([a_fit],[a_fit_array])\n",
    "        b_fit_array=np.append([b_fit],[b_fit_array])\n",
    "        \n",
    "        a_estimator_array=np.append([a_estimator],[a_estimator_array])\n",
    "       \n",
    "    \n",
    "    return a_fit_array, b_fit_array, a_estimator_array"
   ]
  },
  {
   "cell_type": "code",
   "execution_count": 25,
   "metadata": {},
   "outputs": [],
   "source": [
    "Experiment2=Experiment_iteration2(1000,0.5,1,0.05,0.05,10)"
   ]
  },
  {
   "cell_type": "code",
   "execution_count": 26,
   "metadata": {},
   "outputs": [
    {
     "data": {
      "text/plain": [
       "0.0017696172078696451"
      ]
     },
     "execution_count": 26,
     "metadata": {},
     "output_type": "execute_result"
    }
   ],
   "source": [
    "Bias2=np.mean(Experiment2[0]-Experiment2[2])\n",
    "Bias2"
   ]
  },
  {
   "cell_type": "markdown",
   "metadata": {},
   "source": [
    "The bias is still close to zero"
   ]
  },
  {
   "cell_type": "code",
   "execution_count": 55,
   "metadata": {},
   "outputs": [
    {
     "data": {
      "text/plain": [
       "0.4996474929586463"
      ]
     },
     "execution_count": 55,
     "metadata": {},
     "output_type": "execute_result"
    }
   ],
   "source": [
    "np.mean(Experiment2[2])  #mean of estimator"
   ]
  },
  {
   "cell_type": "code",
   "execution_count": 56,
   "metadata": {},
   "outputs": [
    {
     "data": {
      "text/plain": [
       "0.5014171101665159"
      ]
     },
     "execution_count": 56,
     "metadata": {},
     "output_type": "execute_result"
    }
   ],
   "source": [
    "np.mean(Experiment2[0])  #mean of fit value"
   ]
  },
  {
   "cell_type": "markdown",
   "metadata": {},
   "source": [
    "Now I increase the error in x and y to 0.2"
   ]
  },
  {
   "cell_type": "code",
   "execution_count": 57,
   "metadata": {},
   "outputs": [],
   "source": [
    "Experiment3=Experiment_iteration2(1000,0.5,1,0.2,0.2,10)"
   ]
  },
  {
   "cell_type": "code",
   "execution_count": 58,
   "metadata": {},
   "outputs": [
    {
     "data": {
      "text/plain": [
       "-0.001193347078689456"
      ]
     },
     "execution_count": 58,
     "metadata": {},
     "output_type": "execute_result"
    }
   ],
   "source": [
    "Bias3=np.mean(Experiment3[0]-Experiment3[2])\n",
    "Bias3"
   ]
  },
  {
   "cell_type": "markdown",
   "metadata": {},
   "source": [
    "The bias is still close to zero"
   ]
  },
  {
   "cell_type": "code",
   "execution_count": 59,
   "metadata": {},
   "outputs": [
    {
     "data": {
      "text/plain": [
       "0.5395730002708933"
      ]
     },
     "execution_count": 59,
     "metadata": {},
     "output_type": "execute_result"
    }
   ],
   "source": [
    "np.mean(Experiment3[2])"
   ]
  },
  {
   "cell_type": "code",
   "execution_count": 60,
   "metadata": {},
   "outputs": [
    {
     "data": {
      "text/plain": [
       "0.5383796531922039"
      ]
     },
     "execution_count": 60,
     "metadata": {},
     "output_type": "execute_result"
    }
   ],
   "source": [
    "np.mean(Experiment3[0])"
   ]
  },
  {
   "cell_type": "markdown",
   "metadata": {},
   "source": [
    "One can notice that the fit value and the estimator value are now further away from the value of 0.5"
   ]
  },
  {
   "cell_type": "markdown",
   "metadata": {},
   "source": [
    "Now I increase n"
   ]
  },
  {
   "cell_type": "code",
   "execution_count": 68,
   "metadata": {},
   "outputs": [],
   "source": [
    "bias_n_array=np.zeros(0)\n",
    "n_array=np.zeros(0)\n",
    "estimator_array=np.zeros(0)\n",
    "\n",
    "\n",
    "for i in np.arange(10,10000,1000):\n",
    "    Experiment_n=Experiment_iteration2(1000,0.5,1,0.2,0.2,i)\n",
    "    bias_n=np.mean(Experiment_n[0]-Experiment_n[2])\n",
    "    bias_n_array=np.append([bias_n],[bias_n_array])\n",
    "    n_array=np.append([i],[n_array])\n",
    "    estimator_array=np.append([np.mean(Experiment_n[2])],[estimator_array])"
   ]
  },
  {
   "cell_type": "code",
   "execution_count": 69,
   "metadata": {},
   "outputs": [
    {
     "data": {
      "text/plain": [
       "<matplotlib.collections.PathCollection at 0x20231dd5ec8>"
      ]
     },
     "execution_count": 69,
     "metadata": {},
     "output_type": "execute_result"
    },
    {
     "data": {
      "image/png": "[encoded data removed]",
      "text/plain": [
       "<Figure size 432x288 with 1 Axes>"
      ]
     },
     "metadata": {
      "needs_background": "light"
     },
     "output_type": "display_data"
    }
   ],
   "source": [
    "plt.scatter(n_array,bias_n_array)"
   ]
  },
  {
   "cell_type": "code",
   "execution_count": 70,
   "metadata": {},
   "outputs": [
    {
     "data": {
      "text/plain": [
       "array([-9.06950578e-05,  2.27772040e-04,  2.81222321e-04,  8.59333059e-05,\n",
       "        2.00469570e-04, -1.65679030e-05, -9.17843346e-05, -3.23617222e-05,\n",
       "       -1.04974194e-04, -6.40988462e-03])"
      ]
     },
     "execution_count": 70,
     "metadata": {},
     "output_type": "execute_result"
    }
   ],
   "source": [
    "bias_n_array"
   ]
  },
  {
   "cell_type": "code",
   "execution_count": 71,
   "metadata": {},
   "outputs": [
    {
     "data": {
      "text/plain": [
       "array([9010., 8010., 7010., 6010., 5010., 4010., 3010., 2010., 1010.,\n",
       "         10.])"
      ]
     },
     "execution_count": 71,
     "metadata": {},
     "output_type": "execute_result"
    }
   ],
   "source": [
    "n_array"
   ]
  },
  {
   "cell_type": "markdown",
   "metadata": {},
   "source": [
    "For larger n the difference between the fit value and the estimator value reduces."
   ]
  },
  {
   "cell_type": "code",
   "execution_count": 72,
   "metadata": {},
   "outputs": [
    {
     "data": {
      "text/plain": [
       "<matplotlib.collections.PathCollection at 0x20232e0e988>"
      ]
     },
     "execution_count": 72,
     "metadata": {},
     "output_type": "execute_result"
    },
    {
     "data": {
      "image/png": "[encoded data removed]",
      "text/plain": [
       "<Figure size 432x288 with 1 Axes>"
      ]
     },
     "metadata": {
      "needs_background": "light"
     },
     "output_type": "display_data"
    }
   ],
   "source": [
    "plt.scatter(n_array,estimator_array)"
   ]
  },
  {
   "cell_type": "code",
   "execution_count": 74,
   "metadata": {},
   "outputs": [
    {
     "data": {
      "text/plain": [
       "array([0.50009792, 0.49983724, 0.49975891, 0.49986121, 0.4997821 ,\n",
       "       0.50009149, 0.50037051, 0.49985923, 0.5000991 , 0.5357668 ])"
      ]
     },
     "execution_count": 74,
     "metadata": {},
     "output_type": "execute_result"
    }
   ],
   "source": [
    "estimator_array"
   ]
  },
  {
   "cell_type": "code",
   "execution_count": 75,
   "metadata": {},
   "outputs": [
    {
     "data": {
      "text/plain": [
       "array([9010., 8010., 7010., 6010., 5010., 4010., 3010., 2010., 1010.,\n",
       "         10.])"
      ]
     },
     "execution_count": 75,
     "metadata": {},
     "output_type": "execute_result"
    }
   ],
   "source": [
    "n_array"
   ]
  },
  {
   "cell_type": "markdown",
   "metadata": {},
   "source": [
    "For larger n the estimator value gets closer to the value of 0.5"
   ]
  },
  {
   "cell_type": "markdown",
   "metadata": {},
   "source": [
    "This suggests that the estimator is consistent"
   ]
  },
  {
   "cell_type": "code",
   "execution_count": null,
   "metadata": {},
   "outputs": [],
   "source": []
  }
 ],
 "metadata": {
  "kernelspec": {
   "display_name": "Python 3",
   "language": "python",
   "name": "python3"
  },
  "language_info": {
   "codemirror_mode": {
    "name": "ipython",
    "version": 3
   },
   "file_extension": ".py",
   "mimetype": "text/x-python",
   "name": "python",
   "nbconvert_exporter": "python",
   "pygments_lexer": "ipython3",
   "version": "3.7.6"
  }
 },
 "nbformat": 4,
 "nbformat_minor": 4
}
