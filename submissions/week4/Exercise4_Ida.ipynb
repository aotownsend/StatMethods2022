{
 "cells": [
  {
   "cell_type": "code",
   "execution_count": 1,
   "id": "b8883fe5",
   "metadata": {},
   "outputs": [],
   "source": [
    "import matplotlib.pyplot as plt\n",
    "import numpy as np\n",
    "import pandas as pd"
   ]
  },
  {
   "cell_type": "code",
   "execution_count": 149,
   "id": "8dba2a42",
   "metadata": {},
   "outputs": [],
   "source": [
    "n, phi, error_phi = np.arange(1,10), [12*np.pi/180,22*np.pi/180,25*np.pi/180,38*np.pi/180,46*np.pi/180,72*np.pi/180,77*np.pi/180,86*np.pi/180,135*np.pi/180], [2*np.pi/180,4*np.pi/180,5*np.pi/180,6*np.pi/180,7*np.pi/180,10*np.pi/180,12*np.pi/180,16*np.pi/180,18*np.pi/180]"
   ]
  },
  {
   "cell_type": "code",
   "execution_count": 150,
   "id": "a5bc0d13",
   "metadata": {},
   "outputs": [],
   "source": [
    "sin, errorsin = [0]*9, [0]*9"
   ]
  },
  {
   "cell_type": "code",
   "execution_count": 151,
   "id": "a64defe7",
   "metadata": {},
   "outputs": [],
   "source": [
    "sin, errorsin, d = [0]*9, [0]*9, [0]*9\n",
    "for i in range(len(phi)):\n",
    "    sin[i] = np.sin(phi[i]/2)\n",
    "    errorsin[i] = np.sqrt((np.cos(phi[i]/2)*error_phi[i])**2) #(cos(phi/2)*error_phi)**2\n",
    "    d[i] = n[i]*0.0711/2/sin[i]"
   ]
  },
  {
   "cell_type": "code",
   "execution_count": 152,
   "id": "03504035",
   "metadata": {},
   "outputs": [
    {
     "name": "stdout",
     "output_type": "stream",
     "text": [
      "[0.340098752901125, 0.37262394186233405, 0.4927471365315761, 0.4367749058168799, 0.45491640424773466, 0.3628876348429802, 0.3997496369629321, 0.41700980039590935, 0.3463113844835514]\n"
     ]
    }
   ],
   "source": [
    "print(d) #in nm"
   ]
  },
  {
   "cell_type": "code",
   "execution_count": 153,
   "id": "aba21516",
   "metadata": {},
   "outputs": [],
   "source": [
    "data = [n, phi, error_phi, sin, errorsin, d]"
   ]
  },
  {
   "cell_type": "code",
   "execution_count": 154,
   "id": "90bc9a0e",
   "metadata": {},
   "outputs": [
    {
     "data": {
      "text/plain": [
       "Text(0, 0.5, 'sin(phi/2)')"
      ]
     },
     "execution_count": 154,
     "metadata": {},
     "output_type": "execute_result"
    },
    {
     "data": {
      "image/png": "[encoded data removed]",
      "text/plain": [
       "<Figure size 864x360 with 1 Axes>"
      ]
     },
     "metadata": {
      "needs_background": "light"
     },
     "output_type": "display_data"
    }
   ],
   "source": [
    "plt.figure(figsize=(12, 5))\n",
    "plt.plot(n, sin)\n",
    "plt.errorbar(n, sin , yerr = errorsin,fmt='.k', label = \"errorbar\")\n",
    "plt.xlabel(\"n\")\n",
    "plt.ylabel(\"sin(phi/2)\")        "
   ]
  },
  {
   "cell_type": "markdown",
   "id": "f591d530",
   "metadata": {},
   "source": [
    "#### 3. Estimators"
   ]
  },
  {
   "cell_type": "code",
   "execution_count": 100,
   "id": "7214c1c6",
   "metadata": {},
   "outputs": [],
   "source": [
    "uniform = np.random.uniform(160, 180, 10)\n",
    "normal = np.random.normal(170, 10, 10)"
   ]
  },
  {
   "cell_type": "code",
   "execution_count": 40,
   "id": "54b3e23a",
   "metadata": {},
   "outputs": [
    {
     "data": {
      "text/plain": [
       "array([145.89014949, 155.61887355, 155.67434623, 160.60345676,\n",
       "       162.53212722, 164.30784052, 172.47097252, 175.64771527,\n",
       "       176.80290865, 179.285069  ])"
      ]
     },
     "execution_count": 40,
     "metadata": {},
     "output_type": "execute_result"
    }
   ],
   "source": [
    "normal"
   ]
  },
  {
   "cell_type": "code",
   "execution_count": 37,
   "id": "2680dd85",
   "metadata": {},
   "outputs": [],
   "source": [
    "uniform.sort()\n",
    "normal.sort()"
   ]
  },
  {
   "cell_type": "code",
   "execution_count": 108,
   "id": "c21b4534",
   "metadata": {},
   "outputs": [],
   "source": [
    "def mode(ls):\n",
    "    counts = {}\n",
    "    for item in ls:\n",
    "        if int(item) in counts:\n",
    "            counts[int(item)] += 1\n",
    "        else:\n",
    "            counts[int(item)] = 1  \n",
    "    return [key for key in counts.keys() if counts[key] == max(counts.values())]    \n",
    "            "
   ]
  },
  {
   "cell_type": "code",
   "execution_count": 104,
   "id": "46980e1e",
   "metadata": {},
   "outputs": [
    {
     "data": {
      "text/plain": [
       "[169, 176, 166]"
      ]
     },
     "execution_count": 104,
     "metadata": {},
     "output_type": "execute_result"
    }
   ],
   "source": [
    "mode(uniform)"
   ]
  },
  {
   "cell_type": "code",
   "execution_count": 109,
   "id": "a456dbbf",
   "metadata": {},
   "outputs": [],
   "source": [
    "arithmetic = [0,0] #arithmetic mean\n",
    "median = [uniform[4], normal[4]]#median\n",
    "geometric = [1,1]#geometric mean\n",
    "modelist = [mode(uniform),mode(normal)] #mode\n",
    "for i in range(10):\n",
    "        arithmetic[0] += uniform[i]/10 \n",
    "        arithmetic[1] += normal[i]/10\n",
    "        geometric[0]*uniform[i]\n",
    "        geometric[1]*normal[i]        \n",
    "        \n",
    "geometric[0] = np.sqrt(geometric[0])\n",
    "geometric[1] = np.sqrt(geometric[1])"
   ]
  },
  {
   "cell_type": "code",
   "execution_count": 115,
   "id": "2e4a557d",
   "metadata": {},
   "outputs": [],
   "source": [
    "#normal and uniform\n",
    "n = 10000\n",
    "arithmetic = [[],[]] #arithmetic mean uniform, normal\n",
    "median = [[],[]]#median uniform, normal\n",
    "geometric = [[],[]]#geometric mean uniform, normal\n",
    "modelist = [[],[]] #mode uniform, normal\n",
    "for j in range(n):\n",
    "    uniform = np.random.uniform(160, 180, 10)\n",
    "    normal = np.random.normal(170, 10, 10)\n",
    "    uniform.sort()\n",
    "    normal.sort()\n",
    "    arithmetic[0].append(0)#arithmetic mean\n",
    "    arithmetic[1].append(0)\n",
    "    median[0].append(uniform[4])\n",
    "    median[1].append(normal[4])#median\n",
    "    geometric[0].append(1)#geometric mean\n",
    "    geometric[1].append(1)\n",
    "    modelist[0].append(mode(uniform))\n",
    "    modelist[1].append(mode(normal)) #mode\n",
    "    for i in range(10):\n",
    "        arithmetic[0][j] += uniform[i]/10 \n",
    "        arithmetic[1][j] += normal[i]/10\n",
    "        geometric[0][j] = geometric[0][j]*uniform[i]\n",
    "        geometric[1][j] = geometric[1][j]*normal[i]              \n",
    "    geometric[0][j] = (geometric[0][j])**(1/10)\n",
    "    geometric[1][j] = (geometric[1][j])**(1/10)"
   ]
  },
  {
   "cell_type": "code",
   "execution_count": 130,
   "id": "b1820ac9",
   "metadata": {},
   "outputs": [],
   "source": [
    "biasarithmetic = np.mean(arithmetic, axis=1)-170\n",
    "biasmedian = np.mean(median, axis=1)-170 \n",
    "biasgeometric = np.mean(geometric, axis=1)-170\n",
    "#biasmodelist = np.mean(modelist, axis=1)-170"
   ]
  },
  {
   "cell_type": "code",
   "execution_count": 131,
   "id": "32b0bbf4",
   "metadata": {},
   "outputs": [
    {
     "name": "stdout",
     "output_type": "stream",
     "text": [
      "[-0.00315087 -0.01270917] [-0.89843255 -1.23914767] [-0.09168733 -0.27864115]\n"
     ]
    }
   ],
   "source": [
    "print(biasarithmetic, biasmedian, biasgeometric)"
   ]
  },
  {
   "cell_type": "code",
   "execution_count": 134,
   "id": "ccc72702",
   "metadata": {},
   "outputs": [],
   "source": [
    "vararithmetic = np.var(arithmetic, axis=1)\n",
    "varmedian = np.var(median, axis=1) \n",
    "vargeometric = np.var(geometric, axis=1)"
   ]
  },
  {
   "cell_type": "code",
   "execution_count": 135,
   "id": "c541331d",
   "metadata": {},
   "outputs": [
    {
     "name": "stdout",
     "output_type": "stream",
     "text": [
      "[3.38436338 9.89685505] [ 8.36259484 15.04186557] [3.3866652  9.94885661]\n"
     ]
    }
   ],
   "source": [
    "print(vararithmetic, varmedian, vargeometric)"
   ]
  },
  {
   "cell_type": "code",
   "execution_count": null,
   "id": "2a919c7a",
   "metadata": {},
   "outputs": [],
   "source": []
  }
 ],
 "metadata": {
  "kernelspec": {
   "display_name": "Python 3 (ipykernel)",
   "language": "python",
   "name": "python3"
  },
  "language_info": {
   "codemirror_mode": {
    "name": "ipython",
    "version": 3
   },
   "file_extension": ".py",
   "mimetype": "text/x-python",
   "name": "python",
   "nbconvert_exporter": "python",
   "pygments_lexer": "ipython3",
   "version": "3.9.7"
  }
 },
 "nbformat": 4,
 "nbformat_minor": 5
}
