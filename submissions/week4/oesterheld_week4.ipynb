{
 "cells": [
  {
   "cell_type": "markdown",
   "metadata": {},
   "source": [
    "# Exercise Sheet 4\n",
    "\n",
    "Willy Oesterheld (508791)"
   ]
  },
  {
   "cell_type": "code",
   "execution_count": 2,
   "metadata": {},
   "outputs": [],
   "source": [
    "import numpy as np\n",
    "import matplotlib.pyplot as plt\n",
    "import scipy as sp"
   ]
  },
  {
   "cell_type": "markdown",
   "metadata": {},
   "source": [
    "## 1 X-ray scattering"
   ]
  },
  {
   "cell_type": "code",
   "execution_count": 3,
   "metadata": {},
   "outputs": [
    {
     "name": "stdout",
     "output_type": "stream",
     "text": [
      "The plane spacing is (0.3948 ± 0.08461)nm.\n"
     ]
    },
    {
     "data": {
      "image/png": "[encoded data removed]",
      "text/plain": [
       "<Figure size 640x480 with 1 Axes>"
      ]
     },
     "metadata": {},
     "output_type": "display_data"
    }
   ],
   "source": [
    "# given data points\n",
    "n = np.arange(1,10)\n",
    "phi = np.array([12, 22, 25, 38, 46, 72, 77, 86, 135]) * np.pi/180\n",
    "phi_err = np.array([2, 4, 5, 6, 7, 10, 12, 16, 18]) * np.pi /180\n",
    "\n",
    "# data to plot with propagated error\n",
    "y = np.sin(phi/2)\n",
    "y_err = np.abs(np.cos(phi/2)) * phi_err\n",
    "\n",
    "# create plot\n",
    "plt.errorbar(n, y, yerr=y_err, capsize=4.5, label=\"Measurment\")\n",
    "plt.xlim(n[0], n[-1])\n",
    "plt.xlabel(\"Order\")\n",
    "plt.ylabel(\"sin($\\phi$/2)\")\n",
    "\n",
    "# fit to y = ax+b\n",
    "coeff, info = np.polynomial.polynomial.polyfit(n, y, deg=[1], w=y_err, full=True)\n",
    "plt.plot(n, coeff[1]*n, label=\"Fit\")\n",
    "plt.legend()\n",
    "\n",
    "# calculate plane spacing\n",
    "l = 0.0711 # in nm\n",
    "a = coeff[1]\n",
    "a_err = np.sqrt(info[0][0])\n",
    "d = l/2/a\n",
    "d_err = l/2/(a**2) * a_err\n",
    "print(f\"The plane spacing is ({d:.4} ± {d_err:.4})nm.\")"
   ]
  },
  {
   "cell_type": "markdown",
   "metadata": {},
   "source": [
    "## 2 Ohm's Law"
   ]
  },
  {
   "cell_type": "markdown",
   "metadata": {},
   "source": [
    "The covariance matrix is given by\n",
    "$$\n",
    "C_{RV} = \n",
    "\\begin{bmatrix}\n",
    "(\\sigma_R+S_R)^2                && (\\sigma_R+S_R)(\\sigma_V+S_V) \\\\ \n",
    "(\\sigma_R+S_R)(\\sigma_V+S_V)    && (\\sigma_V+S_V)^2\n",
    "\\end{bmatrix}\n",
    "$$\n",
    "\n",
    "The following code calculates the coefficients\n"
   ]
  },
  {
   "cell_type": "code",
   "execution_count": 4,
   "metadata": {},
   "outputs": [
    {
     "name": "stdout",
     "output_type": "stream",
     "text": [
      "[[40000.0, 100.0], [100.0, 0.25]]\n"
     ]
    }
   ],
   "source": [
    "sigma_R = 0.2*1e3\n",
    "sigma_V = 0.3\n",
    "S_R = 0\n",
    "S_V = 0.2\n",
    "\n",
    "a = sigma_R + S_R\n",
    "b = sigma_V + S_V\n",
    "\n",
    "C = [[a**2, a*b], [a*b, b**2]]\n",
    "\n",
    "print(C)"
   ]
  },
  {
   "cell_type": "markdown",
   "metadata": {},
   "source": [
    "$$\n",
    "C_{RV} = \n",
    "\\begin{bmatrix}\n",
    "40000               && 100 \\\\ \n",
    "100    && 0.25\n",
    "\\end{bmatrix}\n",
    "$$"
   ]
  },
  {
   "cell_type": "markdown",
   "metadata": {},
   "source": [
    "Now calculate the current $I=\\frac{V}{R}$ and error $\\sigma_{I} = \\sqrt{(\\frac{(\\sigma_{V}+S_V)}{R})^2 + (\\frac{V\\sigma_R}{R^2})^2}$"
   ]
  },
  {
   "cell_type": "code",
   "execution_count": 5,
   "metadata": {},
   "outputs": [
    {
     "name": "stdout",
     "output_type": "stream",
     "text": [
      "(0.0012, 0.02000000000009)\n"
     ]
    }
   ],
   "source": [
    "V = 12\n",
    "R = 1e4\n",
    "I = V/R\n",
    "I_err = np.sqrt((a/R)**2 + (V*b/R**2)**2)\n",
    "print((I, I_err))"
   ]
  },
  {
   "cell_type": "markdown",
   "metadata": {},
   "source": [
    "$\n",
    "I = (0.0012 \\pm 0.0200) A\n",
    "$"
   ]
  },
  {
   "cell_type": "markdown",
   "metadata": {},
   "source": [
    "## 3 Estimators"
   ]
  },
  {
   "cell_type": "code",
   "execution_count": 6,
   "metadata": {},
   "outputs": [
    {
     "name": "stdout",
     "output_type": "stream",
     "text": [
      "Gaussian distribution\n",
      "\n",
      "Arithmetic Mean\n",
      "\tBias: -0.0423\t\t Variance: 10.0966\n",
      "Median\t\n",
      "\tBias: -0.0558\t\t Variance: 14.0393\n",
      "Geometric Mean\n",
      "\tBias: -0.3101\t\t Variance: 10.1349\n",
      "Mode\t\n",
      "\tBias: -15.4850\t\t Variance: 34.8467\n",
      "\n",
      "----------------------------------------------------\n",
      "Uniform distribution\n",
      "\n",
      "Arithmetic Mean\n",
      "\tBias: -0.0099\t\t Variance: 0.8346\n",
      "Median\t\n",
      "\tBias: -0.0185\t\t Variance: 1.9025\n",
      "Geometric Mean\n",
      "\tBias: -0.0320\t\t Variance: 0.8347\n",
      "Mode\t\n",
      "\tBias: -4.0852\t\t Variance: 0.6727\n"
     ]
    }
   ],
   "source": [
    "num_sample = 10\n",
    "num_rep = 10000\n",
    "\n",
    "c = 170\n",
    "w = 10\n",
    "\n",
    "\n",
    "def gmean(x):\n",
    "    return np.exp(np.sum(np.log(x), axis=1)/num_sample)\n",
    "\n",
    "estimator_names = (\"Arithmetic Mean\", \"Median\\t\", \"Geometric Mean\", \"Mode\\t\")\n",
    "estimators = (lambda x : np.mean(x, axis=1), lambda x : np.median(x, axis=1), lambda x : gmean(x), lambda x : sp.stats.mode(x, axis=1, keepdims=False)[0])\n",
    "\n",
    "def compareEstimators(x):\n",
    "    for i in range(0,4):\n",
    "        y = estimators[i](x)\n",
    "        bias = np.mean(y-c)\n",
    "        var = np.var(y)\n",
    "        print(f\"{estimator_names[i]}\")\n",
    "        print(f\"\\tBias: {bias:.4f}\\t\\t Variance: {var:.4f}\")\n",
    "\n",
    "\n",
    "rng = np.random.default_rng(42)\n",
    "sz = (num_rep, num_sample)\n",
    "\n",
    "print(\"Gaussian distribution\\n\")\n",
    "x = rng.normal(loc=c, scale=w, size=sz)\n",
    "compareEstimators(x)\n",
    "print(\"\\n----------------------------------------------------\")\n",
    "\n",
    "print(\"Uniform distribution\\n\")\n",
    "x = rng.uniform(low=c-w/2, high=c+w/2, size=sz)\n",
    "compareEstimators(x)\n"
   ]
  }
 ],
 "metadata": {
  "kernelspec": {
   "display_name": "Python 3.11.0 64-bit",
   "language": "python",
   "name": "python3"
  },
  "language_info": {
   "codemirror_mode": {
    "name": "ipython",
    "version": 3
   },
   "file_extension": ".py",
   "mimetype": "text/x-python",
   "name": "python",
   "nbconvert_exporter": "python",
   "pygments_lexer": "ipython3",
   "version": "3.11.0"
  },
  "orig_nbformat": 4,
  "vscode": {
   "interpreter": {
    "hash": "20e40d8fc09a6690434ad602c7eb2d8de15d36ec466bfbfb0de97c7c540d7363"
   }
  }
 },
 "nbformat": 4,
 "nbformat_minor": 2
}
