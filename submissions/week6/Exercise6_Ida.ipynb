{
 "cells": [
  {
   "cell_type": "code",
   "execution_count": 1,
   "id": "be98ee9b",
   "metadata": {},
   "outputs": [],
   "source": [
    "import matplotlib.pyplot as plt\n",
    "import numpy as np\n",
    "import pandas as pd\n",
    "import scipy \n",
    "import scipy.optimize as so\n",
    "from scipy.stats import poisson"
   ]
  },
  {
   "cell_type": "markdown",
   "id": "63ddb103",
   "metadata": {},
   "source": [
    "# Extended maximum likelihood (15 Points)\n",
    "The usual maximum likelihood method does not allow for determining the absolute normalisation. \n",
    "This can be overcome by using the extended likelihood (for $n$ events, coming from a Poisson distribution with mean \n",
    "$\\nu$):\n",
    "\n",
    "$L(\\nu,\\theta)=\\frac{\\nu^n}{n!}e^{-\\nu} \\prod^n_{i=1}f(x_i;\\theta)$ (1)\n",
    "\n",
    "where $\\theta$ are the model parameters and $x_i$ the observed values. \n",
    "The logarithm of the likelihood then becomes\n",
    "\n",
    "$\\ln L(\\nu,\\theta) = −\\nu + \\sum^n_{i=1} \\ln(\\nu f(x_i;\\theta)) + C$ (2)\n",
    "\n",
    "where $\\nu$ can either be a free parameter or a function of $\\theta$. $C$ is independent of $\\nu$ and $\\theta$ and\n",
    "can thus be ignored in an optimisation.\n",
    "\n",
    "1. Perform an extended maximum likelihood fit to the power-law data set in the GitHub repo, /notebooks/data/ex6 data.txt. What is the best-fit power-law index?\n",
    "$L$ is maximized with respect to a variable $\\alpha$ when $−\\ln L$ is minimized"
   ]
  },
  {
   "cell_type": "code",
   "execution_count": 103,
   "id": "302cfb43",
   "metadata": {},
   "outputs": [],
   "source": [
    "def f(x, k, xmax): #normalized to the area\n",
    "    return x**(k)*(k+1)/xmax**(k+1)\n",
    "def negativlogL(param, x):\n",
    "    xmax = x.max()\n",
    "    nu, theta = param\n",
    "    nll = nu - sum(np.log(nu*f(x[i], theta, xmax)) \n",
    "                   for i in np.arange(0, len(x)))\n",
    "    return nll "
   ]
  },
  {
   "cell_type": "code",
   "execution_count": 104,
   "id": "0b88d941",
   "metadata": {},
   "outputs": [
    {
     "data": {
      "text/plain": [
       "2.546474057442313"
      ]
     },
     "execution_count": 104,
     "metadata": {},
     "output_type": "execute_result"
    }
   ],
   "source": [
    "data.max()"
   ]
  },
  {
   "cell_type": "code",
   "execution_count": 105,
   "id": "3f407517",
   "metadata": {},
   "outputs": [],
   "source": [
    "data = np.genfromtxt(r'../../notebooks/data/ex6_data.txt')"
   ]
  },
  {
   "cell_type": "code",
   "execution_count": 106,
   "id": "1623408d",
   "metadata": {},
   "outputs": [],
   "source": [
    "nu, theta = [1,1]\n",
    "model = so.minimize(negativlogL, x0=[nu, theta] , args=(data), bounds=[(0,10), (-10,10)])"
   ]
  },
  {
   "cell_type": "code",
   "execution_count": 107,
   "id": "25fb370a",
   "metadata": {},
   "outputs": [
    {
     "data": {
      "text/plain": [
       "      fun: -23304.384284183605\n",
       " hess_inv: <2x2 LbfgsInvHessProduct with dtype=float64>\n",
       "      jac: array([-9.99009998e+02,  8.73114919e-03])\n",
       "  message: 'CONVERGENCE: REL_REDUCTION_OF_F_<=_FACTR*EPSMCH'\n",
       "     nfev: 27\n",
       "      nit: 7\n",
       "     njev: 9\n",
       "   status: 0\n",
       "  success: True\n",
       "        x: array([10.        ,  5.03710581])"
      ]
     },
     "execution_count": 107,
     "metadata": {},
     "output_type": "execute_result"
    }
   ],
   "source": [
    "model"
   ]
  },
  {
   "cell_type": "markdown",
   "id": "ae5dfae4",
   "metadata": {},
   "source": [
    "does not give a result for $\\nu$"
   ]
  },
  {
   "cell_type": "code",
   "execution_count": 79,
   "id": "a367552a",
   "metadata": {},
   "outputs": [
    {
     "data": {
      "text/plain": [
       "[<matplotlib.lines.Line2D at 0x7fe889b7ddc0>]"
      ]
     },
     "execution_count": 79,
     "metadata": {},
     "output_type": "execute_result"
    },
    {
     "data": {
      "image/png": "[encoded data removed]",
      "text/plain": [
       "<Figure size 432x288 with 1 Axes>"
      ]
     },
     "metadata": {
      "needs_background": "light"
     },
     "output_type": "display_data"
    }
   ],
   "source": [
    "x = np.random.uniform(0, 2.5, 1000)\n",
    "x.sort()\n",
    "y = 2x**model[\"x\"][1]\n",
    "plt.hist(data, bins=200)\n",
    "plt.plot(x,y)"
   ]
  },
  {
   "cell_type": "code",
   "execution_count": 84,
   "id": "43bc10bc",
   "metadata": {},
   "outputs": [
    {
     "data": {
      "text/plain": [
       "[<matplotlib.lines.Line2D at 0x7fe84807aac0>]"
      ]
     },
     "execution_count": 84,
     "metadata": {},
     "output_type": "execute_result"
    },
    {
     "data": {
      "image/png": "[encoded data removed]",
      "text/plain": [
       "<Figure size 432x288 with 1 Axes>"
      ]
     },
     "metadata": {
      "needs_background": "light"
     },
     "output_type": "display_data"
    }
   ],
   "source": [
    "plt.hist(data, bins=20, density=True)\n",
    "plt.plot(x, 1/50*x**model[\"x\"][1])"
   ]
  },
  {
   "cell_type": "markdown",
   "id": "8b8fae24",
   "metadata": {},
   "source": [
    "I am not sure how to continue here. Probably I understood something wrong. Also the Amplitude depends on the width of binning of the data.\n",
    "In Lecture 7 we had ML on binned data.\n",
    "I will try that now. \n",
    "$f(x_i) = N\\omega P(x_i,a)$ where $N = \\sum n_i$"
   ]
  },
  {
   "cell_type": "code",
   "execution_count": 101,
   "id": "7bbc52ce",
   "metadata": {},
   "outputs": [],
   "source": [
    "def f_binned(N, w, x, k, xmax): #normalized to the area\n",
    "    return N*w*x**(k)*(k+1)/xmax**(k+1)\n",
    "def negativlogL_binned(param, x_middle, xmax, N, w):\n",
    "    nu, theta = param\n",
    "    nll = nu - sum(np.log(nu*f_binned(N, w, x_middle, theta, xmax)) \n",
    "                   for i in np.arange(0, len(x)))\n",
    "    return nll "
   ]
  },
  {
   "cell_type": "code",
   "execution_count": 102,
   "id": "10624609",
   "metadata": {},
   "outputs": [
    {
     "ename": "ValueError",
     "evalue": "too many axes: 2 (effrank=2), expected rank=1\n",
     "output_type": "error",
     "traceback": [
      "\u001b[0;31m---------------------------------------------------------------------------\u001b[0m",
      "\u001b[0;31mValueError\u001b[0m                                Traceback (most recent call last)",
      "\u001b[0;32m/var/folders/t7/y8w7t6sn7ld34qc9zv7x9h2r0000gn/T/ipykernel_14795/220543414.py\u001b[0m in \u001b[0;36m<module>\u001b[0;34m\u001b[0m\n\u001b[1;32m      4\u001b[0m \u001b[0mn_bins\u001b[0m \u001b[0;34m=\u001b[0m \u001b[0;36m20\u001b[0m\u001b[0;34m\u001b[0m\u001b[0;34m\u001b[0m\u001b[0m\n\u001b[1;32m      5\u001b[0m \u001b[0mw\u001b[0m \u001b[0;34m=\u001b[0m \u001b[0;34m(\u001b[0m\u001b[0mxmax\u001b[0m\u001b[0;34m-\u001b[0m\u001b[0mdata\u001b[0m\u001b[0;34m.\u001b[0m\u001b[0mmin\u001b[0m\u001b[0;34m(\u001b[0m\u001b[0;34m)\u001b[0m\u001b[0;34m)\u001b[0m\u001b[0;34m/\u001b[0m\u001b[0mn_bins\u001b[0m\u001b[0;34m\u001b[0m\u001b[0;34m\u001b[0m\u001b[0m\n\u001b[0;32m----> 6\u001b[0;31m \u001b[0mmodel_bins\u001b[0m \u001b[0;34m=\u001b[0m \u001b[0mso\u001b[0m\u001b[0;34m.\u001b[0m\u001b[0mminimize\u001b[0m\u001b[0;34m(\u001b[0m\u001b[0mnegativlogL_binned\u001b[0m\u001b[0;34m,\u001b[0m \u001b[0mx0\u001b[0m\u001b[0;34m=\u001b[0m\u001b[0;34m[\u001b[0m\u001b[0;36m1\u001b[0m\u001b[0;34m,\u001b[0m \u001b[0;36m1\u001b[0m\u001b[0;34m]\u001b[0m \u001b[0;34m,\u001b[0m \u001b[0margs\u001b[0m\u001b[0;34m=\u001b[0m\u001b[0;34m(\u001b[0m\u001b[0mx_middle\u001b[0m\u001b[0;34m,\u001b[0m \u001b[0mxmax\u001b[0m\u001b[0;34m,\u001b[0m \u001b[0mN\u001b[0m\u001b[0;34m,\u001b[0m \u001b[0mw\u001b[0m\u001b[0;34m)\u001b[0m\u001b[0;34m,\u001b[0m \u001b[0mbounds\u001b[0m\u001b[0;34m=\u001b[0m\u001b[0;34m[\u001b[0m\u001b[0;34m(\u001b[0m\u001b[0;36m0\u001b[0m\u001b[0;34m,\u001b[0m\u001b[0;36m10\u001b[0m\u001b[0;34m)\u001b[0m\u001b[0;34m,\u001b[0m \u001b[0;34m(\u001b[0m\u001b[0;34m-\u001b[0m\u001b[0;36m10\u001b[0m\u001b[0;34m,\u001b[0m\u001b[0;36m10\u001b[0m\u001b[0;34m)\u001b[0m\u001b[0;34m]\u001b[0m\u001b[0;34m)\u001b[0m\u001b[0;34m\u001b[0m\u001b[0;34m\u001b[0m\u001b[0m\n\u001b[0m",
      "\u001b[0;32m~/opt/anaconda3/lib/python3.9/site-packages/scipy/optimize/_minimize.py\u001b[0m in \u001b[0;36mminimize\u001b[0;34m(fun, x0, args, method, jac, hess, hessp, bounds, constraints, tol, callback, options)\u001b[0m\n\u001b[1;32m    621\u001b[0m                                   **options)\n\u001b[1;32m    622\u001b[0m     \u001b[0;32melif\u001b[0m \u001b[0mmeth\u001b[0m \u001b[0;34m==\u001b[0m \u001b[0;34m'l-bfgs-b'\u001b[0m\u001b[0;34m:\u001b[0m\u001b[0;34m\u001b[0m\u001b[0;34m\u001b[0m\u001b[0m\n\u001b[0;32m--> 623\u001b[0;31m         return _minimize_lbfgsb(fun, x0, args, jac, bounds,\n\u001b[0m\u001b[1;32m    624\u001b[0m                                 callback=callback, **options)\n\u001b[1;32m    625\u001b[0m     \u001b[0;32melif\u001b[0m \u001b[0mmeth\u001b[0m \u001b[0;34m==\u001b[0m \u001b[0;34m'tnc'\u001b[0m\u001b[0;34m:\u001b[0m\u001b[0;34m\u001b[0m\u001b[0;34m\u001b[0m\u001b[0m\n",
      "\u001b[0;32m~/opt/anaconda3/lib/python3.9/site-packages/scipy/optimize/lbfgsb.py\u001b[0m in \u001b[0;36m_minimize_lbfgsb\u001b[0;34m(fun, x0, args, jac, bounds, disp, maxcor, ftol, gtol, eps, maxfun, maxiter, iprint, callback, maxls, finite_diff_rel_step, **unknown_options)\u001b[0m\n\u001b[1;32m    349\u001b[0m     \u001b[0;32mwhile\u001b[0m \u001b[0;36m1\u001b[0m\u001b[0;34m:\u001b[0m\u001b[0;34m\u001b[0m\u001b[0;34m\u001b[0m\u001b[0m\n\u001b[1;32m    350\u001b[0m         \u001b[0;31m# x, f, g, wa, iwa, task, csave, lsave, isave, dsave = \\\u001b[0m\u001b[0;34m\u001b[0m\u001b[0;34m\u001b[0m\u001b[0m\n\u001b[0;32m--> 351\u001b[0;31m         _lbfgsb.setulb(m, x, low_bnd, upper_bnd, nbd, f, g, factr,\n\u001b[0m\u001b[1;32m    352\u001b[0m                        \u001b[0mpgtol\u001b[0m\u001b[0;34m,\u001b[0m \u001b[0mwa\u001b[0m\u001b[0;34m,\u001b[0m \u001b[0miwa\u001b[0m\u001b[0;34m,\u001b[0m \u001b[0mtask\u001b[0m\u001b[0;34m,\u001b[0m \u001b[0miprint\u001b[0m\u001b[0;34m,\u001b[0m \u001b[0mcsave\u001b[0m\u001b[0;34m,\u001b[0m \u001b[0mlsave\u001b[0m\u001b[0;34m,\u001b[0m\u001b[0;34m\u001b[0m\u001b[0;34m\u001b[0m\u001b[0m\n\u001b[1;32m    353\u001b[0m                        isave, dsave, maxls)\n",
      "\u001b[0;31mValueError\u001b[0m: too many axes: 2 (effrank=2), expected rank=1\n"
     ]
    }
   ],
   "source": [
    "x_middle = np.histogram_bin_edges(data, bins=20)-width/2\n",
    "N = len(data)\n",
    "xmax = data.max()\n",
    "n_bins = 20 \n",
    "w = (xmax-data.min())/n_bins\n",
    "model_bins = so.minimize(negativlogL_binned, x0=[1, 1] , args=(x_middle, xmax, N, w), bounds=[(0,10), (-10,10)])"
   ]
  },
  {
   "cell_type": "code",
   "execution_count": null,
   "id": "bff12e6f",
   "metadata": {},
   "outputs": [],
   "source": [
    "did "
   ]
  }
 ],
 "metadata": {
  "kernelspec": {
   "display_name": "Python 3 (ipykernel)",
   "language": "python",
   "name": "python3"
  },
  "language_info": {
   "codemirror_mode": {
    "name": "ipython",
    "version": 3
   },
   "file_extension": ".py",
   "mimetype": "text/x-python",
   "name": "python",
   "nbconvert_exporter": "python",
   "pygments_lexer": "ipython3",
   "version": "3.9.7"
  }
 },
 "nbformat": 4,
 "nbformat_minor": 5
}
