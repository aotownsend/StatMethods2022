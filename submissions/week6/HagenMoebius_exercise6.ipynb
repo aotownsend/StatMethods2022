{
 "cells": [
  {
   "cell_type": "code",
   "execution_count": 1,
   "metadata": {},
   "outputs": [],
   "source": [
    "import numpy as np\n",
    "import matplotlib.pyplot as plt\n",
    "import scipy \n",
    "import scipy.optimize as so\n",
    "\n",
    "from scipy import odr\n",
    "from uncertainties import unumpy, ufloat"
   ]
  },
  {
   "cell_type": "markdown",
   "metadata": {},
   "source": [
    "First of all I import the data"
   ]
  },
  {
   "cell_type": "code",
   "execution_count": 2,
   "metadata": {},
   "outputs": [],
   "source": [
    "data = open(\"ex6_data.txt\").read().splitlines()"
   ]
  },
  {
   "cell_type": "code",
   "execution_count": 3,
   "metadata": {},
   "outputs": [
    {
     "data": {
      "text/plain": [
       "array([2.28624099, 2.23737074, 2.35201118, ..., 2.22009142, 1.88685892,\n",
       "       1.91752444])"
      ]
     },
     "execution_count": 3,
     "metadata": {},
     "output_type": "execute_result"
    }
   ],
   "source": [
    "x=np.asarray(data, dtype=\"float\")\n",
    "x"
   ]
  },
  {
   "cell_type": "markdown",
   "metadata": {},
   "source": [
    "I plot the data to see how it looks"
   ]
  },
  {
   "cell_type": "code",
   "execution_count": 4,
   "metadata": {},
   "outputs": [
    {
     "data": {
      "text/plain": [
       "(0.5, 726.6)"
      ]
     },
     "execution_count": 4,
     "metadata": {},
     "output_type": "execute_result"
    },
    {
     "data": {
      "image/png": "[encoded data removed]",
      "text/plain": [
       "<Figure size 1152x648 with 1 Axes>"
      ]
     },
     "metadata": {
      "needs_background": "light"
     },
     "output_type": "display_data"
    }
   ],
   "source": [
    "fig, ax = plt.subplots()\n",
    "fig.set_figheight(9)\n",
    "fig.set_figwidth(16)\n",
    "\n",
    "bins=np.linspace(0,3,100)\n",
    "plt.hist(x, bins=bins,edgecolor='black', linewidth=1,alpha=0.5,label=\"data\")\n",
    "plt.xlabel(\"data\", fontsize=18)\n",
    "plt.ylabel(\"Frequency\", fontsize=18)\n",
    "plt.xlim(0,3)\n",
    "plt.ylim(0.50)"
   ]
  },
  {
   "cell_type": "markdown",
   "metadata": {},
   "source": [
    "It looks like a power law"
   ]
  },
  {
   "cell_type": "markdown",
   "metadata": {},
   "source": [
    "Therefore the model will be $$f(x)=A \\cdot x^{\\gamma}$$"
   ]
  },
  {
   "cell_type": "markdown",
   "metadata": {},
   "source": [
    "The extended maximum likelihood is $$-\\nu+\\sum_{i=1}^{n} ln(\\nu f(x_i,\\theta))+C$$"
   ]
  },
  {
   "cell_type": "markdown",
   "metadata": {},
   "source": [
    "When I put f(x) in the equation I get"
   ]
  },
  {
   "cell_type": "markdown",
   "metadata": {},
   "source": [
    "$$-\\nu+\\Big[\\sum_{i=1}^{n} ln(\\nu)+ln(A)+\\gamma\\cdot ln(x) \\Big]+C$$\n"
   ]
  },
  {
   "cell_type": "markdown",
   "metadata": {},
   "source": [
    "Now I define the functions"
   ]
  },
  {
   "cell_type": "code",
   "execution_count": 7,
   "metadata": {},
   "outputs": [],
   "source": [
    "def power_law(params,x):\n",
    "    A, gamma = params\n",
    "    return A*x**(gamma)"
   ]
  },
  {
   "cell_type": "code",
   "execution_count": 9,
   "metadata": {},
   "outputs": [],
   "source": [
    "def Likelihood(params2,x):   #Extended-Maximum-Likelihood\n",
    "    A,gamma,nu = params2\n",
    "    \n",
    "    LLH= -nu+np.sum(np.log(nu)+np.log(A)+np.log(x)*gamma)\n",
    "    return LLH"
   ]
  },
  {
   "cell_type": "markdown",
   "metadata": {},
   "source": [
    "I want to maximize the log-likelihood but since scipy only has a minimizer function, I can instead minimize the negative log-likelihood. Therefore I define the negative log-Likelihood."
   ]
  },
  {
   "cell_type": "code",
   "execution_count": 11,
   "metadata": {},
   "outputs": [],
   "source": [
    "def negative_Likelihood(params2,x):   #Extended-Maximum-Likelihood\n",
    "    A,gamma,nu = params2\n",
    "    \n",
    "    LLH= +nu-np.sum(np.log(nu)+np.log(A)+np.log(x)*gamma)\n",
    "    return LLH"
   ]
  },
  {
   "cell_type": "code",
   "execution_count": 45,
   "metadata": {},
   "outputs": [],
   "source": [
    "Optimal= so.minimize(negative_Likelihood,x0=[1,1,1],args=(x))[\"x\"]"
   ]
  },
  {
   "cell_type": "code",
   "execution_count": 46,
   "metadata": {},
   "outputs": [
    {
     "data": {
      "text/plain": [
       "array([5.49102229e+04, 3.16029054e+08, 3.90295846e+04])"
      ]
     },
     "execution_count": 46,
     "metadata": {},
     "output_type": "execute_result"
    }
   ],
   "source": [
    "Optimal  #This gives A,gamma,nu"
   ]
  },
  {
   "cell_type": "markdown",
   "metadata": {},
   "source": [
    "Apparently the exponent is very large with $\\gamma=3.16029054e+08$"
   ]
  },
  {
   "cell_type": "code",
   "execution_count": 27,
   "metadata": {},
   "outputs": [
    {
     "name": "stderr",
     "output_type": "stream",
     "text": [
      "C:\\Users\\mhage\\anaconda3\\lib\\site-packages\\ipykernel_launcher.py:3: RuntimeWarning: overflow encountered in power\n",
      "  This is separate from the ipykernel package so we can avoid doing imports until\n"
     ]
    },
    {
     "data": {
      "text/plain": [
       "array([inf, inf, inf, ..., inf, inf, inf])"
      ]
     },
     "execution_count": 27,
     "metadata": {},
     "output_type": "execute_result"
    }
   ],
   "source": [
    "power_law((Optimal[0],Optimal[1]),x)"
   ]
  },
  {
   "cell_type": "markdown",
   "metadata": {},
   "source": [
    "This means that I can not apply the graphical method because the values are too large"
   ]
  },
  {
   "cell_type": "markdown",
   "metadata": {},
   "source": [
    "This does not seem right."
   ]
  },
  {
   "cell_type": "code",
   "execution_count": null,
   "metadata": {},
   "outputs": [],
   "source": []
  },
  {
   "cell_type": "markdown",
   "metadata": {},
   "source": [
    "I create an array with test values for gamma to apply the graphical method"
   ]
  },
  {
   "cell_type": "code",
   "execution_count": 17,
   "metadata": {},
   "outputs": [
    {
     "data": {
      "text/plain": [
       "array([-4000, -3999, -3998, ...,  3997,  3998,  3999])"
      ]
     },
     "execution_count": 17,
     "metadata": {},
     "output_type": "execute_result"
    }
   ],
   "source": [
    "gamma_test=np.arange(-4000,4000,1)\n",
    "gamma_test"
   ]
  },
  {
   "cell_type": "code",
   "execution_count": 18,
   "metadata": {},
   "outputs": [
    {
     "data": {
      "text/plain": [
       "array([ 30930799.11348248,  30923108.44746654,  30915417.78145061, ...,\n",
       "       -30571457.01593538, -30579147.68195131, -30586838.34796725])"
      ]
     },
     "execution_count": 18,
     "metadata": {},
     "output_type": "execute_result"
    }
   ],
   "source": [
    "Likelihood_array=np.zeros(0)\n",
    "for i in range(len(gamma_test)):\n",
    "    Likelihood_a=Likelihood([Optimal[0],gamma_test[i], Optimal[2]],x)\n",
    "    Likelihood_array=np.append([Likelihood_a],[Likelihood_array])\n",
    "Likelihood_array"
   ]
  },
  {
   "cell_type": "code",
   "execution_count": 19,
   "metadata": {},
   "outputs": [
    {
     "data": {
      "text/plain": [
       "[<matplotlib.lines.Line2D at 0x22675735e48>]"
      ]
     },
     "execution_count": 19,
     "metadata": {},
     "output_type": "execute_result"
    },
    {
     "data": {
      "image/png": "[encoded data removed]",
      "text/plain": [
       "<Figure size 1152x648 with 1 Axes>"
      ]
     },
     "metadata": {
      "needs_background": "light"
     },
     "output_type": "display_data"
    }
   ],
   "source": [
    "fig, ax = plt.subplots()\n",
    "fig.set_figheight(9)\n",
    "fig.set_figwidth(16)\n",
    "\n",
    "plt.plot(Likelihood_array,gamma_test)"
   ]
  },
  {
   "cell_type": "markdown",
   "metadata": {},
   "source": [
    "There are no maxima for gamma in the range of -4000 to 4000"
   ]
  },
  {
   "cell_type": "markdown",
   "metadata": {},
   "source": [
    "The equation from above "
   ]
  },
  {
   "cell_type": "markdown",
   "metadata": {},
   "source": [
    "$$ln(L)=-\\nu+\\Big[\\sum_{i=1}^{n} ln(\\nu)+ln(A)+\\gamma\\cdot ln(x) \\Big]+C$$"
   ]
  },
  {
   "cell_type": "markdown",
   "metadata": {},
   "source": [
    "Can further be rewritten"
   ]
  },
  {
   "cell_type": "markdown",
   "metadata": {},
   "source": [
    "$$ln(L)=-\\nu+n\\cdot ln(\\nu)+n\\cdot ln(A)+\\sum_{i=1}^{n}\\gamma\\cdot ln(x)+C$$"
   ]
  },
  {
   "cell_type": "markdown",
   "metadata": {},
   "source": [
    "For a maximum the differential for each parameter has to be zero."
   ]
  },
  {
   "cell_type": "markdown",
   "metadata": {},
   "source": [
    "$$\\frac{\\partial ln(L)}{\\partial{\\nu}}=0=-1+\\frac{n}{\\nu}$$"
   ]
  },
  {
   "cell_type": "markdown",
   "metadata": {},
   "source": [
    "We can see $\\nu=n$"
   ]
  },
  {
   "cell_type": "markdown",
   "metadata": {},
   "source": [
    "$$\\frac{\\partial ln(L)}{\\partial{A}}=\\frac{n}{A}=0$$"
   ]
  },
  {
   "cell_type": "markdown",
   "metadata": {},
   "source": [
    "This means A to infinity "
   ]
  },
  {
   "cell_type": "markdown",
   "metadata": {},
   "source": [
    "$$\\frac{\\partial ln(L)}{\\partial{\\gamma}}=\\sum_{i=1}^{n}ln(x)=0$$"
   ]
  },
  {
   "cell_type": "markdown",
   "metadata": {},
   "source": [
    "but this sum can not be zero with the x values we have."
   ]
  },
  {
   "cell_type": "code",
   "execution_count": null,
   "metadata": {},
   "outputs": [],
   "source": []
  },
  {
   "cell_type": "markdown",
   "metadata": {},
   "source": [
    "This suggest that $\\nu$ is not a free parameter and has to be a function of A and $\\gamma$"
   ]
  },
  {
   "cell_type": "markdown",
   "metadata": {},
   "source": [
    "We can assume now $\\nu(A,\\gamma)$. This will change the three differentials above"
   ]
  },
  {
   "cell_type": "markdown",
   "metadata": {},
   "source": [
    "The first one becomes"
   ]
  },
  {
   "cell_type": "markdown",
   "metadata": {},
   "source": [
    "$$\\frac{\\partial ln(L)}{\\partial{\\nu}}=0=-1+\\frac{n}{\\nu}+\\frac{n}{A}\\cdot \\frac{\\partial A}{\\partial\\nu}+\\frac{\\partial \\gamma}{\\partial \\nu}\\sum_{i=1}^{n} ln(x)$$"
   ]
  },
  {
   "cell_type": "markdown",
   "metadata": {},
   "source": [
    "The second becomes \n",
    "$$\\frac{\\partial ln(L)}{\\partial{A}}=-\\frac{\\partial \\nu}{\\partial A}+n \\cdot \\frac{1}{\\nu}\\cdot \\frac{\\partial \\nu}{\\partial A}+\\frac{n}{A}=0$$"
   ]
  },
  {
   "cell_type": "markdown",
   "metadata": {},
   "source": [
    "The third becomes"
   ]
  },
  {
   "cell_type": "markdown",
   "metadata": {},
   "source": [
    "$$\\frac{\\partial ln(L)}{\\partial{\\gamma}}=-\\frac{\\partial \\nu}{\\partial \\gamma}+n \\cdot \\frac{1}{\\nu}\\cdot \\frac{\\partial \\nu}{\\partial \\gamma}+\\sum_{i=1}^{n}ln(x)=0$$"
   ]
  },
  {
   "cell_type": "markdown",
   "metadata": {},
   "source": [
    "Now one needs to solve this system of diferential equations to find the relation between $\\nu$ and A,$\\gamma$"
   ]
  },
  {
   "cell_type": "markdown",
   "metadata": {},
   "source": [
    "Maybe I am already on the wrong path to solve this exercise, so I stop here."
   ]
  },
  {
   "cell_type": "code",
   "execution_count": null,
   "metadata": {},
   "outputs": [],
   "source": []
  }
 ],
 "metadata": {
  "kernelspec": {
   "display_name": "Python 3",
   "language": "python",
   "name": "python3"
  },
  "language_info": {
   "codemirror_mode": {
    "name": "ipython",
    "version": 3
   },
   "file_extension": ".py",
   "mimetype": "text/x-python",
   "name": "python",
   "nbconvert_exporter": "python",
   "pygments_lexer": "ipython3",
   "version": "3.7.6"
  }
 },
 "nbformat": 4,
 "nbformat_minor": 4
}
