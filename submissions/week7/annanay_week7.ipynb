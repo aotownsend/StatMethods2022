{
 "cells": [
  {
   "cell_type": "code",
   "execution_count": 1,
   "metadata": {},
   "outputs": [
    {
     "data": {
      "text/html": [
       "<style>.container { width:90% !important; }</style>"
      ],
      "text/plain": [
       "<IPython.core.display.HTML object>"
      ]
     },
     "metadata": {},
     "output_type": "display_data"
    }
   ],
   "source": [
    "import numpy as np\n",
    "import matplotlib.pyplot as plt\n",
    "import pandas as pd\n",
    "import astropy.units as u\n",
    "from scipy import stats\n",
    "from scipy.optimize import minimize, curve_fit\n",
    "from IPython.display import display, HTML\n",
    "display(HTML(\"<style>.container { width:90% !important; }</style>\"))"
   ]
  },
  {
   "cell_type": "code",
   "execution_count": 2,
   "metadata": {},
   "outputs": [],
   "source": [
    "def atmo_event_rate(energy, cos_theta, sin2theta=0.9, dm2=2.4e-3):\n",
    "    flux = 1e5*energy**-1.7 # the true neutrino flux is steeper, this takes into account \n",
    "                            # neutrino cross-section, which is proportional to E\n",
    "                            # as well as that we are working with logarithmic energy bins    \n",
    "    l = 12e3 * cos_theta # base line - max corresponds to diameter of the Earth 12e3 km\n",
    "\n",
    "    # two flavor oscillation propability for muon disappearance - see wikipedia \n",
    "    osc_prop = 1-sin2theta * np.sin(1.27*dm2*l/energy) \n",
    "\n",
    "    return flux*osc_prop\n",
    "\n",
    "def atmo_event_rate_fit(data, params):\n",
    "    sin2theta, dm2 = params\n",
    "    energy, cosdec = data\n",
    "    return atmo_event_rate(energy, cosdec, sin2theta, dm2)\n",
    "\n",
    "def run_experiment(energy, cosdec, sin2theta=0.9, dm2=2.4e-3):\n",
    "    x = np.array(energy.size)\n",
    "    events=np.zeros(energy.size*cosdec.size)\n",
    "    rows = []\n",
    "    i = 0\n",
    "    for e in energy:\n",
    "        for c in cosdec:\n",
    "            mu = atmo_event_rate(e,c,sin2theta,dm2)\n",
    "            sig = np.sqrt(mu)\n",
    "            event_random = np.random.normal(mu,sig)\n",
    "            events[i] = int(event_random) \n",
    "            i=i+1\n",
    "            rows.append([e,c,int(event_random)])\n",
    "    events_df = pd.DataFrame(rows, columns=['energy','cosdec','events'])\n",
    "    return events_df"
   ]
  },
  {
   "cell_type": "code",
   "execution_count": 3,
   "metadata": {},
   "outputs": [
    {
     "data": {
      "image/png": "[encoded data removed]",
      "text/plain": [
       "<Figure size 640x480 with 1 Axes>"
      ]
     },
     "metadata": {},
     "output_type": "display_data"
    },
    {
     "data": {
      "text/html": [
       "<div>\n",
       "<style scoped>\n",
       "    .dataframe tbody tr th:only-of-type {\n",
       "        vertical-align: middle;\n",
       "    }\n",
       "\n",
       "    .dataframe tbody tr th {\n",
       "        vertical-align: top;\n",
       "    }\n",
       "\n",
       "    .dataframe thead th {\n",
       "        text-align: right;\n",
       "    }\n",
       "</style>\n",
       "<table border=\"1\" class=\"dataframe\">\n",
       "  <thead>\n",
       "    <tr style=\"text-align: right;\">\n",
       "      <th></th>\n",
       "      <th>energy</th>\n",
       "      <th>cosdec</th>\n",
       "      <th>events</th>\n",
       "    </tr>\n",
       "  </thead>\n",
       "  <tbody>\n",
       "    <tr>\n",
       "      <th>0</th>\n",
       "      <td>10.0</td>\n",
       "      <td>0.000000</td>\n",
       "      <td>2020</td>\n",
       "    </tr>\n",
       "    <tr>\n",
       "      <th>1</th>\n",
       "      <td>10.0</td>\n",
       "      <td>0.010101</td>\n",
       "      <td>1964</td>\n",
       "    </tr>\n",
       "    <tr>\n",
       "      <th>2</th>\n",
       "      <td>10.0</td>\n",
       "      <td>0.020202</td>\n",
       "      <td>1862</td>\n",
       "    </tr>\n",
       "    <tr>\n",
       "      <th>3</th>\n",
       "      <td>10.0</td>\n",
       "      <td>0.030303</td>\n",
       "      <td>1824</td>\n",
       "    </tr>\n",
       "    <tr>\n",
       "      <th>4</th>\n",
       "      <td>10.0</td>\n",
       "      <td>0.040404</td>\n",
       "      <td>1800</td>\n",
       "    </tr>\n",
       "    <tr>\n",
       "      <th>...</th>\n",
       "      <td>...</td>\n",
       "      <td>...</td>\n",
       "      <td>...</td>\n",
       "    </tr>\n",
       "    <tr>\n",
       "      <th>9995</th>\n",
       "      <td>100.0</td>\n",
       "      <td>0.959596</td>\n",
       "      <td>21</td>\n",
       "    </tr>\n",
       "    <tr>\n",
       "      <th>9996</th>\n",
       "      <td>100.0</td>\n",
       "      <td>0.969697</td>\n",
       "      <td>26</td>\n",
       "    </tr>\n",
       "    <tr>\n",
       "      <th>9997</th>\n",
       "      <td>100.0</td>\n",
       "      <td>0.979798</td>\n",
       "      <td>20</td>\n",
       "    </tr>\n",
       "    <tr>\n",
       "      <th>9998</th>\n",
       "      <td>100.0</td>\n",
       "      <td>0.989899</td>\n",
       "      <td>20</td>\n",
       "    </tr>\n",
       "    <tr>\n",
       "      <th>9999</th>\n",
       "      <td>100.0</td>\n",
       "      <td>1.000000</td>\n",
       "      <td>25</td>\n",
       "    </tr>\n",
       "  </tbody>\n",
       "</table>\n",
       "<p>10000 rows × 3 columns</p>\n",
       "</div>"
      ],
      "text/plain": [
       "      energy    cosdec  events\n",
       "0       10.0  0.000000    2020\n",
       "1       10.0  0.010101    1964\n",
       "2       10.0  0.020202    1862\n",
       "3       10.0  0.030303    1824\n",
       "4       10.0  0.040404    1800\n",
       "...      ...       ...     ...\n",
       "9995   100.0  0.959596      21\n",
       "9996   100.0  0.969697      26\n",
       "9997   100.0  0.979798      20\n",
       "9998   100.0  0.989899      20\n",
       "9999   100.0  1.000000      25\n",
       "\n",
       "[10000 rows x 3 columns]"
      ]
     },
     "execution_count": 3,
     "metadata": {},
     "output_type": "execute_result"
    }
   ],
   "source": [
    "def generate_data(N, sin2theta=0.9, dm2=2.4e-3):\n",
    "    \n",
    "    cosdec =  np.linspace(0, 1, N) # N steps in cos(declination) from 0 to 1 \n",
    "    energy = 10**np.linspace(1, 2, N) # N steps in log10(energy) from 10 to 100 GeV\n",
    "    \n",
    "    events_df = run_experiment(energy,cosdec,sin2theta,dm2)\n",
    "    \n",
    "    return events_df\n",
    "\n",
    "events_df = generate_data(100)\n",
    "\n",
    "plt.hist(events_df[\"events\"], bins=20)\n",
    "plt.yscale('log')\n",
    "\n",
    "plt.show() \n",
    "events_df"
   ]
  },
  {
   "cell_type": "code",
   "execution_count": 4,
   "metadata": {},
   "outputs": [
    {
     "name": "stdout",
     "output_type": "stream",
     "text": [
      "Best fit sin2theta: 7.508e-01 +/- 6.894e-04\n",
      "Best fit dm2: 1.199e-03 +/- 1.821e-06\n"
     ]
    }
   ],
   "source": [
    "def atmo_event_rate_fit(data, sin2theta, dm2):\n",
    "    energy, cosdec = data[0,:], data[1,:]\n",
    "    return atmo_event_rate(energy, cosdec, sin2theta, dm2)\n",
    "\n",
    "events_df_ = generate_data(100, sin2theta=0.75, dm2=1.2e-3) # generate data with different parameters to test the fit\n",
    "\n",
    "popt, pcov = curve_fit(atmo_event_rate_fit, xdata=np.vstack((events_df_[\"energy\"], events_df_[\"cosdec\"])), ydata=events_df_[\"events\"], p0=[0.5, 1e-3])\n",
    "perr = np.sqrt(np.diag(pcov))\n",
    "\n",
    "print(f\"Best fit sin2theta: {popt[0]:.3e} +/- {perr[0]:.3e}\")\n",
    "print(f\"Best fit dm2: {popt[1]:.3e} +/- {perr[1]:.3e}\")\n"
   ]
  },
  {
   "cell_type": "code",
   "execution_count": 5,
   "metadata": {},
   "outputs": [],
   "source": [
    "from scipy.misc import derivative\n",
    "\n",
    "def logprobability_sin(sin2theta, dm2, energy, cos_theta): # recycled the rate function to work with scipy derivatives\n",
    "    if energy == 0:\n",
    "        return 0\n",
    "    flux = 1e5*energy**-1.7\n",
    "    l = 12e3 * cos_theta # base line - max corresponds to diameter of the Earth 12e3 km\n",
    "    osc_prop = 1-sin2theta * (np.sin(1.27*dm2*l/energy))**2 \n",
    "    return np.log(flux*osc_prop)\n",
    "\n",
    "\n",
    "def logprobability_dm2(dm2, sin2theta,  energy, cos_theta):\n",
    "    if energy == 0:\n",
    "        return 0\n",
    "    flux = 1e5*energy**-1.7\n",
    "    l = 12e3 * cos_theta # base line - max corresponds to diameter of the Earth 12e3 km\n",
    "    osc_prop = 1-sin2theta * (np.sin(1.27*dm2*l/energy))**2 \n",
    "    return np.log(flux*osc_prop)\n",
    "\n",
    "def CramerRao_bound(data_df, sin2theta, dm2):\n",
    "    energy, cosdec = data_df[\"energy\"].to_numpy(), data_df[\"cosdec\"].to_numpy()\n",
    "    #calculate numerical derivatives of the LLH wrt sin2theta and dm2\n",
    "    dLLH_dm2 = 0\n",
    "    dLLH_sin2theta = 0\n",
    "    for i in range(len(energy)):\n",
    "        dLLH_dm2 += derivative(logprobability_dm2, dm2, dx=1e-4, args = (sin2theta, energy[i], cosdec[i]))\n",
    "        dLLH_sin2theta += derivative(logprobability_sin, sin2theta,dx=1e-4, args = (dm2, energy[i], cosdec[i]))\n",
    "    return  1/dLLH_dm2**2, 1/dLLH_sin2theta**2"
   ]
  },
  {
   "cell_type": "code",
   "execution_count": 6,
   "metadata": {},
   "outputs": [
    {
     "name": "stdout",
     "output_type": "stream",
     "text": [
      "MV / Cramer-Rao bound for sin2theta: 7.724e-03\n",
      "MV / Cramer-Rao bound for dm2: 9.653e-05\n"
     ]
    }
   ],
   "source": [
    "events_df = generate_data(10, sin2theta=0.9, dm2=2.4e-3) \n",
    "sigma_dm2_10, sigma_sin2theta_10 = np.sqrt(CramerRao_bound(events_df, 0.9, 2.4e-3))\n",
    "\n",
    "print(f\"MV / Cramer-Rao bound for sin2theta: {sigma_sin2theta_10:.3e}\")\n",
    "print(f\"MV / Cramer-Rao bound for dm2: {sigma_dm2_10:.3e}\")"
   ]
  },
  {
   "cell_type": "code",
   "execution_count": 7,
   "metadata": {},
   "outputs": [
    {
     "name": "stdout",
     "output_type": "stream",
     "text": [
      "MV / Cramer-Rao bound for sin2theta: 7.415e-05\n",
      "MV / Cramer-Rao bound for dm2: 8.193e-07\n"
     ]
    }
   ],
   "source": [
    "events_df = generate_data(100, sin2theta=0.9, dm2=2.4e-3) # what happens with a larger dataset?\n",
    "sigma_dm2_100, sigma_sin2theta_100 = np.sqrt(CramerRao_bound(events_df, 0.9, 2.4e-3))\n",
    "\n",
    "print(f\"MV / Cramer-Rao bound for sin2theta: {sigma_sin2theta_100:.3e}\")\n",
    "print(f\"MV / Cramer-Rao bound for dm2: {sigma_dm2_100:.3e}\")"
   ]
  },
  {
   "cell_type": "code",
   "execution_count": 8,
   "metadata": {},
   "outputs": [
    {
     "name": "stdout",
     "output_type": "stream",
     "text": [
      "MV / Cramer-Rao bound for sin2theta: 2.957e-06\n",
      "MV / Cramer-Rao bound for dm2: 3.212e-08\n"
     ]
    }
   ],
   "source": [
    "events_df = generate_data(500, sin2theta=0.9, dm2=2.4e-3) \n",
    "sigma_dm2_500, sigma_sin2theta_500 = np.sqrt(CramerRao_bound(events_df, 0.9, 2.4e-3))\n",
    "\n",
    "print(f\"MV / Cramer-Rao bound for sin2theta: {sigma_sin2theta_500:.3e}\")\n",
    "print(f\"MV / Cramer-Rao bound for dm2: {sigma_dm2_500:.3e}\")"
   ]
  },
  {
   "cell_type": "code",
   "execution_count": 9,
   "metadata": {},
   "outputs": [
    {
     "name": "stdout",
     "output_type": "stream",
     "text": [
      "Fraction of measurements within the Cramer-Rao bound: 0.950\n"
     ]
    },
    {
     "data": {
      "image/png": "[encoded data removed]",
      "text/plain": [
       "<Figure size 800x400 with 1 Axes>"
      ]
     },
     "metadata": {},
     "output_type": "display_data"
    }
   ],
   "source": [
    "# run 100 simulations and check how often the measurement is within the Cramer-Rao bound (1D)\n",
    "\n",
    "N_sim = 100\n",
    "N_bins = 10\n",
    "\n",
    "sin2theta_true = 0.9\n",
    "dm2_true = 2.4e-3\n",
    "\n",
    "sin2theta_vals = []\n",
    "dm2_vals = []\n",
    "count = 0\n",
    "\n",
    "for sim in range(N_sim):\n",
    "    data = generate_data(N_bins, sin2theta=sin2theta_true, dm2=dm2_true)\n",
    "    \n",
    "    popt, pcov = curve_fit(atmo_event_rate_fit, xdata=np.vstack((data[\"energy\"], data[\"cosdec\"])), ydata=data[\"events\"], p0=[0.5, 1e-3])\n",
    "    \n",
    "    sin2theta_vals.append(popt[0])\n",
    "    dm2_vals.append(popt[1])\n",
    "    \n",
    "    if abs(popt[0] - sin2theta_true) < sigma_sin2theta_10 and abs(popt[1] - dm2_true) < sigma_dm2_10:\n",
    "        count += 1\n",
    "        \n",
    "print(f\"Fraction of measurements within the Cramer-Rao bound: {count/N_sim:.3f}\")\n",
    "\n",
    "fig = plt.figure(figsize=(8,4))\n",
    "ax = fig.add_subplot(111,)\n",
    "\n",
    "t = np.linspace(0, 2*np.pi, 100)\n",
    "\n",
    "ax.plot(sin2theta_true+sigma_sin2theta_10*np.cos(t) , dm2_true+sigma_dm2_10*np.sin(t) )\n",
    "\n",
    "ax.plot(sin2theta_vals, dm2_vals, \"x\")\n",
    "\n",
    "ax.set_xlabel(\"$\\sin^2( θ )$\")\n",
    "ax.set_ylabel(\"$\\mathcal{d} m^2$\")\n",
    "\n",
    "ax.ticklabel_format(axis=\"both\", style=\"sci\", scilimits=(0,0))\n",
    "plt.show()"
   ]
  },
  {
   "cell_type": "code",
   "execution_count": 10,
   "metadata": {},
   "outputs": [
    {
     "name": "stdout",
     "output_type": "stream",
     "text": [
      "Fraction of measurements within the Cramer-Rao bound: 0.030\n"
     ]
    },
    {
     "data": {
      "image/png": "[encoded data removed]",
      "text/plain": [
       "<Figure size 800x400 with 1 Axes>"
      ]
     },
     "metadata": {},
     "output_type": "display_data"
    }
   ],
   "source": [
    "# Increase no. of data points per sim and check again\n",
    "\n",
    "N_sim = 100\n",
    "N_bins = 100\n",
    "\n",
    "sin2theta_true = 0.9\n",
    "dm2_true = 2.4e-3\n",
    "\n",
    "sin2theta_vals = []\n",
    "dm2_vals = []\n",
    "count = 0\n",
    "\n",
    "for sim in range(N_sim):\n",
    "    data = generate_data(N_bins, sin2theta=sin2theta_true, dm2=dm2_true)\n",
    "    \n",
    "    popt, pcov = curve_fit(atmo_event_rate_fit, xdata=np.vstack((data[\"energy\"], data[\"cosdec\"])), ydata=data[\"events\"], p0=[0.5, 1e-3])\n",
    "    \n",
    "    sin2theta_vals.append(popt[0])\n",
    "    dm2_vals.append(popt[1])\n",
    "    \n",
    "    if abs(popt[0] - sin2theta_true) < sigma_sin2theta_100 and abs(popt[1] - dm2_true) < sigma_dm2_100:\n",
    "        count += 1\n",
    "        \n",
    "print(f\"Fraction of measurements within the Cramer-Rao bound: {count/N_sim:.3f}\")\n",
    "\n",
    "fig = plt.figure(figsize=(8,4))\n",
    "ax = fig.add_subplot(111,)\n",
    "\n",
    "t = np.linspace(0, 2*np.pi, 100)\n",
    "\n",
    "ax.plot(sin2theta_true+sigma_sin2theta_100*np.cos(t) , dm2_true+sigma_dm2_100*np.sin(t) )\n",
    "\n",
    "ax.plot(sin2theta_vals, dm2_vals, \"x\")\n",
    "\n",
    "ax.set_xlabel(\"$\\sin^2( θ )$\")\n",
    "ax.set_ylabel(\"$\\mathcal{d} m^2$\")\n",
    "\n",
    "ax.ticklabel_format(axis=\"both\", style=\"sci\", scilimits=(0,0))\n",
    "plt.show()"
   ]
  }
 ],
 "metadata": {
  "kernelspec": {
   "display_name": "statmethods",
   "language": "python",
   "name": "python3"
  },
  "language_info": {
   "codemirror_mode": {
    "name": "ipython",
    "version": 3
   },
   "file_extension": ".py",
   "mimetype": "text/x-python",
   "name": "python",
   "nbconvert_exporter": "python",
   "pygments_lexer": "ipython3",
   "version": "3.11.0"
  },
  "orig_nbformat": 4,
  "vscode": {
   "interpreter": {
    "hash": "5a0019a268f07d254d9507a2e0334038a922a455e7748d5005c7043fb2589f99"
   }
  }
 },
 "nbformat": 4,
 "nbformat_minor": 2
}
