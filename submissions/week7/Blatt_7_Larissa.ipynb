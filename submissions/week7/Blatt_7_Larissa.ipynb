{
 "cells": [
  {
   "attachments": {},
   "cell_type": "markdown",
   "metadata": {},
   "source": [
    "# Blatt 7"
   ]
  },
  {
   "cell_type": "code",
   "execution_count": 1,
   "metadata": {},
   "outputs": [],
   "source": [
    "import numpy as np\n",
    "import matplotlib.pyplot as plt\n",
    "import pandas as pd\n",
    "from scipy.optimize import minimize, curve_fit\n",
    "from scipy.misc import derivative\n",
    "from matplotlib.patches import Ellipse"
   ]
  },
  {
   "attachments": {},
   "cell_type": "markdown",
   "metadata": {},
   "source": [
    "Create a reasonable mock data set with events as a function of energy (between 10\n",
    "GeV and 100 GeV) and cos(θ) between 0 and 1. Assuming a known set of mixing\n",
    "parameters (feel free to use the functions provided in the example notebook in the\n",
    "Github repository, which already includes reasonable default parameters)"
   ]
  },
  {
   "cell_type": "code",
   "execution_count": 9,
   "metadata": {},
   "outputs": [],
   "source": [
    "def atmo_event_rate(energy, cos_theta, sin2theta=0.9, dm2=2.4e-3):\n",
    "    flux = 1e5*energy**-1.7 # the true neutrino flux is steeper, this takes into account \n",
    "                            # neutrino cross-section, which is proportional to E\n",
    "                            # as well as that we are working with logarithmic energy bins    \n",
    "    l = 12e3 * cos_theta # base line - max corresponds to diameter of the Earth 12e3 km\n",
    "\n",
    "    # two flavor oscillation propability for muon disappearance - see wikipedia \n",
    "    osc_prop = 1-sin2theta * np.sin(1.27*dm2*l/energy) \n",
    "\n",
    "    return flux*osc_prop\n",
    "\n",
    "def run_experiment(energy, cosdec, sin2theta=0.9, dm2=2.4e-3):\n",
    "    x = np.array(energy.size)\n",
    "    events=np.zeros(energy.size*cosdec.size)\n",
    "\n",
    "    liste=[]\n",
    "    i = 0\n",
    "    for e in energy:\n",
    "        for c in cosdec:\n",
    "            mu = atmo_event_rate(e,c,sin2theta,dm2)\n",
    "            sig = np.sqrt(mu)\n",
    "            event_random = np.random.normal(mu,sig)\n",
    "            events[i] = int(event_random) \n",
    "            \n",
    "            i=i+1\n",
    "            liste.append([e,c,int(event_random)])\n",
    "    data = pd.DataFrame(liste, columns=['energy', 'cosdec', 'events'])\n",
    "    return data"
   ]
  },
  {
   "cell_type": "code",
   "execution_count": 24,
   "metadata": {},
   "outputs": [],
   "source": [
    "def dataset(steps, sin2theta=0.9, dm2=2.4e-3, Plotten=False):\n",
    "    cosdec =  np.linspace(0, 1, steps) # n steps in cos(declination) from 0 to 1 \n",
    "    log10_energy = np.linspace(1, 2, steps) # n steps in log10(energy) from 10 to 100 GeV\n",
    "    energy=10**log10_energy\n",
    "    # run the experiment \n",
    "    data=run_experiment(energy,cosdec,sin2theta,dm2)\n",
    "\n",
    "    if Plotten==True:\n",
    "        plt.hist(data['events'], bins=20)\n",
    "        plt.yscale('log')\n",
    "        plt.show() \n",
    "\n",
    "    return data"
   ]
  },
  {
   "attachments": {},
   "cell_type": "markdown",
   "metadata": {},
   "source": [
    "Once you have your mock data set, fit for the two mixing parameters. Please compute\n",
    "the errors on the parameters through the minimum-variance / Cramer-Rao bound by\n",
    "obtaining numerically the corresponding derivatives"
   ]
  },
  {
   "cell_type": "code",
   "execution_count": 21,
   "metadata": {},
   "outputs": [
    {
     "data": {
      "image/png": "[encoded data removed]",
      "text/plain": [
       "<Figure size 432x288 with 1 Axes>"
      ]
     },
     "metadata": {
      "needs_background": "light"
     },
     "output_type": "display_data"
    },
    {
     "name": "stdout",
     "output_type": "stream",
     "text": [
      "sin2theta = 0.9003588630016492 $\\pm$ 0.00014796448887570402\n",
      "dm2 = 0.00240002704184877 $\\pm$ 2.265627546005045e-07\n"
     ]
    }
   ],
   "source": [
    "def model(data, sin2theta, dm2):\n",
    "    energy, cosdec = data\n",
    "    return atmo_event_rate(energy, cosdec, sin2theta, dm2)\n",
    "\n",
    "data = dataset(200, Plotten=True)\n",
    "popt, pcov = curve_fit(model, xdata=np.vstack((data[\"energy\"], data[\"cosdec\"])), ydata=data[\"events\"], p0 = [0.5, 1e-3])\n",
    "perr = np.sqrt(np.diag(pcov))\n",
    "print(f\"sin2theta = {popt[0]} $\\pm$ {perr[0]}\")\n",
    "print(f\"dm2 = {popt[1]} $\\pm$ {perr[1]}\")"
   ]
  },
  {
   "cell_type": "code",
   "execution_count": 15,
   "metadata": {},
   "outputs": [],
   "source": [
    "def logprobability_sin(sin2theta, dm2, energy, cos_theta):\n",
    "    if energy == 0:\n",
    "        return 0\n",
    "    flux = 1e5*energy**-1.7\n",
    "    l = 12e3 * cos_theta # base line - max corresponds to diameter of the Earth 12e3 km\n",
    "    osc_prop = 1-sin2theta * (np.sin(1.27*dm2*l/energy))**2 \n",
    "    #if flux*osc_prop <= 0:\n",
    "        #return 0\n",
    "    return np.log(flux*osc_prop)\n",
    "\n",
    "\n",
    "def logprobability_dm2(dm2, sin2theta,  energy, cos_theta):\n",
    "    if energy == 0:\n",
    "        return 0\n",
    "    flux = 1e5*energy**-1.7\n",
    "    l = 12e3 * cos_theta # base line - max corresponds to diameter of the Earth 12e3 km\n",
    "    osc_prop = 1-sin2theta * (np.sin(1.27*dm2*l/energy))**2 \n",
    "    return np.log(flux*osc_prop)\n",
    "\n",
    "def CramerRao_bound(data, sin2theta, dm2):\n",
    "    energy, cosdec = data[\"energy\"].to_numpy(), data[\"cosdec\"].to_numpy()\n",
    "    #calculate numerical derivatives of the LLH wrt sin2theta and dm2\n",
    "    dLLH_dm2 = 0\n",
    "    dLLH_sin2theta = 0\n",
    "    for i in range(len(energy)):\n",
    "        dLLH_dm2 += derivative(logprobability_dm2, dm2, dx=1e-4, args = (sin2theta, energy[i], cosdec[i]))\n",
    "        dLLH_sin2theta += derivative(logprobability_sin, sin2theta,dx=1e-4, args = (dm2, energy[i], cosdec[i]))\n",
    "    return  1/dLLH_dm2**2, 1/dLLH_sin2theta**2"
   ]
  },
  {
   "cell_type": "code",
   "execution_count": 22,
   "metadata": {},
   "outputs": [
    {
     "data": {
      "image/png": "[encoded data removed]",
      "text/plain": [
       "<Figure size 432x288 with 1 Axes>"
      ]
     },
     "metadata": {
      "needs_background": "light"
     },
     "output_type": "display_data"
    },
    {
     "name": "stdout",
     "output_type": "stream",
     "text": [
      "Bounds for sin2theta and dm2 for 10 events:\n",
      "0.007723928724815024\n",
      "9.652700610661217e-05\n"
     ]
    }
   ],
   "source": [
    "data = dataset(10, Plotten=True) \n",
    "sigma_dm2, sigma_sin2theta = np.sqrt(CramerRao_bound(data, 0.9, 2.4e-3))\n",
    "\n",
    "print('Bounds for sin2theta and dm2 for 10 events:')\n",
    "print(sigma_sin2theta)\n",
    "print(sigma_dm2)"
   ]
  },
  {
   "attachments": {},
   "cell_type": "markdown",
   "metadata": {},
   "source": [
    "Repeat step 1 a hundred times and each time count how often your measurement falls\n",
    "inside the 1-dimensional errors. Also, plot the two dimensional error ellipse obtained\n",
    "from error propagation and count the number of fits that result in parameters that fall\n",
    "inside the contours."
   ]
  },
  {
   "cell_type": "code",
   "execution_count": 26,
   "metadata": {},
   "outputs": [
    {
     "name": "stdout",
     "output_type": "stream",
     "text": [
      "89\n"
     ]
    },
    {
     "data": {
      "image/png": "[encoded data removed]",
      "text/plain": [
       "<Figure size 432x288 with 1 Axes>"
      ]
     },
     "metadata": {
      "needs_background": "light"
     },
     "output_type": "display_data"
    }
   ],
   "source": [
    "count = 0 \n",
    "X=[]\n",
    "Y=[]\n",
    "\n",
    "for i in range(100):\n",
    "    data = dataset(10)\n",
    "    popt, pcov = curve_fit(model, xdata=np.vstack((data[\"energy\"], data[\"cosdec\"])), ydata=data[\"events\"], p0=[0.5, 1e-3])\n",
    "    X.append(popt[0])\n",
    "    Y.append(popt[1])\n",
    "    if abs(popt[0] - 0.9) < sigma_sin2theta and abs(popt[1] - 2.4e-3) < sigma_dm2:\n",
    "        count += 1\n",
    "\n",
    "print(count)\n",
    "\n",
    "ell = np.linspace(0, 2*np.pi, 100)\n",
    "plt.plot(0.9+sigma_sin2theta*np.cos(ell) , 2.4e-3+sigma_dm2*np.sin(ell) )\n",
    "plt.plot(X,Y, 'ko')\n",
    "plt.xlabel(\"sin2theta\")\n",
    "plt.ylabel(\"dm2\")\n",
    "plt.show()"
   ]
  },
  {
   "cell_type": "code",
   "execution_count": null,
   "metadata": {},
   "outputs": [],
   "source": []
  }
 ],
 "metadata": {
  "kernelspec": {
   "display_name": "root_env",
   "language": "python",
   "name": "python3"
  },
  "language_info": {
   "codemirror_mode": {
    "name": "ipython",
    "version": 3
   },
   "file_extension": ".py",
   "mimetype": "text/x-python",
   "name": "python",
   "nbconvert_exporter": "python",
   "pygments_lexer": "ipython3",
   "version": "3.10.4"
  },
  "orig_nbformat": 4,
  "vscode": {
   "interpreter": {
    "hash": "1bf29694247483e461a8dc4a3ca45c54291cb331d11073e7908a9fa2ebc77bf1"
   }
  }
 },
 "nbformat": 4,
 "nbformat_minor": 2
}
