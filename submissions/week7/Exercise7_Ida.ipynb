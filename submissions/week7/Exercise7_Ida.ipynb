{
 "cells": [
  {
   "cell_type": "markdown",
   "id": "a0c4c5c2",
   "metadata": {},
   "source": [
    "# Exercise 7\n",
    "## Neutrino oscillations in atmospheric neutrino detectors (15 Points)\n",
    "The idea: Generate a mock experiment mimicking the measurement of neutrino oscillations in atmospheric neutrino detectors, such as in IceCube or SuperKamiokande. (See for instance https://arxiv.org/pdf/1707.07081.pdf).\n",
    "\n",
    "$P = 1 -\\sin^2(2\\theta)\\sin^2(1.27\\frac{\\Delta m^2 L}{E})$\n",
    "with the two mixig parameters $\\sin^2(2\\theta)$ (sin2theta) and $\\Delta m^2$ (dm2)"
   ]
  },
  {
   "cell_type": "code",
   "execution_count": 1,
   "id": "50db9edc",
   "metadata": {},
   "outputs": [],
   "source": [
    "import numpy as np\n",
    "import matplotlib.pyplot as plt\n",
    "import pandas as pd\n",
    "from scipy.optimize import minimize"
   ]
  },
  {
   "cell_type": "markdown",
   "id": "51fa5926",
   "metadata": {},
   "source": [
    "## Step 1"
   ]
  },
  {
   "cell_type": "code",
   "execution_count": 85,
   "id": "1064d888",
   "metadata": {},
   "outputs": [],
   "source": [
    "#using the functions provided in the example notebook in the Github repository, which already includes reasonable default parameters\n",
    "#I just added a **2 to the sin(), like in the formula above\n",
    "def atmo_event_rate(energy, cos_theta, sin2theta=0.9, dm2=2.4e-3):\n",
    "    flux = 1e5*energy**-1.7 # the true neutrino flux is steeper, this takes into account \n",
    "                            # neutrino cross-section, which is proportional to E\n",
    "                            # as well as that we are working with logarithmic energy bins    \n",
    "    l = 12e3 * cos_theta # base line - max corresponds to diameter of the Earth 12e3 km\n",
    "\n",
    "    # two flavor oscillation propability for muon disappearance - see wikipedia \n",
    "    osc_prop = 1-sin2theta * (np.sin(1.27*dm2*l/energy))**2 #shouldn't it be sin2theta and np.sin()**2 ?\n",
    "\n",
    "    return flux*osc_prop\n",
    "\n",
    "def run_experiment(energy, cosdec, sin2theta=0.9, dm2=2.4e-3):\n",
    "    x = np.array(energy.size)\n",
    "    events=np.zeros(energy.size*cosdec.size)\n",
    "\n",
    "    i = 0\n",
    "    for e in energy:\n",
    "        for c in cosdec:\n",
    "            mu = atmo_event_rate(e,c,sin2theta,dm2)\n",
    "            sig = np.sqrt(mu)\n",
    "            event_random = np.random.normal(mu,sig)\n",
    "            events[i] = int(event_random) \n",
    "            \n",
    "            i=i+1\n",
    "                   \n",
    "    return events"
   ]
  },
  {
   "cell_type": "code",
   "execution_count": 86,
   "id": "029eba97",
   "metadata": {},
   "outputs": [],
   "source": [
    "# funktion to generate data of one experiment, with N energy bins and N cos(declination) bins\n",
    "def generate_data(N, sin2theta=0.9, dm2=2.4e-3):\n",
    "    cosdec =  np.linspace(0, 1, N) # N steps in cos(declination) from 0 to 1 \n",
    "    log10_energy = np.linspace(1, 2, N) # N steps in log10(energy) from 10 to 100 GeV\n",
    "    energy=10**log10_energy\n",
    "# run the experiment \n",
    "    events=run_experiment(energy,cosdec, sin2theta, dm2)\n",
    "\n",
    "# lets create a data set with the events per bin\n",
    "# energy, cosdec, events\n",
    "    data = [[], [], []]\n",
    "    i = 0\n",
    "    for e in energy:\n",
    "        for c in cosdec:\n",
    "            data[0].append(e)\n",
    "            data[1].append(c)\n",
    "            data[2].append(events[i])#\"energy, cosdec, events:\",e,c, events[i])\n",
    "            i=i+1\n",
    "    return data"
   ]
  },
  {
   "cell_type": "code",
   "execution_count": 53,
   "id": "a8cc5f44",
   "metadata": {},
   "outputs": [
    {
     "data": {
      "image/png": "[encoded data removed]",
      "text/plain": [
       "<Figure size 432x288 with 1 Axes>"
      ]
     },
     "metadata": {
      "needs_background": "light"
     },
     "output_type": "display_data"
    }
   ],
   "source": [
    "N = 10 \n",
    "df = generate_data(N, 0.9, 2.4e-3)\n",
    "plt.hist(df[2], bins= 25)\n",
    "plt.yscale('log')"
   ]
  },
  {
   "cell_type": "markdown",
   "id": "544be2da",
   "metadata": {},
   "source": [
    "## Step 2"
   ]
  },
  {
   "cell_type": "code",
   "execution_count": 55,
   "id": "a5a97558",
   "metadata": {},
   "outputs": [
    {
     "name": "stdout",
     "output_type": "stream",
     "text": [
      "fit for sin2theta = 0.9012927437631143+-0.0021358469669639168\n",
      "fit for dm2 = 0.0023926318640476495+-4.905886829573314e-06\n"
     ]
    }
   ],
   "source": [
    "#now I want to fit for the parm sin2theta, dm2\n",
    "from scipy.optimize import curve_fit\n",
    " \n",
    "def func(x, sin2theta, dm2):\n",
    "    energy, cosdec = x\n",
    "    return atmo_event_rate(energy, cosdec, sin2theta, dm2)\n",
    "\n",
    "popt, pcov = curve_fit(func, xdata = [df[0],df[1]], ydata = df[2], p0 = [0.5, 1e-3])\n",
    "perr = np.sqrt(np.diag(pcov))\n",
    "print(\"fit for sin2theta = \" + str(popt[0]) + \"+-\" +  str(perr[0]))#sin2theta=0.9\n",
    "print(\"fit for dm2 = \"  + str(popt[1]) + \"+-\" +  str(perr[1])) #dm2=2.4e-3"
   ]
  },
  {
   "cell_type": "markdown",
   "id": "c8388d22",
   "metadata": {},
   "source": [
    "Now I want to compute the errors on the parameters through the Cramer-Rao bound by obtaining numerically the corresponding derivatives.\n",
    "The Cramer-Rao bound is defined by the estimator of the derivative of the loglikelyhood functio squared\n",
    "\n",
    "$$V(x, \\alpha) \\geq \\frac{1}{<(\\frac{\\partial\\log L(x,\\alpha)}{\\partial\\alpha})^2>}$$\n",
    "\n",
    "\n",
    "with $$\\log L(x, \\alpha) = \\sum_{i=1}^{n}\\log P(x_i, \\alpha)$$\n",
    "\n",
    "so that $$\\frac{\\partial\\log L(x,\\alpha)}{\\partial\\alpha} = \\sum_{i=1}^{n}\\frac{\\partial\\log P(x_i, \\alpha)}{\\partial\\alpha}$$\n",
    "\n",
    "here $\\alpha = \\sin^2(2\\theta), \\Delta m^2$ and $x_i = {\\cos\\theta}_i, E_i$ with\n",
    "\n",
    "$P(\\sin^2(2\\theta), \\Delta m^2, {\\cos\\theta}_i, E_i) = 1 -\\sin^2(2\\theta)\\sin^2(1.27\\frac{2R\\Delta m^2 \\cos\\theta_i}{E_i})$"
   ]
  },
  {
   "cell_type": "code",
   "execution_count": 142,
   "id": "49581b1c",
   "metadata": {},
   "outputs": [],
   "source": [
    "from scipy.misc import derivative\n",
    "\n",
    "def logprobability_sin(sin2theta, dm2, energy, cos_theta):\n",
    "    if energy == 0:\n",
    "        return 0\n",
    "    flux = 1e5*energy**-1.7\n",
    "    l = 12e3 * cos_theta # base line - max corresponds to diameter of the Earth 12e3 km\n",
    "    osc_prop = 1-sin2theta * (np.sin(1.27*dm2*l/energy))**2 \n",
    "    #if flux*osc_prop <= 0:\n",
    "        #return 0\n",
    "    return np.log(flux*osc_prop)\n",
    "def logprobability_dm2(dm2, sin2theta,  energy, cos_theta):\n",
    "    if energy == 0:\n",
    "        return 0\n",
    "    flux = 1e5*energy**-1.7\n",
    "    l = 12e3 * cos_theta # base line - max corresponds to diameter of the Earth 12e3 km\n",
    "    osc_prop = 1-sin2theta * (np.sin(1.27*dm2*l/energy))**2 \n",
    "    return np.log(flux*osc_prop)\n",
    "\n",
    "def CramerRao_bound(data, sin2theta, dm2):\n",
    "    energy, cosdec, events = data\n",
    "    #derivative of the Log Likelyhood with respect to dm2 and sin2theta\n",
    "    dLLH_dm2 = 0\n",
    "    dLLH_sin2theta = 0\n",
    "    for i in range(len(energy)):\n",
    "        dLLH_dm2 += derivative(logprobability_dm2, dm2, dx=1e-6, args = (sin2theta, energy[i], cosdec[i]))\n",
    "        dLLH_sin2theta += derivative(logprobability_sin, sin2theta,dx=1e-6, args = (dm2, energy[i], cosdec[i]))\n",
    "    return  1/dLLH_dm2**2, 1/dLLH_sin2theta**2\n",
    "    \n"
   ]
  },
  {
   "cell_type": "code",
   "execution_count": 143,
   "id": "22a1facd",
   "metadata": {},
   "outputs": [
    {
     "name": "stdout",
     "output_type": "stream",
     "text": [
      "Bound for V(dm2)=9.436477089008089e-09 and Bound for V(sin2theta)=5.965909269672221e-05\n"
     ]
    }
   ],
   "source": [
    "df = generate_data(N, 0.9, 2.4e-3)\n",
    "sigma_dm2 = np.sqrt(CramerRao_bound(df, sin2theta=0.9, dm2=2.4e-3)[0])\n",
    "sigma_sin2theta = np.sqrt(CramerRao_bound(df, sin2theta=0.9, dm2=2.4e-3)[1])\n",
    "print(\"Bound for V(dm2)=\" +str(sigma_dm2**2)+ \" and Bound for V(sin2theta)=\" + str(sigma_sin2theta**2))"
   ]
  },
  {
   "cell_type": "markdown",
   "id": "ff974558",
   "metadata": {},
   "source": [
    "## Step 3\n",
    "Now Repeat step 1 a hundred times and each time count how often your measurement falls inside the 1-dimensional errors. Also, plot the two dimensional error ellipse obtained from error propagation and count the number of fits that result in parameters that fall inside the contours."
   ]
  },
  {
   "cell_type": "code",
   "execution_count": 144,
   "id": "04492185",
   "metadata": {},
   "outputs": [
    {
     "name": "stdout",
     "output_type": "stream",
     "text": [
      "92\n"
     ]
    }
   ],
   "source": [
    "M = 100\n",
    "N = 10\n",
    "counter = 0 \n",
    "sin2theta = 0.9\n",
    "dm2 = 2.4e-3\n",
    "# sin2theta, dm2\n",
    "values_list =[[],[]]\n",
    "\n",
    "for i in range(M):\n",
    "    df = generate_data(N, 0.9, 2.4e-3)\n",
    "    popt, pcov = curve_fit(func, xdata = [df[0],df[1]], ydata = df[2], p0 = [0.5, 1e-3]) #sin2theta, dm2\n",
    "    values_list[0].append(popt[0])\n",
    "    values_list[1].append(popt[1])\n",
    "    if sin2theta-sigma_sin2theta <= popt[0] <= sin2theta+sigma_sin2theta and dm2-sigma_dm2<= popt[1] <= dm2+sigma_dm2:\n",
    "        counter += 1\n",
    "\n",
    "print(counter)"
   ]
  },
  {
   "cell_type": "code",
   "execution_count": 145,
   "id": "3300cf62",
   "metadata": {},
   "outputs": [
    {
     "data": {
      "text/plain": [
       "Text(0, 0.5, 'dm2')"
      ]
     },
     "execution_count": 145,
     "metadata": {},
     "output_type": "execute_result"
    },
    {
     "data": {
      "image/png": "[encoded data removed]",
      "text/plain": [
       "<Figure size 432x288 with 1 Axes>"
      ]
     },
     "metadata": {
      "needs_background": "light"
     },
     "output_type": "display_data"
    }
   ],
   "source": [
    "from matplotlib.patches import Ellipse\n",
    "\n",
    "t = np.linspace(0, 2*np.pi, 100)\n",
    "plt.plot( sin2theta+sigma_sin2theta*np.cos(t) , dm2+sigma_dm2*np.sin(t) )\n",
    "\n",
    "plt.plot(values_list[0], values_list[1], \".\")\n",
    "\n",
    "plt.xlabel(\"sin2theta\")\n",
    "plt.ylabel(\"dm2\")"
   ]
  },
  {
   "cell_type": "code",
   "execution_count": 140,
   "id": "c4fb5b39",
   "metadata": {},
   "outputs": [
    {
     "name": "stdout",
     "output_type": "stream",
     "text": [
      "Ellipse(xy=(0.9, 0.0024), width=0.007723929874101614, height=9.714153122637797e-05, angle=0)\n"
     ]
    }
   ],
   "source": [
    "print(Ellipse((sin2theta ,dm2), sigma_sin2theta, sigma_dm2))"
   ]
  },
  {
   "cell_type": "code",
   "execution_count": null,
   "id": "f407acbb",
   "metadata": {},
   "outputs": [],
   "source": []
  }
 ],
 "metadata": {
  "kernelspec": {
   "display_name": "Python 3 (ipykernel)",
   "language": "python",
   "name": "python3"
  },
  "language_info": {
   "codemirror_mode": {
    "name": "ipython",
    "version": 3
   },
   "file_extension": ".py",
   "mimetype": "text/x-python",
   "name": "python",
   "nbconvert_exporter": "python",
   "pygments_lexer": "ipython3",
   "version": "3.9.7"
  }
 },
 "nbformat": 4,
 "nbformat_minor": 5
}
