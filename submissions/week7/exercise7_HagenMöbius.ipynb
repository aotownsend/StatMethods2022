{
 "cells": [
  {
   "cell_type": "markdown",
   "metadata": {},
   "source": [
    "Fit of mock data using a two flavor neutrino oscillation framework\n",
    "\n",
    "Similar to https://arxiv.org/pdf/1707.07081.pdf\n"
   ]
  },
  {
   "cell_type": "code",
   "execution_count": 1,
   "metadata": {},
   "outputs": [],
   "source": [
    "import numpy as np\n",
    "import matplotlib.pyplot as plt\n",
    "import pandas as pd\n",
    "from scipy.optimize import minimize"
   ]
  },
  {
   "cell_type": "markdown",
   "metadata": {},
   "source": [
    "I use the functions that were provided in the github file"
   ]
  },
  {
   "cell_type": "code",
   "execution_count": 2,
   "metadata": {},
   "outputs": [],
   "source": [
    "def atmo_event_rate(energy, cos_theta, sin2theta=0.9, dm2=2.4e-3):\n",
    "    flux = 1e5*energy**-1.7 # the true neutrino flux is steeper, this takes into account \n",
    "                            # neutrino cross-section, which is proportional to E\n",
    "                            # as well as that we are working with logarithmic energy bins    \n",
    "    l = 12e3 * cos_theta # base line - max corresponds to diameter of the Earth 12e3 km\n",
    "\n",
    "    # two flavor oscillation propability for muon disappearance - see wikipedia \n",
    "    osc_prop = 1-sin2theta * np.sin(1.27*dm2*l/energy) \n",
    "\n",
    "    return flux*osc_prop\n",
    "\n",
    "def run_experiment(energy, cosdec, sin2theta=0.9, dm2=2.4e-3):\n",
    "    x = np.array(energy.size)\n",
    "    events=np.zeros(energy.size*cosdec.size)\n",
    "\n",
    "    i = 0\n",
    "    for e in energy:\n",
    "        for c in cosdec:\n",
    "            mu = atmo_event_rate(e,c,sin2theta,dm2)\n",
    "            sig = np.sqrt(mu)\n",
    "            event_random = np.random.normal(mu,sig)\n",
    "            events[i] = int(event_random) \n",
    "            \n",
    "            i=i+1\n",
    "                   \n",
    "    return events"
   ]
  },
  {
   "cell_type": "code",
   "execution_count": 3,
   "metadata": {},
   "outputs": [
    {
     "name": "stdout",
     "output_type": "stream",
     "text": [
      "energy, cosdec, events: 10.0 0.0 1960.0\n",
      "energy, cosdec, events: 10.0 0.1111111111111111 1287.0\n",
      "energy, cosdec, events: 10.0 0.2222222222222222 700.0\n",
      "energy, cosdec, events: 10.0 0.3333333333333333 282.0\n",
      "energy, cosdec, events: 10.0 0.4444444444444444 206.0\n",
      "energy, cosdec, events: 10.0 0.5555555555555556 410.0\n",
      "energy, cosdec, events: 10.0 0.6666666666666666 791.0\n",
      "energy, cosdec, events: 10.0 0.7777777777777777 1519.0\n",
      "energy, cosdec, events: 10.0 0.8888888888888888 2168.0\n",
      "energy, cosdec, events: 10.0 1.0 2958.0\n",
      "energy, cosdec, events: 12.91549665014884 0.0 1350.0\n",
      "energy, cosdec, events: 12.91549665014884 0.1111111111111111 916.0\n",
      "energy, cosdec, events: 12.91549665014884 0.2222222222222222 637.0\n",
      "energy, cosdec, events: 12.91549665014884 0.3333333333333333 346.0\n",
      "energy, cosdec, events: 12.91549665014884 0.4444444444444444 206.0\n",
      "energy, cosdec, events: 12.91549665014884 0.5555555555555556 118.0\n",
      "energy, cosdec, events: 12.91549665014884 0.6666666666666666 186.0\n",
      "energy, cosdec, events: 12.91549665014884 0.7777777777777777 379.0\n",
      "energy, cosdec, events: 12.91549665014884 0.8888888888888888 602.0\n",
      "energy, cosdec, events: 12.91549665014884 1.0 935.0\n",
      "energy, cosdec, events: 16.68100537200059 0.0 862.0\n",
      "energy, cosdec, events: 16.68100537200059 0.1111111111111111 646.0\n",
      "energy, cosdec, events: 16.68100537200059 0.2222222222222222 466.0\n",
      "energy, cosdec, events: 16.68100537200059 0.3333333333333333 337.0\n",
      "energy, cosdec, events: 16.68100537200059 0.4444444444444444 239.0\n",
      "energy, cosdec, events: 16.68100537200059 0.5555555555555556 141.0\n",
      "energy, cosdec, events: 16.68100537200059 0.6666666666666666 93.0\n",
      "energy, cosdec, events: 16.68100537200059 0.7777777777777777 86.0\n",
      "energy, cosdec, events: 16.68100537200059 0.8888888888888888 147.0\n",
      "energy, cosdec, events: 16.68100537200059 1.0 239.0\n",
      "energy, cosdec, events: 21.544346900318832 0.0 529.0\n",
      "energy, cosdec, events: 21.544346900318832 0.1111111111111111 414.0\n",
      "energy, cosdec, events: 21.544346900318832 0.2222222222222222 338.0\n",
      "energy, cosdec, events: 21.544346900318832 0.3333333333333333 257.0\n",
      "energy, cosdec, events: 21.544346900318832 0.4444444444444444 214.0\n",
      "energy, cosdec, events: 21.544346900318832 0.5555555555555556 113.0\n",
      "energy, cosdec, events: 21.544346900318832 0.6666666666666666 89.0\n",
      "energy, cosdec, events: 21.544346900318832 0.7777777777777777 64.0\n",
      "energy, cosdec, events: 21.544346900318832 0.8888888888888888 56.0\n",
      "energy, cosdec, events: 21.544346900318832 1.0 57.0\n",
      "energy, cosdec, events: 27.825594022071243 0.0 335.0\n",
      "energy, cosdec, events: 27.825594022071243 0.1111111111111111 302.0\n",
      "energy, cosdec, events: 27.825594022071243 0.2222222222222222 288.0\n",
      "energy, cosdec, events: 27.825594022071243 0.3333333333333333 225.0\n",
      "energy, cosdec, events: 27.825594022071243 0.4444444444444444 186.0\n",
      "energy, cosdec, events: 27.825594022071243 0.5555555555555556 146.0\n",
      "energy, cosdec, events: 27.825594022071243 0.6666666666666666 101.0\n",
      "energy, cosdec, events: 27.825594022071243 0.7777777777777777 79.0\n",
      "energy, cosdec, events: 27.825594022071243 0.8888888888888888 50.0\n",
      "energy, cosdec, events: 27.825594022071243 1.0 49.0\n",
      "energy, cosdec, events: 35.938136638046274 0.0 229.0\n",
      "energy, cosdec, events: 35.938136638046274 0.1111111111111111 195.0\n",
      "energy, cosdec, events: 35.938136638046274 0.2222222222222222 174.0\n",
      "energy, cosdec, events: 35.938136638046274 0.3333333333333333 152.0\n",
      "energy, cosdec, events: 35.938136638046274 0.4444444444444444 163.0\n",
      "energy, cosdec, events: 35.938136638046274 0.5555555555555556 131.0\n",
      "energy, cosdec, events: 35.938136638046274 0.6666666666666666 103.0\n",
      "energy, cosdec, events: 35.938136638046274 0.7777777777777777 57.0\n",
      "energy, cosdec, events: 35.938136638046274 0.8888888888888888 70.0\n",
      "energy, cosdec, events: 35.938136638046274 1.0 53.0\n",
      "energy, cosdec, events: 46.41588833612777 0.0 133.0\n",
      "energy, cosdec, events: 46.41588833612777 0.1111111111111111 132.0\n",
      "energy, cosdec, events: 46.41588833612777 0.2222222222222222 140.0\n",
      "energy, cosdec, events: 46.41588833612777 0.3333333333333333 116.0\n",
      "energy, cosdec, events: 46.41588833612777 0.4444444444444444 103.0\n",
      "energy, cosdec, events: 46.41588833612777 0.5555555555555556 85.0\n",
      "energy, cosdec, events: 46.41588833612777 0.6666666666666666 88.0\n",
      "energy, cosdec, events: 46.41588833612777 0.7777777777777777 67.0\n",
      "energy, cosdec, events: 46.41588833612777 0.8888888888888888 64.0\n",
      "energy, cosdec, events: 46.41588833612777 1.0 60.0\n",
      "energy, cosdec, events: 59.94842503189409 0.0 90.0\n",
      "energy, cosdec, events: 59.94842503189409 0.1111111111111111 84.0\n",
      "energy, cosdec, events: 59.94842503189409 0.2222222222222222 79.0\n",
      "energy, cosdec, events: 59.94842503189409 0.3333333333333333 74.0\n",
      "energy, cosdec, events: 59.94842503189409 0.4444444444444444 81.0\n",
      "energy, cosdec, events: 59.94842503189409 0.5555555555555556 66.0\n",
      "energy, cosdec, events: 59.94842503189409 0.6666666666666666 52.0\n",
      "energy, cosdec, events: 59.94842503189409 0.7777777777777777 53.0\n",
      "energy, cosdec, events: 59.94842503189409 0.8888888888888888 44.0\n",
      "energy, cosdec, events: 59.94842503189409 1.0 42.0\n",
      "energy, cosdec, events: 77.4263682681127 0.0 49.0\n",
      "energy, cosdec, events: 77.4263682681127 0.1111111111111111 60.0\n",
      "energy, cosdec, events: 77.4263682681127 0.2222222222222222 51.0\n",
      "energy, cosdec, events: 77.4263682681127 0.3333333333333333 58.0\n",
      "energy, cosdec, events: 77.4263682681127 0.4444444444444444 45.0\n",
      "energy, cosdec, events: 77.4263682681127 0.5555555555555556 53.0\n",
      "energy, cosdec, events: 77.4263682681127 0.6666666666666666 46.0\n",
      "energy, cosdec, events: 77.4263682681127 0.7777777777777777 46.0\n",
      "energy, cosdec, events: 77.4263682681127 0.8888888888888888 32.0\n",
      "energy, cosdec, events: 77.4263682681127 1.0 50.0\n",
      "energy, cosdec, events: 100.0 0.0 36.0\n",
      "energy, cosdec, events: 100.0 0.1111111111111111 31.0\n",
      "energy, cosdec, events: 100.0 0.2222222222222222 34.0\n",
      "energy, cosdec, events: 100.0 0.3333333333333333 33.0\n",
      "energy, cosdec, events: 100.0 0.4444444444444444 22.0\n",
      "energy, cosdec, events: 100.0 0.5555555555555556 34.0\n",
      "energy, cosdec, events: 100.0 0.6666666666666666 24.0\n",
      "energy, cosdec, events: 100.0 0.7777777777777777 30.0\n",
      "energy, cosdec, events: 100.0 0.8888888888888888 32.0\n",
      "energy, cosdec, events: 100.0 1.0 16.0\n"
     ]
    }
   ],
   "source": [
    "# lets generate one experiment, with 10 energy bins and 10 cos(declination) bins\n",
    "\n",
    "cosdec =  np.linspace(0, 1, 10) # 10 steps in cos(declination) from 0 to 1 \n",
    "log10_energy = np.linspace(1, 2, 10) # 10 steps in log10(energy) from 10 to 100 GeV\n",
    "energy=10**log10_energy\n",
    "\n",
    "# run the experiment \n",
    "events=run_experiment(energy,cosdec,0.9,2.4e-3)\n",
    "\n",
    "# lets print the events per bin\n",
    "\n",
    "i = 0\n",
    "for e in energy:\n",
    "    for c in cosdec:\n",
    "        print(\"energy, cosdec, events:\",e,c, events[i])\n",
    "        i=i+1"
   ]
  },
  {
   "cell_type": "markdown",
   "metadata": {},
   "source": [
    "Now I define a function to get the above values in an array"
   ]
  },
  {
   "cell_type": "code",
   "execution_count": 4,
   "metadata": {},
   "outputs": [],
   "source": [
    "def fit_arrays():\n",
    "    \n",
    "    \n",
    "\n",
    "# lets generate one experiment, with 10 energy bins and 10 cos(declination) bins\n",
    "\n",
    "    cosdec =  np.linspace(0, 1, 10) # 10 steps in cos(declination) from 0 to 1 \n",
    "    log10_energy = np.linspace(1, 2, 10) # 10 steps in log10(energy) from 10 to 100 GeV\n",
    "    energy=10**log10_energy\n",
    "\n",
    "# run the experiment \n",
    "    events=run_experiment(energy,cosdec,0.9,2.4e-3)\n",
    "\n",
    "# lets print the events per bin\n",
    "\n",
    "    i = 0\n",
    "    energy_array=np.zeros(0)\n",
    "    cosdec_array=np.zeros(0)\n",
    "    events_array=np.zeros(0)\n",
    "\n",
    "    for e in energy:\n",
    "        for c in cosdec:\n",
    "            energy_array=np.append([energy_array],[e])\n",
    "            cosdec_array=np.append([cosdec_array],[c])\n",
    "            events_array=np.append([events_array],[events[i]])\n",
    "        \n",
    "        #print(\"energy, cosdec, events:\",e,c, events[i])\n",
    "            i=i+1\n",
    "        \n",
    "    return energy_array, cosdec_array, events_array"
   ]
  },
  {
   "cell_type": "code",
   "execution_count": 5,
   "metadata": {},
   "outputs": [
    {
     "data": {
      "text/plain": [
       "(array([ 10.        ,  10.        ,  10.        ,  10.        ,\n",
       "         10.        ,  10.        ,  10.        ,  10.        ,\n",
       "         10.        ,  10.        ,  12.91549665,  12.91549665,\n",
       "         12.91549665,  12.91549665,  12.91549665,  12.91549665,\n",
       "         12.91549665,  12.91549665,  12.91549665,  12.91549665,\n",
       "         16.68100537,  16.68100537,  16.68100537,  16.68100537,\n",
       "         16.68100537,  16.68100537,  16.68100537,  16.68100537,\n",
       "         16.68100537,  16.68100537,  21.5443469 ,  21.5443469 ,\n",
       "         21.5443469 ,  21.5443469 ,  21.5443469 ,  21.5443469 ,\n",
       "         21.5443469 ,  21.5443469 ,  21.5443469 ,  21.5443469 ,\n",
       "         27.82559402,  27.82559402,  27.82559402,  27.82559402,\n",
       "         27.82559402,  27.82559402,  27.82559402,  27.82559402,\n",
       "         27.82559402,  27.82559402,  35.93813664,  35.93813664,\n",
       "         35.93813664,  35.93813664,  35.93813664,  35.93813664,\n",
       "         35.93813664,  35.93813664,  35.93813664,  35.93813664,\n",
       "         46.41588834,  46.41588834,  46.41588834,  46.41588834,\n",
       "         46.41588834,  46.41588834,  46.41588834,  46.41588834,\n",
       "         46.41588834,  46.41588834,  59.94842503,  59.94842503,\n",
       "         59.94842503,  59.94842503,  59.94842503,  59.94842503,\n",
       "         59.94842503,  59.94842503,  59.94842503,  59.94842503,\n",
       "         77.42636827,  77.42636827,  77.42636827,  77.42636827,\n",
       "         77.42636827,  77.42636827,  77.42636827,  77.42636827,\n",
       "         77.42636827,  77.42636827, 100.        , 100.        ,\n",
       "        100.        , 100.        , 100.        , 100.        ,\n",
       "        100.        , 100.        , 100.        , 100.        ]),\n",
       " array([0.        , 0.11111111, 0.22222222, 0.33333333, 0.44444444,\n",
       "        0.55555556, 0.66666667, 0.77777778, 0.88888889, 1.        ,\n",
       "        0.        , 0.11111111, 0.22222222, 0.33333333, 0.44444444,\n",
       "        0.55555556, 0.66666667, 0.77777778, 0.88888889, 1.        ,\n",
       "        0.        , 0.11111111, 0.22222222, 0.33333333, 0.44444444,\n",
       "        0.55555556, 0.66666667, 0.77777778, 0.88888889, 1.        ,\n",
       "        0.        , 0.11111111, 0.22222222, 0.33333333, 0.44444444,\n",
       "        0.55555556, 0.66666667, 0.77777778, 0.88888889, 1.        ,\n",
       "        0.        , 0.11111111, 0.22222222, 0.33333333, 0.44444444,\n",
       "        0.55555556, 0.66666667, 0.77777778, 0.88888889, 1.        ,\n",
       "        0.        , 0.11111111, 0.22222222, 0.33333333, 0.44444444,\n",
       "        0.55555556, 0.66666667, 0.77777778, 0.88888889, 1.        ,\n",
       "        0.        , 0.11111111, 0.22222222, 0.33333333, 0.44444444,\n",
       "        0.55555556, 0.66666667, 0.77777778, 0.88888889, 1.        ,\n",
       "        0.        , 0.11111111, 0.22222222, 0.33333333, 0.44444444,\n",
       "        0.55555556, 0.66666667, 0.77777778, 0.88888889, 1.        ,\n",
       "        0.        , 0.11111111, 0.22222222, 0.33333333, 0.44444444,\n",
       "        0.55555556, 0.66666667, 0.77777778, 0.88888889, 1.        ,\n",
       "        0.        , 0.11111111, 0.22222222, 0.33333333, 0.44444444,\n",
       "        0.55555556, 0.66666667, 0.77777778, 0.88888889, 1.        ]),\n",
       " array([2015., 1333.,  726.,  334.,  180.,  387.,  853., 1512., 2197.,\n",
       "        2740., 1241.,  921.,  631.,  368.,  204.,  118.,  181.,  338.,\n",
       "         605.,  904.,  815.,  634.,  430.,  340.,  199.,  113.,   81.,\n",
       "          80.,  126.,  207.,  555.,  463.,  372.,  264.,  220.,  163.,\n",
       "         111.,   66.,   47.,   68.,  361.,  293.,  239.,  224.,  167.,\n",
       "         156.,  107.,   83.,   64.,   41.,  212.,  230.,  162.,  173.,\n",
       "         144.,  106.,  103.,   61.,   56.,   49.,  157.,  134.,  122.,\n",
       "          97.,   88.,   80.,   90.,   66.,   56.,   44.,   93.,   85.,\n",
       "          81.,   71.,   58.,   70.,   54.,   64.,   36.,   41.,   61.,\n",
       "          48.,   34.,   54.,   48.,   50.,   39.,   57.,   43.,   38.,\n",
       "          39.,   38.,   34.,   42.,   31.,   33.,   21.,   26.,   27.,\n",
       "          29.]))"
      ]
     },
     "execution_count": 5,
     "metadata": {},
     "output_type": "execute_result"
    }
   ],
   "source": [
    "fit_daten=fit_arrays()\n",
    "fit_daten"
   ]
  },
  {
   "cell_type": "code",
   "execution_count": 7,
   "metadata": {},
   "outputs": [],
   "source": [
    "energy=fit_daten[0]\n",
    "cos_theta=fit_daten[1]\n",
    "y=fit_daten[2]  # y is the monte carlo data of flux*probability"
   ]
  },
  {
   "cell_type": "markdown",
   "metadata": {},
   "source": [
    "Now I make a fit"
   ]
  },
  {
   "cell_type": "code",
   "execution_count": 8,
   "metadata": {},
   "outputs": [],
   "source": [
    "import pandas as pd\n",
    "import matplotlib.pyplot as plt\n",
    "import numpy as np\n",
    "\n",
    "\n",
    "import scipy \n",
    "import scipy.optimize as so\n",
    "\n",
    "\n",
    "from scipy import odr\n",
    "from uncertainties import unumpy, ufloat"
   ]
  },
  {
   "cell_type": "code",
   "execution_count": 10,
   "metadata": {},
   "outputs": [
    {
     "name": "stdout",
     "output_type": "stream",
     "text": [
      "fit parameter 1-sigma error\n",
      "———————————–\n",
      "0.8929769178773765 +- 0.00017957797308037262\n",
      "0.0023848740304321316 +- 2.1435662636348374e-07\n"
     ]
    }
   ],
   "source": [
    "def func(p, X):\n",
    "    sin2theta,dm2  = p\n",
    "    energy, cos_theta= X\n",
    "    return atmo_event_rate(energy, cos_theta, sin2theta, dm2)\n",
    "\n",
    "\n",
    "quad_model = scipy.odr.Model(func)\n",
    "data = scipy.odr.RealData((energy,cos_theta),y)\n",
    "odr = scipy.odr.ODR(data, quad_model, beta0=[0.9, 2.4e-3])\n",
    "odr.set_job(fit_type=2)\n",
    "out = odr.run()\n",
    "popt = out.beta\n",
    "perr = out.sd_beta\n",
    "print(\"fit parameter 1-sigma error\")\n",
    "print(\"———————————–\")\n",
    "for i in range(len(popt)):\n",
    "    print(str(popt[i])+\" +- \"+str(perr[i]*1/np.sqrt(out.res_var)))"
   ]
  },
  {
   "cell_type": "markdown",
   "metadata": {},
   "source": [
    "The first value is sin2theta. The second value is dm2\n",
    "\n",
    "Note that the uncertainty is the uncertainty from the fit. Now I want to calculate the uncertainty of the parameters through the Cramer-Rao bound"
   ]
  },
  {
   "cell_type": "markdown",
   "metadata": {},
   "source": [
    "The Cramer Rao bound is defined by $$V\\geq\\frac{1}{<\\frac{\\partial log(L)}{\\partial a}>}$$"
   ]
  },
  {
   "cell_type": "markdown",
   "metadata": {},
   "source": [
    "With $$L=\\prod_{i=1}^{n}P_i$$"
   ]
  },
  {
   "cell_type": "markdown",
   "metadata": {},
   "source": [
    "and $$P=1-sin^2(2\\theta)\\cdot sin^2\\Big(1.27\\cdot \\frac{(\\Delta\\cdot M)^2 L}{E}\\Big)$$"
   ]
  },
  {
   "cell_type": "markdown",
   "metadata": {},
   "source": [
    "Consequently we have $$log(L)=\\sum_{i=1}^{n}log(P_i)$$"
   ]
  },
  {
   "cell_type": "markdown",
   "metadata": {},
   "source": [
    "and $$\\frac{\\partial log(L)}{\\partial a}=\\sum_{i=1}^{n}\\frac{\\partial log(P_i)}{\\partial a}$$"
   ]
  },
  {
   "cell_type": "markdown",
   "metadata": {},
   "source": [
    "In our case a will be sin2theta and dm2\n",
    "\n",
    "Now I write a function to calculate the derivative numerically."
   ]
  },
  {
   "cell_type": "code",
   "execution_count": 15,
   "metadata": {},
   "outputs": [],
   "source": [
    "from scipy.misc import derivative"
   ]
  },
  {
   "cell_type": "code",
   "execution_count": 20,
   "metadata": {},
   "outputs": [],
   "source": [
    "def probability_sin2theta(sin2theta,energy, cos_theta, dm2):\n",
    "    l = 12e3 * cos_theta\n",
    "    return np.log(1-sin2theta * np.sin(1.27*dm2*l/energy))    #calculate log(P)\n",
    "\n",
    "def probability_dm2(dm2,energy, cos_theta, sin2theta):\n",
    "    l = 12e3 * cos_theta\n",
    "    return np.log(1-sin2theta * np.sin(1.27*dm2*l/energy))  #calculate log(P)\n",
    "\n",
    "def Cramer_Rao(energy_array,costheta_array,sin2theta=0.9,dm2=2.4e-3):\n",
    "    \n",
    "    sin2theta_array=np.zeros(0)\n",
    "    dm2_array=np.zeros(0)\n",
    "    \n",
    "    for i in range(len(energy_array)):  #calculate P_i and the derivative for each energy and costheta\n",
    "        sin2theta_Cramer_Rao=derivative(probability_sin2theta, sin2theta, dx=1e-6,args=((energy_array[i],costheta_array[i],dm2)))\n",
    "        \n",
    "        dm2_Cramer_Rao=derivative(probability_dm2, dm2, dx=1e-6,args=((energy_array[i],costheta_array[i],sin2theta)))\n",
    "        \n",
    "        sin2theta_array=np.append([sin2theta_array],[sin2theta_Cramer_Rao])\n",
    "        dm2_array=np.append([dm2_array],[dm2_Cramer_Rao])\n",
    "        \n",
    "    return sin2theta_array, dm2_array   #calculate the derivatives for sin2theta and dm2 \n",
    "\n",
    "\n"
   ]
  },
  {
   "cell_type": "code",
   "execution_count": 21,
   "metadata": {},
   "outputs": [
    {
     "data": {
      "text/plain": [
       "(array([ 0.        , -0.61361306, -2.09642369, -6.05465359, -9.85186704,\n",
       "        -4.61525425, -1.54698997, -0.39693027,  0.09958404,  0.34168097,\n",
       "         0.        , -0.42898545, -1.25163171, -2.98757405, -6.63220314,\n",
       "        -9.99968564, -6.55754968, -2.94779789, -1.23340732, -0.41987043,\n",
       "         0.        , -0.30812215, -0.80918826, -1.67209476, -3.24089662,\n",
       "        -6.03965185, -9.43649192, -9.16340665, -5.67977994, -3.02722305,\n",
       "         0.        , -0.22558919, -0.55109435, -1.03621273, -1.78584797,\n",
       "        -2.98110411, -4.88396639, -7.56548594, -9.81278283, -9.25004102,\n",
       "         0.        , -0.16746907, -0.38871216, -0.68635184, -1.09516758,\n",
       "        -1.6691619 , -2.49110001, -3.67837806, -5.35334558, -7.47525244,\n",
       "         0.        , -0.12559783, -0.28094281, -0.4750612 , -0.7204666 ,\n",
       "        -1.03468001, -1.44236229, -1.97805109, -2.68881644, -3.63388025,\n",
       "         0.        , -0.09491414, -0.20661557, -0.33884401, -0.4963949 ,\n",
       "        -0.68545966, -0.91407806, -1.19272735, -1.53505615, -1.95871092,\n",
       "         0.        , -0.07213761, -0.153889  , -0.24684716, -0.35293818,\n",
       "        -0.47450096, -0.61438717, -0.77608601, -0.96387796, -1.18302075,\n",
       "         0.        , -0.05506452, -0.1156952 , -0.18258476, -0.2565343 ,\n",
       "        -0.33847278, -0.42948015, -0.53081498, -0.64394728, -0.77059727,\n",
       "         0.        , -0.04217083, -0.08759093, -0.13656622, -0.18943872,\n",
       "        -0.24659147, -0.30845409, -0.37550922, -0.44829986, -0.52743776]),\n",
       " array([    0.        ,  -217.29506762,  -604.89662729, -1015.47761216,\n",
       "          329.46354367,  1747.68031555,  1668.59294744,  1384.59783145,\n",
       "         1103.26808328,   826.14587575,     0.        ,  -155.52485892,\n",
       "         -405.69873133,  -765.949452  , -1010.17112854,    14.79336944,\n",
       "         1523.94887737,  1782.10380597,  1616.1373211 ,  1393.69336407,\n",
       "            0.        ,  -113.25060557,  -279.04168267,  -511.19086933,\n",
       "         -803.81130952, -1015.372573  ,  -566.14943686,   793.68762202,\n",
       "         1649.64811886,  1784.08433894,     0.        ,   -83.59017016,\n",
       "         -196.76131539,  -346.18594973,  -537.50076737,  -764.93882259,\n",
       "         -973.32134186,  -957.9765921 ,  -343.18778761,   751.4106757 ,\n",
       "            0.        ,   -62.35372367,  -141.59740386,  -240.69628416,\n",
       "         -362.86613686,  -510.50052077,  -681.82717421,  -861.58231615,\n",
       "         -998.28267373,  -965.73071528,     0.        ,   -46.89825091,\n",
       "         -103.55107622,  -171.26056354,  -251.49224859,  -345.74824367,\n",
       "         -455.22045152,  -579.95349813,  -716.95096157,  -856.13644846,\n",
       "            0.        ,   -35.50180286,   -76.68724741,  -124.13066097,\n",
       "         -178.47429756,  -240.41241777,  -310.65008917,  -389.8138369 ,\n",
       "         -478.27238946,  -575.79246503,     0.        ,   -27.01015241,\n",
       "          -57.35432759,   -91.28791285,  -129.0918077 ,  -171.07050851,\n",
       "         -217.54687235,  -268.85130406,  -325.30174338,  -387.16866307,\n",
       "            0.        ,   -20.63022775,   -43.22621122,   -67.90243842,\n",
       "          -94.78266257,  -123.99973166,  -155.69493491,  -190.01661494,\n",
       "         -227.11768164,  -267.15150196,     0.        ,   -15.80535398,\n",
       "          -32.7742352 ,   -50.95833212,   -70.41265702,   -91.19555532,\n",
       "         -113.36863875,  -136.9966118 ,  -162.14695044,  -188.88937829]))"
      ]
     },
     "execution_count": 21,
     "metadata": {},
     "output_type": "execute_result"
    }
   ],
   "source": [
    "Cramer_Rao(energy,cos_theta,sin2theta=0.9,dm2=2.4e-3)"
   ]
  },
  {
   "cell_type": "markdown",
   "metadata": {},
   "source": [
    "And then we can calculate the bound. For sin2theta I get"
   ]
  },
  {
   "cell_type": "code",
   "execution_count": 22,
   "metadata": {},
   "outputs": [
    {
     "data": {
      "text/plain": [
       "2.8295547306305676e-05"
      ]
     },
     "execution_count": 22,
     "metadata": {},
     "output_type": "execute_result"
    }
   ],
   "source": [
    "1/(np.sum(Cramer_Rao(energy,cos_theta,sin2theta=0.9,dm2=2.4e-3)[0]))**2"
   ]
  },
  {
   "cell_type": "markdown",
   "metadata": {},
   "source": [
    "For dm2 I get"
   ]
  },
  {
   "cell_type": "code",
   "execution_count": 23,
   "metadata": {},
   "outputs": [
    {
     "data": {
      "text/plain": [
       "1.648651120363176e-08"
      ]
     },
     "execution_count": 23,
     "metadata": {},
     "output_type": "execute_result"
    }
   ],
   "source": [
    "1/(np.sum(Cramer_Rao(energy,cos_theta,sin2theta=0.9,dm2=2.4e-3)[1]))**2"
   ]
  },
  {
   "cell_type": "code",
   "execution_count": null,
   "metadata": {},
   "outputs": [],
   "source": []
  },
  {
   "cell_type": "code",
   "execution_count": null,
   "metadata": {},
   "outputs": [],
   "source": []
  },
  {
   "cell_type": "markdown",
   "metadata": {},
   "source": [
    "Now I want to see how often the fit value will be in the 1 sigma region."
   ]
  },
  {
   "cell_type": "code",
   "execution_count": 24,
   "metadata": {},
   "outputs": [
    {
     "data": {
      "text/plain": [
       "0.005319355910851019"
      ]
     },
     "execution_count": 24,
     "metadata": {},
     "output_type": "execute_result"
    }
   ],
   "source": [
    "sigma_sin2theta=np.sqrt(2.8295547306305676e-05)\n",
    "sigma_sin2theta"
   ]
  },
  {
   "cell_type": "code",
   "execution_count": 25,
   "metadata": {},
   "outputs": [
    {
     "data": {
      "text/plain": [
       "0.00012839980998284912"
      ]
     },
     "execution_count": 25,
     "metadata": {},
     "output_type": "execute_result"
    }
   ],
   "source": [
    "sigma_dm2=np.sqrt(1.648651120363176e-08)\n",
    "sigma_dm2"
   ]
  },
  {
   "cell_type": "code",
   "execution_count": 27,
   "metadata": {},
   "outputs": [],
   "source": [
    "def func(p, X):\n",
    "    sin2theta,dm2  = p\n",
    "    energy, cos_theta= X\n",
    "    return atmo_event_rate(energy, cos_theta, sin2theta, dm2)"
   ]
  },
  {
   "cell_type": "code",
   "execution_count": 39,
   "metadata": {},
   "outputs": [],
   "source": [
    "def repeat_experiment(N):\n",
    "    \n",
    "    N_R=0  \n",
    "    \n",
    "    for i in range(N):\n",
    "        \n",
    "    \n",
    "        fit_daten=fit_arrays()\n",
    "        fit_daten\n",
    "    \n",
    "    \n",
    "        energy=fit_daten[0]\n",
    "        cos_theta=fit_daten[1]\n",
    "        y=fit_daten[2]  # y is the monte carlo data of flux*probability\n",
    "    \n",
    "    \n",
    "    \n",
    "        #def func(p, X):\n",
    "        #    sin2theta,dm2  = p\n",
    "        #    energy, cos_theta= X\n",
    "        #return atmo_event_rate(energy, cos_theta, sin2theta, dm2)\n",
    "\n",
    "\n",
    "        quad_model = scipy.odr.Model(func)\n",
    "        data = scipy.odr.RealData((energy,cos_theta),y)\n",
    "        odr = scipy.odr.ODR(data, quad_model, beta0=[0.9, 2.4e-3])\n",
    "        odr.set_job(fit_type=2)\n",
    "        out = odr.run()\n",
    "        popt = out.beta\n",
    "        perr = out.sd_beta\n",
    "        #print(\"fit parameter 1-sigma error\")\n",
    "        #print(\"———————————–\")\n",
    "        #for i in range(len(popt)):\n",
    "         #   print(str(popt[i])+\" +- \"+str(perr[i]*1/np.sqrt(out.res_var)))\n",
    "        \n",
    "        if popt[0]>=0.9-sigma_sin2theta and popt[0]<=0.9+sigma_sin2theta and popt[1]>=2.4e-3-sigma_dm2 and popt[1]<=2.4e-3+sigma_dm2:\n",
    "            N_R=N_R+1\n",
    "    \n",
    "    return N_R\n",
    "        \n",
    "    \n",
    "    \n",
    "    \n",
    "    "
   ]
  },
  {
   "cell_type": "code",
   "execution_count": 40,
   "metadata": {},
   "outputs": [
    {
     "data": {
      "text/plain": [
       "81"
      ]
     },
     "execution_count": 40,
     "metadata": {},
     "output_type": "execute_result"
    }
   ],
   "source": [
    "repeat_experiment(100)"
   ]
  },
  {
   "cell_type": "markdown",
   "metadata": {},
   "source": [
    "The fit values are inside the errors 81 times"
   ]
  },
  {
   "cell_type": "code",
   "execution_count": null,
   "metadata": {},
   "outputs": [],
   "source": []
  }
 ],
 "metadata": {
  "kernelspec": {
   "display_name": "Python 3",
   "language": "python",
   "name": "python3"
  },
  "language_info": {
   "codemirror_mode": {
    "name": "ipython",
    "version": 3
   },
   "file_extension": ".py",
   "mimetype": "text/x-python",
   "name": "python",
   "nbconvert_exporter": "python",
   "pygments_lexer": "ipython3",
   "version": "3.7.6"
  }
 },
 "nbformat": 4,
 "nbformat_minor": 4
}
