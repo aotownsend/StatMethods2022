{
 "cells": [
  {
   "cell_type": "markdown",
   "metadata": {},
   "source": [
    "# Basic of Python.\n",
    "\n",
    "The library we are going to use are the following:\n",
    "\n",
    "\n",
    "* numpy "
   ]
  },
  {
   "cell_type": "code",
   "execution_count": 6,
   "metadata": {
    "collapsed": false
   },
   "outputs": [
    {
     "name": "stdout",
     "output_type": "stream",
     "text": [
      "2\n",
      "43\n",
      "86\n",
      "131\n",
      "178\n",
      "227\n",
      "278\n",
      "331\n",
      "386\n",
      "443\n"
     ]
    }
   ],
   "source": [
    "for i in range(10):\n",
    "   y = i*40 +i**2 + 2\n",
    "   print(y)\n",
    "    \n",
    "i = i+2"
   ]
  },
  {
   "cell_type": "code",
   "execution_count": 7,
   "metadata": {
    "collapsed": false
   },
   "outputs": [
    {
     "data": {
      "text/plain": [
       "[0, 1, 2, 3, 4, 5, 6, 7, 8, 9]"
      ]
     },
     "execution_count": 7,
     "metadata": {},
     "output_type": "execute_result"
    }
   ],
   "source": [
    "range(10)"
   ]
  },
  {
   "cell_type": "code",
   "execution_count": 8,
   "metadata": {
    "collapsed": false
   },
   "outputs": [
    {
     "name": "stdout",
     "output_type": "stream",
     "text": [
      "a\n",
      "b\n",
      "tt\n"
     ]
    }
   ],
   "source": [
    "for i in [\"a\",\"b\",\"tt\"]:\n",
    "    print i"
   ]
  },
  {
   "cell_type": "code",
   "execution_count": 20,
   "metadata": {
    "collapsed": false
   },
   "outputs": [
    {
     "name": "stdout",
     "output_type": "stream",
     "text": [
      "[[0, 1, 2, 3, 4, 5, 6, 7, 8, 9], [2, 1, 2, 3, 4, 5, 6, 7, 8, 9], [0, 5, 2, 3, 4, 5, 6, 7, 8, 9]]\n"
     ]
    }
   ],
   "source": [
    "x = [[0, 1, 2, 3, 4, 5, 6, 7, 8, 9],[2, 1, 2, 3, 4, 5, 6, 7, 8, 9],[0,5, 2, 3, 4, 5, 6, 7, 8, 9]]\n",
    "print(x)"
   ]
  },
  {
   "cell_type": "code",
   "execution_count": 23,
   "metadata": {
    "collapsed": false
   },
   "outputs": [
    {
     "data": {
      "text/plain": [
       "4.7000000000000002"
      ]
     },
     "execution_count": 23,
     "metadata": {},
     "output_type": "execute_result"
    }
   ],
   "source": [
    "np.mean(x)"
   ]
  },
  {
   "cell_type": "code",
   "execution_count": 24,
   "metadata": {
    "collapsed": true
   },
   "outputs": [],
   "source": [
    "x= np.linspace(-1,1,100)"
   ]
  },
  {
   "cell_type": "code",
   "execution_count": 25,
   "metadata": {
    "collapsed": false
   },
   "outputs": [
    {
     "data": {
      "text/plain": [
       "array([-1.        , -0.97979798, -0.95959596, -0.93939394, -0.91919192,\n",
       "       -0.8989899 , -0.87878788, -0.85858586, -0.83838384, -0.81818182,\n",
       "       -0.7979798 , -0.77777778, -0.75757576, -0.73737374, -0.71717172,\n",
       "       -0.6969697 , -0.67676768, -0.65656566, -0.63636364, -0.61616162,\n",
       "       -0.5959596 , -0.57575758, -0.55555556, -0.53535354, -0.51515152,\n",
       "       -0.49494949, -0.47474747, -0.45454545, -0.43434343, -0.41414141,\n",
       "       -0.39393939, -0.37373737, -0.35353535, -0.33333333, -0.31313131,\n",
       "       -0.29292929, -0.27272727, -0.25252525, -0.23232323, -0.21212121,\n",
       "       -0.19191919, -0.17171717, -0.15151515, -0.13131313, -0.11111111,\n",
       "       -0.09090909, -0.07070707, -0.05050505, -0.03030303, -0.01010101,\n",
       "        0.01010101,  0.03030303,  0.05050505,  0.07070707,  0.09090909,\n",
       "        0.11111111,  0.13131313,  0.15151515,  0.17171717,  0.19191919,\n",
       "        0.21212121,  0.23232323,  0.25252525,  0.27272727,  0.29292929,\n",
       "        0.31313131,  0.33333333,  0.35353535,  0.37373737,  0.39393939,\n",
       "        0.41414141,  0.43434343,  0.45454545,  0.47474747,  0.49494949,\n",
       "        0.51515152,  0.53535354,  0.55555556,  0.57575758,  0.5959596 ,\n",
       "        0.61616162,  0.63636364,  0.65656566,  0.67676768,  0.6969697 ,\n",
       "        0.71717172,  0.73737374,  0.75757576,  0.77777778,  0.7979798 ,\n",
       "        0.81818182,  0.83838384,  0.85858586,  0.87878788,  0.8989899 ,\n",
       "        0.91919192,  0.93939394,  0.95959596,  0.97979798,  1.        ])"
      ]
     },
     "execution_count": 25,
     "metadata": {},
     "output_type": "execute_result"
    }
   ],
   "source": [
    "x"
   ]
  },
  {
   "cell_type": "code",
   "execution_count": 29,
   "metadata": {
    "collapsed": false
   },
   "outputs": [
    {
     "data": {
      "text/plain": [
       "array([-0.31313131,  0.35353535])"
      ]
     },
     "execution_count": 29,
     "metadata": {},
     "output_type": "execute_result"
    }
   ],
   "source": [
    "x[[34,67]]"
   ]
  },
  {
   "cell_type": "code",
   "execution_count": 30,
   "metadata": {
    "collapsed": false
   },
   "outputs": [
    {
     "data": {
      "text/plain": [
       "array([-0.09090909, -0.07070707, -0.05050505, -0.03030303, -0.01010101,\n",
       "        0.01010101,  0.03030303,  0.05050505,  0.07070707,  0.09090909,\n",
       "        0.11111111,  0.13131313,  0.15151515,  0.17171717,  0.19191919,\n",
       "        0.21212121,  0.23232323,  0.25252525,  0.27272727,  0.29292929,\n",
       "        0.31313131,  0.33333333,  0.35353535,  0.37373737,  0.39393939,\n",
       "        0.41414141,  0.43434343,  0.45454545,  0.47474747,  0.49494949,\n",
       "        0.51515152,  0.53535354,  0.55555556,  0.57575758,  0.5959596 ,\n",
       "        0.61616162,  0.63636364,  0.65656566,  0.67676768,  0.6969697 ,\n",
       "        0.71717172,  0.73737374,  0.75757576,  0.77777778,  0.7979798 ])"
      ]
     },
     "execution_count": 30,
     "metadata": {},
     "output_type": "execute_result"
    }
   ],
   "source": [
    "x[45:90]"
   ]
  },
  {
   "cell_type": "code",
   "execution_count": 31,
   "metadata": {
    "collapsed": false
   },
   "outputs": [
    {
     "data": {
      "text/plain": [
       "array([-1.        , -0.93939394, -0.87878788, -0.81818182, -0.75757576,\n",
       "       -0.6969697 , -0.63636364, -0.57575758, -0.51515152, -0.45454545,\n",
       "       -0.39393939, -0.33333333, -0.27272727, -0.21212121, -0.15151515,\n",
       "       -0.09090909, -0.03030303,  0.03030303,  0.09090909,  0.15151515,\n",
       "        0.21212121,  0.27272727,  0.33333333,  0.39393939,  0.45454545,\n",
       "        0.51515152,  0.57575758,  0.63636364,  0.6969697 ,  0.75757576,\n",
       "        0.81818182,  0.87878788,  0.93939394,  1.        ])"
      ]
     },
     "execution_count": 31,
     "metadata": {},
     "output_type": "execute_result"
    }
   ],
   "source": [
    "x[::3]"
   ]
  },
  {
   "cell_type": "code",
   "execution_count": 32,
   "metadata": {
    "collapsed": false
   },
   "outputs": [
    {
     "data": {
      "text/plain": [
       "array([-0.7979798 , -0.73737374, -0.67676768, -0.61616162, -0.55555556,\n",
       "       -0.49494949, -0.43434343, -0.37373737, -0.31313131, -0.25252525,\n",
       "       -0.19191919, -0.13131313, -0.07070707, -0.01010101,  0.05050505,\n",
       "        0.11111111,  0.17171717,  0.23232323,  0.29292929,  0.35353535,\n",
       "        0.41414141,  0.47474747,  0.53535354,  0.5959596 ,  0.65656566,\n",
       "        0.71717172,  0.77777778,  0.83838384,  0.8989899 ,  0.95959596])"
      ]
     },
     "execution_count": 32,
     "metadata": {},
     "output_type": "execute_result"
    }
   ],
   "source": [
    "x[10::3]"
   ]
  },
  {
   "cell_type": "code",
   "execution_count": 33,
   "metadata": {
    "collapsed": false
   },
   "outputs": [
    {
     "data": {
      "text/plain": [
       "array([ 1.        ,  0.97979798,  0.95959596,  0.93939394,  0.91919192,\n",
       "        0.8989899 ,  0.87878788,  0.85858586,  0.83838384,  0.81818182,\n",
       "        0.7979798 ,  0.77777778,  0.75757576,  0.73737374,  0.71717172,\n",
       "        0.6969697 ,  0.67676768,  0.65656566,  0.63636364,  0.61616162,\n",
       "        0.5959596 ,  0.57575758,  0.55555556,  0.53535354,  0.51515152,\n",
       "        0.49494949,  0.47474747,  0.45454545,  0.43434343,  0.41414141,\n",
       "        0.39393939,  0.37373737,  0.35353535,  0.33333333,  0.31313131,\n",
       "        0.29292929,  0.27272727,  0.25252525,  0.23232323,  0.21212121,\n",
       "        0.19191919,  0.17171717,  0.15151515,  0.13131313,  0.11111111,\n",
       "        0.09090909,  0.07070707,  0.05050505,  0.03030303,  0.01010101,\n",
       "       -0.01010101, -0.03030303, -0.05050505, -0.07070707, -0.09090909,\n",
       "       -0.11111111, -0.13131313, -0.15151515, -0.17171717, -0.19191919,\n",
       "       -0.21212121, -0.23232323, -0.25252525, -0.27272727, -0.29292929,\n",
       "       -0.31313131, -0.33333333, -0.35353535, -0.37373737, -0.39393939,\n",
       "       -0.41414141, -0.43434343, -0.45454545, -0.47474747, -0.49494949,\n",
       "       -0.51515152, -0.53535354, -0.55555556, -0.57575758, -0.5959596 ,\n",
       "       -0.61616162, -0.63636364, -0.65656566, -0.67676768, -0.6969697 ,\n",
       "       -0.71717172, -0.73737374, -0.75757576, -0.77777778, -0.7979798 ,\n",
       "       -0.81818182, -0.83838384, -0.85858586, -0.87878788, -0.8989899 ,\n",
       "       -0.91919192, -0.93939394, -0.95959596, -0.97979798, -1.        ])"
      ]
     },
     "execution_count": 33,
     "metadata": {},
     "output_type": "execute_result"
    }
   ],
   "source": [
    "x[::-1]"
   ]
  },
  {
   "cell_type": "code",
   "execution_count": 34,
   "metadata": {
    "collapsed": true
   },
   "outputs": [],
   "source": [
    "x= [0, 1, 2, 3, 4, 5, 6, 7, 8, 9]"
   ]
  },
  {
   "cell_type": "code",
   "execution_count": 35,
   "metadata": {
    "collapsed": false
   },
   "outputs": [
    {
     "data": {
      "text/plain": [
       "[9, 8, 7, 6, 5, 4, 3, 2, 1, 0]"
      ]
     },
     "execution_count": 35,
     "metadata": {},
     "output_type": "execute_result"
    }
   ],
   "source": [
    "x[::-1]"
   ]
  },
  {
   "cell_type": "code",
   "execution_count": 37,
   "metadata": {
    "collapsed": true
   },
   "outputs": [],
   "source": [
    "y = np.linspace(0,10,100)\n",
    "x= np.linspace(-1,1,100)"
   ]
  },
  {
   "cell_type": "code",
   "execution_count": 38,
   "metadata": {
    "collapsed": false
   },
   "outputs": [
    {
     "data": {
      "text/plain": [
       "array([-1.        , -0.97979798, -0.95959596, -0.93939394, -0.91919192,\n",
       "       -0.8989899 , -0.87878788, -0.85858586, -0.83838384, -0.81818182,\n",
       "       -0.7979798 , -0.77777778, -0.75757576, -0.73737374, -0.71717172,\n",
       "       -0.6969697 , -0.67676768, -0.65656566, -0.63636364, -0.61616162,\n",
       "       -0.5959596 , -0.57575758, -0.55555556, -0.53535354, -0.51515152,\n",
       "       -0.49494949, -0.47474747, -0.45454545, -0.43434343, -0.41414141,\n",
       "       -0.39393939, -0.37373737, -0.35353535, -0.33333333, -0.31313131,\n",
       "       -0.29292929, -0.27272727, -0.25252525, -0.23232323, -0.21212121,\n",
       "       -0.19191919, -0.17171717, -0.15151515, -0.13131313, -0.11111111,\n",
       "       -0.09090909, -0.07070707, -0.05050505, -0.03030303, -0.01010101,\n",
       "        0.01010101,  0.03030303,  0.05050505,  0.07070707,  0.09090909,\n",
       "        0.11111111,  0.13131313,  0.15151515,  0.17171717,  0.19191919,\n",
       "        0.21212121,  0.23232323,  0.25252525,  0.27272727,  0.29292929,\n",
       "        0.31313131,  0.33333333,  0.35353535,  0.37373737,  0.39393939,\n",
       "        0.41414141,  0.43434343,  0.45454545,  0.47474747,  0.49494949,\n",
       "        0.51515152,  0.53535354,  0.55555556,  0.57575758,  0.5959596 ,\n",
       "        0.61616162,  0.63636364,  0.65656566,  0.67676768,  0.6969697 ,\n",
       "        0.71717172,  0.73737374,  0.75757576,  0.77777778,  0.7979798 ,\n",
       "        0.81818182,  0.83838384,  0.85858586,  0.87878788,  0.8989899 ,\n",
       "        0.91919192,  0.93939394,  0.95959596,  0.97979798,  1.        ])"
      ]
     },
     "execution_count": 38,
     "metadata": {},
     "output_type": "execute_result"
    }
   ],
   "source": [
    "x"
   ]
  },
  {
   "cell_type": "markdown",
   "metadata": {},
   "source": [
    "careful with \"=\":\n",
    "\n",
    "* xx= x means they are the same object\n",
    "* xx = x .... whatever  or x.copy() they are two different objects"
   ]
  },
  {
   "cell_type": "code",
   "execution_count": 47,
   "metadata": {
    "collapsed": true
   },
   "outputs": [],
   "source": [
    "xx = x.copy()"
   ]
  },
  {
   "cell_type": "code",
   "execution_count": 48,
   "metadata": {
    "collapsed": true
   },
   "outputs": [],
   "source": [
    "xx+=2"
   ]
  },
  {
   "cell_type": "code",
   "execution_count": 49,
   "metadata": {
    "collapsed": false
   },
   "outputs": [
    {
     "data": {
      "text/plain": [
       "array([ 3.        ,  3.02020202,  3.04040404,  3.06060606,  3.08080808,\n",
       "        3.1010101 ,  3.12121212,  3.14141414,  3.16161616,  3.18181818,\n",
       "        3.2020202 ,  3.22222222,  3.24242424,  3.26262626,  3.28282828,\n",
       "        3.3030303 ,  3.32323232,  3.34343434,  3.36363636,  3.38383838,\n",
       "        3.4040404 ,  3.42424242,  3.44444444,  3.46464646,  3.48484848,\n",
       "        3.50505051,  3.52525253,  3.54545455,  3.56565657,  3.58585859,\n",
       "        3.60606061,  3.62626263,  3.64646465,  3.66666667,  3.68686869,\n",
       "        3.70707071,  3.72727273,  3.74747475,  3.76767677,  3.78787879,\n",
       "        3.80808081,  3.82828283,  3.84848485,  3.86868687,  3.88888889,\n",
       "        3.90909091,  3.92929293,  3.94949495,  3.96969697,  3.98989899,\n",
       "        4.01010101,  4.03030303,  4.05050505,  4.07070707,  4.09090909,\n",
       "        4.11111111,  4.13131313,  4.15151515,  4.17171717,  4.19191919,\n",
       "        4.21212121,  4.23232323,  4.25252525,  4.27272727,  4.29292929,\n",
       "        4.31313131,  4.33333333,  4.35353535,  4.37373737,  4.39393939,\n",
       "        4.41414141,  4.43434343,  4.45454545,  4.47474747,  4.49494949,\n",
       "        4.51515152,  4.53535354,  4.55555556,  4.57575758,  4.5959596 ,\n",
       "        4.61616162,  4.63636364,  4.65656566,  4.67676768,  4.6969697 ,\n",
       "        4.71717172,  4.73737374,  4.75757576,  4.77777778,  4.7979798 ,\n",
       "        4.81818182,  4.83838384,  4.85858586,  4.87878788,  4.8989899 ,\n",
       "        4.91919192,  4.93939394,  4.95959596,  4.97979798,  5.        ])"
      ]
     },
     "execution_count": 49,
     "metadata": {},
     "output_type": "execute_result"
    }
   ],
   "source": [
    "xx"
   ]
  },
  {
   "cell_type": "code",
   "execution_count": 50,
   "metadata": {
    "collapsed": false
   },
   "outputs": [
    {
     "data": {
      "text/plain": [
       "array([ 1.        ,  1.02020202,  1.04040404,  1.06060606,  1.08080808,\n",
       "        1.1010101 ,  1.12121212,  1.14141414,  1.16161616,  1.18181818,\n",
       "        1.2020202 ,  1.22222222,  1.24242424,  1.26262626,  1.28282828,\n",
       "        1.3030303 ,  1.32323232,  1.34343434,  1.36363636,  1.38383838,\n",
       "        1.4040404 ,  1.42424242,  1.44444444,  1.46464646,  1.48484848,\n",
       "        1.50505051,  1.52525253,  1.54545455,  1.56565657,  1.58585859,\n",
       "        1.60606061,  1.62626263,  1.64646465,  1.66666667,  1.68686869,\n",
       "        1.70707071,  1.72727273,  1.74747475,  1.76767677,  1.78787879,\n",
       "        1.80808081,  1.82828283,  1.84848485,  1.86868687,  1.88888889,\n",
       "        1.90909091,  1.92929293,  1.94949495,  1.96969697,  1.98989899,\n",
       "        2.01010101,  2.03030303,  2.05050505,  2.07070707,  2.09090909,\n",
       "        2.11111111,  2.13131313,  2.15151515,  2.17171717,  2.19191919,\n",
       "        2.21212121,  2.23232323,  2.25252525,  2.27272727,  2.29292929,\n",
       "        2.31313131,  2.33333333,  2.35353535,  2.37373737,  2.39393939,\n",
       "        2.41414141,  2.43434343,  2.45454545,  2.47474747,  2.49494949,\n",
       "        2.51515152,  2.53535354,  2.55555556,  2.57575758,  2.5959596 ,\n",
       "        2.61616162,  2.63636364,  2.65656566,  2.67676768,  2.6969697 ,\n",
       "        2.71717172,  2.73737374,  2.75757576,  2.77777778,  2.7979798 ,\n",
       "        2.81818182,  2.83838384,  2.85858586,  2.87878788,  2.8989899 ,\n",
       "        2.91919192,  2.93939394,  2.95959596,  2.97979798,  3.        ])"
      ]
     },
     "execution_count": 50,
     "metadata": {},
     "output_type": "execute_result"
    }
   ],
   "source": [
    "x"
   ]
  },
  {
   "cell_type": "markdown",
   "metadata": {},
   "source": [
    "### Masking \n",
    "\n",
    "This only works with numpy array."
   ]
  },
  {
   "cell_type": "markdown",
   "metadata": {},
   "source": [
    "#### numpy array vs. list"
   ]
  },
  {
   "cell_type": "code",
   "execution_count": 52,
   "metadata": {
    "collapsed": true
   },
   "outputs": [],
   "source": [
    "xlist = [3,4,5,6,7,8,9]\n",
    "xarray = np.asarray([3,4,5,6,7,8,9]) # np.asarray(xlist)"
   ]
  },
  {
   "cell_type": "code",
   "execution_count": 53,
   "metadata": {
    "collapsed": false
   },
   "outputs": [
    {
     "data": {
      "text/plain": [
       "[3, 4, 5, 6, 7, 8, 9, 3, 4, 5, 6, 7, 8, 9]"
      ]
     },
     "execution_count": 53,
     "metadata": {},
     "output_type": "execute_result"
    }
   ],
   "source": [
    "xlist*2"
   ]
  },
  {
   "cell_type": "code",
   "execution_count": 54,
   "metadata": {
    "collapsed": false
   },
   "outputs": [
    {
     "data": {
      "text/plain": [
       "array([ 6,  8, 10, 12, 14, 16, 18])"
      ]
     },
     "execution_count": 54,
     "metadata": {},
     "output_type": "execute_result"
    }
   ],
   "source": [
    "xarray*2"
   ]
  },
  {
   "cell_type": "code",
   "execution_count": 56,
   "metadata": {
    "collapsed": true
   },
   "outputs": [],
   "source": [
    "strangelist = [\"toto\",3,{},[]]"
   ]
  },
  {
   "cell_type": "code",
   "execution_count": 60,
   "metadata": {
    "collapsed": false
   },
   "outputs": [
    {
     "ename": "TypeError",
     "evalue": "unsupported operand type(s) for *: 'dict' and 'int'",
     "output_type": "error",
     "traceback": [
      "\u001b[0;31m---------------------------------------------------------------------------\u001b[0m",
      "\u001b[0;31mTypeError\u001b[0m                                 Traceback (most recent call last)",
      "\u001b[0;32m<ipython-input-60-ad3befd67480>\u001b[0m in \u001b[0;36m<module>\u001b[0;34m()\u001b[0m\n\u001b[0;32m----> 1\u001b[0;31m \u001b[0mnp\u001b[0m\u001b[0;34m.\u001b[0m\u001b[0masarray\u001b[0m\u001b[0;34m(\u001b[0m\u001b[0mstrangelist\u001b[0m\u001b[0;34m)\u001b[0m\u001b[0;34m*\u001b[0m\u001b[0;36m2\u001b[0m\u001b[0;34m\u001b[0m\u001b[0m\n\u001b[0m",
      "\u001b[0;31mTypeError\u001b[0m: unsupported operand type(s) for *: 'dict' and 'int'"
     ]
    }
   ],
   "source": [
    "np.asarray(strangelist)*2"
   ]
  },
  {
   "cell_type": "markdown",
   "metadata": {},
   "source": [
    "### how to apply masking?\n",
    "\n",
    "**Use Numpy ARRAY**"
   ]
  },
  {
   "cell_type": "code",
   "execution_count": 64,
   "metadata": {
    "collapsed": false
   },
   "outputs": [
    {
     "data": {
      "text/plain": [
       "array([ 1.        ,  1.02020202,  1.04040404,  1.06060606,  1.08080808,\n",
       "        1.1010101 ,  1.12121212,  1.14141414,  1.16161616,  1.18181818,\n",
       "        1.2020202 ,  1.22222222,  1.24242424,  1.26262626,  1.28282828,\n",
       "        1.3030303 ,  1.32323232,  1.34343434,  1.36363636,  1.38383838,\n",
       "        1.4040404 ,  1.42424242,  1.44444444,  1.46464646,  1.48484848,\n",
       "        1.50505051,  1.52525253,  1.54545455,  1.56565657,  1.58585859,\n",
       "        1.60606061,  1.62626263,  1.64646465,  1.66666667,  1.68686869,\n",
       "        1.70707071,  1.72727273,  1.74747475,  1.76767677,  1.78787879,\n",
       "        1.80808081,  1.82828283,  1.84848485,  1.86868687,  1.88888889,\n",
       "        1.90909091,  1.92929293,  1.94949495,  1.96969697,  1.98989899,\n",
       "        2.01010101,  2.03030303,  2.05050505,  2.07070707,  2.09090909,\n",
       "        2.11111111,  2.13131313,  2.15151515,  2.17171717,  2.19191919,\n",
       "        2.21212121,  2.23232323,  2.25252525,  2.27272727,  2.29292929,\n",
       "        2.31313131,  2.33333333,  2.35353535,  2.37373737,  2.39393939,\n",
       "        2.41414141,  2.43434343,  2.45454545,  2.47474747,  2.49494949,\n",
       "        2.51515152,  2.53535354,  2.55555556,  2.57575758,  2.5959596 ,\n",
       "        2.61616162,  2.63636364,  2.65656566,  2.67676768,  2.6969697 ,\n",
       "        2.71717172,  2.73737374,  2.75757576,  2.77777778,  2.7979798 ,\n",
       "        2.81818182,  2.83838384,  2.85858586,  2.87878788,  2.8989899 ,\n",
       "        2.91919192,  2.93939394,  2.95959596,  2.97979798,  3.        ])"
      ]
     },
     "execution_count": 64,
     "metadata": {},
     "output_type": "execute_result"
    }
   ],
   "source": [
    "x"
   ]
  },
  {
   "cell_type": "code",
   "execution_count": 65,
   "metadata": {
    "collapsed": false
   },
   "outputs": [],
   "source": [
    "mask = x>2"
   ]
  },
  {
   "cell_type": "code",
   "execution_count": 66,
   "metadata": {
    "collapsed": false
   },
   "outputs": [
    {
     "data": {
      "text/plain": [
       "array([False, False, False, False, False, False, False, False, False,\n",
       "       False, False, False, False, False, False, False, False, False,\n",
       "       False, False, False, False, False, False, False, False, False,\n",
       "       False, False, False, False, False, False, False, False, False,\n",
       "       False, False, False, False, False, False, False, False, False,\n",
       "       False, False, False, False, False,  True,  True,  True,  True,\n",
       "        True,  True,  True,  True,  True,  True,  True,  True,  True,\n",
       "        True,  True,  True,  True,  True,  True,  True,  True,  True,\n",
       "        True,  True,  True,  True,  True,  True,  True,  True,  True,\n",
       "        True,  True,  True,  True,  True,  True,  True,  True,  True,\n",
       "        True,  True,  True,  True,  True,  True,  True,  True,  True,  True], dtype=bool)"
      ]
     },
     "execution_count": 66,
     "metadata": {},
     "output_type": "execute_result"
    }
   ],
   "source": [
    "mask"
   ]
  },
  {
   "cell_type": "code",
   "execution_count": 68,
   "metadata": {
    "collapsed": false
   },
   "outputs": [
    {
     "data": {
      "text/plain": [
       "array([ 2.01010101,  2.03030303,  2.05050505,  2.07070707,  2.09090909,\n",
       "        2.11111111,  2.13131313,  2.15151515,  2.17171717,  2.19191919,\n",
       "        2.21212121,  2.23232323,  2.25252525,  2.27272727,  2.29292929,\n",
       "        2.31313131,  2.33333333,  2.35353535,  2.37373737,  2.39393939,\n",
       "        2.41414141,  2.43434343,  2.45454545,  2.47474747,  2.49494949,\n",
       "        2.51515152,  2.53535354,  2.55555556,  2.57575758,  2.5959596 ,\n",
       "        2.61616162,  2.63636364,  2.65656566,  2.67676768,  2.6969697 ,\n",
       "        2.71717172,  2.73737374,  2.75757576,  2.77777778,  2.7979798 ,\n",
       "        2.81818182,  2.83838384,  2.85858586,  2.87878788,  2.8989899 ,\n",
       "        2.91919192,  2.93939394,  2.95959596,  2.97979798,  3.        ])"
      ]
     },
     "execution_count": 68,
     "metadata": {},
     "output_type": "execute_result"
    }
   ],
   "source": [
    "x[mask] # x[x>2]"
   ]
  },
  {
   "cell_type": "code",
   "execution_count": 76,
   "metadata": {
    "collapsed": false
   },
   "outputs": [
    {
     "data": {
      "text/plain": [
       "array([ 2.01010101,  2.03030303,  2.05050505,  2.07070707,  2.09090909,\n",
       "        2.11111111,  2.13131313,  2.15151515,  2.17171717,  2.19191919,\n",
       "        2.21212121,  2.23232323,  2.25252525,  2.27272727,  2.29292929,\n",
       "        2.31313131,  2.33333333,  2.35353535,  2.37373737,  2.39393939,\n",
       "        2.41414141,  2.43434343,  2.45454545,  2.47474747,  2.49494949])"
      ]
     },
     "execution_count": 76,
     "metadata": {},
     "output_type": "execute_result"
    }
   ],
   "source": [
    "x[ (x>2) & (x<2.5)  ] # x[ (x>2) * (x>1.5)  ] # both have to be true"
   ]
  },
  {
   "cell_type": "code",
   "execution_count": 75,
   "metadata": {
    "collapsed": false
   },
   "outputs": [
    {
     "data": {
      "text/plain": [
       "array([ 1.50505051,  1.52525253,  1.54545455,  1.56565657,  1.58585859,\n",
       "        1.60606061,  1.62626263,  1.64646465,  1.66666667,  1.68686869,\n",
       "        1.70707071,  1.72727273,  1.74747475,  1.76767677,  1.78787879,\n",
       "        1.80808081,  1.82828283,  1.84848485,  1.86868687,  1.88888889,\n",
       "        1.90909091,  1.92929293,  1.94949495,  1.96969697,  1.98989899,\n",
       "        2.01010101,  2.03030303,  2.05050505,  2.07070707,  2.09090909,\n",
       "        2.11111111,  2.13131313,  2.15151515,  2.17171717,  2.19191919,\n",
       "        2.21212121,  2.23232323,  2.25252525,  2.27272727,  2.29292929,\n",
       "        2.31313131,  2.33333333,  2.35353535,  2.37373737,  2.39393939,\n",
       "        2.41414141,  2.43434343,  2.45454545,  2.47474747,  2.49494949,\n",
       "        2.51515152,  2.53535354,  2.55555556,  2.57575758,  2.5959596 ,\n",
       "        2.61616162,  2.63636364,  2.65656566,  2.67676768,  2.6969697 ,\n",
       "        2.71717172,  2.73737374,  2.75757576,  2.77777778,  2.7979798 ,\n",
       "        2.81818182,  2.83838384,  2.85858586,  2.87878788,  2.8989899 ,\n",
       "        2.91919192,  2.93939394,  2.95959596,  2.97979798,  3.        ])"
      ]
     },
     "execution_count": 75,
     "metadata": {},
     "output_type": "execute_result"
    }
   ],
   "source": [
    "x[ (x>2) | (x>1.5)  ] # x[ (x>2) + (x>1.5)  ] # any have to be true"
   ]
  },
  {
   "cell_type": "markdown",
   "metadata": {},
   "source": [
    "## The case of the NaN Value"
   ]
  },
  {
   "cell_type": "code",
   "execution_count": 78,
   "metadata": {
    "collapsed": false
   },
   "outputs": [],
   "source": [
    "iamnan = np.NaN"
   ]
  },
  {
   "cell_type": "code",
   "execution_count": 79,
   "metadata": {
    "collapsed": false
   },
   "outputs": [
    {
     "data": {
      "text/plain": [
       "nan"
      ]
     },
     "execution_count": 79,
     "metadata": {},
     "output_type": "execute_result"
    }
   ],
   "source": [
    "iamnan"
   ]
  },
  {
   "cell_type": "code",
   "execution_count": 80,
   "metadata": {
    "collapsed": false
   },
   "outputs": [
    {
     "data": {
      "text/plain": [
       "False"
      ]
     },
     "execution_count": 80,
     "metadata": {},
     "output_type": "execute_result"
    }
   ],
   "source": [
    "iamnan==iamnan"
   ]
  },
  {
   "cell_type": "code",
   "execution_count": 82,
   "metadata": {
    "collapsed": false
   },
   "outputs": [
    {
     "data": {
      "text/plain": [
       "True"
      ]
     },
     "execution_count": 82,
     "metadata": {},
     "output_type": "execute_result"
    }
   ],
   "source": [
    "np.inf==np.inf"
   ]
  },
  {
   "cell_type": "code",
   "execution_count": 83,
   "metadata": {
    "collapsed": true
   },
   "outputs": [],
   "source": [
    "xwithnan = np.asarray([3,4,5,6,7,2,3,np.NaN,75,75])"
   ]
  },
  {
   "cell_type": "code",
   "execution_count": 84,
   "metadata": {
    "collapsed": false
   },
   "outputs": [
    {
     "data": {
      "text/plain": [
       "array([  3.,   4.,   5.,   6.,   7.,   2.,   3.,  nan,  75.,  75.])"
      ]
     },
     "execution_count": 84,
     "metadata": {},
     "output_type": "execute_result"
    }
   ],
   "source": [
    "xwithnan"
   ]
  },
  {
   "cell_type": "code",
   "execution_count": 85,
   "metadata": {
    "collapsed": false
   },
   "outputs": [
    {
     "data": {
      "text/plain": [
       "array([   6.,    8.,   10.,   12.,   14.,    4.,    6.,   nan,  150.,  150.])"
      ]
     },
     "execution_count": 85,
     "metadata": {},
     "output_type": "execute_result"
    }
   ],
   "source": [
    "xwithnan*2"
   ]
  },
  {
   "cell_type": "code",
   "execution_count": 86,
   "metadata": {
    "collapsed": false
   },
   "outputs": [
    {
     "data": {
      "text/plain": [
       "nan"
      ]
     },
     "execution_count": 86,
     "metadata": {},
     "output_type": "execute_result"
    }
   ],
   "source": [
    "4+np.NaN"
   ]
  },
  {
   "cell_type": "code",
   "execution_count": 87,
   "metadata": {
    "collapsed": false
   },
   "outputs": [
    {
     "data": {
      "text/plain": [
       "nan"
      ]
     },
     "execution_count": 87,
     "metadata": {},
     "output_type": "execute_result"
    }
   ],
   "source": [
    "4/np.NaN"
   ]
  },
  {
   "cell_type": "code",
   "execution_count": 88,
   "metadata": {
    "collapsed": false
   },
   "outputs": [
    {
     "data": {
      "text/plain": [
       "nan"
      ]
     },
     "execution_count": 88,
     "metadata": {},
     "output_type": "execute_result"
    }
   ],
   "source": [
    "4**np.NaN"
   ]
  },
  {
   "cell_type": "code",
   "execution_count": 89,
   "metadata": {
    "collapsed": false
   },
   "outputs": [
    {
     "data": {
      "text/plain": [
       "nan"
      ]
     },
     "execution_count": 89,
     "metadata": {},
     "output_type": "execute_result"
    }
   ],
   "source": [
    "np.mean(xwithnan)"
   ]
  },
  {
   "cell_type": "code",
   "execution_count": 90,
   "metadata": {
    "collapsed": false
   },
   "outputs": [
    {
     "data": {
      "text/plain": [
       "20.0"
      ]
     },
     "execution_count": 90,
     "metadata": {},
     "output_type": "execute_result"
    }
   ],
   "source": [
    "np.nanmean(xwithnan)"
   ]
  },
  {
   "cell_type": "code",
   "execution_count": 91,
   "metadata": {
    "collapsed": false
   },
   "outputs": [
    {
     "data": {
      "text/plain": [
       "20.0"
      ]
     },
     "execution_count": 91,
     "metadata": {},
     "output_type": "execute_result"
    }
   ],
   "source": [
    "np.mean(xwithnan[xwithnan==xwithnan])"
   ]
  },
  {
   "cell_type": "code",
   "execution_count": 96,
   "metadata": {
    "collapsed": false
   },
   "outputs": [
    {
     "data": {
      "text/plain": [
       "array([False, False, False, False, False, False, False,  True, False, False], dtype=bool)"
      ]
     },
     "execution_count": 96,
     "metadata": {},
     "output_type": "execute_result"
    }
   ],
   "source": [
    "~(xwithnan==xwithnan)"
   ]
  },
  {
   "cell_type": "code",
   "execution_count": 93,
   "metadata": {
    "collapsed": false
   },
   "outputs": [
    {
     "data": {
      "text/plain": [
       "array([False, False, False, False, False, False, False,  True, False, False], dtype=bool)"
      ]
     },
     "execution_count": 93,
     "metadata": {},
     "output_type": "execute_result"
    }
   ],
   "source": [
    "xwithnan!=xwithnan"
   ]
  },
  {
   "cell_type": "code",
   "execution_count": 97,
   "metadata": {
    "collapsed": false
   },
   "outputs": [
    {
     "data": {
      "text/plain": [
       "array([False, False, False, False, False, False, False,  True, False, False], dtype=bool)"
      ]
     },
     "execution_count": 97,
     "metadata": {},
     "output_type": "execute_result"
    }
   ],
   "source": [
    "np.isnan(xwithnan)"
   ]
  },
  {
   "cell_type": "code",
   "execution_count": 98,
   "metadata": {
    "collapsed": true
   },
   "outputs": [],
   "source": [
    "xwithnan = [3,4,5,6,7,2,3,np.NaN,75,75]"
   ]
  },
  {
   "cell_type": "code",
   "execution_count": 100,
   "metadata": {
    "collapsed": false
   },
   "outputs": [
    {
     "data": {
      "text/plain": [
       "4"
      ]
     },
     "execution_count": 100,
     "metadata": {},
     "output_type": "execute_result"
    }
   ],
   "source": [
    "xwithnan[xwithnan==xwithnan]"
   ]
  },
  {
   "cell_type": "code",
   "execution_count": 105,
   "metadata": {
    "collapsed": false
   },
   "outputs": [
    {
     "data": {
      "text/plain": [
       "True"
      ]
     },
     "execution_count": 105,
     "metadata": {},
     "output_type": "execute_result"
    }
   ],
   "source": [
    "0 == False"
   ]
  },
  {
   "cell_type": "code",
   "execution_count": null,
   "metadata": {
    "collapsed": true
   },
   "outputs": [],
   "source": [
    "1 == True"
   ]
  },
  {
   "cell_type": "markdown",
   "metadata": {},
   "source": [
    "# Your first plot\n",
    "\n",
    "For ploting we are going to use matplotlib. let's plot 2 random variable a vs. b"
   ]
  },
  {
   "cell_type": "code",
   "execution_count": 117,
   "metadata": {
    "collapsed": false
   },
   "outputs": [],
   "source": [
    "a = np.random.rand(30)\n",
    "b = np.random.rand(30)"
   ]
  },
  {
   "cell_type": "code",
   "execution_count": 118,
   "metadata": {
    "collapsed": true
   },
   "outputs": [],
   "source": [
    "# plot within the notebook\n",
    "%matplotlib inline\n",
    "import matplotlib.pyplot as mpl"
   ]
  },
  {
   "cell_type": "code",
   "execution_count": 119,
   "metadata": {
    "collapsed": false
   },
   "outputs": [
    {
     "data": {
      "image/png": "[encoded data removed]",
      "text/plain": [
       "<matplotlib.figure.Figure at 0x105998590>"
      ]
     },
     "metadata": {},
     "output_type": "display_data"
    }
   ],
   "source": [
    "pl = mpl.hist(a)"
   ]
  },
  {
   "cell_type": "code",
   "execution_count": 126,
   "metadata": {
    "collapsed": false
   },
   "outputs": [
    {
     "data": {
      "text/plain": [
       "<matplotlib.collections.PathCollection at 0x1067e86d0>"
      ]
     },
     "execution_count": 126,
     "metadata": {},
     "output_type": "execute_result"
    },
    {
     "data": {
      "image/png": "[encoded data removed]",
      "text/plain": [
       "<matplotlib.figure.Figure at 0x1065ee490>"
      ]
     },
     "metadata": {},
     "output_type": "display_data"
    }
   ],
   "source": [
    "mpl.scatter(a,b,s=150, facecolors=\"None\", edgecolors=\"b\",lw=3)"
   ]
  },
  {
   "cell_type": "code",
   "execution_count": null,
   "metadata": {
    "collapsed": true
   },
   "outputs": [],
   "source": []
  }
 ],
 "metadata": {
  "kernelspec": {
   "display_name": "Python 2",
   "language": "python",
   "name": "python2"
  },
  "language_info": {
   "codemirror_mode": {
    "name": "ipython",
    "version": 2
   },
   "file_extension": ".py",
   "mimetype": "text/x-python",
   "name": "python",
   "nbconvert_exporter": "python",
   "pygments_lexer": "ipython2",
   "version": "2.7.10"
  }
 },
 "nbformat": 4,
 "nbformat_minor": 0
}
