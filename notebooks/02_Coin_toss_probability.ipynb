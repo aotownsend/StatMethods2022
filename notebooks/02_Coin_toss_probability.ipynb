{
 "cells": [
  {
   "cell_type": "markdown",
   "id": "24b9d486",
   "metadata": {},
   "source": [
    "# Coin toss probability"
   ]
  },
  {
   "cell_type": "markdown",
   "id": "1daf42b7",
   "metadata": {},
   "source": [
    "## Tasks:\n",
    "Given a set of 10 coins, with one of them unfair (both sides are tail), and all others fair."
   ]
  },
  {
   "cell_type": "markdown",
   "id": "8f709bf4",
   "metadata": {},
   "source": [
    "1. We pick a coin randomly. What is the probability that this coin is unfair?\n",
    "2. If we toss this coin, what is the probability that we get tail?\n",
    "3. We now toss this coin and get tail. What is the probability that this coin is unfair? 4. Write a simulation to check your result obtained under 3."
   ]
  },
  {
   "cell_type": "code",
   "execution_count": 1,
   "id": "88052ede",
   "metadata": {},
   "outputs": [],
   "source": [
    "import numpy as np\n",
    "\n",
    "from numpy.random import default_rng"
   ]
  },
  {
   "cell_type": "code",
   "execution_count": 2,
   "id": "ccad0e45",
   "metadata": {},
   "outputs": [],
   "source": [
    "rng = default_rng()"
   ]
  },
  {
   "cell_type": "markdown",
   "id": "9f6a671d",
   "metadata": {},
   "source": [
    "Get the possible options for the fair coins (coins 0 to 8). Remember 0 is a head and 1 is a tail. We are repeating the trails 100000000 times (good statistics!)."
   ]
  },
  {
   "cell_type": "code",
   "execution_count": 5,
   "id": "c10101e3",
   "metadata": {
    "scrolled": true
   },
   "outputs": [
    {
     "data": {
      "text/plain": [
       "array([[1, 1, 1, ..., 0, 0, 0],\n",
       "       [1, 0, 0, ..., 0, 1, 1],\n",
       "       [0, 1, 0, ..., 0, 1, 0],\n",
       "       ...,\n",
       "       [0, 0, 0, ..., 0, 0, 0],\n",
       "       [1, 1, 1, ..., 1, 1, 0],\n",
       "       [0, 0, 0, ..., 1, 1, 0]])"
      ]
     },
     "execution_count": 5,
     "metadata": {},
     "output_type": "execute_result"
    }
   ],
   "source": [
    "fair_trials = rng.integers(0, 2, (100000000, 9))\n",
    "fair_trials"
   ]
  },
  {
   "cell_type": "markdown",
   "id": "cf8265bf",
   "metadata": {},
   "source": [
    "You can see that each array shows the result of the 9 coins (though of course in reality, we only flip one coin, so we wouldn't see all of these results)."
   ]
  },
  {
   "cell_type": "markdown",
   "id": "31ced5d1",
   "metadata": {},
   "source": [
    "Then, we simulate all the unfair tail results from coin 9 (unfair coin)."
   ]
  },
  {
   "cell_type": "code",
   "execution_count": 7,
   "id": "fac6d065",
   "metadata": {},
   "outputs": [],
   "source": [
    "unfair_coin = np.ones(shape=(len(fair_trials), 1))"
   ]
  },
  {
   "cell_type": "markdown",
   "id": "7da000ab",
   "metadata": {},
   "source": [
    "Combine them. This array will show the results of each of the 10 coins for 100000000 iterations."
   ]
  },
  {
   "cell_type": "code",
   "execution_count": 8,
   "id": "553cc614",
   "metadata": {},
   "outputs": [],
   "source": [
    "all_trials = np.concatenate([fair_trials, unfair_coin], axis=1)"
   ]
  },
  {
   "cell_type": "code",
   "execution_count": 9,
   "id": "c8465e0f",
   "metadata": {},
   "outputs": [
    {
     "data": {
      "text/plain": [
       "array([1., 1., 1., 1., 1., 0., 0., 0., 0., 1.])"
      ]
     },
     "execution_count": 9,
     "metadata": {},
     "output_type": "execute_result"
    }
   ],
   "source": [
    "all_trials[0]"
   ]
  },
  {
   "cell_type": "code",
   "execution_count": 10,
   "id": "4ced5fd0",
   "metadata": {},
   "outputs": [
    {
     "data": {
      "text/plain": [
       "array([0., 1., 0., 0., 0., 0., 0., 1., 0., 1.])"
      ]
     },
     "execution_count": 10,
     "metadata": {},
     "output_type": "execute_result"
    }
   ],
   "source": [
    "all_trials[29]"
   ]
  },
  {
   "cell_type": "code",
   "execution_count": 11,
   "id": "bdea9ff7",
   "metadata": {},
   "outputs": [
    {
     "data": {
      "text/plain": [
       "array([1., 0., 0., 1., 1., 0., 0., 1., 1., 1.])"
      ]
     },
     "execution_count": 11,
     "metadata": {},
     "output_type": "execute_result"
    }
   ],
   "source": [
    "all_trials[5419]"
   ]
  },
  {
   "cell_type": "code",
   "execution_count": 14,
   "id": "23b0536a",
   "metadata": {},
   "outputs": [
    {
     "data": {
      "text/plain": [
       "0.549996511"
      ]
     },
     "execution_count": 14,
     "metadata": {},
     "output_type": "execute_result"
    }
   ],
   "source": [
    "sum(all_trials.flatten()) / len(all_trials.flatten())"
   ]
  },
  {
   "cell_type": "markdown",
   "id": "ba7e08bf",
   "metadata": {},
   "source": [
    "This is the answer to 2, the probability of getting tail. We have summed up all the ones, which is equivalent to summing up all the tails. Then, we divided that by the total number of trials."
   ]
  },
  {
   "cell_type": "markdown",
   "id": "9c828307",
   "metadata": {},
   "source": [
    "Set the choice of coin (i.e. from coin 0 to 9)."
   ]
  },
  {
   "cell_type": "code",
   "execution_count": 15,
   "id": "ed7c441f",
   "metadata": {},
   "outputs": [],
   "source": [
    "choices = rng.integers(0, 10, len(all_trials))"
   ]
  },
  {
   "cell_type": "code",
   "execution_count": 16,
   "id": "29049972",
   "metadata": {},
   "outputs": [
    {
     "data": {
      "text/plain": [
       "4"
      ]
     },
     "execution_count": 16,
     "metadata": {},
     "output_type": "execute_result"
    }
   ],
   "source": [
    "choices[8]"
   ]
  },
  {
   "cell_type": "markdown",
   "id": "92983a53",
   "metadata": {},
   "source": [
    "Set the chosen coin for each trial."
   ]
  },
  {
   "cell_type": "code",
   "execution_count": 17,
   "id": "bd91be59",
   "metadata": {},
   "outputs": [],
   "source": [
    "chosen_coin = np.array([itrial[c] for itrial, c in zip(all_trials, choices)])"
   ]
  },
  {
   "cell_type": "markdown",
   "id": "08ad2e95",
   "metadata": {},
   "source": [
    "Calculate the number of ones (i.e. tails), given that you chose coin 9 (i.e. the unfair coin)."
   ]
  },
  {
   "cell_type": "code",
   "execution_count": 19,
   "id": "ed7ef474",
   "metadata": {},
   "outputs": [],
   "source": [
    "faked_ones = choices[chosen_coin == 1] == 9"
   ]
  },
  {
   "cell_type": "code",
   "execution_count": 20,
   "id": "d9d8bd35",
   "metadata": {},
   "outputs": [
    {
     "data": {
      "text/plain": [
       "0.18179068135074164"
      ]
     },
     "execution_count": 20,
     "metadata": {},
     "output_type": "execute_result"
    }
   ],
   "source": [
    "sum(faked_ones) / len(faked_ones)"
   ]
  },
  {
   "cell_type": "markdown",
   "id": "2347dbc9",
   "metadata": {},
   "source": [
    "This is the answer to 3. The probability of getting an unfair coin, given that we tossed a tail."
   ]
  },
  {
   "cell_type": "code",
   "execution_count": null,
   "id": "1043bd54",
   "metadata": {},
   "outputs": [],
   "source": []
  }
 ],
 "metadata": {
  "kernelspec": {
   "display_name": "Python 3 (ipykernel)",
   "language": "python",
   "name": "python3"
  },
  "language_info": {
   "codemirror_mode": {
    "name": "ipython",
    "version": 3
   },
   "file_extension": ".py",
   "mimetype": "text/x-python",
   "name": "python",
   "nbconvert_exporter": "python",
   "pygments_lexer": "ipython3",
   "version": "3.8.12"
  }
 },
 "nbformat": 4,
 "nbformat_minor": 5
}
