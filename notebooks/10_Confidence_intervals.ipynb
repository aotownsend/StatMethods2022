{
 "cells": [
  {
   "cell_type": "markdown",
   "id": "1ce0cd02",
   "metadata": {},
   "source": [
    "# A. Confidence limits for Poisson processes"
   ]
  },
  {
   "cell_type": "markdown",
   "id": "4f8ba5f2",
   "metadata": {},
   "source": [
    "$$ P(x\\leq n) = \\sum_{x_i=0}^n \\frac{\\lambda^{x_i}}{x_i!} e^{-\\lambda} $$ "
   ]
  },
  {
   "cell_type": "markdown",
   "id": "46d949ff",
   "metadata": {},
   "source": [
    "## 1.   Confidence interval for a given expectation value.\n",
    "Write a program that lists, for fixed values of $\\lambda=1, 2, ...12$, the number of observed events, $n$, where there is (at most) a 10\\% of the probability of observing (i) above $n$, (ii) below $n$, (iii) above $n$ and below $n'$ (central confidence interval). For simplicity here, find the value of $n$ below which there is (at most) a 5\\% probability and the value of $n'$ above which there is (at most) a 5\\% probability."
   ]
  },
  {
   "cell_type": "code",
   "execution_count": 1,
   "id": "aa370ba4",
   "metadata": {},
   "outputs": [],
   "source": [
    "import numpy as np\n",
    "import math\n",
    "from scipy.stats import poisson\n",
    "import astropy.stats as astats"
   ]
  },
  {
   "cell_type": "code",
   "execution_count": 2,
   "id": "f5dd41b4",
   "metadata": {},
   "outputs": [],
   "source": [
    "def poisson_10pc_n_events(tail):\n",
    "    mean_all = np.arange(1, 13)\n",
    "    sum_n = np.arange(0, 100)\n",
    "    n_events = []\n",
    "    n2_events = []\n",
    "    if tail == 'below':\n",
    "        for mean in mean_all:\n",
    "            p = 0\n",
    "            for n in sum_n:\n",
    "                p_old = p\n",
    "                p += mean**(n)/math.factorial(n) * np.exp(-mean)\n",
    "                if (p_old < 0.1) & (p > 0.1) & (n != 0):\n",
    "                    n_events.append(n-1)\n",
    "                    break\n",
    "                elif (p_old < 0.1) & (p > 0.1) & (n == 0):\n",
    "                    n_events.append(np.NaN)\n",
    "                    break\n",
    "        print('The number of observed events n such that at most 10% of the probability are below n')\n",
    "        print('Mean: \\t n')\n",
    "        print('___________')\n",
    "        for i in range(len(mean_all)):\n",
    "            print(str(mean_all[i]) + \": \\t\" + str(n_events[i]))\n",
    "    elif tail == 'above':\n",
    "        for mean in mean_all:\n",
    "            p = 0\n",
    "            for n in sum_n:\n",
    "                p_old = p\n",
    "                p += mean**(n)/math.factorial(n) * np.exp(-mean)\n",
    "                if (p_old < 0.9) & (p > 0.9):\n",
    "                    n_events.append(n)\n",
    "                    break\n",
    "        print('The number of observed events n such that at most 10% of the probability are above n')\n",
    "        print('Mean: \\t n')\n",
    "        print('___________')\n",
    "        for i in range(len(mean_all)):\n",
    "            print(str(mean_all[i]) + \": \\t\" + str(n_events[i]))\n",
    "    elif tail == 'both':\n",
    "        for mean in mean_all:\n",
    "            p = 0\n",
    "            for n in sum_n:\n",
    "                p_old = p\n",
    "                p += mean**(n)/math.factorial(n) * np.exp(-mean)\n",
    "                if (p_old < 0.05) & (p > 0.05) & (n != 0):\n",
    "                    n_events.append(n-1)\n",
    "                elif (p_old < 0.05) & (p > 0.05) & (n == 0):\n",
    "                    n_events.append(np.NaN)\n",
    "                elif (p_old < 0.95) & (p > 0.95):\n",
    "                    n2_events.append(n)\n",
    "                    break\n",
    "                elif (poisson.cdf(n, 12) > 0.95):\n",
    "                    n2_events.append(n)\n",
    "                    break\n",
    "        print('The number of observed events n such that at most 10% of the probability are above n and below n2')\n",
    "        print('Mean: \\t n : \\t n2')\n",
    "        print('____________________')\n",
    "        for i in range(len(mean_all)):\n",
    "            print(str(mean_all[i]) + \":\\t\" + str(n_events[i]) + \"\\t\" + str(n2_events[i]))\n",
    "    else:\n",
    "        print('Please select which tail of the distribution you want to find: above, below, both')"
   ]
  },
  {
   "cell_type": "code",
   "execution_count": 3,
   "id": "ba4330d2",
   "metadata": {
    "scrolled": true
   },
   "outputs": [
    {
     "name": "stdout",
     "output_type": "stream",
     "text": [
      "The number of observed events n such that at most 10% of the probability are above n\n",
      "Mean: \t n\n",
      "___________\n",
      "1: \t2\n",
      "2: \t4\n",
      "3: \t5\n",
      "4: \t7\n",
      "5: \t8\n",
      "6: \t9\n",
      "7: \t10\n",
      "8: \t12\n",
      "9: \t13\n",
      "10: \t14\n",
      "11: \t15\n",
      "12: \t17\n"
     ]
    }
   ],
   "source": [
    "poisson_10pc_n_events(tail = 'above')"
   ]
  },
  {
   "cell_type": "code",
   "execution_count": 4,
   "id": "2d117faa",
   "metadata": {
    "scrolled": true
   },
   "outputs": [
    {
     "name": "stdout",
     "output_type": "stream",
     "text": [
      "The number of observed events n such that at most 10% of the probability are below n\n",
      "Mean: \t n\n",
      "___________\n",
      "1: \tnan\n",
      "2: \tnan\n",
      "3: \t0\n",
      "4: \t1\n",
      "5: \t1\n",
      "6: \t2\n",
      "7: \t3\n",
      "8: \t4\n",
      "9: \t4\n",
      "10: \t5\n",
      "11: \t6\n",
      "12: \t7\n"
     ]
    }
   ],
   "source": [
    "poisson_10pc_n_events(tail = 'below')"
   ]
  },
  {
   "cell_type": "code",
   "execution_count": 5,
   "id": "2e836534",
   "metadata": {
    "scrolled": true
   },
   "outputs": [
    {
     "name": "stdout",
     "output_type": "stream",
     "text": [
      "The number of observed events n such that at most 10% of the probability are above n and below n2\n",
      "Mean: \t n : \t n2\n",
      "____________________\n",
      "1:\tnan\t3\n",
      "2:\tnan\t5\n",
      "3:\t0\t6\n",
      "4:\t0\t8\n",
      "5:\t1\t9\n",
      "6:\t1\t10\n",
      "7:\t2\t12\n",
      "8:\t3\t13\n",
      "9:\t3\t14\n",
      "10:\t4\t15\n",
      "11:\t5\t17\n",
      "12:\t6\t18\n"
     ]
    }
   ],
   "source": [
    "poisson_10pc_n_events(tail = 'both')"
   ]
  },
  {
   "cell_type": "markdown",
   "id": "f392e775",
   "metadata": {},
   "source": [
    "I could have also done this using `scipy.stats.poission` but this is the old fashioned way! I will use `scipy.stats.poission` for the following examples now that we can see how it works."
   ]
  },
  {
   "cell_type": "markdown",
   "id": "b6f34c61",
   "metadata": {},
   "source": [
    "## 2. Confidence interval  given a measured value.\n",
    "In a similar spirit, write a program that lists, for fixed number of observed events $n = 0, 1, 2, ...12$, the (i) upper, (ii) lower, and (iii) central CIs on $\\lambda$ at 90\\% confidence level. Describe the conceptual difference between this case and that discussed in part 1."
   ]
  },
  {
   "cell_type": "code",
   "execution_count": 6,
   "id": "abe4f8ce",
   "metadata": {},
   "outputs": [],
   "source": [
    "mean_all = np.arange(0, 30, 0.01)\n",
    "n_all = np.arange(0, 13)\n",
    "upper_limits = []\n",
    "lower_limits = []\n",
    "\n",
    "for n in n_all:\n",
    "    prob = poisson.cdf(n, mean_all)\n",
    "    for i in range(len(prob)):\n",
    "        if (prob[i+1] < 0.9) & (prob[i] > 0.9):\n",
    "            lower_limits.append(mean_all[i+1])\n",
    "        elif (prob[i+1] < 0.1) & (prob[i] > 0.1):\n",
    "            upper_limits.append(mean_all[i+1])\n",
    "            break"
   ]
  },
  {
   "cell_type": "code",
   "execution_count": 7,
   "id": "256fc976",
   "metadata": {},
   "outputs": [
    {
     "name": "stdout",
     "output_type": "stream",
     "text": [
      "Lower and upper limits at 10% and 90% CL\n",
      "___________________________________________\n",
      "n:\t Lower:\t Upper:\n",
      "___________________________________________\n",
      "0\t0.11\t2.31\n",
      "1\t0.54\t3.89\n",
      "2\t1.11\t5.33\n",
      "3\t1.75\t6.69\n",
      "4\t2.44\t8.0\n",
      "5\t3.16\t9.28\n",
      "6\t3.9\t10.54\n",
      "7\t4.66\t11.78\n",
      "8\t5.44\t13.0\n",
      "9\t6.23\t14.21\n",
      "10\t7.03\t15.41\n",
      "11\t7.83\t16.6\n",
      "12\t8.65\t17.79\n"
     ]
    }
   ],
   "source": [
    "print('Lower and upper limits at 10% and 90% CL')\n",
    "print('___________________________________________')\n",
    "print('n:\\t Lower:\\t Upper:')\n",
    "print('___________________________________________')\n",
    "for j in range(len(n_all)):\n",
    "    print(str(n_all[j]) + '\\t' + str(round(lower_limits[j], 2)) + '\\t' + str(np.round(upper_limits[j], 2)))"
   ]
  },
  {
   "cell_type": "markdown",
   "id": "b8fb8526",
   "metadata": {},
   "source": [
    "The code is essentially the same for the centre CI with both tails, except we have 5% and 95% confidence level for each tail of the distribution."
   ]
  },
  {
   "cell_type": "markdown",
   "id": "28c6f6a2",
   "metadata": {},
   "source": [
    "# B. Confidence limits for Poisson processes in the context of a counting experiment"
   ]
  },
  {
   "cell_type": "markdown",
   "id": "6cf0332c",
   "metadata": {},
   "source": [
    "$$ p(n;\\lambda_S;\\lambda_B)= \\frac{(\\lambda_S+\\lambda_B)^n}{n!} \\exp{(-[\\lambda_S+\\lambda_B])} $$"
   ]
  },
  {
   "cell_type": "markdown",
   "id": "e6ebb4d3",
   "metadata": {},
   "source": [
    "$$ p(n\\geq n_{obs})=\\sum_{n=n_{obs}}^\\infty p(n;\\lambda_S=0;\\lambda_B)= 1 - \\sum_{n=0}^{n_{obs}-1} \\frac{\\lambda_B^n}{n!} \\exp{(-\\lambda_B)} $$"
   ]
  },
  {
   "cell_type": "markdown",
   "id": "69bd5683",
   "metadata": {},
   "source": [
    "Assume a counting experiment in which 5 events are observed, while $\\lambda_B = 1.8$ background events are expected."
   ]
  },
  {
   "cell_type": "markdown",
   "id": "492f2b14",
   "metadata": {},
   "source": [
    "## 1. Establishing the presence of signal.\n",
    "Is this a significant ($=3\\sigma$) excess to establish the presence of signal? In other words, calculate the probability of observing $n_{obs} = 5$ or more events assuming the presence of background only with the expectation value is $\\lambda_B = 1.8$ using Poisson statistics."
   ]
  },
  {
   "cell_type": "markdown",
   "id": "94136598",
   "metadata": {},
   "source": [
    "$$ p(n\\geq 5)= 1 - \\sum_{n=0}^{4} \\frac{1.8^n}{n!} \\exp{(-1.8)} $$"
   ]
  },
  {
   "cell_type": "code",
   "execution_count": 8,
   "id": "d808cc66",
   "metadata": {},
   "outputs": [
    {
     "name": "stdout",
     "output_type": "stream",
     "text": [
      "p-value = 0.036406661001083473\n",
      "3 sigma = 0.0030000000000000027\n"
     ]
    }
   ],
   "source": [
    "prob = 1- poisson.cdf(4, 1.8)\n",
    "three_sigma = 1 -  0.997\n",
    "print('p-value = ' + str(prob))\n",
    "print('3 sigma = ' + str(three_sigma))"
   ]
  },
  {
   "cell_type": "markdown",
   "id": "44c9b4e6",
   "metadata": {},
   "source": [
    "The p-value is greater than the three sigma threshold, Therefore, this is not a significant excess to establish the presence of a signal."
   ]
  },
  {
   "cell_type": "markdown",
   "id": "8e646df8",
   "metadata": {},
   "source": [
    "## 2. Upper limit on the number of signal events.\n",
    "Determine an upper limit $\\lambda_S^{max}$ for the number of signal events at a 95\\% CL. Such a limit is defined by the expected number of signal events $\\lambda_S^{max}$ where the probability of measuring $n_{obs}$ or fewer events reaches 5\\% assuming a Poisson statistic with mean $\\lambda_B + \\lambda_S^{max}$. To (numerically) find the answer, perform an interval search starting from the probabilities to observe $n_B + n^{min}_S$ and $n_B + n_S^{max}$ or less events. Stop the search when the uncertainty, i.e. the difference of the limits of the interval, is less than $10^{-5}$."
   ]
  },
  {
   "cell_type": "code",
   "execution_count": 9,
   "id": "e9584607",
   "metadata": {},
   "outputs": [
    {
     "name": "stdout",
     "output_type": "stream",
     "text": [
      "Upper lim: \t p-value\n",
      "0.0 : \t\t0.9896219631338404\n",
      "1.0 : \t\t0.934889686635759\n",
      "2.0 : \t\t0.8155562560569335\n",
      "3.0 : \t\t0.6510064372694917\n",
      "4.0 : \t\t0.47831468715817593\n",
      "5.0 : \t\t0.3269771300718833\n",
      "6.0 : \t\t0.21025110554874318\n",
      "7.0 : \t\t0.12838664508882555\n",
      "8.0 : \t\t0.07504113738341638\n",
      "9.0 : \t\t0.04225517364020971\n",
      "10.0 : \t\t0.023043101774884243\n"
     ]
    }
   ],
   "source": [
    "sig_mean_max = np.linspace(0, 10, 11)\n",
    "\n",
    "print('Upper lim: \\t p-value')\n",
    "for i in range(len(sig_mean_max)):\n",
    "    p_less_than_obs = poisson.cdf(5, (1.8+sig_mean_max[i]))\n",
    "    print(str(sig_mean_max[i]) + \" : \\t\\t\" + str(p_less_than_obs))"
   ]
  },
  {
   "cell_type": "code",
   "execution_count": 10,
   "id": "f4948e5b",
   "metadata": {},
   "outputs": [
    {
     "name": "stdout",
     "output_type": "stream",
     "text": [
      "Upper lim: \t p-value\n",
      "8.0 : \t\t0.07504113738341638\n",
      "8.1 : \t\t0.07096514087048697\n",
      "8.2 : \t\t0.06708596287903189\n",
      "8.3 : \t\t0.06339596386834864\n",
      "8.4 : \t\t0.05988765537102165\n",
      "8.5 : \t\t0.05655370984090572\n",
      "8.6 : \t\t0.053386969043626664\n",
      "8.7 : \t\t0.05038045108893583\n",
      "8.8 : \t\t0.04752735620150341\n",
      "8.9 : \t\t0.04482107132365227\n",
      "9.0 : \t\t0.04225517364020971\n"
     ]
    }
   ],
   "source": [
    "sig_mean_max = np.linspace(8, 9, 11)\n",
    "\n",
    "print('Upper lim: \\t p-value')\n",
    "for i in range(len(sig_mean_max)):\n",
    "    p_less_than_obs = poisson.cdf(5, (1.8+sig_mean_max[i]))\n",
    "    print(str(sig_mean_max[i]) + \" : \\t\\t\" + str(p_less_than_obs))"
   ]
  },
  {
   "cell_type": "code",
   "execution_count": 11,
   "id": "88d2cf01",
   "metadata": {
    "scrolled": true
   },
   "outputs": [
    {
     "name": "stdout",
     "output_type": "stream",
     "text": [
      "Upper lim: \t p-value\n",
      "8.7 : \t\t0.05038045108893583\n",
      "8.71 : \t\t0.05008834815427274\n",
      "8.72 : \t\t0.04979777259804961\n",
      "8.73 : \t\t0.049508717740923115\n",
      "8.74 : \t\t0.04922117692231874\n",
      "8.75 : \t\t0.048935143500466564\n",
      "8.76 : \t\t0.04865061085244038\n",
      "8.77 : \t\t0.04836757237419089\n",
      "8.78 : \t\t0.04808602148058197\n",
      "8.79 : \t\t0.04780595160542332\n",
      "8.8 : \t\t0.04752735620150341\n"
     ]
    }
   ],
   "source": [
    "sig_mean_max = np.linspace(8.7, 8.8, 11)\n",
    "\n",
    "print('Upper lim: \\t p-value')\n",
    "for i in range(len(sig_mean_max)):\n",
    "    p_less_than_obs = poisson.cdf(5, (1.8+sig_mean_max[i]))\n",
    "    print(str(round(sig_mean_max[i],2)) + \" : \\t\\t\" + str(p_less_than_obs))"
   ]
  },
  {
   "cell_type": "code",
   "execution_count": 12,
   "id": "f0cdfe9c",
   "metadata": {
    "scrolled": true
   },
   "outputs": [
    {
     "name": "stdout",
     "output_type": "stream",
     "text": [
      "Upper lim: \t p-value\n",
      "8.71 : \t\t0.05008834815427272\n",
      "8.711 : \t\t0.05005922197697671\n",
      "8.712 : \t\t0.05003011106676179\n",
      "8.713 : \t\t0.05000101541694229\n",
      "8.714 : \t\t0.04997193502083388\n",
      "8.715 : \t\t0.049942869871754565\n",
      "8.716 : \t\t0.04991381996302396\n",
      "8.717 : \t\t0.0498847852879639\n",
      "8.718 : \t\t0.04985576583989758\n",
      "8.719 : \t\t0.049826761612150244\n",
      "8.72 : \t\t0.049797772598049524\n"
     ]
    }
   ],
   "source": [
    "sig_mean_max = np.linspace(8.71, 8.72, 11)\n",
    "\n",
    "print('Upper lim: \\t p-value')\n",
    "for i in range(len(sig_mean_max)):\n",
    "    p_less_than_obs = poisson.cdf(5, (1.8+sig_mean_max[i]))\n",
    "    print(str(round(sig_mean_max[i],3)) + \" : \\t\\t\" + str(p_less_than_obs))"
   ]
  },
  {
   "cell_type": "code",
   "execution_count": 13,
   "id": "9bb31d4b",
   "metadata": {},
   "outputs": [
    {
     "data": {
      "text/plain": [
       "2.9080396108410733e-05"
      ]
     },
     "execution_count": 13,
     "metadata": {},
     "output_type": "execute_result"
    }
   ],
   "source": [
    "0.05000101541694229 - 0.04997193502083388"
   ]
  },
  {
   "cell_type": "code",
   "execution_count": 14,
   "id": "bfbca284",
   "metadata": {
    "scrolled": true
   },
   "outputs": [
    {
     "name": "stdout",
     "output_type": "stream",
     "text": [
      "Upper lim: \t p-value\n",
      "8.713 : \t\t0.05000101541694232\n",
      "8.7131 : \t\t0.04999810669102477\n",
      "8.7132 : \t\t0.049995198117637606\n",
      "8.7133 : \t\t0.04999228969677415\n",
      "8.7134 : \t\t0.049989381428427807\n",
      "8.7135 : \t\t0.04998647331259182\n",
      "8.7136 : \t\t0.04998356534925956\n",
      "8.7137 : \t\t0.04998065753842439\n",
      "8.7138 : \t\t0.04997774988007933\n",
      "8.7139 : \t\t0.04997484237421816\n",
      "8.714 : \t\t0.04997193502083388\n"
     ]
    }
   ],
   "source": [
    "sig_mean_max = np.linspace(8.713, 8.714, 11)\n",
    "\n",
    "print('Upper lim: \\t p-value')\n",
    "for i in range(len(sig_mean_max)):\n",
    "    p_less_than_obs = poisson.cdf(5, (1.8+sig_mean_max[i]))\n",
    "    print(str(round(sig_mean_max[i],4)) + \" : \\t\\t\" + str(p_less_than_obs))"
   ]
  },
  {
   "cell_type": "code",
   "execution_count": 15,
   "id": "299594f0",
   "metadata": {},
   "outputs": [
    {
     "data": {
      "text/plain": [
       "2.908725917544208e-06"
      ]
     },
     "execution_count": 15,
     "metadata": {},
     "output_type": "execute_result"
    }
   ],
   "source": [
    "0.05000101541694232 - 0.04999810669102477"
   ]
  },
  {
   "cell_type": "markdown",
   "id": "9b595a20",
   "metadata": {},
   "source": [
    "We made it! The difference is between intervals is less than $10^{-5}$. This means that $\\lambda_S^{max}$ is ~ 8.713."
   ]
  },
  {
   "cell_type": "code",
   "execution_count": 16,
   "id": "0ef5f106",
   "metadata": {},
   "outputs": [
    {
     "data": {
      "text/plain": [
       "array([[0.0453289],\n",
       "       [8.7740608]])"
      ]
     },
     "execution_count": 16,
     "metadata": {},
     "output_type": "execute_result"
    }
   ],
   "source": [
    "# This is approximation way to check our answer...\n",
    "# Note that this is not the exact same answer as this uses a Bayesion method with a uniform prior.\n",
    "\n",
    "cl_array = astats.poisson_conf_interval(5, interval = 'kraft-burrows-nousek', confidence_level = 0.95, background = 1.8)\n",
    "cl_array"
   ]
  },
  {
   "cell_type": "markdown",
   "id": "e6690e60",
   "metadata": {},
   "source": [
    "# C. Confidence limit determination with MC approaches"
   ]
  },
  {
   "cell_type": "markdown",
   "id": "97a4ab26",
   "metadata": {},
   "source": [
    "Verify the limit determined in above problem B.2 with toy Monte Carlo experiments. In each toy experiment generate a random number according to a Poisson distribution with a mean value of $\\lambda_B + \\lambda_S^{max}$. Then count the number of experiments in which this random number is less or equal $n_{obs}$. By construction, the fraction of these events should be 5%."
   ]
  },
  {
   "cell_type": "code",
   "execution_count": 17,
   "id": "d8e536b1",
   "metadata": {},
   "outputs": [],
   "source": [
    "dist = np.random.poisson((1.8+8.713), 10000000)"
   ]
  },
  {
   "cell_type": "code",
   "execution_count": 18,
   "id": "b61a82f5",
   "metadata": {},
   "outputs": [
    {
     "name": "stdout",
     "output_type": "stream",
     "text": [
      "5.008789999999999%\n"
     ]
    }
   ],
   "source": [
    "count = 0\n",
    "for i in range(len(dist)):\n",
    "    if dist[i] < 6:\n",
    "        count +=1\n",
    "print(str(count/len(dist) * 100) + \"%\")"
   ]
  },
  {
   "cell_type": "code",
   "execution_count": null,
   "id": "e5db8600",
   "metadata": {},
   "outputs": [],
   "source": []
  }
 ],
 "metadata": {
  "kernelspec": {
   "display_name": "Python 3 (ipykernel)",
   "language": "python",
   "name": "python3"
  },
  "language_info": {
   "codemirror_mode": {
    "name": "ipython",
    "version": 3
   },
   "file_extension": ".py",
   "mimetype": "text/x-python",
   "name": "python",
   "nbconvert_exporter": "python",
   "pygments_lexer": "ipython3",
   "version": "3.8.12"
  }
 },
 "nbformat": 4,
 "nbformat_minor": 5
}
