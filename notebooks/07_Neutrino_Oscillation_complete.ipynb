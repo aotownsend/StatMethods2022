{
 "cells": [
  {
   "cell_type": "markdown",
   "id": "6acfa438",
   "metadata": {},
   "source": [
    "# Fit of mock data using a two flavor neutrino oscillation framework\n",
    "\n",
    "Similar to https://arxiv.org/pdf/1707.07081.pdf"
   ]
  },
  {
   "cell_type": "code",
   "execution_count": 1,
   "id": "8a023e83",
   "metadata": {},
   "outputs": [],
   "source": [
    "import numpy as np\n",
    "import matplotlib.pyplot as plt\n",
    "import pandas as pd\n",
    "import scipy\n",
    "from scipy.optimize import minimize\n",
    "from scipy import odr\n",
    "from scipy.misc import derivative\n",
    "import matplotlib as mpl\n",
    "\n",
    "plt.rc('font', family='serif', size = 16)\n",
    "plt.rc('xtick', labelsize=14)\n",
    "plt.rc('ytick', labelsize=14)\n",
    "mpl.rcParams['ytick.major.size'] = 5\n",
    "mpl.rcParams['ytick.major.width'] = 1\n",
    "mpl.rcParams['ytick.minor.size'] = 4\n",
    "mpl.rcParams['ytick.minor.width'] = 1\n",
    "mpl.rcParams['xtick.major.size'] = 5\n",
    "mpl.rcParams['xtick.major.width'] = 1\n",
    "mpl.rcParams[\"figure.figsize\"] = (10,8)"
   ]
  },
  {
   "cell_type": "code",
   "execution_count": 2,
   "id": "d4b8f5fd",
   "metadata": {},
   "outputs": [],
   "source": [
    "def atmo_event_rate(energy, cos_theta, sin2theta=0.9, dm2=2.4e-3):\n",
    "    flux = 1e5*energy**-1.7 # the true neutrino flux is steeper, this takes into account \n",
    "                            # neutrino cross-section, which is proportional to E\n",
    "                            # as well as that we are working with logarithmic energy bins    \n",
    "    l = 12e3 * cos_theta # base line - max corresponds to diameter of the Earth 12e3 km\n",
    "\n",
    "    # two flavor oscillation propability for muon disappearance - see wikipedia \n",
    "    osc_prop = 1-sin2theta * (np.sin(1.27*dm2*l/energy))**2\n",
    "\n",
    "    return flux*osc_prop\n",
    "\n",
    "def run_experiment(energy, cosdec, sin2theta=0.9, dm2=2.4e-3):\n",
    "    x = np.array(energy.size)\n",
    "    events=np.zeros(energy.size*cosdec.size)\n",
    "    data = []\n",
    "\n",
    "    i = 0\n",
    "    for e in energy:\n",
    "        for c in cosdec:\n",
    "            mu = atmo_event_rate(e,c,sin2theta,dm2)\n",
    "            sig = np.sqrt(mu)\n",
    "            event_random = np.random.normal(mu,sig)\n",
    "            events[i] = int(event_random) \n",
    "            data.append([e,c,events[i]])\n",
    "            i=i+1\n",
    "                   \n",
    "    df = pd.DataFrame(data, columns=['Energy','cosdec','Events'])\n",
    "    return df"
   ]
  },
  {
   "cell_type": "code",
   "execution_count": 3,
   "id": "ff1ddb94",
   "metadata": {
    "scrolled": true
   },
   "outputs": [],
   "source": [
    "def generate_experiment(N=1):\n",
    "    experiments = []\n",
    "    # lets generate experiments, with 10 energy bins and 10 cos(declination) bins\n",
    "    cosdec =  np.linspace(0, 1, 10) # 10 steps in cos(declination) from 0 to 1 \n",
    "    log10_energy = np.linspace(1, 2, 10) # 10 steps in log10(energy) from 10 to 100 GeV\n",
    "    energy=10**log10_energy\n",
    "    if N ==1:\n",
    "        events = run_experiment(energy,cosdec,0.9,2.4e-3)\n",
    "        return events\n",
    "    else:    \n",
    "        for i in range(N):\n",
    "            # run the experiment \n",
    "            events = run_experiment(energy,cosdec,0.9,2.4e-3)\n",
    "            experiments.append(events)\n",
    "        return experiments"
   ]
  },
  {
   "cell_type": "code",
   "execution_count": 4,
   "id": "b6fa1d00",
   "metadata": {},
   "outputs": [],
   "source": [
    "event_df = generate_experiment()"
   ]
  },
  {
   "cell_type": "code",
   "execution_count": 5,
   "id": "159bb8c0",
   "metadata": {},
   "outputs": [
    {
     "data": {
      "text/html": [
       "<div>\n",
       "<style scoped>\n",
       "    .dataframe tbody tr th:only-of-type {\n",
       "        vertical-align: middle;\n",
       "    }\n",
       "\n",
       "    .dataframe tbody tr th {\n",
       "        vertical-align: top;\n",
       "    }\n",
       "\n",
       "    .dataframe thead th {\n",
       "        text-align: right;\n",
       "    }\n",
       "</style>\n",
       "<table border=\"1\" class=\"dataframe\">\n",
       "  <thead>\n",
       "    <tr style=\"text-align: right;\">\n",
       "      <th></th>\n",
       "      <th>Energy</th>\n",
       "      <th>cosdec</th>\n",
       "      <th>Events</th>\n",
       "    </tr>\n",
       "  </thead>\n",
       "  <tbody>\n",
       "    <tr>\n",
       "      <th>0</th>\n",
       "      <td>10.0</td>\n",
       "      <td>0.000000</td>\n",
       "      <td>2003.0</td>\n",
       "    </tr>\n",
       "    <tr>\n",
       "      <th>1</th>\n",
       "      <td>10.0</td>\n",
       "      <td>0.111111</td>\n",
       "      <td>1656.0</td>\n",
       "    </tr>\n",
       "    <tr>\n",
       "      <th>2</th>\n",
       "      <td>10.0</td>\n",
       "      <td>0.222222</td>\n",
       "      <td>1073.0</td>\n",
       "    </tr>\n",
       "    <tr>\n",
       "      <th>3</th>\n",
       "      <td>10.0</td>\n",
       "      <td>0.333333</td>\n",
       "      <td>434.0</td>\n",
       "    </tr>\n",
       "    <tr>\n",
       "      <th>4</th>\n",
       "      <td>10.0</td>\n",
       "      <td>0.444444</td>\n",
       "      <td>201.0</td>\n",
       "    </tr>\n",
       "    <tr>\n",
       "      <th>...</th>\n",
       "      <td>...</td>\n",
       "      <td>...</td>\n",
       "      <td>...</td>\n",
       "    </tr>\n",
       "    <tr>\n",
       "      <th>95</th>\n",
       "      <td>100.0</td>\n",
       "      <td>0.555556</td>\n",
       "      <td>33.0</td>\n",
       "    </tr>\n",
       "    <tr>\n",
       "      <th>96</th>\n",
       "      <td>100.0</td>\n",
       "      <td>0.666667</td>\n",
       "      <td>40.0</td>\n",
       "    </tr>\n",
       "    <tr>\n",
       "      <th>97</th>\n",
       "      <td>100.0</td>\n",
       "      <td>0.777778</td>\n",
       "      <td>41.0</td>\n",
       "    </tr>\n",
       "    <tr>\n",
       "      <th>98</th>\n",
       "      <td>100.0</td>\n",
       "      <td>0.888889</td>\n",
       "      <td>29.0</td>\n",
       "    </tr>\n",
       "    <tr>\n",
       "      <th>99</th>\n",
       "      <td>100.0</td>\n",
       "      <td>1.000000</td>\n",
       "      <td>42.0</td>\n",
       "    </tr>\n",
       "  </tbody>\n",
       "</table>\n",
       "<p>100 rows × 3 columns</p>\n",
       "</div>"
      ],
      "text/plain": [
       "    Energy    cosdec  Events\n",
       "0     10.0  0.000000  2003.0\n",
       "1     10.0  0.111111  1656.0\n",
       "2     10.0  0.222222  1073.0\n",
       "3     10.0  0.333333   434.0\n",
       "4     10.0  0.444444   201.0\n",
       "..     ...       ...     ...\n",
       "95   100.0  0.555556    33.0\n",
       "96   100.0  0.666667    40.0\n",
       "97   100.0  0.777778    41.0\n",
       "98   100.0  0.888889    29.0\n",
       "99   100.0  1.000000    42.0\n",
       "\n",
       "[100 rows x 3 columns]"
      ]
     },
     "execution_count": 5,
     "metadata": {},
     "output_type": "execute_result"
    }
   ],
   "source": [
    "event_df"
   ]
  },
  {
   "cell_type": "code",
   "execution_count": 6,
   "id": "e406b304",
   "metadata": {},
   "outputs": [
    {
     "data": {
      "image/png": "[encoded data removed]",
      "text/plain": [
       "<Figure size 720x576 with 1 Axes>"
      ]
     },
     "metadata": {
      "needs_background": "light"
     },
     "output_type": "display_data"
    }
   ],
   "source": [
    "plt.hist(event_df[\"Events\"], bins=20)\n",
    "plt.yscale('log')\n",
    "\n",
    "plt.show() "
   ]
  },
  {
   "cell_type": "markdown",
   "id": "c9d60ee1",
   "metadata": {},
   "source": [
    "## Now let's fit the data"
   ]
  },
  {
   "cell_type": "code",
   "execution_count": 7,
   "id": "1a24ed65",
   "metadata": {},
   "outputs": [],
   "source": [
    "def fit_func(params, data):\n",
    "    sin2theta,dm2  = params\n",
    "    energy, cos_theta= data\n",
    "    return atmo_event_rate(energy, cos_theta, sin2theta, dm2)"
   ]
  },
  {
   "cell_type": "code",
   "execution_count": 8,
   "id": "52d1ac91",
   "metadata": {},
   "outputs": [
    {
     "name": "stdout",
     "output_type": "stream",
     "text": [
      "sin2theta = 0.9022814696472528 ± 0.00020983298940162494\n",
      "dm2 = 0.0023973546157850458 ± 2.4011951066285546e-07\n"
     ]
    }
   ],
   "source": [
    "model = scipy.odr.Model(fit_func)\n",
    "data = scipy.odr.RealData((event_df[\"Energy\"],event_df[\"cosdec\"]),event_df[\"Events\"])\n",
    "odr = scipy.odr.ODR(data, model, beta0=[0.9, 2.4e-3])\n",
    "odr.set_job(fit_type=2)\n",
    "out = odr.run()\n",
    "popt = out.beta\n",
    "perr = out.sd_beta\n",
    "print(\"sin2theta = \" + str(popt[0])+\" ± \"+str(perr[0]*1/np.sqrt(out.res_var)))\n",
    "print(\"dm2 = \" + str(popt[1])+\" ± \"+str(perr[1]*1/np.sqrt(out.res_var)))"
   ]
  },
  {
   "cell_type": "markdown",
   "id": "02d618bc",
   "metadata": {},
   "source": [
    "## But we want the error estimation from the minimum variance / Cramer-Rao bounds..."
   ]
  },
  {
   "cell_type": "markdown",
   "id": "556db0b2",
   "metadata": {},
   "source": [
    "$$V(x, \\alpha) \\geq \\frac{1}{\\langle \\left( \\frac{\\partial\\log L(x,\\alpha)}{\\partial\\alpha} \\right)^2\\rangle}$$\n",
    "\n",
    "\n",
    "$$\\log L(x, \\alpha) = \\sum_{i=1}^{n}\\log P(x_i, \\alpha)$$\n",
    "\n",
    "$$\\frac{\\partial\\log L(x,\\alpha)}{\\partial\\alpha} = \\sum_{i=1}^{n}\\frac{\\partial\\log P(x_i, \\alpha)}{\\partial\\alpha}$$\n",
    "\n",
    "$\\alpha = \\sin^2(2\\theta), \\:\\Delta m^2$, \\:$x_i = {\\cos\\theta}_i, \\:E_i$ and\n",
    "\n",
    "$P(x_i, \\alpha) = 1 -\\sin^2(2\\theta)\\sin^2(1.27\\frac{2R\\Delta m^2 \\cos\\theta_i}{E_i})$"
   ]
  },
  {
   "cell_type": "markdown",
   "id": "393fdb84",
   "metadata": {},
   "source": [
    "but... don't forget the expectation symbols $\\langle$ and $\\rangle$. This means that we actually need to take into account $P(x_i, \\alpha)$ in our sum.\n",
    "$$ \\langle \\left( \\frac{\\partial\\log L(x,\\alpha)}{\\partial\\alpha} \\right)^2\\rangle = \\sum_{i=1}^{n} \\left(\\frac{\\partial\\log P(x_i, \\alpha)}{\\partial\\alpha}\\right)^2 \\times P(x_i, \\alpha) $$ "
   ]
  },
  {
   "cell_type": "markdown",
   "id": "d97ffd96",
   "metadata": {},
   "source": [
    "see http://www.ws.binghamton.edu/fowler/fowler%20personal%20page/EE522_files/EECE%20522%20Notes_04%20Ch_3A%20CRLB%20Definition.pdf"
   ]
  },
  {
   "cell_type": "code",
   "execution_count": 9,
   "id": "2e2b0e53",
   "metadata": {},
   "outputs": [],
   "source": [
    "def probability(sin2theta, dm2, energy, cosdec):\n",
    "    if energy == 0:\n",
    "        return 0\n",
    "    l = 12e3 * cosdec # base line - max corresponds to diameter of the Earth 12e3 km\n",
    "    osc_prob = 1-sin2theta * (np.sin(1.27*dm2*l/energy))**2 \n",
    "    flux = 1e5*energy**-1.7\n",
    "    return osc_prob*flux\n",
    "\n",
    "def logprobability_sin(sin2theta, dm2, energy, cosdec):\n",
    "    if energy == 0:\n",
    "        return 0\n",
    "    l = 12e3 * cosdec # base line - max corresponds to diameter of the Earth 12e3 km\n",
    "    osc_prob = 1-sin2theta * (np.sin(1.27*dm2*l/energy))**2 \n",
    "    flux = 1e5*energy**-1.7\n",
    "    return np.log(osc_prob*flux)\n",
    "def logprobability_dm2(dm2, sin2theta,  energy, cosdec):\n",
    "    if energy == 0:\n",
    "        return 0\n",
    "    l = 12e3 * cosdec # base line - max corresponds to diameter of the Earth 12e3 km\n",
    "    osc_prob = 1-sin2theta * (np.sin(1.27*dm2*l/energy))**2 \n",
    "    flux = 1e5*energy**-1.7\n",
    "    return np.log(osc_prob*flux)\n",
    "\n",
    "def CramerRao_bound(energy, cosdec, events, sin2theta, dm2):\n",
    "    #derivative of the Log Likelyhood with respect to dm2 and sin2theta\n",
    "    dLLH_dm2 = 0\n",
    "    dLLH_sin2theta = 0\n",
    "    for i in range(len(energy)):\n",
    "        dLLH_dm2 += (derivative(logprobability_dm2, dm2, dx=1e-6, args = (sin2theta, energy[i], cosdec[i])))**2 * probability(sin2theta, dm2, energy[i], cosdec[i])\n",
    "        dLLH_sin2theta += (derivative(logprobability_sin, sin2theta,dx=1e-6, args = (dm2, energy[i], cosdec[i])))**2 * probability(sin2theta, dm2, energy[i], cosdec[i])\n",
    "    return  1/dLLH_dm2, 1/dLLH_sin2theta"
   ]
  },
  {
   "cell_type": "code",
   "execution_count": 10,
   "id": "d3adc833",
   "metadata": {},
   "outputs": [
    {
     "name": "stdout",
     "output_type": "stream",
     "text": [
      "V(dm2) >= 6.730937341672619e-06\n",
      "V(sin2theta) >= 0.0031138499018753714\n"
     ]
    }
   ],
   "source": [
    "sigma_dm2 = np.sqrt(CramerRao_bound(event_df['Energy'], event_df['cosdec'], event_df['Events'], sin2theta=0.9, dm2=2.4e-3)[0])\n",
    "sigma_sin2theta = np.sqrt(CramerRao_bound(event_df['Energy'], event_df['cosdec'], event_df['Events'], sin2theta=0.9, dm2=2.4e-3)[1])\n",
    "print(\"V(dm2) >= \" +str(sigma_dm2))\n",
    "print(\"V(sin2theta) >= \" + str(sigma_sin2theta))"
   ]
  },
  {
   "cell_type": "markdown",
   "id": "43017ddb",
   "metadata": {},
   "source": [
    "## Now repeat 1000 times and check if the results fall into the error margin (of 1 sigma)"
   ]
  },
  {
   "cell_type": "code",
   "execution_count": 13,
   "id": "6e4a20d4",
   "metadata": {},
   "outputs": [
    {
     "name": "stdout",
     "output_type": "stream",
     "text": [
      "Fraction of points inside error ellipse: 0.677\n"
     ]
    }
   ],
   "source": [
    "sin2theta_100 = []\n",
    "dm2_100 = []\n",
    "sin2theta_sigma_100 = []\n",
    "dm2_sigma_100 = []\n",
    "k = 0\n",
    "\n",
    "for i in range(1000):\n",
    "    exp = generate_experiment()\n",
    "    data = scipy.odr.RealData((exp[\"Energy\"],exp[\"cosdec\"]),exp[\"Events\"])\n",
    "    odr = scipy.odr.ODR(data, model, beta0=[0.9, 2.4e-3])\n",
    "    odr.set_job(fit_type=2)\n",
    "    out = odr.run()\n",
    "    popt = out.beta\n",
    "    perr = out.sd_beta\n",
    "    sin2theta_100.append(popt[0])\n",
    "    dm2_100.append(popt[1])\n",
    "    sigma_dm2 = np.sqrt(CramerRao_bound(exp['Energy'], exp['cosdec'], exp['Events'], sin2theta=0.9, dm2=2.4e-3)[0])\n",
    "    sigma_sin2theta = np.sqrt(CramerRao_bound(exp['Energy'], exp['cosdec'], exp['Events'], sin2theta=0.9, dm2=2.4e-3)[1])\n",
    "    sin2theta_sigma_100.append(sigma_sin2theta)\n",
    "    dm2_sigma_100.append(sigma_dm2)\n",
    "    if (np.abs(dm2_100[i] - 2.4e-3) > sigma_dm2) or (np.abs(sin2theta_100[i] - 0.9) > sigma_sin2theta):\n",
    "        k +=1\n",
    "print('Fraction of points inside error ellipse: ' + str(k/1000))"
   ]
  },
  {
   "cell_type": "markdown",
   "id": "ab4e959f",
   "metadata": {},
   "source": [
    "(when I re-run, it varies between 0.60 to 0.70)"
   ]
  },
  {
   "cell_type": "code",
   "execution_count": 17,
   "id": "60feeba9",
   "metadata": {
    "scrolled": false
   },
   "outputs": [
    {
     "data": {
      "text/plain": [
       "Text(0, 0.5, 'dm2')"
      ]
     },
     "execution_count": 17,
     "metadata": {},
     "output_type": "execute_result"
    },
    {
     "data": {
      "image/png": "[encoded data removed]",
      "text/plain": [
       "<Figure size 720x576 with 1 Axes>"
      ]
     },
     "metadata": {
      "needs_background": "light"
     },
     "output_type": "display_data"
    }
   ],
   "source": [
    "sin2theta=0.9\n",
    "dm2=2.4e-3\n",
    "\n",
    "from math import pi\n",
    "\n",
    "u=0.9     #x-position of the center\n",
    "v=2.4e-3   #y-position of the center\n",
    "a=sigma_sin2theta    #radius on the x-axis\n",
    "b=sigma_dm2    #radius on the y-axis\n",
    "\n",
    "t = np.linspace(0, 2*pi, 100)\n",
    "\n",
    "plt.plot(sin2theta_100, dm2_100, \".\", c = 'crimson', label = 'Data')\n",
    "plt.axvline(sin2theta, ls = '-.', c = 'k', label = 'Actual sin2theta', lw = 2)\n",
    "plt.axhline(dm2, ls = '--', c = 'k', label = 'Actual dm2', lw = 2)\n",
    "plt.plot( u+a*np.cos(t) , v+b*np.sin(t), label = 'Error ellipse', lw = 4)\n",
    "\n",
    "\n",
    "plt.legend()\n",
    "plt.xlabel(\"sin2theta\")\n",
    "plt.ylabel(\"dm2\")"
   ]
  },
  {
   "cell_type": "code",
   "execution_count": null,
   "id": "2930969f",
   "metadata": {},
   "outputs": [],
   "source": []
  }
 ],
 "metadata": {
  "kernelspec": {
   "display_name": "Python 3 (ipykernel)",
   "language": "python",
   "name": "python3"
  },
  "language_info": {
   "codemirror_mode": {
    "name": "ipython",
    "version": 3
   },
   "file_extension": ".py",
   "mimetype": "text/x-python",
   "name": "python",
   "nbconvert_exporter": "python",
   "pygments_lexer": "ipython3",
   "version": "3.8.12"
  }
 },
 "nbformat": 4,
 "nbformat_minor": 5
}
