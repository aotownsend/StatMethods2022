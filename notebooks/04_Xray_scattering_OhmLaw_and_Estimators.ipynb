{
 "cells": [
  {
   "cell_type": "markdown",
   "id": "9a06aaee",
   "metadata": {},
   "source": [
    "# X-ray scattering"
   ]
  },
  {
   "cell_type": "code",
   "execution_count": 1,
   "id": "593505c2",
   "metadata": {},
   "outputs": [],
   "source": [
    "import numpy as np\n",
    "import matplotlib.pyplot as plt\n",
    "import pandas as pd\n",
    "import astropy.units as u\n",
    "from scipy import stats\n",
    "from scipy.optimize import curve_fit"
   ]
  },
  {
   "cell_type": "code",
   "execution_count": 2,
   "id": "8a0b5b3b",
   "metadata": {},
   "outputs": [],
   "source": [
    "# Type in data\n",
    "n = np.array([1, 2, 3, 4, 5, 6, 7, 8, 9])\n",
    "phi = np.array([12, 22, 25, 38, 46, 72, 77, 86, 135]) * np.pi / 180 #radians\n",
    "phi_err = np.array([2,4,5,6,7,10,12,16,18]) #degrees"
   ]
  },
  {
   "cell_type": "code",
   "execution_count": 3,
   "id": "8da867aa",
   "metadata": {},
   "outputs": [],
   "source": [
    "# Error in y = sin(phi / 2) due to error propagation\n",
    "sin_phi_err = 0.5*np.cos(phi/2) * phi_err * np.pi / 180 # radians"
   ]
  },
  {
   "cell_type": "code",
   "execution_count": 4,
   "id": "c1522fc0",
   "metadata": {},
   "outputs": [
    {
     "data": {
      "text/plain": [
       "Text(0, 0.5, 'sin($\\\\phi / 2$)')"
      ]
     },
     "execution_count": 4,
     "metadata": {},
     "output_type": "execute_result"
    },
    {
     "data": {
      "image/png": "[encoded data removed]",
      "text/plain": [
       "<Figure size 576x360 with 1 Axes>"
      ]
     },
     "metadata": {
      "needs_background": "light"
     },
     "output_type": "display_data"
    }
   ],
   "source": [
    "figure = plt.figure(figsize=(8, 5))\n",
    "\n",
    "plt.plot(n,np.sin(phi/2),'o', c = 'crimson')\n",
    "plt.errorbar(n,np.sin(phi/2),yerr=sin_phi_err,fmt='none', ecolor='r', elinewidth=1, capsize=2)\n",
    "# add labels and title\n",
    "plt.xlabel('n')\n",
    "plt.ylabel('sin($\\phi / 2$)')"
   ]
  },
  {
   "cell_type": "code",
   "execution_count": 5,
   "id": "0bfb0f97",
   "metadata": {},
   "outputs": [],
   "source": [
    "# Fit y = m*x + c to calculate d\n",
    "\n",
    "def linear(x, m, c):  \n",
    "    y =  m*x + c\n",
    "    return y\n",
    "\n",
    "popt,pcov = curve_fit(linear, n, np.sin(phi/2))\n",
    "error = np.sqrt(pcov.diagonal())"
   ]
  },
  {
   "cell_type": "code",
   "execution_count": 6,
   "id": "89dbad8d",
   "metadata": {},
   "outputs": [
    {
     "data": {
      "text/plain": [
       "Text(0, 0.5, 'sin($\\\\phi / 2$)')"
      ]
     },
     "execution_count": 6,
     "metadata": {},
     "output_type": "execute_result"
    },
    {
     "data": {
      "image/png": "[encoded data removed]",
      "text/plain": [
       "<Figure size 576x360 with 1 Axes>"
      ]
     },
     "metadata": {
      "needs_background": "light"
     },
     "output_type": "display_data"
    }
   ],
   "source": [
    "figure = plt.figure(figsize=(8, 5))\n",
    "\n",
    "plt.plot(n,np.sin(phi/2),'o', c = 'crimson')\n",
    "plt.errorbar(n,np.sin(phi/2),yerr=sin_phi_err,fmt='none', ecolor='r', elinewidth=1, capsize=2)\n",
    "plt.plot(n, linear(n, popt[0], popt[1]), label='fit', c = 'forestgreen')\n",
    "# add labels and title\n",
    "plt.xlabel('n')\n",
    "plt.ylabel('sin($\\phi / 2$)')"
   ]
  },
  {
   "cell_type": "code",
   "execution_count": 7,
   "id": "dce2b872",
   "metadata": {},
   "outputs": [
    {
     "name": "stdout",
     "output_type": "stream",
     "text": [
      "d = 0.37 ± 0.03 nm\n"
     ]
    }
   ],
   "source": [
    "wl = 0.0711 #nm\n",
    "d = wl/(2*popt[0])\n",
    "d_err = error[0] * wl/(2*popt[0]**2) # error propagation\n",
    "print(f\"d = {d:.2f} ± {d_err:.2f} nm\") # random error - but also systematic error from slope?"
   ]
  },
  {
   "cell_type": "markdown",
   "id": "1a0b902d",
   "metadata": {},
   "source": [
    "# Ohm's Law"
   ]
  },
  {
   "cell_type": "markdown",
   "id": "f7a9ddc7",
   "metadata": {},
   "source": [
    "There are two cases here, depending on how you interpreted the question. Both are fine (the question should have been more clear :) ).\n",
    "\n",
    "### Case 1: The systematic error is the same for both $V$ and $R$, as $S$.\n",
    "The covariance matrx is\n",
    "$$ Cov(V,R) = \n",
    "\\begin{pmatrix}\n",
    "\\sigma_V^2 + S^2 & S^2 \\\\\n",
    "S^2 & \\sigma_R^2 + S^2\n",
    "\\end{pmatrix}\n",
    "= \n",
    "\\begin{pmatrix}\n",
    "(0.3)^2 + (0.2)^2 & (0.2)^2 \\\\\n",
    "(0.2)^2 & (0.2 \\times 1000)^2 + (0.2)^2\n",
    "\\end{pmatrix}\n",
    "$$\n",
    "\n",
    "### Case 2: The systematic error is only present in $V$ and is uncorrelated with any systemaric error in $R$.\n",
    "The covariance matrx is\n",
    "$$ Cov(V,R) = \n",
    "\\begin{pmatrix}\n",
    "\\sigma_V^2 + S_V^2 & 0 \\\\\n",
    "0 & \\sigma_R^2\n",
    "\\end{pmatrix}\n",
    "=\n",
    "\\begin{pmatrix}\n",
    "(0.3)^2 + (0.2)^2 & 0 \\\\\n",
    "0 & (0.2 \\times 100)^2\n",
    "\\end{pmatrix}\n",
    "$$"
   ]
  },
  {
   "cell_type": "code",
   "execution_count": 8,
   "id": "43e41506",
   "metadata": {},
   "outputs": [
    {
     "data": {
      "text/plain": [
       "array([[1.300000e-01, 4.000000e-02],\n",
       "       [4.000000e-02, 4.000004e+04]])"
      ]
     },
     "execution_count": 8,
     "metadata": {},
     "output_type": "execute_result"
    }
   ],
   "source": [
    "# Case 1\n",
    "cov0 = 0.3**2+0.2**2\n",
    "cov1 = 0.2**2\n",
    "cov2 = 0.2**2\n",
    "cov3 = (0.2*1000)**2+0.2**2\n",
    "\n",
    "cov = np.array([[cov0, cov1], [cov2, cov3]])\n",
    "cov"
   ]
  },
  {
   "cell_type": "code",
   "execution_count": 9,
   "id": "3b668e75",
   "metadata": {},
   "outputs": [
    {
     "data": {
      "text/plain": [
       "array([[1.3e-01, 0.0e+00],\n",
       "       [0.0e+00, 4.0e+04]])"
      ]
     },
     "execution_count": 9,
     "metadata": {},
     "output_type": "execute_result"
    }
   ],
   "source": [
    "# Case 2\n",
    "cov0 = 0.3**2+0.2**2\n",
    "cov1 = 0.\n",
    "cov2 = 0.\n",
    "cov3 = (0.2*1000)**2\n",
    "\n",
    "cov = np.array([[cov0, cov1], [cov2, cov3]])\n",
    "cov"
   ]
  },
  {
   "cell_type": "code",
   "execution_count": 10,
   "id": "ba798fd7",
   "metadata": {},
   "outputs": [
    {
     "name": "stdout",
     "output_type": "stream",
     "text": [
      "I = 1.200 ± 0.043 mA\n"
     ]
    }
   ],
   "source": [
    "# Using case 2\n",
    "V = 12\n",
    "R = 10*1000\n",
    "I = V/R\n",
    "I_err = np.sqrt(cov0/V**2 + cov3/R**2) * I\n",
    "I, I_err = I*1000, I_err*1000 # convert to mA\n",
    "print(f\"I = {I:.3f} ± {I_err:.3f} mA\")"
   ]
  },
  {
   "cell_type": "markdown",
   "id": "287fc611",
   "metadata": {},
   "source": [
    "# Estimators"
   ]
  },
  {
   "cell_type": "code",
   "execution_count": 11,
   "id": "da05db13",
   "metadata": {},
   "outputs": [],
   "source": [
    "import scipy.stats as stats"
   ]
  },
  {
   "cell_type": "code",
   "execution_count": 12,
   "id": "c2f69294",
   "metadata": {},
   "outputs": [
    {
     "name": "stdout",
     "output_type": "stream",
     "text": [
      "mean of Gaussian distribution: bias 0.03576385699233242 , variance 9.879566051788156\n",
      "median of Gaussian distribution: bias 0.034426189287160014 , variance 13.86812038829763\n",
      "geometry mean of Gaussian distribution: bias -0.23125587686914173 , variance 9.930695606764298\n",
      "mode of Gaussian distribution: bias -15.367021276027373 , variance 34.65998352216408\n",
      "\n",
      "\n",
      "mean of uniform distribution: bias -0.00021132855104610826 , variance 3.344914628256645\n",
      "median of uniform distribution: bias -0.0057786536845299 , variance 7.639773947844838\n",
      "geometry mean of uniform distribution: bias -0.0887796119762072 , variance 3.347097747106236\n",
      "mode of uniform distribution: bias -8.191342111070924 , variance 2.736532380458063\n"
     ]
    }
   ],
   "source": [
    "mean_norm = []\n",
    "median_norm = []\n",
    "geo_mean_norm = []\n",
    "mode_norm = []\n",
    "\n",
    "mean_uni = []\n",
    "median_uni = []\n",
    "geo_mean_uni = []\n",
    "mode_uni = []\n",
    "\n",
    "var_norm = []\n",
    "bias_norm = []\n",
    "var_uni = []\n",
    "bias_uni = []\n",
    "\n",
    "for i in range(10000):\n",
    "    norm_dist = np.random.normal(loc = 170,scale = 10, size = 10)\n",
    "    uni_dist = np.random.uniform(low = 160,high = 180, size = 10)\n",
    "\n",
    "    mean_norm_i = np.mean(norm_dist)\n",
    "    median_norm_i = np.median(norm_dist)\n",
    "    geo_mean_norm_i = stats.gmean(norm_dist)\n",
    "    mode_norm_i = stats.mode(norm_dist)[0]\n",
    "    \n",
    "    mean_norm.append(mean_norm_i)\n",
    "    median_norm.append(median_norm_i)\n",
    "    geo_mean_norm.append(geo_mean_norm_i)\n",
    "    mode_norm.append(mode_norm_i)\n",
    "    \n",
    "    mean_uni_i = np.mean(uni_dist)\n",
    "    median_uni_i = np.median(uni_dist)\n",
    "    geo_mean_uni_i = stats.gmean(uni_dist)\n",
    "    mode_uni_i = stats.mode(uni_dist, )[0]\n",
    "            \n",
    "    mean_uni.append(mean_uni_i)\n",
    "    median_uni.append(median_uni_i)\n",
    "    geo_mean_uni.append(geo_mean_uni_i)\n",
    "    mode_uni.append(mode_uni_i)\n",
    "    \n",
    "\n",
    "\n",
    "var_norm.append(np.var(mean_norm))\n",
    "var_norm.append(np.var(median_norm))\n",
    "var_norm.append(np.var(geo_mean_norm))\n",
    "var_norm.append(np.var(mode_norm))\n",
    "        \n",
    "var_uni.append(np.var(mean_uni))\n",
    "var_uni.append(np.var(median_uni))\n",
    "var_uni.append(np.var(geo_mean_uni))\n",
    "var_uni.append(np.var(mode_uni))\n",
    "    \n",
    "bias_norm.append(np.mean(mean_norm) - 170.)\n",
    "bias_norm.append(np.mean(median_norm) - 170.)\n",
    "bias_norm.append(np.mean(geo_mean_norm) - 170.)\n",
    "bias_norm.append(np.mean(mode_norm) - 170.)\n",
    "        \n",
    "bias_uni.append(np.mean(mean_uni) - 170.)\n",
    "bias_uni.append(np.mean(median_uni) - 170.)\n",
    "bias_uni.append(np.mean(geo_mean_uni) - 170.)\n",
    "bias_uni.append(np.mean(mode_uni) - 170.)\n",
    "\n",
    "print(\"mean of Gaussian distribution: bias\", bias_norm[0], \", variance\", var_norm[0])\n",
    "print(\"median of Gaussian distribution: bias\", bias_norm[1], \", variance\", var_norm[1])\n",
    "print(\"geometry mean of Gaussian distribution: bias\", bias_norm[2], \", variance\", var_norm[2])\n",
    "print(\"mode of Gaussian distribution: bias\",  bias_norm[3], \", variance\", var_norm[3])\n",
    "print(\"\\n\")\n",
    "print(\"mean of uniform distribution: bias\", bias_uni[0], \", variance\", var_uni[0])\n",
    "print(\"median of uniform distribution: bias\", bias_uni[1], \", variance\",  var_uni[1])\n",
    "print(\"geometry mean of uniform distribution: bias\", bias_uni[2], \", variance\", var_uni[2])\n",
    "print(\"mode of uniform distribution: bias\", bias_uni[3], \", variance\", var_uni[3])"
   ]
  },
  {
   "cell_type": "code",
   "execution_count": null,
   "id": "e5736bb3",
   "metadata": {},
   "outputs": [],
   "source": []
  }
 ],
 "metadata": {
  "kernelspec": {
   "display_name": "Python 3 (ipykernel)",
   "language": "python",
   "name": "python3"
  },
  "language_info": {
   "codemirror_mode": {
    "name": "ipython",
    "version": 3
   },
   "file_extension": ".py",
   "mimetype": "text/x-python",
   "name": "python",
   "nbconvert_exporter": "python",
   "pygments_lexer": "ipython3",
   "version": "3.8.12"
  }
 },
 "nbformat": 4,
 "nbformat_minor": 5
}
